{
 "cells": [
  {
   "cell_type": "code",
   "execution_count": 1,
   "id": "07922551",
   "metadata": {},
   "outputs": [
    {
     "name": "stdout",
     "output_type": "stream",
     "text": [
      "[4, 7, 23, 54, 99]\n",
      "[-69, -65, -3, 23, 55, 69]\n",
      "[152, 154, 605, 606, 615]\n"
     ]
    }
   ],
   "source": [
    "def selection_sort(list1):\n",
    "    for i in range(len(list1)):\n",
    "        var=i\n",
    "        for j in range(i+1,len(list1)):\n",
    "            if list1[var]>list1[j]:\n",
    "                var=j\n",
    "        temp=list1[var]\n",
    "        list1[var]=list1[i]\n",
    "        list1[i]=temp\n",
    "    return list1\n",
    "print(selection_sort([54,23,7,99,4]))\n",
    "print(selection_sort([-3,23,-65,-69,69,55]))\n",
    "print(selection_sort([606,615,154,605,152]))"
   ]
  },
  {
   "cell_type": "code",
   "execution_count": null,
   "id": "304db082",
   "metadata": {},
   "outputs": [],
   "source": []
  }
 ],
 "metadata": {
  "kernelspec": {
   "display_name": "Python 3 (ipykernel)",
   "language": "python",
   "name": "python3"
  },
  "language_info": {
   "codemirror_mode": {
    "name": "ipython",
    "version": 3
   },
   "file_extension": ".py",
   "mimetype": "text/x-python",
   "name": "python",
   "nbconvert_exporter": "python",
   "pygments_lexer": "ipython3",
   "version": "3.9.13"
  }
 },
 "nbformat": 4,
 "nbformat_minor": 5
}
