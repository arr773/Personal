{
 "cells": [
  {
   "cell_type": "code",
   "execution_count": 10,
   "id": "14c0630d",
   "metadata": {
    "scrolled": true
   },
   "outputs": [
    {
     "name": "stdout",
     "output_type": "stream",
     "text": [
      "4\n",
      "1\n",
      "3\n"
     ]
    }
   ],
   "source": [
    "def edit_distance(string1, string2):\n",
    "    out=[]\n",
    "    for i in range(len(string1)+1):\n",
    "        temp=[]\n",
    "        for j in range(len(string2)+1):\n",
    "            temp.append(0)\n",
    "        out.append(temp)\n",
    "    for i in range(len(string1)+1):  \n",
    "        for j in range(len(string2)+1): \n",
    "            if i == 0:\n",
    "                out[i][j]=j\n",
    "            elif j == 0:\n",
    "                out[i][j]=i\n",
    "            else:\n",
    "                if string1[i-1] == string2[j-1]:\n",
    "                    out[i][j]=out[i-1][j-1]\n",
    "                else:\n",
    "                    out[i][j]=1+(min(out[i-1][j],out[i][j-1],out[i-1][j-1]))\n",
    "#     print (out)\n",
    "    print(out[len(string1)][len(string2)])\n",
    "\n",
    "edit_distance(\"dussehra\",\"dsusehar\")\n",
    "edit_distance(\"cheeks\",\"checks\")\n",
    "edit_distance(\"ihtiha\",\"ihtas\")"
   ]
  },
  {
   "cell_type": "code",
   "execution_count": null,
   "id": "26aff25a",
   "metadata": {},
   "outputs": [],
   "source": []
  }
 ],
 "metadata": {
  "kernelspec": {
   "display_name": "Python 3 (ipykernel)",
   "language": "python",
   "name": "python3"
  },
  "language_info": {
   "codemirror_mode": {
    "name": "ipython",
    "version": 3
   },
   "file_extension": ".py",
   "mimetype": "text/x-python",
   "name": "python",
   "nbconvert_exporter": "python",
   "pygments_lexer": "ipython3",
   "version": "3.9.13"
  }
 },
 "nbformat": 4,
 "nbformat_minor": 5
}
