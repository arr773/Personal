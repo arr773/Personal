{
 "cells": [
  {
   "cell_type": "code",
   "execution_count": 6,
   "id": "cdb66aa7",
   "metadata": {},
   "outputs": [
    {
     "name": "stdout",
     "output_type": "stream",
     "text": [
      "3\n",
      "3\n"
     ]
    }
   ],
   "source": [
    "def graph(arr,q):\n",
    "    start=q[0]\n",
    "    count=1\n",
    "    for i in range(len(arr)):\n",
    "        if start==arr[i][0]:\n",
    "            start=arr[i][1]\n",
    "            i=0\n",
    "            count+=1\n",
    "        if start==q[1]:\n",
    "            break\n",
    "    print(count)\n",
    "graph([['A','B'],['B','C']],['A','C'])\n",
    "graph([['a','x'],['b','y'],['x','z'],['x','w']],['a','y'])"
   ]
  },
  {
   "cell_type": "code",
   "execution_count": 2,
   "id": "49818da5",
   "metadata": {},
   "outputs": [
    {
     "name": "stdout",
     "output_type": "stream",
     "text": [
      "{'x': ['a'], 'y': ['b'], 'z': ['x'], 'w': ['x']}\n",
      "a\n",
      "[]\n"
     ]
    }
   ],
   "source": [
    "def graph(arr,q):\n",
    "    mat={}\n",
    "    for i in arr:\n",
    "        try:\n",
    "            mat[i[1]].append(i[0])\n",
    "        except:\n",
    "            mat[i[1]]=[i[0]]\n",
    "    print(mat)\n",
    "#     for i in mat.keys():\n",
    "    temp=[]\n",
    "    j=q[0]\n",
    "    while True :\n",
    "        for k in j:\n",
    "            try:\n",
    "                temp.append(*mat[k])\n",
    "            except:\n",
    "                continue\n",
    "        try:\n",
    "            print(j)\n",
    "            j=mat[j]\n",
    "            print(j,mat[j])\n",
    "        except:\n",
    "            break\n",
    "            \n",
    "    print(temp) \n",
    "\n",
    "    \n",
    "    \n",
    "\n",
    "# graph([['A','B'],['B','C']],['A','C'])\n",
    "graph([['a','x'],['b','y'],['x','z'],['x','w']],['a','y'])"
   ]
  },
  {
   "cell_type": "code",
   "execution_count": null,
   "id": "7092c6b8",
   "metadata": {},
   "outputs": [],
   "source": [
    "def graph1(arr,q):\n",
    "    "
   ]
  }
 ],
 "metadata": {
  "kernelspec": {
   "display_name": "Python 3 (ipykernel)",
   "language": "python",
   "name": "python3"
  },
  "language_info": {
   "codemirror_mode": {
    "name": "ipython",
    "version": 3
   },
   "file_extension": ".py",
   "mimetype": "text/x-python",
   "name": "python",
   "nbconvert_exporter": "python",
   "pygments_lexer": "ipython3",
   "version": "3.9.13"
  }
 },
 "nbformat": 4,
 "nbformat_minor": 5
}
