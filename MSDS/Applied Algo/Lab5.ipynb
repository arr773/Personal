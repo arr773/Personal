{
 "cells": [
  {
   "cell_type": "code",
   "execution_count": null,
   "id": "508409d1",
   "metadata": {},
   "outputs": [],
   "source": []
  },
  {
   "cell_type": "code",
   "execution_count": 5,
   "id": "e539c8cd",
   "metadata": {},
   "outputs": [
    {
     "name": "stdout",
     "output_type": "stream",
     "text": [
      "2\n",
      "3\n",
      "4\n",
      "5\n",
      "6\n"
     ]
    }
   ],
   "source": [
    "class Node:\n",
    "    def __init__(self , value):\n",
    "        self.left = None\n",
    "        self.right = None\n",
    "        self.data = value\n",
    "        \n",
    "    def insert(self , value):\n",
    "        if self.data:\n",
    "            if value < self.data:\n",
    "                if self.left is None:\n",
    "                    self.left = Node(value)\n",
    "                else:\n",
    "                    self.left.insert(value)\n",
    "            elif value > self.data:\n",
    "                if self.right is None:\n",
    "                    self.right = Node(value)\n",
    "                else:\n",
    "                    self.right.insert(value)\n",
    "        else:\n",
    "            self.data = value\n",
    "    \n",
    "    def Print(self):\n",
    "        if self.left:\n",
    "            self.left.Print()\n",
    "        print(self.data)\n",
    "        if self.right:\n",
    "            self.right.Print()\n",
    "    \n",
    "    \n",
    "\n",
    "try:\n",
    "    root.insert(5)\n",
    "except:\n",
    "    root=Node(5)\n",
    "root.insert(5)\n",
    "root.insert(3)\n",
    "root.insert(2)\n",
    "root.insert(6)\n",
    "root.Print()\n"
   ]
  },
  {
   "cell_type": "code",
   "execution_count": null,
   "id": "73a037f3",
   "metadata": {},
   "outputs": [],
   "source": []
  }
 ],
 "metadata": {
  "kernelspec": {
   "display_name": "Python 3 (ipykernel)",
   "language": "python",
   "name": "python3"
  },
  "language_info": {
   "codemirror_mode": {
    "name": "ipython",
    "version": 3
   },
   "file_extension": ".py",
   "mimetype": "text/x-python",
   "name": "python",
   "nbconvert_exporter": "python",
   "pygments_lexer": "ipython3",
   "version": "3.9.12"
  }
 },
 "nbformat": 4,
 "nbformat_minor": 5
}
