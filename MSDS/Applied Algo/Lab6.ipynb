{
 "cells": [
  {
   "cell_type": "code",
   "execution_count": 2,
   "id": "1902cad5",
   "metadata": {},
   "outputs": [
    {
     "name": "stdout",
     "output_type": "stream",
     "text": [
      "True\n",
      "False\n",
      "True\n"
     ]
    }
   ],
   "source": [
    "def can_take_courses (c , n ) :\n",
    "    if len(c) == 1:\n",
    "        if c[0] == n:\n",
    "            return True\n",
    "        return False\n",
    "    i = 0\n",
    "    total = 0\n",
    "    while(total<n):\n",
    "        total += c[i]\n",
    "        i+=1\n",
    "    if total == n:\n",
    "        return True\n",
    "    else:\n",
    "        temp = (can_take_courses(c[1:],n))\n",
    "        if temp == True:\n",
    "            return True\n",
    "        else:\n",
    "            return(can_take_courses(c[1:],n-c[0]))\n",
    "print(can_take_courses([1,2,3,4],5))\n",
    "print(can_take_courses([2,4,6,8],5))\n",
    "print(can_take_courses([1,2,3,5,8],9))"
   ]
  },
  {
   "cell_type": "code",
   "execution_count": null,
   "id": "60240e19",
   "metadata": {},
   "outputs": [],
   "source": []
  }
 ],
 "metadata": {
  "kernelspec": {
   "display_name": "Python 3 (ipykernel)",
   "language": "python",
   "name": "python3"
  },
  "language_info": {
   "codemirror_mode": {
    "name": "ipython",
    "version": 3
   },
   "file_extension": ".py",
   "mimetype": "text/x-python",
   "name": "python",
   "nbconvert_exporter": "python",
   "pygments_lexer": "ipython3",
   "version": "3.9.12"
  }
 },
 "nbformat": 4,
 "nbformat_minor": 5
}
