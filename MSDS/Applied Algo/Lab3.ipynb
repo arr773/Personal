{
 "cells": [
  {
   "cell_type": "code",
   "execution_count": 34,
   "id": "efb5a384",
   "metadata": {},
   "outputs": [
    {
     "name": "stdout",
     "output_type": "stream",
     "text": [
      "{\n"
     ]
    },
    {
     "data": {
      "text/plain": [
       "True"
      ]
     },
     "execution_count": 34,
     "metadata": {},
     "output_type": "execute_result"
    }
   ],
   "source": [
    "def is_valid_parantheses(s):\n",
    "    stack1=[]\n",
    "    stack2=[]\n",
    "    stack3=[]\n",
    "    for i in s:\n",
    "        if i==\"(\":\n",
    "            stack1.append(i)\n",
    "\n",
    "        elif i==\")\":\n",
    "            if stack1==[]:\n",
    "                return False\n",
    "            pop=stack1.pop()\n",
    "            if pop==\"(\"or\")\":\n",
    "                print(pop)\n",
    "                continue\n",
    "            else:\n",
    "                return False\n",
    "\n",
    "        if i==\"{\":\n",
    "            stack1.append(i)\n",
    "\n",
    "        elif i==\"}\":\n",
    "            if stack1==[]:\n",
    "                return False\n",
    "            pop=stack1.pop()\n",
    "            if pop==\"{\"or\"}\":\n",
    "                continue\n",
    "            else:\n",
    "                return False\n",
    "\n",
    "        if i==\"[\":\n",
    "            stack1.append(i)\n",
    "\n",
    "        elif i==\"]\":\n",
    "            if stack1==[]:\n",
    "                return False\n",
    "            pop=stack1.pop()\n",
    "            if pop==\"[\"or\"]\":\n",
    "                continue\n",
    "            else:\n",
    "                return False\n",
    "\n",
    "    if stack1==stack2==stack3==[]:\n",
    "        return True\n",
    "    else:\n",
    "        return False\n",
    "\n",
    "is_valid_parantheses(\"({)}\")"
   ]
  },
  {
   "cell_type": "code",
   "execution_count": 73,
   "id": "056b48dc",
   "metadata": {},
   "outputs": [],
   "source": [
    "def parantheses(s):\n",
    "    for i in range(len(s)):\n",
    "        if s[i]==\"(\":\n",
    "            if i+1!=len(s):\n",
    "                if s[i+1]==\")\":\n",
    "                    continue\n",
    "                else:\n",
    "                    return False\n",
    "            else:\n",
    "                return False\n",
    "        elif s[i]==\"{\":\n",
    "            if i+1!=len(s):\n",
    "                if s[i+1]==\"}\":\n",
    "                    continue\n",
    "                else:\n",
    "                    return False\n",
    "            else:\n",
    "                return False\n",
    "        elif s[i]==\"[\":\n",
    "            if i+1!=len(s):\n",
    "                if s[i+1]==\"]\":\n",
    "                    continue\n",
    "                else:\n",
    "                    return False\n",
    "            else:\n",
    "                return False\n",
    "        else:\n",
    "            \n",
    "    \n",
    "    return True\n",
    "        \n",
    "parantheses(\"()()\")"
   ]
  },
  {
   "cell_type": "code",
   "execution_count": 59,
   "id": "4ae53db5",
   "metadata": {},
   "outputs": [
    {
     "ename": "SyntaxError",
     "evalue": "invalid syntax (2776955954.py, line 40)",
     "output_type": "error",
     "traceback": [
      "\u001b[1;36m  Input \u001b[1;32mIn [59]\u001b[1;36m\u001b[0m\n\u001b[1;33m    def __name__ == \"__main__\":\u001b[0m\n\u001b[1;37m                 ^\u001b[0m\n\u001b[1;31mSyntaxError\u001b[0m\u001b[1;31m:\u001b[0m invalid syntax\n"
     ]
    }
   ],
   "source": [
    "class Stack:\n",
    "    \n",
    "    def __init__(self,string):\n",
    "        self.s = string\n",
    "        self.main_func()\n",
    "        \n",
    "    def push(self):\n",
    "        stack = []\n",
    "        for char in self.s:\n",
    "            if char in [\"(\",\"{\",\"[\"]:\n",
    "                stack.append(char)\n",
    "            else:\n",
    "                if not stack:\n",
    "                    return False\n",
    "        return stack\n",
    "    \n",
    "    def top(self):\n",
    "        item = self.push().pop()\n",
    "        return item\n",
    "    \n",
    "    def pop(self):\n",
    "        item = self.top()\n",
    "        for char in self.s:\n",
    "            if item == '(':\n",
    "                if char != ')':\n",
    "                    return False\n",
    "\n",
    "            if item == '{':\n",
    "                if char != '}':\n",
    "                    return False\n",
    "\n",
    "            if item == '[':\n",
    "                if char != ']':\n",
    "                    return False\n",
    "            \n",
    "    def Is_empty(self):\n",
    "        if self.push():\n",
    "            return False\n",
    "    \n",
    "\n",
    "\n",
    " "
   ]
  },
  {
   "cell_type": "code",
   "execution_count": 60,
   "id": "644a6706",
   "metadata": {},
   "outputs": [
    {
     "ename": "AttributeError",
     "evalue": "'Stack' object has no attribute 'main_func'",
     "output_type": "error",
     "traceback": [
      "\u001b[1;31m---------------------------------------------------------------------------\u001b[0m",
      "\u001b[1;31mAttributeError\u001b[0m                            Traceback (most recent call last)",
      "Input \u001b[1;32mIn [60]\u001b[0m, in \u001b[0;36m<cell line: 1>\u001b[1;34m()\u001b[0m\n\u001b[1;32m----> 1\u001b[0m brackets \u001b[38;5;241m=\u001b[39m \u001b[43mStack\u001b[49m\u001b[43m(\u001b[49m\u001b[38;5;124;43m'\u001b[39;49m\u001b[38;5;132;43;01m{}\u001b[39;49;00m\u001b[38;5;124;43m()[])\u001b[39;49m\u001b[38;5;124;43m'\u001b[39;49m\u001b[43m)\u001b[49m\n\u001b[0;32m      2\u001b[0m brackets\u001b[38;5;241m.\u001b[39mmain_func()\n",
      "Input \u001b[1;32mIn [58]\u001b[0m, in \u001b[0;36mStack.__init__\u001b[1;34m(self, string)\u001b[0m\n\u001b[0;32m      3\u001b[0m \u001b[38;5;28;01mdef\u001b[39;00m \u001b[38;5;21m__init__\u001b[39m(\u001b[38;5;28mself\u001b[39m,string):\n\u001b[0;32m      4\u001b[0m     \u001b[38;5;28mself\u001b[39m\u001b[38;5;241m.\u001b[39ms \u001b[38;5;241m=\u001b[39m string\n\u001b[1;32m----> 5\u001b[0m     \u001b[38;5;28;43mself\u001b[39;49m\u001b[38;5;241;43m.\u001b[39;49m\u001b[43mmain_func\u001b[49m()\n",
      "\u001b[1;31mAttributeError\u001b[0m: 'Stack' object has no attribute 'main_func'"
     ]
    }
   ],
   "source": [
    "brackets = Stack('{}()[])')\n",
    "brackets.main_func()\n"
   ]
  },
  {
   "cell_type": "code",
   "execution_count": 80,
   "id": "84b703ff",
   "metadata": {},
   "outputs": [
    {
     "data": {
      "text/plain": [
       "False"
      ]
     },
     "execution_count": 80,
     "metadata": {},
     "output_type": "execute_result"
    }
   ],
   "source": [
    "def stacks(s):\n",
    "    if len(s)%2!=0:\n",
    "        return False\n",
    "    dict={'(':')','{':'}','[':']'}\n",
    "    stack=[]\n",
    "    for i in s:\n",
    "        if i in dict.keys():\n",
    "            stack.append(i)\n",
    "        else:\n",
    "            if stack==[]:\n",
    "                return False\n",
    "            n=stack.pop()\n",
    "            if i!=dict[n]:\n",
    "                return False\n",
    "    if stack==[]:\n",
    "        return True\n",
    "    else:\n",
    "        return False\n",
    "    return\n",
    "stacks(\"({)}\")"
   ]
  },
  {
   "cell_type": "code",
   "execution_count": null,
   "id": "20599f1e",
   "metadata": {},
   "outputs": [],
   "source": []
  }
 ],
 "metadata": {
  "kernelspec": {
   "display_name": "Python 3 (ipykernel)",
   "language": "python",
   "name": "python3"
  },
  "language_info": {
   "codemirror_mode": {
    "name": "ipython",
    "version": 3
   },
   "file_extension": ".py",
   "mimetype": "text/x-python",
   "name": "python",
   "nbconvert_exporter": "python",
   "pygments_lexer": "ipython3",
   "version": "3.9.12"
  }
 },
 "nbformat": 4,
 "nbformat_minor": 5
}
