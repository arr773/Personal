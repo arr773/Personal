{
 "cells": [
  {
   "cell_type": "markdown",
   "id": "814083c3",
   "metadata": {},
   "source": [
    "# Question 1"
   ]
  },
  {
   "cell_type": "code",
   "execution_count": 1,
   "id": "c0d1f3de",
   "metadata": {},
   "outputs": [
    {
     "data": {
      "text/plain": [
       "(3, 2)"
      ]
     },
     "execution_count": 1,
     "metadata": {},
     "output_type": "execute_result"
    }
   ],
   "source": [
    "import heapq\n",
    "def sort(l):\n",
    "    newl=[]\n",
    "    heapq.heapify(l)\n",
    "    while l:\n",
    "        newl.append(heapq.heappop(l))\n",
    "    return newl\n",
    "def maxEmployees(list1,list2):\n",
    "    list1=sort(list1)\n",
    "    list2=sort(list2)\n",
    "    i=0\n",
    "    j=0\n",
    "    count=0\n",
    "    dict_={}\n",
    "    while(i!=len(list1) and j!=len(list2)):\n",
    "        if list1[i]<=list2[j]:\n",
    "            i=i+1\n",
    "            count=count+1\n",
    "        else:\n",
    "            j=j+1\n",
    "            count=count-1\n",
    "        try:\n",
    "            dict_[count]+=1\n",
    "        except:\n",
    "            dict_[count]=1\n",
    "    m=max(dict_.keys())\n",
    "    return (m,dict_[m])\n",
    "maxEmployees([1,2,4,7,8,12],[3,7,8,12,10,15])"
   ]
  },
  {
   "cell_type": "markdown",
   "id": "8902e736",
   "metadata": {},
   "source": [
    "# Question 2"
   ]
  },
  {
   "cell_type": "code",
   "execution_count": 2,
   "id": "9e7be50d",
   "metadata": {},
   "outputs": [
    {
     "name": "stdout",
     "output_type": "stream",
     "text": [
      "527\n",
      "16258\n"
     ]
    }
   ],
   "source": [
    "def find_largest_integer(num):\n",
    "    num=str(num)\n",
    "    m=0\n",
    "    temp=0\n",
    "    for i in range(len(num)):\n",
    "        j=int(num[i])\n",
    "        if(m<j):\n",
    "            temp=i\n",
    "            m=j\n",
    "    m=0\n",
    "    newtemp=i\n",
    "    for i in range(temp+1,len(num)):\n",
    "        j=int(num[i])\n",
    "        if(m<j):\n",
    "            newtemp=i\n",
    "            m=j\n",
    "    num=(num[:temp]+num[newtemp]+num[temp+1:newtemp]+num[temp]+num[newtemp+1:])\n",
    "    return int(num)\n",
    "print(find_largest_integer(572))\n",
    "print(find_largest_integer(18256))"
   ]
  },
  {
   "cell_type": "markdown",
   "id": "dc9c6e8f",
   "metadata": {},
   "source": [
    "# Question 3"
   ]
  },
  {
   "cell_type": "code",
   "execution_count": 3,
   "id": "a61a2349",
   "metadata": {},
   "outputs": [
    {
     "name": "stdout",
     "output_type": "stream",
     "text": [
      "[1, 2, 3, 4]\n"
     ]
    }
   ],
   "source": [
    "def partition(arr, low, high):\n",
    "    pivot=arr[high]\n",
    "    i=low-1\n",
    "    for j in range(low,high):\n",
    "        if arr[j]<=pivot:\n",
    "            i=i+1\n",
    "            temp=arr[i]\n",
    "            arr[i]=arr[j]\n",
    "            arr[j]=temp\n",
    "    temp=arr[i+1]\n",
    "    arr[i+1]=arr[high]\n",
    "    arr[high]=temp\n",
    "    return i+1 \n",
    "def quickSort(arr, low=0, high=None):\n",
    "    if high==None:\n",
    "        high=len(arr)-1\n",
    "    if low<high:\n",
    "        p=partition(arr,low,high)\n",
    "        quickSort(arr,low,p-1)\n",
    "        quickSort(arr,p+1,high)\n",
    "arr=[4,3,1,2]\n",
    "quickSort(arr)\n",
    "print(arr)"
   ]
  },
  {
   "cell_type": "markdown",
   "id": "5ff6a01f",
   "metadata": {},
   "source": [
    "# Question 4"
   ]
  },
  {
   "cell_type": "code",
   "execution_count": 12,
   "id": "fb21b4c5",
   "metadata": {},
   "outputs": [
    {
     "name": "stdout",
     "output_type": "stream",
     "text": [
      "0 : 1001100110 \n",
      "1 : 00101 00110 \n",
      "2 : 100 01 010 10 \n",
      "3 : 01 X X X 10 X X X \n",
      "4 : X X X X \n",
      "0 : (5 , 3 , 9 )\n",
      "1 : (2 , 2 , 5 )\n",
      "2 : (2 , 2 , 3 )\n",
      "3 : (1 , 1 , 1 )\n"
     ]
    }
   ],
   "source": [
    "from typing import List\n",
    "import sys\n",
    "class Node:\n",
    "    def __init__(self,bitmap,value):\n",
    "        self.left=None\n",
    "        self.right =None\n",
    "        self.bitmap=bitmap\n",
    "        self.value=value\n",
    "        \n",
    "class Wavelet_Tree :\n",
    "    def __init__ ( self , A ) :\n",
    "        self.A=A\n",
    "        self.n = self.tree(self.A)\n",
    "        global root\n",
    "        root= self.n\n",
    "    def tree(self,A):\n",
    "        bitmaparray=[]\n",
    "        leftNodeArray=[]\n",
    "        rightNodeArray=[]\n",
    "        if len(A) ==0:\n",
    "            return None\n",
    "        high = - sys.maxsize -1\n",
    "        low = sys.maxsize\n",
    "        for i in A:\n",
    "            if low >=i:\n",
    "                low=i\n",
    "            if high <i:\n",
    "                high=i\n",
    "        if low == high:\n",
    "            n= Node(\"X\",A)\n",
    "            return n\n",
    "        mid= (low+high)/2\n",
    "        for i in A:\n",
    "            if i <= mid:\n",
    "                bitmaparray.append(0)\n",
    "                leftNodeArray.append(i)\n",
    "            else:\n",
    "                bitmaparray.append(1)\n",
    "                rightNodeArray.append(i)\n",
    "        if bitmaparray!=\"X\":\n",
    "            n= Node(bitmaparray,A)\n",
    "            if leftNodeArray:\n",
    "                n.left=self.tree(leftNodeArray)\n",
    "            if rightNodeArray:\n",
    "                n.right=self.tree(rightNodeArray)\n",
    "        return n\n",
    "    def RQQ(self, k: int , left:int , right:int):\n",
    "        assert (0 < left and left <= right and right <= len(self.A))\n",
    "        assert (1 <= k and k <= right - left + 1)\n",
    "        global root\n",
    "        n = root\n",
    "        self.calc(self.A,n,k,left,right,0)\n",
    "        return\n",
    "    def find_split(self,A):\n",
    "        high = - sys.maxsize -1\n",
    "        low = sys.maxsize\n",
    "        for i in A:\n",
    "            if low >=i:\n",
    "                low=i\n",
    "            if high <i:\n",
    "                high=i\n",
    "        return low, high\n",
    "    def calc(self,A,n,k,left,right,i):\n",
    "        assert (0 < left and left <= right and right <= len(A))\n",
    "        assert (1 <= k and k <= right - left + 1)\n",
    "        print(str(i),\": (\"+str(k),\",\",str(left),\",\",str(right),\")\")\n",
    "        if (left==right or n.bitmap==\"X\"):\n",
    "            return \n",
    "        left_zeros=n.bitmap[0:left-1].count(0)\n",
    "        left_ones=n.bitmap[0:left-1].count(1)\n",
    "        cal_bitmap= n.bitmap[left-1:right].count(0)\n",
    "        direct0=n.bitmap[0:right].count(0)\n",
    "        direct1=n.bitmap[0:right].count(1)\n",
    "        if cal_bitmap < k:\n",
    "            n=n.right\n",
    "            arr=n.value\n",
    "            left=left_ones+1\n",
    "            right = direct1\n",
    "            k=k-cal_bitmap\n",
    "            i+=1\n",
    "            self.calc(arr,n,k,left,right,i)\n",
    "        else:\n",
    "            n=n.left\n",
    "            arr=n.value\n",
    "            left = left_zeros + 1\n",
    "            right = direct0\n",
    "            i+=1\n",
    "            self.calc(arr,n,k,left,right,i)\n",
    "        return\n",
    "    def print(self):\n",
    "        n = self.n\n",
    "        if n is None:\n",
    "            return\n",
    "        Queue = []\n",
    "        Queue.append(n)\n",
    "        i=0\n",
    "        count=0\n",
    "        listr=[]\n",
    "        while(len(Queue)>0):\n",
    "            count+=1\n",
    "            if 2**i==count:\n",
    "                if count !=1:\n",
    "                    print()\n",
    "                print(str(i),\": \" ,end=\"\")\n",
    "                i+=1\n",
    "            print(''.join(str (b) for b in Queue[0].bitmap), end=\" \" )\n",
    "            listr.append(Queue[0].bitmap)\n",
    "            node = Queue.pop(0)\n",
    "            if node.left is not None:\n",
    "                Queue.append(node.left)\n",
    "            if node.right is not None:\n",
    "                Queue.append(node.right)\n",
    "        print()\n",
    "        return\n",
    "wv_tree = Wavelet_Tree([6, 2, 0, 7, 9, 3, 1, 8, 5, 4])\n",
    "wv_tree.print()\n",
    "wv_tree.RQQ(5,3,9)"
   ]
  },
  {
   "cell_type": "markdown",
   "id": "21690577",
   "metadata": {},
   "source": [
    "# Question 5"
   ]
  },
  {
   "cell_type": "code",
   "execution_count": 5,
   "id": "5605e167",
   "metadata": {},
   "outputs": [],
   "source": [
    "# Assumption taken that that there are \n",
    "# least overlapping strings in the given case\n",
    "# it is near optimal solution and doesnt give optimal solution"
   ]
  },
  {
   "cell_type": "code",
   "execution_count": 6,
   "id": "d11a46ec",
   "metadata": {},
   "outputs": [
    {
     "data": {
      "text/plain": [
       "'GCTAAGTTCATGCATC'"
      ]
     },
     "execution_count": 6,
     "metadata": {},
     "output_type": "execute_result"
    }
   ],
   "source": [
    "def find(s1,s2,s):\n",
    "    mo = 0\n",
    "    n = min(len(s1),len(s2))\n",
    "    for i in range(1,n):\n",
    "        if (s1[len(s1) - i:]==(s2[0:i])):\n",
    "            if(mo<i):\n",
    "                s=s1+s2[i:] \n",
    "                mo=i\n",
    "    for i in range(1,n):\n",
    "        if (s1[:i]==(s2[len(s2) - i:])):\n",
    "            if(mo<i):\n",
    "                s=s2+s1[i:]\n",
    "                mo=i\n",
    "    return mo,s\n",
    "\n",
    "def shortest_superstring(A):\n",
    "    s = None\n",
    "    n = len(A)\n",
    "    while (n!=1):\n",
    "        mo=0\n",
    "        l=0\n",
    "        r=0\n",
    "        Str=\"\"\n",
    "        i = 0\n",
    "        for i in range(n) :\n",
    "            for j in range(i+1,n) :\n",
    "                res,s=find(A[i], A[j],s)\n",
    "                if (mo<res) :\n",
    "                    mo=res\n",
    "                    Str=s\n",
    "                    l=i\n",
    "                    r=j\n",
    "        n=n-1\n",
    "        if (mo==0) :\n",
    "            A[0]+=A[n]\n",
    "        else :\n",
    "            A[l]=Str\n",
    "            A[r]=A[n]\n",
    "    return A[0]\n",
    "\n",
    "shortest_superstring([\"CATGC\",\"CTAAGT\",\"GCTA\",\"TTCA\",\"ATGCATC\"])"
   ]
  },
  {
   "cell_type": "markdown",
   "id": "edb60f81",
   "metadata": {},
   "source": [
    "# Question 6"
   ]
  },
  {
   "cell_type": "code",
   "execution_count": 7,
   "id": "de9e5229",
   "metadata": {},
   "outputs": [
    {
     "data": {
      "text/plain": [
       "[79, 9, 41, 12, 91]"
      ]
     },
     "execution_count": 7,
     "metadata": {},
     "output_type": "execute_result"
    }
   ],
   "source": [
    "def find_circle_A(B):\n",
    "    A = []\n",
    "    total = sum(B)/3\n",
    "    if (len(B)%3 == 2):\n",
    "        x = int(B[1] - (total - sum(B[4::3])))\n",
    "        y = int(B[2] - (total - (sum(B[5::3])+B[0])))\n",
    "        A.append(x)\n",
    "        A.append(y)\n",
    "        for i in range(2,len(B)):\n",
    "             A.append(B[i-1]-A[i-1]-A[i-2])\n",
    "        return A\n",
    "    elif (len(B)%3 == 1):\n",
    "        x = int(total - sum(B[2::3]))\n",
    "        y = int(total - sum(B[3::3]))\n",
    "        A.append(x)\n",
    "        A.append(y)\n",
    "        for i in range(2,len(B)):\n",
    "             A.append(B[i-1]-A[i-1]-A[i-2])\n",
    "        return A\n",
    "    else:\n",
    "        return \"Invalid input\"\n",
    "find_circle_A([179,129,62,144,182])"
   ]
  },
  {
   "cell_type": "code",
   "execution_count": null,
   "id": "b77ab8b9",
   "metadata": {},
   "outputs": [],
   "source": []
  }
 ],
 "metadata": {
  "kernelspec": {
   "display_name": "Python 3 (ipykernel)",
   "language": "python",
   "name": "python3"
  },
  "language_info": {
   "codemirror_mode": {
    "name": "ipython",
    "version": 3
   },
   "file_extension": ".py",
   "mimetype": "text/x-python",
   "name": "python",
   "nbconvert_exporter": "python",
   "pygments_lexer": "ipython3",
   "version": "3.9.13"
  }
 },
 "nbformat": 4,
 "nbformat_minor": 5
}
