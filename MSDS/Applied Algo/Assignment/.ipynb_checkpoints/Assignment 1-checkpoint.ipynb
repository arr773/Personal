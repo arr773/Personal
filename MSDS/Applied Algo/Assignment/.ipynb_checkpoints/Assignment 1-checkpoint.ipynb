{
 "cells": [
  {
   "cell_type": "markdown",
   "id": "91319494",
   "metadata": {},
   "source": [
    "# Question 1"
   ]
  },
  {
   "cell_type": "code",
   "execution_count": 42,
   "id": "4c03617a",
   "metadata": {},
   "outputs": [
    {
     "name": "stdout",
     "output_type": "stream",
     "text": [
      "17\n",
      "3\n"
     ]
    }
   ],
   "source": [
    "#The function calculates the sum of the number of letters in the prime numbers upto the number n\n",
    "def count_prime_letters(n):\n",
    "    dict_={2:3,3:5,5:4,7:5,11:6,13:8,17:9,19:8,23:11,29:10,31:9,37:11,41:8,43:10,47:10,53:10,59:9,61:8,67:10,71:10,73:12,79:11,83:11,89:10,97:11}\n",
    "    count=0\n",
    "    for i in dict_.keys():\n",
    "        if i>= n:\n",
    "            break\n",
    "        count+=dict_[i]\n",
    "    return count\n",
    "print(count_prime_letters(8))\n",
    "print(count_prime_letters(3))"
   ]
  },
  {
   "cell_type": "markdown",
   "id": "caf159a6",
   "metadata": {},
   "source": [
    "# Question2"
   ]
  },
  {
   "cell_type": "code",
   "execution_count": 54,
   "id": "f9e63f14",
   "metadata": {},
   "outputs": [
    {
     "name": "stdout",
     "output_type": "stream",
     "text": [
      "14\n",
      "55\n"
     ]
    }
   ],
   "source": [
    "#The function calculates the task asked in the question using recursion\n",
    "def get_square_sum(M,N):\n",
    "    total=0\n",
    "    for i in range(1,N):\n",
    "        if(i*i>N):\n",
    "            break\n",
    "        total=total+i*i\n",
    "    if M == 1:\n",
    "        return total\n",
    "    return get_square_sum(M-1,total+1)\n",
    "print(get_square_sum(1,10))\n",
    "print(get_square_sum(2,20))"
   ]
  },
  {
   "cell_type": "markdown",
   "id": "42dd721a",
   "metadata": {},
   "source": [
    "# Question3"
   ]
  },
  {
   "cell_type": "code",
   "execution_count": 56,
   "id": "41a23354",
   "metadata": {},
   "outputs": [
    {
     "name": "stdout",
     "output_type": "stream",
     "text": [
      "-1\n",
      "2\n",
      "-1\n",
      "4\n",
      "2\n"
     ]
    }
   ],
   "source": [
    "#The function first converts the number into its binary equivalent and then returns the index of the second 1 from right\n",
    "def check_bit(N):\n",
    "    binary=bin(N)\n",
    "    binary=str(binary)\n",
    "    l=len(binary)\n",
    "    check=0\n",
    "    for i in range(l):\n",
    "        if binary[l-i-1] == \"1\":\n",
    "            check+=1\n",
    "        if check==2:\n",
    "            return (i+1)\n",
    "    return -1\n",
    "print(check_bit(2))\n",
    "print(check_bit(3))\n",
    "print(check_bit(8))\n",
    "print(check_bit(9))\n",
    "print(check_bit(31))"
   ]
  },
  {
   "cell_type": "markdown",
   "id": "da0c7047",
   "metadata": {},
   "source": [
    "# Question4"
   ]
  },
  {
   "cell_type": "code",
   "execution_count": 32,
   "id": "b2fcd832",
   "metadata": {},
   "outputs": [
    {
     "data": {
      "text/plain": [
       "123123"
      ]
     },
     "execution_count": 32,
     "metadata": {},
     "output_type": "execute_result"
    }
   ],
   "source": [
    "#As 7*11*13*n=n00n so if n is a 3 digit number the output can be considered as string of n+ string of n\n",
    "def find_multiple(n):\n",
    "    return int(str(n)+str(n))\n",
    "find_multiple(123)"
   ]
  },
  {
   "cell_type": "markdown",
   "id": "1095b614",
   "metadata": {},
   "source": [
    "# Question5"
   ]
  },
  {
   "cell_type": "code",
   "execution_count": 33,
   "id": "f54b0776",
   "metadata": {},
   "outputs": [
    {
     "data": {
      "text/plain": [
       "0"
      ]
     },
     "execution_count": 33,
     "metadata": {},
     "output_type": "execute_result"
    }
   ],
   "source": [
    "#The function first calculates the max points each team gets, if two or more teams have highest number of points their goals scored are compared and the team with maximum goals scored wins\n",
    "def find_the_winner(matches_won,matches_drawn,goals_scored):\n",
    "    points=[]\n",
    "    for i in range(len(matches_won)):        \n",
    "        points.append(matches_won[i]*3+matches_drawn[i])\n",
    "    max=0\n",
    "    index=0\n",
    "    for i in range(len(points)):\n",
    "        if points[i]>max:\n",
    "            max=points[i]\n",
    "            j=i\n",
    "        elif points[i]==max:\n",
    "            if goals_scored[i]>goals_scored[j]:\n",
    "                max=points[i]\n",
    "                j=i\n",
    "    return j\n",
    "    \n",
    "find_the_winner([3,1,2,0],[0,1,0,1],[6,4,5,2])"
   ]
  },
  {
   "cell_type": "markdown",
   "id": "934b2876",
   "metadata": {},
   "source": [
    "# Question6"
   ]
  },
  {
   "cell_type": "code",
   "execution_count": 34,
   "id": "f4ef9c84",
   "metadata": {},
   "outputs": [
    {
     "name": "stdout",
     "output_type": "stream",
     "text": [
      "abzzba\n",
      "abzzbaz\n",
      "aaaa\n"
     ]
    }
   ],
   "source": [
    "#The function omits the third multiple of the occurance of any letter from the decoded string\n",
    "def decode_string(s):\n",
    "    dict_={}\n",
    "    new_s=\"\"\n",
    "    for i in s:\n",
    "        if i in dict_.keys():\n",
    "            dict_[i]+=1\n",
    "        else:\n",
    "            dict_[i]=1\n",
    "        if(dict_[i]%3==0):\n",
    "            continue\n",
    "        new_s=new_s+i\n",
    "    return(new_s)\n",
    "print(decode_string(\"abzzbabz\"))\n",
    "print(decode_string(\"abzzbabzz\"))\n",
    "print(decode_string(\"aaaaaa\"))"
   ]
  }
 ],
 "metadata": {
  "kernelspec": {
   "display_name": "Python 3 (ipykernel)",
   "language": "python",
   "name": "python3"
  },
  "language_info": {
   "codemirror_mode": {
    "name": "ipython",
    "version": 3
   },
   "file_extension": ".py",
   "mimetype": "text/x-python",
   "name": "python",
   "nbconvert_exporter": "python",
   "pygments_lexer": "ipython3",
   "version": "3.9.12"
  }
 },
 "nbformat": 4,
 "nbformat_minor": 5
}
