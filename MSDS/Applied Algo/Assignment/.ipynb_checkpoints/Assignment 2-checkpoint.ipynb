{
 "cells": [
  {
   "cell_type": "markdown",
   "id": "f5a8f946",
   "metadata": {},
   "source": [
    "# Question 1"
   ]
  },
  {
   "cell_type": "code",
   "execution_count": 10,
   "id": "d0b4b5c2",
   "metadata": {},
   "outputs": [
    {
     "name": "stdout",
     "output_type": "stream",
     "text": [
      "2\n",
      "2\n"
     ]
    }
   ],
   "source": [
    "def count_cherries(part1,part2):\n",
    "    count1=0\n",
    "    count2=0\n",
    "    \n",
    "    for j in part1:\n",
    "        for i in j:\n",
    "            if i =='#':\n",
    "                count1+=1\n",
    "\n",
    "    for i in part2:\n",
    "        for j in i:\n",
    "            if j =='#':\n",
    "                count2+=1\n",
    "\n",
    "    if count1>count2:\n",
    "        return(count1-count2,count2)\n",
    "    else:\n",
    "        return(count2-count1,count1)\n",
    "    \n",
    "\n",
    "def max_cherries(cake):\n",
    "    diff=9999999\n",
    "    anja=0\n",
    "    new_cake=[]\n",
    "\n",
    "    for i in range(len(cake)):\n",
    "        temp1,temp2=(count_cherries(cake[:i],cake[i:]))\n",
    "        if(diff>temp1):\n",
    "            diff=temp1\n",
    "            anja=temp2\n",
    "\n",
    "    for i in cake[0]:\n",
    "        new_cake.append([])\n",
    "\n",
    "    for i in cake:\n",
    "        j=0\n",
    "        for k in i:\n",
    "            new_cake[j].append(k)\n",
    "            j+=1\n",
    "\n",
    "    for i in range(len(new_cake)):\n",
    "        temp1,temp2=(count_cherries(new_cake[:i],new_cake[i:]))\n",
    "        if(diff>temp1):\n",
    "            diff=temp1\n",
    "            anja=temp2\n",
    "\n",
    "    return anja\n",
    "        \n",
    "print(max_cherries([[\".\", \"#\", \"#\", \"#\", \"#\"], [\".\", \".\", \".\", \".\", \".\"]]))\n",
    "print(max_cherries([[\".\",  \"#\", \".\"], [ \"#\", \".\", \".\"], [ \"#\",  \"#\",  \"#\"]]))"
   ]
  },
  {
   "cell_type": "markdown",
   "id": "4bc90274",
   "metadata": {},
   "source": [
    "# Question 2"
   ]
  },
  {
   "cell_type": "code",
   "execution_count": 35,
   "id": "87fea65b",
   "metadata": {},
   "outputs": [
    {
     "name": "stdout",
     "output_type": "stream",
     "text": [
      "[0, 2, 4]\n",
      "[0, 1, 2, 3]\n",
      "[0]\n"
     ]
    }
   ],
   "source": [
    "def spy_locations(heights):\n",
    "    if heights==[]:\n",
    "        return []\n",
    "    output=[0]\n",
    "    for i in range(1,len(heights)):\n",
    "        if heights[i]>heights[i-1]:\n",
    "            output.append(i)\n",
    "    return output\n",
    "print(spy_locations([4,3,7,6,9]))\n",
    "print(spy_locations([1,2,5,7]))\n",
    "print(spy_locations([4,3,2,1]))"
   ]
  },
  {
   "cell_type": "markdown",
   "id": "7acc8a38",
   "metadata": {},
   "source": [
    "# Question 3"
   ]
  },
  {
   "cell_type": "code",
   "execution_count": 42,
   "id": "a2a397b2",
   "metadata": {},
   "outputs": [
    {
     "data": {
      "text/plain": [
       "'Veidt'"
      ]
     },
     "execution_count": 42,
     "metadata": {},
     "output_type": "execute_result"
    }
   ],
   "source": [
    "def whos_the_winner(s,p):\n",
    "    count=0\n",
    "    j=0\n",
    "    y=s\n",
    "    new=[]\n",
    "    while(p in y):\n",
    "        count+=1\n",
    "        y=y[y.index(p)+1:]\n",
    "        try:\n",
    "            j=(s.index(p,j+1))\n",
    "        except:\n",
    "            j=0\n",
    "        new.append(j)\n",
    "    for i in new:\n",
    "        left,right=(len(s[:i]),len(s[i+len(p):]))\n",
    "        if left==right:\n",
    "            return \"Walter\"\n",
    "    return \"Veidt\"\n",
    "whos_the_winner(\"Abcdefghij\",\"cdef\")"
   ]
  },
  {
   "cell_type": "markdown",
   "id": "bfbd9038",
   "metadata": {},
   "source": [
    "# Question 4"
   ]
  },
  {
   "cell_type": "code",
   "execution_count": 43,
   "id": "15cb7a37",
   "metadata": {},
   "outputs": [
    {
     "data": {
      "text/plain": [
       "''"
      ]
     },
     "execution_count": 43,
     "metadata": {},
     "output_type": "execute_result"
    }
   ],
   "source": [
    "def return_resultant_string(s,p):\n",
    "    if(len(p)>len(s)):\n",
    "        return s\n",
    "    if p in s:\n",
    "        return return_resultant_string(s[:s.index(p)]+s[s.index(p)+len(p):],p)\n",
    "    else:\n",
    "        return s\n",
    "return_resultant_string(\"aababccbc\",\"abc\")"
   ]
  },
  {
   "cell_type": "markdown",
   "id": "b6d3a9e0",
   "metadata": {},
   "source": [
    "# Question 5"
   ]
  },
  {
   "cell_type": "code",
   "execution_count": 38,
   "id": "7ffc847b",
   "metadata": {},
   "outputs": [
    {
     "data": {
      "text/plain": [
       "[4, 6, 6]"
      ]
     },
     "execution_count": 38,
     "metadata": {},
     "output_type": "execute_result"
    }
   ],
   "source": [
    "def flip(left_bits,right_bits):\n",
    "    left_bits=\"1\"+left_bits\n",
    "    integer=int(left_bits,2)-3\n",
    "    new_string=(str(bin(integer)))\n",
    "    return(new_string[2:]+right_bits)\n",
    "    \n",
    "def flip_game(s,queries):\n",
    "    result_list=[]\n",
    "    for i in queries:\n",
    "        if i==\"get\":\n",
    "            result_list.append(s.count(\"1\"))\n",
    "        if i==\"flip\":\n",
    "            s=flip(s[:s.index(\"1\")+1],s[s.index(\"1\")+1:])\n",
    "            \n",
    "            \n",
    "    return result_list\n",
    "    \n",
    "flip_game(\"0000101011\",[\"get\",\"flip\",\"flip\",\"get\",\"flip\",\"flip\",\"flip\",\"get\"])"
   ]
  },
  {
   "cell_type": "markdown",
   "id": "ae94c343",
   "metadata": {},
   "source": [
    "# Question 6"
   ]
  },
  {
   "cell_type": "code",
   "execution_count": 44,
   "id": "e5ec2bda",
   "metadata": {},
   "outputs": [
    {
     "name": "stdout",
     "output_type": "stream",
     "text": [
      "14\n",
      "30\n"
     ]
    }
   ],
   "source": [
    "def calculate_points(list_):\n",
    "    scoresheet=[]\n",
    "    for i in list_:\n",
    "        try:\n",
    "            scoresheet.append(int(i))\n",
    "        except:\n",
    "            if i==\"I\":\n",
    "                scoresheet.pop()\n",
    "            if i==\"D\":\n",
    "                temp=scoresheet[len(scoresheet)-1]\n",
    "                scoresheet.append(temp*2)\n",
    "            else:\n",
    "                if i==\"+\":\n",
    "                    temp1=scoresheet[len(scoresheet)-1]\n",
    "                    temp2=scoresheet[len(scoresheet)-2]    \n",
    "                    scoresheet.append(temp1+temp2)\n",
    "                if i==\"-\":\n",
    "                    temp1=scoresheet[len(scoresheet)-1]\n",
    "                    temp2=scoresheet[len(scoresheet)-2]    \n",
    "                    scoresheet.append(temp2-temp1)\n",
    "                if i==\"*\":\n",
    "                    temp1=scoresheet[len(scoresheet)-1]\n",
    "                    temp2=scoresheet[len(scoresheet)-2]    \n",
    "                    scoresheet.append(temp2*temp1)\n",
    "                if i==\"/\":\n",
    "                    temp1=scoresheet[len(scoresheet)-1]\n",
    "                    temp2=scoresheet[len(scoresheet)-2]    \n",
    "                    scoresheet.append(int(temp2/temp1))\n",
    "                if i==\"%\":\n",
    "                    temp1=scoresheet[len(scoresheet)-1]\n",
    "                    temp2=scoresheet[len(scoresheet)-2]    \n",
    "                    scoresheet.append(temp2%temp1)\n",
    "    return sum(scoresheet)\n",
    "print(calculate_points([\"5\",\"-2\",\"4\",\"I\",\"D\",\"9\",\"+\",\"/\"]))\n",
    "print(calculate_points([\"5\",\"2\",\"I\",\"D\",\"+\"]))"
   ]
  },
  {
   "cell_type": "markdown",
   "id": "df9318b4",
   "metadata": {},
   "source": [
    "# Question 7"
   ]
  },
  {
   "cell_type": "code",
   "execution_count": 7,
   "id": "170b1eca",
   "metadata": {},
   "outputs": [
    {
     "ename": "AttributeError",
     "evalue": "'Linked_List' object has no attribute 'head'",
     "output_type": "error",
     "traceback": [
      "\u001b[1;31m---------------------------------------------------------------------------\u001b[0m",
      "\u001b[1;31mAttributeError\u001b[0m                            Traceback (most recent call last)",
      "Input \u001b[1;32mIn [7]\u001b[0m, in \u001b[0;36m<cell line: 70>\u001b[1;34m()\u001b[0m\n\u001b[0;32m     66\u001b[0m             pointer\u001b[38;5;241m=\u001b[39mpointer\u001b[38;5;241m.\u001b[39mnext\n\u001b[0;32m     69\u001b[0m lst \u001b[38;5;241m=\u001b[39m Linked_List()\n\u001b[1;32m---> 70\u001b[0m \u001b[43mlst\u001b[49m\u001b[38;5;241;43m.\u001b[39;49m\u001b[43mInsert\u001b[49m\u001b[43m(\u001b[49m\u001b[38;5;241;43m1\u001b[39;49m\u001b[43m,\u001b[49m\u001b[38;5;241;43m1\u001b[39;49m\u001b[43m)\u001b[49m\n\u001b[0;32m     71\u001b[0m lst\u001b[38;5;241m.\u001b[39mInsert(\u001b[38;5;241m3\u001b[39m,\u001b[38;5;241m1\u001b[39m)\n\u001b[0;32m     72\u001b[0m \u001b[38;5;66;03m#lst.Delete()\u001b[39;00m\n\u001b[0;32m     73\u001b[0m \u001b[38;5;66;03m#lst.Update(1,2)\u001b[39;00m\n",
      "Input \u001b[1;32mIn [7]\u001b[0m, in \u001b[0;36mLinked_List.Insert\u001b[1;34m(self, element, position)\u001b[0m\n\u001b[0;32m     10\u001b[0m \u001b[38;5;28;01mdef\u001b[39;00m \u001b[38;5;21mInsert\u001b[39m ( \u001b[38;5;28mself\u001b[39m , element , position ):\n\u001b[1;32m---> 11\u001b[0m     \u001b[38;5;28;01mif\u001b[39;00m \u001b[38;5;28;43mself\u001b[39;49m\u001b[38;5;241;43m.\u001b[39;49m\u001b[43mhead\u001b[49m \u001b[38;5;129;01mis\u001b[39;00m \u001b[38;5;28;01mNone\u001b[39;00m:\n\u001b[0;32m     12\u001b[0m         new\u001b[38;5;241m=\u001b[39mNode(element)\n\u001b[0;32m     13\u001b[0m         \u001b[38;5;28mself\u001b[39m\u001b[38;5;241m.\u001b[39mhead\u001b[38;5;241m=\u001b[39mnew\n",
      "\u001b[1;31mAttributeError\u001b[0m: 'Linked_List' object has no attribute 'head'"
     ]
    }
   ],
   "source": [
    "class Node :\n",
    "    def __init__ (self , num , next = None ):\n",
    "        self.num = num\n",
    "        self.next = next\n",
    "\n",
    "class Linked_List ():\n",
    "    def _init_(self):\n",
    "        self.head=None\n",
    "\n",
    "    def Insert ( self , element , position ):\n",
    "        if self.head is None:\n",
    "            new=Node(element)\n",
    "            self.head=new\n",
    "        elif position!=0:\n",
    "            pointer=self.head\n",
    "            for i in range(0,position):\n",
    "                if pointer!=None:\n",
    "                    previous=pointer\n",
    "                    pointer=previous.next\n",
    "            new=Node(element)\n",
    "            new.next=previous.next\n",
    "            previous.next=new\n",
    "        else:\n",
    "            new=Node(element)\n",
    "            new.next=self.head\n",
    "            self.head=new\n",
    "            \n",
    "    def delete (self , element ):\n",
    "        if self.head.num==element:\n",
    "            self.head=self.head.next\n",
    "        else:\n",
    "            pointer=self.head\n",
    "            while pointer!=None:\n",
    "                if pointer.next.num==element:\n",
    "                    break\n",
    "                pointer=pointer.next\n",
    "            pointer.next=pointer.next.next\n",
    "    \n",
    "    def Update (self , search_element , replace_element ):\n",
    "        pointer=self.head\n",
    "        while pointer!=None:\n",
    "            if pointer.num==search_element:\n",
    "                pointer.num=replace_element\n",
    "                pointer=pointer.next\n",
    "            else:\n",
    "                pointer=pointer.next\n",
    "                \n",
    "    def Search (self , element ):\n",
    "        pointer=self.head\n",
    "        while pointer!=None:\n",
    "            if pointer.num==element:\n",
    "                return True\n",
    "            else:\n",
    "                pointer=pointer.next\n",
    "        return False\n",
    "        \n",
    "    def merge_linkedlists (self , Linkedlist ):\n",
    "        i=0\n",
    "\n",
    "#         return ( Sorted Linked List )\n",
    "\n",
    "    def print ( self ):\n",
    "        pointer=self.head\n",
    "        while(pointer):\n",
    "            print(pointer.num,end=\" \")\n",
    "            pointer=pointer.next\n",
    "\n",
    "\n",
    "lst = Linked_List()\n",
    "lst.Insert(1,1)\n",
    "lst.Insert(3,1)\n",
    "#lst.Delete()\n",
    "#lst.Update(1,2)\n",
    "result = (lst.Search(3))\n",
    "#lst.merge_linkedlists \n",
    "print(result)\n",
    "lst.Print()\n"
   ]
  },
  {
   "cell_type": "markdown",
   "id": "65243a4d",
   "metadata": {},
   "source": [
    "# Question 8"
   ]
  },
  {
   "cell_type": "code",
   "execution_count": 45,
   "id": "c5400459",
   "metadata": {},
   "outputs": [
    {
     "name": "stdout",
     "output_type": "stream",
     "text": [
      "0\n",
      "1\n"
     ]
    }
   ],
   "source": [
    "def validate_order(nums):\n",
    "    l = len(nums)\n",
    "    wait_line = []\n",
    "    ant_hill = []\n",
    "    i = 0\n",
    "    while i < len(nums):\n",
    "        if nums[i] != 1:\n",
    "            wait_line.append(nums[i])\n",
    "            nums.remove(nums[i])\n",
    "        else:\n",
    "            ant_hill.append(nums[i])\n",
    "            nums.remove(nums[i])\n",
    "            break\n",
    "    i = 0\n",
    "    while nums or wait_line:\n",
    "            if nums and nums[i] == ant_hill[-1] + 1:\n",
    "                    ant_hill.append(nums[i])\n",
    "                    nums.remove(nums[i])\n",
    "            \n",
    "            elif wait_line[-1] == ant_hill[-1] + 1 :\n",
    "                temp = wait_line.pop()\n",
    "                ant_hill.append(temp)\n",
    "            else:\n",
    "                if nums:\n",
    "                    wait_line.append(nums[i])\n",
    "                    nums.remove(nums[i])                \n",
    "                elif wait_line: \n",
    "                    if wait_line[-1] == ant_hill[-1] + 1:\n",
    "                        continue\n",
    "                    break\n",
    "    \n",
    "    if len(ant_hill) == l:\n",
    "        return 1\n",
    "    return 0\n",
    "print(validate_order([4,1,5,3,2]))\n",
    "print(validate_order([5,3,2,1,4]))"
   ]
  },
  {
   "cell_type": "code",
   "execution_count": null,
   "id": "58b057ff",
   "metadata": {},
   "outputs": [],
   "source": []
  }
 ],
 "metadata": {
  "kernelspec": {
   "display_name": "Python 3 (ipykernel)",
   "language": "python",
   "name": "python3"
  },
  "language_info": {
   "codemirror_mode": {
    "name": "ipython",
    "version": 3
   },
   "file_extension": ".py",
   "mimetype": "text/x-python",
   "name": "python",
   "nbconvert_exporter": "python",
   "pygments_lexer": "ipython3",
   "version": "3.9.12"
  }
 },
 "nbformat": 4,
 "nbformat_minor": 5
}
