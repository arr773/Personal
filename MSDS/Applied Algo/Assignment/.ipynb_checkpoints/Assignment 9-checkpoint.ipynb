{
 "cells": [
  {
   "cell_type": "markdown",
   "id": "e7d0bc50",
   "metadata": {},
   "source": [
    "# Question 1"
   ]
  },
  {
   "cell_type": "code",
   "execution_count": 1,
   "id": "969b9989",
   "metadata": {},
   "outputs": [
    {
     "data": {
      "text/plain": [
       "True"
      ]
     },
     "execution_count": 1,
     "metadata": {},
     "output_type": "execute_result"
    }
   ],
   "source": [
    "def can_color(adj_matrix):\n",
    "    start=0\n",
    "    visited=[]\n",
    "    for i in range(len(adj_matrix)):\n",
    "        visited.append(-1)\n",
    "    visited[start]=1\n",
    "    q=[start]\n",
    "    while q:\n",
    "        u=q.pop()\n",
    "        if adj_matrix[u][u]==1:\n",
    "            return False\n",
    "        for v in range(len(adj_matrix)):\n",
    "            if adj_matrix[u][v]==1 and visited[v]==-1:\n",
    "                visited[v]=1-visited[u]\n",
    "                q.append(v)\n",
    "            elif adj_matrix[u][v]==1 and visited[v]==visited[u]:\n",
    "                return False\n",
    "    return True\n",
    "can_color([[0, 1, 1,0],\n",
    "            [1, 0, 0,1],\n",
    "            [1,0, 0,1],\n",
    "            [0,1,1,0]\n",
    "            ])"
   ]
  },
  {
   "cell_type": "markdown",
   "id": "594d759f",
   "metadata": {},
   "source": [
    "# Question 2"
   ]
  },
  {
   "cell_type": "code",
   "execution_count": 2,
   "id": "0e9033bb",
   "metadata": {},
   "outputs": [
    {
     "name": "stdout",
     "output_type": "stream",
     "text": [
      "False\n",
      "False\n",
      "True\n"
     ]
    }
   ],
   "source": [
    "import collections\n",
    "def all_routes_to_dest(n: int, connections: list[list[int]], begin: int, end: int) -> bool:\n",
    "    graph=collections.defaultdict(set)\n",
    "    seen=set()\n",
    "    for a, b in connections:\n",
    "        graph[a].add(b)\n",
    "    return dfs(graph,seen,begin,end)\n",
    "def dfs(graph,seen,i,end):\n",
    "        seen.add(i)\n",
    "        for j in graph[i]:\n",
    "            if j == i or j in seen or not dfs(graph,seen,j,end):\n",
    "                return False\n",
    "        seen.remove(i)\n",
    "        return len(graph[i]) != 0 or i == end\n",
    "n=3\n",
    "connections=[[0,1],[0,2]]\n",
    "begin=0\n",
    "end=2\n",
    "print(all_routes_to_dest(n,connections,begin,end))\n",
    "n=4\n",
    "connections=[[0,1],[0,3],[1,2],[2,1]]\n",
    "begin=0\n",
    "end=3\n",
    "print(all_routes_to_dest(n,connections,begin,end))\n",
    "n=4\n",
    "connections=[[0,1],[0,2],[1,3],[2,3]]\n",
    "begin=0\n",
    "end=3\n",
    "print(all_routes_to_dest(n,connections,begin,end))"
   ]
  },
  {
   "cell_type": "markdown",
   "id": "762fdb49",
   "metadata": {},
   "source": [
    "# Question 3"
   ]
  },
  {
   "cell_type": "code",
   "execution_count": 5,
   "id": "26aef852",
   "metadata": {},
   "outputs": [
    {
     "name": "stdout",
     "output_type": "stream",
     "text": [
      "True\n",
      "False\n"
     ]
    }
   ],
   "source": [
    "def checkCycle(nums):\n",
    "    visited=set()\n",
    "    for i in range(len(nums)):\n",
    "        if i not in visited:\n",
    "            local = set()\n",
    "            while True:\n",
    "                if i in local: \n",
    "                    return True\n",
    "                if i in visited:\n",
    "                    break          \n",
    "                visited.add(i)\n",
    "                local.add(i)\n",
    "                prev, i = i, (i + nums[i]) % len(nums)\n",
    "                if prev == i:\n",
    "                    break\n",
    "    return False\n",
    "\n",
    "print(checkCycle([2,-1,1,2,2]))\n",
    "\n",
    "print(checkCycle([4,1,1,1]))"
   ]
  },
  {
   "cell_type": "markdown",
   "id": "c2e8bf3a",
   "metadata": {},
   "source": [
    "# Question 4"
   ]
  },
  {
   "cell_type": "code",
   "execution_count": 4,
   "id": "1896221a",
   "metadata": {},
   "outputs": [
    {
     "name": "stdout",
     "output_type": "stream",
     "text": [
      "11\n",
      "-1\n"
     ]
    }
   ],
   "source": [
    "def get_min_cost(n,costs):\n",
    "    costs.sort(key=lambda x: x[2])\n",
    "    p=[]\n",
    "    for i in range(n):\n",
    "        p.append(i)\n",
    "    res=0\n",
    "    for x,y,cost in costs:\n",
    "        x=x-1\n",
    "        y=y-1\n",
    "        if find(p,x)==find(p,y):\n",
    "            continue\n",
    "        p[find(p,x)]=find(p,y)\n",
    "        res=res+cost\n",
    "        n=n-1\n",
    "        if n==1:\n",
    "            return res\n",
    "    return -1\n",
    "def find(p,x):\n",
    "    if p[x]!=x:\n",
    "        p[x]=find(p,p[x])\n",
    "    return p[x]\n",
    "    \n",
    "    return mincost\n",
    "n=3\n",
    "costs=[[1,2,4],[1,3,9],[2,3,7]]\n",
    "print(get_min_cost(n,costs))\n",
    "n=4\n",
    "costs=[[1,2,3],[3,4,4]]\n",
    "print(get_min_cost(n,costs))"
   ]
  },
  {
   "cell_type": "code",
   "execution_count": null,
   "id": "33f9ac58",
   "metadata": {},
   "outputs": [],
   "source": []
  }
 ],
 "metadata": {
  "kernelspec": {
   "display_name": "Python 3 (ipykernel)",
   "language": "python",
   "name": "python3"
  },
  "language_info": {
   "codemirror_mode": {
    "name": "ipython",
    "version": 3
   },
   "file_extension": ".py",
   "mimetype": "text/x-python",
   "name": "python",
   "nbconvert_exporter": "python",
   "pygments_lexer": "ipython3",
   "version": "3.9.13"
  }
 },
 "nbformat": 4,
 "nbformat_minor": 5
}
