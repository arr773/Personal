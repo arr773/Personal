{
 "cells": [
  {
   "cell_type": "markdown",
   "id": "f5a8f946",
   "metadata": {},
   "source": [
    "# Question 1"
   ]
  },
  {
   "cell_type": "code",
   "execution_count": 1,
   "id": "d0b4b5c2",
   "metadata": {},
   "outputs": [
    {
     "name": "stdout",
     "output_type": "stream",
     "text": [
      "2\n",
      "2\n"
     ]
    }
   ],
   "source": [
    "def count_cherries(part1,part2):\n",
    "    count1=0\n",
    "    count2=0\n",
    "    \n",
    "    for j in part1:\n",
    "        for i in j:\n",
    "            if i =='#':\n",
    "                count1+=1\n",
    "\n",
    "    for i in part2:\n",
    "        for j in i:\n",
    "            if j =='#':\n",
    "                count2+=1\n",
    "\n",
    "    if count1>count2:\n",
    "        return(count1-count2,count2)\n",
    "    else:\n",
    "        return(count2-count1,count1)\n",
    "    \n",
    "\n",
    "def max_cherries(cake):\n",
    "    diff=9999999\n",
    "    anja=0\n",
    "    new_cake=[]\n",
    "\n",
    "    for i in range(len(cake)):\n",
    "        temp1,temp2=(count_cherries(cake[:i],cake[i:]))\n",
    "        if(diff>temp1):\n",
    "            diff=temp1\n",
    "            anja=temp2\n",
    "\n",
    "    for i in cake[0]:\n",
    "        new_cake.append([])\n",
    "\n",
    "    for i in cake:\n",
    "        j=0\n",
    "        for k in i:\n",
    "            new_cake[j].append(k)\n",
    "            j+=1\n",
    "\n",
    "    for i in range(len(new_cake)):\n",
    "        temp1,temp2=(count_cherries(new_cake[:i],new_cake[i:]))\n",
    "        if(diff>temp1):\n",
    "            diff=temp1\n",
    "            anja=temp2\n",
    "\n",
    "    return anja\n",
    "        \n",
    "print(max_cherries([[\".\", \"#\", \"#\", \"#\", \"#\"], [\".\", \".\", \".\", \".\", \".\"]]))\n",
    "print(max_cherries([[\".\",  \"#\", \".\"], [ \"#\", \".\", \".\"], [ \"#\",  \"#\",  \"#\"]]))"
   ]
  },
  {
   "cell_type": "markdown",
   "id": "4bc90274",
   "metadata": {},
   "source": [
    "# Question 2"
   ]
  },
  {
   "cell_type": "code",
   "execution_count": 2,
   "id": "87fea65b",
   "metadata": {},
   "outputs": [
    {
     "name": "stdout",
     "output_type": "stream",
     "text": [
      "[0, 2, 4]\n",
      "[0, 1, 2, 3]\n",
      "[0]\n"
     ]
    }
   ],
   "source": [
    "def spy_locations(heights):\n",
    "    if heights==[]:\n",
    "        return []\n",
    "    output=[0]\n",
    "    for i in range(1,len(heights)):\n",
    "        if heights[i]>heights[i-1]:\n",
    "            output.append(i)\n",
    "    return output\n",
    "print(spy_locations([4,3,7,6,9]))\n",
    "print(spy_locations([1,2,5,7]))\n",
    "print(spy_locations([4,3,2,1]))"
   ]
  },
  {
   "cell_type": "markdown",
   "id": "7acc8a38",
   "metadata": {},
   "source": [
    "# Question 3"
   ]
  },
  {
   "cell_type": "code",
   "execution_count": 3,
   "id": "a2a397b2",
   "metadata": {},
   "outputs": [
    {
     "data": {
      "text/plain": [
       "'Veidt'"
      ]
     },
     "execution_count": 3,
     "metadata": {},
     "output_type": "execute_result"
    }
   ],
   "source": [
    "def whos_the_winner(s,p):\n",
    "    count=0\n",
    "    j=0\n",
    "    y=s\n",
    "    new=[]\n",
    "    while(p in y):\n",
    "        count+=1\n",
    "        y=y[y.index(p)+1:]\n",
    "        try:\n",
    "            j=(s.index(p,j+1))\n",
    "        except:\n",
    "            j=0\n",
    "        new.append(j)\n",
    "    for i in new:\n",
    "        left,right=(len(s[:i]),len(s[i+len(p):]))\n",
    "        if left==right:\n",
    "            return \"Walter\"\n",
    "    return \"Veidt\"\n",
    "whos_the_winner(\"Abcdefghij\",\"cdef\")\n",
    "whos_the_winner(\"baaab\",\"aa\")"
   ]
  },
  {
   "cell_type": "markdown",
   "id": "bfbd9038",
   "metadata": {},
   "source": [
    "# Question 4"
   ]
  },
  {
   "cell_type": "code",
   "execution_count": 4,
   "id": "15cb7a37",
   "metadata": {},
   "outputs": [
    {
     "data": {
      "text/plain": [
       "''"
      ]
     },
     "execution_count": 4,
     "metadata": {},
     "output_type": "execute_result"
    }
   ],
   "source": [
    "def return_resultant_string(s,p):\n",
    "    if(len(p)>len(s)):\n",
    "        return s\n",
    "    if p in s:\n",
    "        return return_resultant_string(s[:s.index(p)]+s[s.index(p)+len(p):],p)\n",
    "    else:\n",
    "        return s\n",
    "return_resultant_string(\"aababccbc\",\"abc\")"
   ]
  },
  {
   "cell_type": "markdown",
   "id": "b6d3a9e0",
   "metadata": {},
   "source": [
    "# Question 5"
   ]
  },
  {
   "cell_type": "code",
   "execution_count": 5,
   "id": "7ffc847b",
   "metadata": {},
   "outputs": [
    {
     "data": {
      "text/plain": [
       "[4, 6, 6]"
      ]
     },
     "execution_count": 5,
     "metadata": {},
     "output_type": "execute_result"
    }
   ],
   "source": [
    "def flip(left_bits,right_bits):\n",
    "    left_bits=\"1\"+left_bits\n",
    "    integer=int(left_bits,2)-3\n",
    "    new_string=(str(bin(integer)))\n",
    "    return(new_string[2:]+right_bits)\n",
    "    \n",
    "def flip_game(s,queries):\n",
    "    result_list=[]\n",
    "    for i in queries:\n",
    "        if i==\"get\":\n",
    "            result_list.append(s.count(\"1\"))\n",
    "        if i==\"flip\":\n",
    "            s=flip(s[:s.index(\"1\")+1],s[s.index(\"1\")+1:])\n",
    "            \n",
    "            \n",
    "    return result_list\n",
    "    \n",
    "flip_game(\"0000101011\",[\"get\",\"flip\",\"flip\",\"get\",\"flip\",\"flip\",\"flip\",\"get\"])"
   ]
  },
  {
   "cell_type": "markdown",
   "id": "ae94c343",
   "metadata": {},
   "source": [
    "# Question 6"
   ]
  },
  {
   "cell_type": "code",
   "execution_count": 6,
   "id": "e5ec2bda",
   "metadata": {},
   "outputs": [
    {
     "name": "stdout",
     "output_type": "stream",
     "text": [
      "14\n",
      "30\n"
     ]
    }
   ],
   "source": [
    "def calculate_points(list_):\n",
    "    scoresheet=[]\n",
    "    for i in list_:\n",
    "        try:\n",
    "            scoresheet.append(int(i))\n",
    "        except:\n",
    "            if i==\"I\":\n",
    "                scoresheet.pop()\n",
    "            if i==\"D\":\n",
    "                temp=scoresheet[len(scoresheet)-1]\n",
    "                scoresheet.append(temp*2)\n",
    "            else:\n",
    "                if i==\"+\":\n",
    "                    temp1=scoresheet[len(scoresheet)-1]\n",
    "                    temp2=scoresheet[len(scoresheet)-2]    \n",
    "                    scoresheet.append(temp1+temp2)\n",
    "                if i==\"-\":\n",
    "                    temp1=scoresheet[len(scoresheet)-1]\n",
    "                    temp2=scoresheet[len(scoresheet)-2]    \n",
    "                    scoresheet.append(temp2-temp1)\n",
    "                if i==\"*\":\n",
    "                    temp1=scoresheet[len(scoresheet)-1]\n",
    "                    temp2=scoresheet[len(scoresheet)-2]    \n",
    "                    scoresheet.append(temp2*temp1)\n",
    "                if i==\"/\":\n",
    "                    temp1=scoresheet[len(scoresheet)-1]\n",
    "                    temp2=scoresheet[len(scoresheet)-2]    \n",
    "                    scoresheet.append(int(temp2/temp1))\n",
    "                if i==\"%\":\n",
    "                    temp1=scoresheet[len(scoresheet)-1]\n",
    "                    temp2=scoresheet[len(scoresheet)-2]    \n",
    "                    scoresheet.append(temp2%temp1)\n",
    "    return sum(scoresheet)\n",
    "print(calculate_points([\"5\",\"-2\",\"4\",\"I\",\"D\",\"9\",\"+\",\"/\"]))\n",
    "print(calculate_points([\"5\",\"2\",\"I\",\"D\",\"+\"]))"
   ]
  },
  {
   "cell_type": "markdown",
   "id": "df9318b4",
   "metadata": {},
   "source": [
    "# Question 7"
   ]
  },
  {
   "cell_type": "code",
   "execution_count": 7,
   "id": "170b1eca",
   "metadata": {},
   "outputs": [
    {
     "name": "stdout",
     "output_type": "stream",
     "text": [
      "True\n",
      "6 2 3 4 \n",
      "3 5 9 12 15 \n",
      "6 2 3 4 9 12 15 "
     ]
    }
   ],
   "source": [
    "class Node:\n",
    "    def __init__(self,num,next = None):\n",
    "        self.num = num\n",
    "        self.next = next\n",
    "        \n",
    "class Linked_List():\n",
    "    \n",
    "    def __init__(self,next = None):\n",
    "        self.head = None\n",
    "        self.next = next\n",
    "        \n",
    "    def Insert( self , element , position):\n",
    "        if self.head is None:\n",
    "            new_node = Node(element)\n",
    "            self.head = new_node\n",
    "        elif position != 0:\n",
    "            current = self.head\n",
    "            for i in range(0,position):\n",
    "                if current != None:\n",
    "                    prev = current\n",
    "                    current = prev.next       \n",
    "            new_node = Node(element)\n",
    "            new_node.next = prev.next\n",
    "            prev.next = new_node\n",
    "        else:\n",
    "            new_node = Node(element)\n",
    "            new_node.next = self.head\n",
    "            self. head = new_node\n",
    "            \n",
    "            \n",
    "    def Delete(self , element):\n",
    "        if self.head.num == element:\n",
    "            self.head = self.head.next \n",
    "        else:\n",
    "            current = self.head\n",
    "            while current != None:\n",
    "                if current.next.num == element:\n",
    "                    break\n",
    "                current = current.next\n",
    "            current.next = current.next.next\n",
    "            \n",
    "        \n",
    "    def Update(self , search_element , replace_element):\n",
    "        current = self.head\n",
    "        while current != None:\n",
    "            if current.num == search_element:\n",
    "                current.num = replace_element\n",
    "                current = current.next\n",
    "            else:\n",
    "                current = current.next\n",
    "    \n",
    "    def Search(self , element):\n",
    "        current = self.head\n",
    "        while current != None:\n",
    "            if current.num == element:\n",
    "                return True\n",
    "            else:\n",
    "                current = current.next\n",
    "        else: \n",
    "            return False\n",
    "    \n",
    "    \n",
    "    def merge_linkedlists(self , Linkedlist):\n",
    "        lst1 = self.head\n",
    "        lst2 = Linkedlist.head\n",
    "        sorted_list = Linked_List()\n",
    "        temp = sorted_list\n",
    "        while lst1 and lst2:\n",
    "            if lst1.num < lst2.num:\n",
    "                temp.next = lst1\n",
    "                lst1 = lst1.next\n",
    "            else:\n",
    "                temp.next = lst2\n",
    "                lst2 = lst2.next\n",
    "            temp = temp.next    \n",
    "        if lst1:\n",
    "            temp.next = lst1\n",
    "        elif lst2:\n",
    "            temp.next = lst2\n",
    "    \n",
    "        return sorted_list.next\n",
    "            \n",
    "    \n",
    "    def Print(self):\n",
    "        temp = self.head\n",
    "        while (temp):\n",
    "            print(temp.num,end=\" \")\n",
    "            temp = temp.next\n",
    "\n",
    "if __name__ == '__main__':\n",
    "    lst = Linked_List()\n",
    "    lst.Insert(1,0)\n",
    "    lst.Insert(5,1)\n",
    "    lst.Insert(4,1)\n",
    "    lst.Insert(2,1)\n",
    "    lst.Insert(3,2)\n",
    "    lst.Delete(5)\n",
    "    lst.Update(1,6)\n",
    "    result = (lst.Search(3))\n",
    "    lst.merge_linkedlists\n",
    "    print(result)\n",
    "    lst.Print()\n",
    "    \n",
    "    lst1 = Linked_List()\n",
    "    lst1.Insert(3,0)\n",
    "    lst1.Insert(15,1)\n",
    "    lst1.Insert(12,1)\n",
    "    lst1.Insert(5,1)\n",
    "    lst1.Insert(9,2)\n",
    "    print()\n",
    "    lst1.Print()\n",
    "    print()\n",
    "    lst.merge_linkedlists(lst1)\n",
    "    lst.Print()\n",
    "    \n",
    "   \n",
    "    \n",
    "    "
   ]
  },
  {
   "cell_type": "markdown",
   "id": "65243a4d",
   "metadata": {},
   "source": [
    "# Question 8"
   ]
  },
  {
   "cell_type": "code",
   "execution_count": 8,
   "id": "c5400459",
   "metadata": {},
   "outputs": [
    {
     "name": "stdout",
     "output_type": "stream",
     "text": [
      "0\n",
      "1\n"
     ]
    }
   ],
   "source": [
    "def validate_order(nums):\n",
    "    l = len(nums)\n",
    "    wait_line = []\n",
    "    ant_hill = []\n",
    "    i = 0\n",
    "    while i < len(nums):\n",
    "        if nums[i] != 1:\n",
    "            wait_line.append(nums[i])\n",
    "            nums.remove(nums[i])\n",
    "        else:\n",
    "            ant_hill.append(nums[i])\n",
    "            nums.remove(nums[i])\n",
    "            break\n",
    "    i = 0\n",
    "    while nums or wait_line:\n",
    "            if nums and nums[i] == ant_hill[-1] + 1:\n",
    "                    ant_hill.append(nums[i])\n",
    "                    nums.remove(nums[i])\n",
    "            \n",
    "            elif wait_line[-1] == ant_hill[-1] + 1 :\n",
    "                temp = wait_line.pop()\n",
    "                ant_hill.append(temp)\n",
    "            else:\n",
    "                if nums:\n",
    "                    wait_line.append(nums[i])\n",
    "                    nums.remove(nums[i])                \n",
    "                elif wait_line: \n",
    "                    if wait_line[-1] == ant_hill[-1] + 1:\n",
    "                        continue\n",
    "                    break\n",
    "    \n",
    "    if len(ant_hill) == l:\n",
    "        return 1\n",
    "    return 0\n",
    "print(validate_order([4,1,5,3,2]))\n",
    "print(validate_order([5,3,2,1,4]))"
   ]
  },
  {
   "cell_type": "code",
   "execution_count": null,
   "id": "58b057ff",
   "metadata": {},
   "outputs": [],
   "source": []
  }
 ],
 "metadata": {
  "kernelspec": {
   "display_name": "Python 3 (ipykernel)",
   "language": "python",
   "name": "python3"
  },
  "language_info": {
   "codemirror_mode": {
    "name": "ipython",
    "version": 3
   },
   "file_extension": ".py",
   "mimetype": "text/x-python",
   "name": "python",
   "nbconvert_exporter": "python",
   "pygments_lexer": "ipython3",
   "version": "3.9.12"
  }
 },
 "nbformat": 4,
 "nbformat_minor": 5
}
