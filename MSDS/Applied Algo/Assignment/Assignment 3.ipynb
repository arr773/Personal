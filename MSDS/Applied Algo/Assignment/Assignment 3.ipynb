{
 "cells": [
  {
   "cell_type": "markdown",
   "id": "e5582f11",
   "metadata": {},
   "source": [
    "# Question 1"
   ]
  },
  {
   "cell_type": "code",
   "execution_count": 258,
   "id": "4a3f31e8",
   "metadata": {},
   "outputs": [
    {
     "name": "stdout",
     "output_type": "stream",
     "text": [
      "[1, 3, 4]\n",
      "[3, 3, 4]\n"
     ]
    }
   ],
   "source": [
    "def output(s,i,out):\n",
    "    i=int(i[1:])-1\n",
    "    try:\n",
    "        out[s[i]]+=1\n",
    "    except:\n",
    "        out=output(s,s[i],out)\n",
    "    return out\n",
    "def commands_count(s):\n",
    "    out={\"cp\":0,\"ls\":0,\"mv\":0}\n",
    "    for i in range(len(s)):\n",
    "        if s[i]==\"ls\":\n",
    "            out[s[i]]+=1\n",
    "            continue\n",
    "        if s[i]==\"cp\":\n",
    "            out[s[i]]+=1\n",
    "            continue\n",
    "        if s[i]==\"mv\":\n",
    "            out[s[i]]+=1\n",
    "            continue\n",
    "        else:\n",
    "            out=output(s,s[i],out)\n",
    "    return list(out.values())\n",
    "print(commands_count([\"ls\",\"cp\",\"mv\",\"mv\",\"mv\",\"!1\",\"!3\",\"!6\"]))\n",
    "print(commands_count ([\"ls\", \"cp\", \"mv\", \"!1\", \"!3\", \"!2\", \"ls\", \"cp\",\"!5\",\"!9\"]))"
   ]
  },
  {
   "cell_type": "markdown",
   "id": "516aa6e6",
   "metadata": {},
   "source": [
    "# Question 3"
   ]
  },
  {
   "cell_type": "code",
   "execution_count": 259,
   "id": "c823d66a",
   "metadata": {},
   "outputs": [
    {
     "name": "stdout",
     "output_type": "stream",
     "text": [
      "You\n",
      "\n",
      "Are\n",
      "Hello\n",
      "How\n",
      "You\n",
      "\n",
      "\n",
      "\n",
      "You\n",
      "\n",
      "Are\n",
      "Hello\n",
      "You\n",
      "\n"
     ]
    }
   ],
   "source": [
    "from random import randint\n",
    "\n",
    "class Node:  \n",
    "    def __init__(self, height = 0, elem = None):\n",
    "        self.elem = elem\n",
    "        self.next = [None]*height\n",
    "\n",
    "class LookUpSkipList:\n",
    "\n",
    "    def __init__(self,p):\n",
    "        self.head = Node()\n",
    "        self.len = 0\n",
    "        self.height = 0\n",
    "        self.p=p\n",
    "        \n",
    "    def Height(self):\n",
    "        height = 1\n",
    "        while randint(0,1) > self.p:\n",
    "            height += 1\n",
    "        return height\n",
    "\n",
    "    def find(self, elem, update = None):\n",
    "        if update == None:\n",
    "            update = self.updateList(elem)\n",
    "        if len(update) > 0:\n",
    "            item = update[0].next[0]\n",
    "            if item != None and item.elem == elem:\n",
    "                return item\n",
    "        return None\n",
    "\n",
    "    def update(self, elem):\n",
    "        update = [None]*self.height\n",
    "        p = self.head\n",
    "        for i in reversed(range(self.height)):\n",
    "            while p.next[i] != None and p.next[i].elem < elem:\n",
    "                p = p.next[i]\n",
    "            update[i] = p\n",
    "        return update\n",
    "        \n",
    "    def insert(self, elem):\n",
    "\n",
    "        node = Node(self.Height(), elem)\n",
    "\n",
    "        self.height = max(self.height, len(node.next))\n",
    "        while len(self.head.next) < len(node.next):\n",
    "            self.head.next.append(None)\n",
    "\n",
    "        update = self.update(elem)            \n",
    "        if self.find(elem, update) == None:\n",
    "            for i in range(len(node.next)):\n",
    "                node.next[i] = update[i].next[i]\n",
    "                update[i].next[i] = node\n",
    "            self.len += 1\n",
    "\n",
    "    def delete(self, elem):\n",
    "        update = self.update(elem)\n",
    "        p = self.find(elem, update)\n",
    "        if p != None:\n",
    "            for i in reversed(range(len(p.next))):\n",
    "                update[i].next[i] = p.next[i]\n",
    "                if self.head.next[i] == None:\n",
    "                    self.height -= 1\n",
    "            self.len -= 1            \n",
    "                \n",
    "    def print(self):\n",
    "        for i in range(len(self.head.next)-1, -1, -1):\n",
    "            p = self.head\n",
    "            while p.next[i] != None:\n",
    "                print (p.next[i].elem)\n",
    "                p = p.next[i]\n",
    "            print ('')\n",
    "\n",
    "lis=LookUpSkipList(0.6)\n",
    "input_=sorted([\"Hello\",\"How\",\"Are\",\"You\"])\n",
    "for i in input_:\n",
    "    lis.insert(i)\n",
    "lis.print()\n",
    "print()\n",
    "print()\n",
    "lis.delete(\"How\")\n",
    "lis.print()"
   ]
  },
  {
   "cell_type": "markdown",
   "id": "04847b14",
   "metadata": {},
   "source": [
    "# Question 4"
   ]
  },
  {
   "cell_type": "code",
   "execution_count": 260,
   "id": "2a7be576",
   "metadata": {},
   "outputs": [
    {
     "name": "stdout",
     "output_type": "stream",
     "text": [
      "Apple\n",
      "Orange\n"
     ]
    }
   ],
   "source": [
    "def predict_winner(s):\n",
    "    A=0\n",
    "    O=0\n",
    "    for i in s:\n",
    "        if i==\"A\":\n",
    "            A+=1\n",
    "            if A>=1:\n",
    "                O-=1\n",
    "        if i==\"O\":\n",
    "            O+=1\n",
    "            if O>=1:\n",
    "                A-=1\n",
    "    if A>O:\n",
    "        return \"Apple\"\n",
    "    elif O>A:\n",
    "        return \"Orange\"\n",
    "    else:\n",
    "        if s[A]==\"A\":\n",
    "            return \"Apple\"\n",
    "        else:\n",
    "            return \"Orange\"\n",
    "        \n",
    "        \n",
    "print(predict_winner(\"AAAAOOOOOO\"))\n",
    "print(predict_winner(\"OOOOAAAAA\"))"
   ]
  },
  {
   "cell_type": "code",
   "execution_count": null,
   "id": "d256bf25",
   "metadata": {},
   "outputs": [],
   "source": []
  }
 ],
 "metadata": {
  "kernelspec": {
   "display_name": "Python 3 (ipykernel)",
   "language": "python",
   "name": "python3"
  },
  "language_info": {
   "codemirror_mode": {
    "name": "ipython",
    "version": 3
   },
   "file_extension": ".py",
   "mimetype": "text/x-python",
   "name": "python",
   "nbconvert_exporter": "python",
   "pygments_lexer": "ipython3",
   "version": "3.9.12"
  }
 },
 "nbformat": 4,
 "nbformat_minor": 5
}
