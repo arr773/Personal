{
 "cells": [
  {
   "cell_type": "markdown",
   "id": "9730deb9",
   "metadata": {},
   "source": [
    "# Question 1"
   ]
  },
  {
   "cell_type": "code",
   "execution_count": 4,
   "id": "2e226049",
   "metadata": {},
   "outputs": [
    {
     "name": "stdout",
     "output_type": "stream",
     "text": [
      "0 : []\n",
      "1 : []\n",
      "2 : [12, 23, 24, 42]\n",
      "\n",
      "\n",
      "0 : [11]\n",
      "1 : []\n",
      "2 : [12, 23, 24, 42]\n",
      "\n",
      "\n",
      "0 : []\n",
      "1 : [11, 74]\n",
      "2 : [12, 23, 24, 42]\n",
      "3 : []\n",
      "\n",
      "\n",
      "level  1\n",
      "level  -1\n"
     ]
    }
   ],
   "source": [
    "class amor_dict:\n",
    "    def __init__(self,num_list):\n",
    "        self.d={}\n",
    "        for i in num_list:\n",
    "            self.insert(i)\n",
    "\n",
    "    def insert(self, num):\n",
    "        try:\n",
    "            if self.d[0]==[]:\n",
    "                self.d[0]=[num]\n",
    "                return\n",
    "        except:\n",
    "            self.d[0]=[num]\n",
    "            return\n",
    "        i=0\n",
    "        temp=[num]\n",
    "        self.d[len(self.d.keys())]=[]\n",
    "\n",
    "        while(len(self.d[i])==2**i):\n",
    "            for j in self.d[i]:\n",
    "                temp.append(j)\n",
    "            self.d[i]=[]\n",
    "            i+=1\n",
    "        temp.sort()\n",
    "        self.d[i]=temp\n",
    "        return\n",
    "\n",
    "    def search(self,num):\n",
    "        level=-1\n",
    "        for i in self.d.keys():\n",
    "            if num in self.d[i]:\n",
    "                level=i\n",
    "        print(\"level \",level)\n",
    "    \n",
    "    def print(self):\n",
    "        for i in self.d.keys():\n",
    "            print(i,\":\",self.d[i])\n",
    "        print(\"\\n\")\n",
    "\n",
    "ad_obj=amor_dict([23,12,24,42])\n",
    "ad_obj.print()\n",
    "ad_obj.insert(11)\n",
    "ad_obj.print()\n",
    "ad_obj.insert(74)\n",
    "ad_obj.print()\n",
    "ad_obj.search(74)\n",
    "ad_obj.search(77)"
   ]
  },
  {
   "cell_type": "markdown",
   "id": "b6c610d9",
   "metadata": {},
   "source": [
    "# Question 2"
   ]
  },
  {
   "cell_type": "code",
   "execution_count": 5,
   "id": "dcbf150f",
   "metadata": {},
   "outputs": [
    {
     "data": {
      "text/plain": [
       "'1211'"
      ]
     },
     "execution_count": 5,
     "metadata": {},
     "output_type": "execute_result"
    }
   ],
   "source": [
    "def count_digit_string(n):\n",
    "    return count_(n,\"1\")\n",
    "\n",
    "def count_(n,string):\n",
    "    if n==1:\n",
    "        return string\n",
    "    else:\n",
    "        count=1\n",
    "        count_string=\"\"\n",
    "        j=1\n",
    "        string=string+\" \"\n",
    "        while j<len(string):\n",
    "            if string[j]!=string[j-1]:\n",
    "                count_string=count_string+str(count)\n",
    "                count_string=count_string+string[j-1]\n",
    "                count=1\n",
    "            else:\n",
    "                count+=1\n",
    "            j+=1\n",
    "        string = count_string\n",
    "        return(count_(n-1,string))\n",
    "    \n",
    "count_digit_string(4)"
   ]
  },
  {
   "cell_type": "code",
   "execution_count": null,
   "id": "14c83746",
   "metadata": {},
   "outputs": [],
   "source": []
  }
 ],
 "metadata": {
  "kernelspec": {
   "display_name": "Python 3 (ipykernel)",
   "language": "python",
   "name": "python3"
  },
  "language_info": {
   "codemirror_mode": {
    "name": "ipython",
    "version": 3
   },
   "file_extension": ".py",
   "mimetype": "text/x-python",
   "name": "python",
   "nbconvert_exporter": "python",
   "pygments_lexer": "ipython3",
   "version": "3.9.12"
  }
 },
 "nbformat": 4,
 "nbformat_minor": 5
}
