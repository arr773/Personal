{
 "cells": [
  {
   "cell_type": "markdown",
   "id": "7a3a7bc8",
   "metadata": {},
   "source": [
    "# Question 1"
   ]
  },
  {
   "cell_type": "code",
   "execution_count": 1,
   "id": "378ac4b4",
   "metadata": {},
   "outputs": [
    {
     "data": {
      "text/plain": [
       "[['oranges', 'dogs', 'apples', 'cats'], ['peach', 'mango']]"
      ]
     },
     "execution_count": 1,
     "metadata": {},
     "output_type": "execute_result"
    }
   ],
   "source": [
    "def get_combined_list(syn_list):\n",
    "    l=[]\n",
    "    def dfs(source,temp):\n",
    "        padosi=graph[source]\n",
    "        vis[source]=1\n",
    "        temp.append(source)\n",
    "        for node in padosi:\n",
    "            if vis[node]==0:\n",
    "                dfs(node,temp)\n",
    "    def create_graph(arr):\n",
    "        x=[]\n",
    "        vis={}\n",
    "        for i in arr:\n",
    "            for j in range(len(i)):\n",
    "                for k in range(len(i)):\n",
    "                    if j!=k:\n",
    "                        x.append([i[j],i[k]])\n",
    "            graph_dict={}\n",
    "        for i,j in x:\n",
    "            try:\n",
    "                graph_dict[i].append(j)\n",
    "            except:\n",
    "                graph_dict[i]=[j]\n",
    "            if i not in vis:\n",
    "                vis[i]=0\n",
    "        return graph_dict,vis\n",
    "    graph,vis=create_graph(syn_list) \n",
    "    for i in vis.keys():\n",
    "        if vis[i]==0:\n",
    "            temp=[]\n",
    "            dfs(i,temp)\n",
    "            l.append(temp)\n",
    "    return l\n",
    "\n",
    "syn_list=[[\"oranges\",\"dogs\",\"apples\"],[\"peach\",\"mango\"],[\"dogs\",\"cats\"]]\n",
    "get_combined_list(syn_list)"
   ]
  },
  {
   "cell_type": "markdown",
   "id": "5e1d50a0",
   "metadata": {},
   "source": [
    "# Question 2"
   ]
  },
  {
   "cell_type": "code",
   "execution_count": 2,
   "id": "9cce7de1",
   "metadata": {},
   "outputs": [
    {
     "name": "stdout",
     "output_type": "stream",
     "text": [
      "[(30, 40), (5, 10)]\n",
      "[]\n"
     ]
    }
   ],
   "source": [
    "def SymmetricPairs(Array_Pairs:list[list]):\n",
    "    hashmap={}\n",
    "    final=[]\n",
    "    for i in Array_Pairs:\n",
    "        try:\n",
    "            hashmap[i[0]].append(i[1])\n",
    "        except:\n",
    "            hashmap[i[0]]=[i[1]]\n",
    "    for i in Array_Pairs:\n",
    "        if i[1] in hashmap.keys():\n",
    "            if i[0] in hashmap[i[1]]:\n",
    "                if (i[1],i[0]) not in final:\n",
    "                    final.append((i[0],i[1]))\n",
    "                \n",
    "    return final\n",
    "print(SymmetricPairs([[11,20],[30,40],[5,10],[40,30],[10,5]]))\n",
    "print(SymmetricPairs([[11,20],[40,30],[10,5]]))"
   ]
  },
  {
   "cell_type": "markdown",
   "id": "5d8db7ff",
   "metadata": {},
   "source": [
    "# Question 3"
   ]
  },
  {
   "cell_type": "code",
   "execution_count": 3,
   "id": "9daad70f",
   "metadata": {},
   "outputs": [
    {
     "data": {
      "text/plain": [
       "[4, 2]"
      ]
     },
     "execution_count": 3,
     "metadata": {},
     "output_type": "execute_result"
    }
   ],
   "source": [
    "def custom_dict(queries,values):\n",
    "    \n",
    "    def Add(key_k,val_v):\n",
    "        d[key_k - keys] = val_v - value\n",
    "    def Add_to_keys(keys,diff):\n",
    "        keys+=diff[0]\n",
    "        return keys\n",
    "    def Add_to_vals(value,diff):\n",
    "        value=value+diff[0]\n",
    "        return value\n",
    "    def Return(key_k):\n",
    "        return d[key_k[0]-keys]+value\n",
    "    d={}\n",
    "    keys=0\n",
    "    value=0\n",
    "    l=[]\n",
    "    for i in range(len(queries)):\n",
    "        if queries[i]==\"Add\":\n",
    "            Add(values[i][0],values[i][1])\n",
    "        elif queries[i]==\"Add_to_keys\":\n",
    "            keys=Add_to_keys(keys,values[i])\n",
    "        elif queries[i]==\"Add_to_vals\":\n",
    "            value=Add_to_vals(value,values[i])\n",
    "        elif queries[i]==\"Return\":\n",
    "            l.append(Return(values[i]))\n",
    "        else:\n",
    "            continue\n",
    "    return l\n",
    "queries=[\"Add\",\"Add_to_vals\",\"Return\",\"Add\",\"Add_to_keys\",\"Add_to_vals\",\"Return\"]\n",
    "values=[[1,2],[2],[1],[2,3],[1],[-1],[3]]\n",
    "custom_dict(queries,values)"
   ]
  },
  {
   "cell_type": "markdown",
   "id": "54757e9d",
   "metadata": {},
   "source": [
    "# Question 4"
   ]
  },
  {
   "cell_type": "code",
   "execution_count": 4,
   "id": "97bf7088",
   "metadata": {},
   "outputs": [
    {
     "name": "stdout",
     "output_type": "stream",
     "text": [
      "['London', 'Medellin', 'Sao Paulo', 'Prague', 'Berlin', 'Ladakh', 'Nice']\n",
      "[]\n"
     ]
    }
   ],
   "source": [
    "def get_travel_plan(cities,priorities):\n",
    "    d={}\n",
    "    l=[]\n",
    "    for i,j in priorities:\n",
    "        d[i]=j\n",
    "    for i,j in d.items():\n",
    "        if j in d.keys():\n",
    "            if d[j]==i:\n",
    "                return []  \n",
    "    for i in d.keys():\n",
    "        if l==[]:\n",
    "            l.append(i)\n",
    "        if i not in l:\n",
    "            l.append(i)\n",
    "        l.append(d[i])\n",
    "    for i in cities:\n",
    "        if i not in l:\n",
    "            l.append(i)\n",
    "    return l\n",
    "\n",
    "\n",
    "cities=[\"London\",\"Berlin\",\"Medellin\",\"Sao Paulo\",\"Prague\",\"Ladakh\",\"Nice\"]\n",
    "priorities=[(\"London\",\"Medellin\"),(\"Medellin\",\"Sao Paulo\"),(\"Prague\",\"Berlin\")]\n",
    "print(get_travel_plan(cities,priorities))\n",
    "cities=[\"New york\",\"Honolulu\"]\n",
    "priorities=[(\"New york\",\"Honolulu\"),(\"Honolulu\",\"New york\")]\n",
    "print(get_travel_plan(cities,priorities))\n"
   ]
  },
  {
   "cell_type": "code",
   "execution_count": null,
   "id": "35a8c2bc",
   "metadata": {},
   "outputs": [],
   "source": []
  }
 ],
 "metadata": {
  "kernelspec": {
   "display_name": "Python 3 (ipykernel)",
   "language": "python",
   "name": "python3"
  },
  "language_info": {
   "codemirror_mode": {
    "name": "ipython",
    "version": 3
   },
   "file_extension": ".py",
   "mimetype": "text/x-python",
   "name": "python",
   "nbconvert_exporter": "python",
   "pygments_lexer": "ipython3",
   "version": "3.9.13"
  }
 },
 "nbformat": 4,
 "nbformat_minor": 5
}
