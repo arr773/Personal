{
 "cells": [
  {
   "cell_type": "markdown",
   "id": "62dac0e5",
   "metadata": {},
   "source": [
    "# Question 1"
   ]
  },
  {
   "cell_type": "code",
   "execution_count": 1,
   "id": "42aeac8c",
   "metadata": {},
   "outputs": [
    {
     "name": "stdout",
     "output_type": "stream",
     "text": [
      "4\n",
      "1\n"
     ]
    }
   ],
   "source": [
    "def min_ones(n):\n",
    "    arr=[]\n",
    "    for i in range(n+1):\n",
    "        arr.append(i)\n",
    "    for i in range(3,n+1):\n",
    "        temp=str(i)\n",
    "        for j in range(1,(i+1)%2):\n",
    "            arr[i]=min(arr[i],arr[i-j],arr[j])\n",
    "        for j in range(2,(i+1)%2):\n",
    "            if i%j==0:\n",
    "                arr[i]=min(arr[i],arr[i%j]+arr[j])\n",
    "        for l in range(1,len(temp)):\n",
    "            a=temp[:l]\n",
    "            b=temp[l:]\n",
    "            if a[0]=='0' or b[0]=='0':\n",
    "                continue\n",
    "            else:\n",
    "                x=int(a)\n",
    "                y=int(b)\n",
    "                arr[i]=min(arr[i],arr[x]+arr[y])\n",
    "    return arr[n]\n",
    "\n",
    "print(min_ones(22)) \n",
    "print(min_ones(1))"
   ]
  },
  {
   "cell_type": "markdown",
   "id": "9a23a364",
   "metadata": {},
   "source": [
    "# Question 2"
   ]
  },
  {
   "cell_type": "code",
   "execution_count": 2,
   "id": "28035615",
   "metadata": {},
   "outputs": [
    {
     "name": "stdout",
     "output_type": "stream",
     "text": [
      "4\n",
      "2\n"
     ]
    }
   ],
   "source": [
    "def max_steps(grid) :\n",
    "    m=0\n",
    "    for i in range(len(grid)):\n",
    "        for j in range(len(grid[0])):\n",
    "            m=max(m,new_max_steps(i,j,grid))\n",
    "    return m\n",
    "\n",
    "def new_max_steps(x,y,grid):\n",
    "    movement=[(0,1),(0,-1),(1,0),(-1,0)]\n",
    "    count=0\n",
    "    for i in movement:\n",
    "        newx=x+i[0]\n",
    "        newy=y+i[1]\n",
    "        if (0<=newx<len(grid) and 0<=newy<len(grid[0]) and grid[x][y]<grid[newx][newy]):\n",
    "            temp=new_max_steps(newx,newy, grid)\n",
    "            count=max(count+1,temp)\n",
    "    return count\n",
    "\n",
    "\n",
    "print(max_steps([['t','o','y'],['c','a','t'],['t','o','p']]))\n",
    "print(max_steps([['d','b'],['c','a']]))"
   ]
  },
  {
   "cell_type": "markdown",
   "id": "db3ccd90",
   "metadata": {},
   "source": [
    "# Question 3"
   ]
  },
  {
   "cell_type": "code",
   "execution_count": 3,
   "id": "abdd2367",
   "metadata": {},
   "outputs": [
    {
     "name": "stdout",
     "output_type": "stream",
     "text": [
      "12\n"
     ]
    }
   ],
   "source": [
    "def get_max_coconuts(nums):\n",
    "    arr=[[0,nums[0]]]\n",
    "    for i in range(len(nums)-1):\n",
    "        arr.append([0,0])\n",
    "    for i in range(1,len(nums)):\n",
    "        arr[i][1] = nums[i]+arr[i-1][0]\n",
    "        arr[i][0] = max(arr[i - 1])\n",
    "    return max(arr[len(nums) - 1])\n",
    "print(get_max_coconuts([2,7,9,3,1]))"
   ]
  },
  {
   "cell_type": "markdown",
   "id": "eb5c8722",
   "metadata": {},
   "source": [
    "# Question 4"
   ]
  },
  {
   "cell_type": "code",
   "execution_count": 4,
   "id": "3a8833f9",
   "metadata": {},
   "outputs": [
    {
     "name": "stdout",
     "output_type": "stream",
     "text": [
      "[[1, 5], [7, 5]]\n"
     ]
    }
   ],
   "source": [
    "def subset_divisible(A,target):\n",
    "    sub=[]\n",
    "    i=0\n",
    "    calc(A,sub,i,target)\n",
    "def calc(A,sub,index,target):\n",
    "    temp=0\n",
    "    new_sub=[]\n",
    "    for i in sub:\n",
    "        temp+=i\n",
    "        new_sub.append(i)\n",
    "    if temp!=0 and temp%target==0:\n",
    "        ans.append(new_sub)\n",
    "    for i in range(index,len(A)):\n",
    "        sub.append(A[i])\n",
    "        (calc(A,sub,i+1,target))\n",
    "        sub.pop(-1)\n",
    "    return \n",
    "ans=[]\n",
    "subset_divisible([3,1,7,5],6)\n",
    "print(ans)"
   ]
  },
  {
   "cell_type": "markdown",
   "id": "754a53a9",
   "metadata": {},
   "source": [
    "# Question 5"
   ]
  },
  {
   "cell_type": "code",
   "execution_count": 5,
   "id": "61ce4f25",
   "metadata": {},
   "outputs": [
    {
     "name": "stdout",
     "output_type": "stream",
     "text": [
      "4\n"
     ]
    }
   ],
   "source": [
    "def get_max_sbstr(s,c1,c2):\n",
    "    arr=[c1+s,s+c2]\n",
    "    maxs=[0,0]\n",
    "    for i in range(len(s)+1):\n",
    "        if arr[0][i]==c1:\n",
    "            maxs[0]+=s[i:].count(c2)\n",
    "        if arr[1][i]==c2:\n",
    "            maxs[1]+=s[:i].count(c1)\n",
    "    print(max(maxs))\n",
    "get_max_sbstr(\"bcedecd\",\"b\",\"d\")"
   ]
  },
  {
   "cell_type": "markdown",
   "id": "22fdcb21",
   "metadata": {},
   "source": [
    "# Question 6"
   ]
  },
  {
   "cell_type": "code",
   "execution_count": 6,
   "id": "e339b27c",
   "metadata": {},
   "outputs": [
    {
     "name": "stdout",
     "output_type": "stream",
     "text": [
      "13\n",
      "4\n"
     ]
    }
   ],
   "source": [
    "def num_password(digit_list):\n",
    "    arr=[1]\n",
    "    for i in range(len(digit_list)):\n",
    "        arr.append(0)\n",
    "    d={}\n",
    "    for i in range(len(digit_list)):\n",
    "        arr[i+1] = arr[i]*2\n",
    "        k = digit_list[i]\n",
    "        if k in d.keys():\n",
    "            j = d.get(k)\n",
    "            arr[i+1] = arr[i+1] - arr[j-1]\n",
    "        d[k] = i+1\n",
    "    return arr[len(digit_list)]-1\n",
    "print(num_password([1,2,1,3]))\n",
    "print(num_password([9,9,9,9]))"
   ]
  },
  {
   "cell_type": "code",
   "execution_count": null,
   "id": "ed3f1f48",
   "metadata": {},
   "outputs": [],
   "source": []
  }
 ],
 "metadata": {
  "kernelspec": {
   "display_name": "Python 3 (ipykernel)",
   "language": "python",
   "name": "python3"
  },
  "language_info": {
   "codemirror_mode": {
    "name": "ipython",
    "version": 3
   },
   "file_extension": ".py",
   "mimetype": "text/x-python",
   "name": "python",
   "nbconvert_exporter": "python",
   "pygments_lexer": "ipython3",
   "version": "3.9.12"
  }
 },
 "nbformat": 4,
 "nbformat_minor": 5
}
