{
 "cells": [
  {
   "cell_type": "markdown",
   "id": "7f29e34d",
   "metadata": {},
   "source": [
    "# Question 1"
   ]
  },
  {
   "cell_type": "code",
   "execution_count": 1,
   "id": "7431cb48",
   "metadata": {},
   "outputs": [
    {
     "name": "stdout",
     "output_type": "stream",
     "text": [
      "1\n",
      "0\n"
     ]
    }
   ],
   "source": [
    "def additional_seats(k,h):\n",
    "    incoming=[]\n",
    "    outgoing=[]\n",
    "    for i in h:\n",
    "        incoming.append(i[0])\n",
    "        outgoing.append(i[1])\n",
    "    count=0\n",
    "    m=0\n",
    "    for i in range(min(incoming),max(outgoing)):\n",
    "        if i in incoming:\n",
    "            count+=incoming.count(i)\n",
    "        if i in outgoing:\n",
    "            count-=outgoing.count(i)\n",
    "        if m<count:\n",
    "            m=count\n",
    "    return max((m-k),0)\n",
    "print(additional_seats(2,[[0,2],[1,2],[0,3],[2,3]]))\n",
    "print(additional_seats(3,[[8,10],[2,4],[7,11]]))"
   ]
  },
  {
   "cell_type": "markdown",
   "id": "a03a296b",
   "metadata": {},
   "source": [
    "# Question 2"
   ]
  },
  {
   "cell_type": "code",
   "execution_count": 2,
   "id": "224df442",
   "metadata": {},
   "outputs": [
    {
     "name": "stdout",
     "output_type": "stream",
     "text": [
      "(4, 6)\n",
      "(4, 7)\n"
     ]
    }
   ],
   "source": [
    "def minimum_range(lists):\n",
    "    mi=min(min(lists[0]),min(lists[1]),min(lists[2]),min(lists[3]))\n",
    "    ma=max(max(lists[0]),max(lists[1]),max(lists[2]),max(lists[3]))\n",
    "    sub=ma-mi\n",
    "    a=0\n",
    "    b=0\n",
    "    c=0\n",
    "    d=0\n",
    "    l=[]\n",
    "    for i in lists:\n",
    "        l.append(len(i))\n",
    "    while a<l[0] and b<l[1] and c<l[2] and d<l[3]:\n",
    "        low=min(lists[0][a], lists[1][b], lists[2][c],lists[3][d])\n",
    "        high=max(lists[0][a], lists[1][b], lists[2][c],lists[3][d])\n",
    "        if sub>high-low:\n",
    "            tup=(low,high)\n",
    "            sub=high-low\n",
    "        if lists[0][a]==low:\n",
    "            a+=1\n",
    "        elif lists[1][b]==low:\n",
    "            b+=1\n",
    "        elif lists[2][c]==low:\n",
    "            c+=1\n",
    "        elif lists[3][d]==low:\n",
    "            d+=1\n",
    "        else:\n",
    "            break\n",
    "    return tup\n",
    "print(minimum_range([[3,6,8,10,15],[1,5,12],[4,8,15,16],[2,6]]))\n",
    "print(minimum_range([[2,3,4,8,10,15],[1,5,12],[7,8,15,16],[3,6]]))"
   ]
  },
  {
   "cell_type": "markdown",
   "id": "e2d20b24",
   "metadata": {},
   "source": [
    "# Question 3"
   ]
  },
  {
   "cell_type": "code",
   "execution_count": 7,
   "id": "7491ecaa",
   "metadata": {},
   "outputs": [
    {
     "name": "stdout",
     "output_type": "stream",
     "text": [
      "aabc  is the answer to the code  10110\n",
      "abac  is the answer to the code  10110\n",
      "abbc  is not the answer to the code  10110\n"
     ]
    }
   ],
   "source": [
    "import heapq as hp\n",
    "\n",
    "def helper(st):\n",
    "    f = {}\n",
    "    heap = []\n",
    "    for i in st:\n",
    "        try:\n",
    "            f[i] += 1\n",
    "        except:\n",
    "            f[i] = 1\n",
    "    for i in f.keys():\n",
    "        heap.append([f[i],[i,'']])\n",
    "    return heap\n",
    "\n",
    "def encode(s):\n",
    "    freq = {}\n",
    "    heap = helper(s)\n",
    "    hp.heapify(heap)\n",
    "    final=\"\"\n",
    "    while len(heap)>1:\n",
    "        l = hp.heappop(heap)\n",
    "        r = hp.heappop(heap)\n",
    "        for i in l[1:]:\n",
    "            i[1] = '0' + i[1]\n",
    "            freq[i[0]] = i[1]\n",
    "        for i in r[1:]:\n",
    "            i[1] = '1' + i[1]\n",
    "            freq[i[0]] = i[1]\n",
    "        hp.heappush(heap, [l[0] + r[0]] + l[1:] + r[1:])\n",
    "    for item in freq.keys():\n",
    "        final += freq[item]\n",
    "    \n",
    "    result = (final,freq)\n",
    "    return result\n",
    "def decode(s,code):\n",
    "    if code==encode(s):\n",
    "        print(s,\" is the answer to the code \",code[0])\n",
    "    else:\n",
    "        print(s,\" is not the answer to the code \",code[0])\n",
    "\n",
    "en=encode('aabc')\n",
    "decode('aabc',en)\n",
    "decode('abbc',en)"
   ]
  },
  {
   "cell_type": "markdown",
   "id": "94ec8bfd",
   "metadata": {},
   "source": [
    "# Question 4"
   ]
  },
  {
   "cell_type": "code",
   "execution_count": 4,
   "id": "a188ba4c",
   "metadata": {},
   "outputs": [
    {
     "name": "stdout",
     "output_type": "stream",
     "text": [
      "7\n",
      "6\n"
     ]
    }
   ],
   "source": [
    "def max_moves(nums: list)->int:\n",
    "    return int(min(sum(nums)/2,sum(nums)-max(nums)))\n",
    "print(max_moves([4,4,6]))\n",
    "print(max_moves([2,4,6]))"
   ]
  }
 ],
 "metadata": {
  "kernelspec": {
   "display_name": "Python 3 (ipykernel)",
   "language": "python",
   "name": "python3"
  },
  "language_info": {
   "codemirror_mode": {
    "name": "ipython",
    "version": 3
   },
   "file_extension": ".py",
   "mimetype": "text/x-python",
   "name": "python",
   "nbconvert_exporter": "python",
   "pygments_lexer": "ipython3",
   "version": "3.9.13"
  }
 },
 "nbformat": 4,
 "nbformat_minor": 5
}
