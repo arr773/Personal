{
 "cells": [
  {
   "cell_type": "code",
   "execution_count": 40,
   "id": "27d47c61",
   "metadata": {},
   "outputs": [
    {
     "name": "stdout",
     "output_type": "stream",
     "text": [
      "Given list:  [1, 2, 3, 4, 5]\n",
      "Updated list after rotating by  3  positions: [4, 5, 1, 2, 3]\n"
     ]
    }
   ],
   "source": [
    "def rotate_array(num_list,p):\n",
    "    print(\"Given list: \",num_list)\n",
    "    new_list=[]\n",
    "    for i in range(len(num_list)-p):\n",
    "        new_list.append(num_list[i+p])\n",
    "    j=0\n",
    "    q=p\n",
    "    while(q>0):\n",
    "        q=q-1\n",
    "        new_list.append(num_list[j])\n",
    "        j=j+1        \n",
    "        \n",
    "    \n",
    "        \n",
    "    print(\"Updated list after rotating by \" ,p, \" positions:\",new_list)\n",
    "    return\n",
    "\n",
    "rotate_array([1,2,3,4,5],3)"
   ]
  },
  {
   "cell_type": "code",
   "execution_count": null,
   "id": "bade959b",
   "metadata": {},
   "outputs": [],
   "source": []
  }
 ],
 "metadata": {
  "kernelspec": {
   "display_name": "Python 3 (ipykernel)",
   "language": "python",
   "name": "python3"
  },
  "language_info": {
   "codemirror_mode": {
    "name": "ipython",
    "version": 3
   },
   "file_extension": ".py",
   "mimetype": "text/x-python",
   "name": "python",
   "nbconvert_exporter": "python",
   "pygments_lexer": "ipython3",
   "version": "3.9.12"
  }
 },
 "nbformat": 4,
 "nbformat_minor": 5
}
