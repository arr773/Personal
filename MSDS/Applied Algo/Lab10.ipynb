{
 "cells": [
  {
   "cell_type": "code",
   "execution_count": 3,
   "id": "139e27d2",
   "metadata": {},
   "outputs": [
    {
     "name": "stdout",
     "output_type": "stream",
     "text": [
      "0 1 2 3 4 "
     ]
    }
   ],
   "source": [
    "def BFS(V, graph_l, node): \n",
    "    V.append(node)\n",
    "    Q.append(node)\n",
    "    while Q:       \n",
    "        m = Q.pop(0) \n",
    "        print (m, end=' ') \n",
    "        for N in graph_l[m]:\n",
    "            if N not in V:\n",
    "                V.append(N)\n",
    "                Q.append(N)\n",
    "                \n",
    "def mat_list(mat):\n",
    "    graph_l = {}\n",
    "    for i, node in enumerate(mat):\n",
    "        adj_l = []\n",
    "        for j, edge in enumerate(node):\n",
    "            if edge:\n",
    "                adj_l.append(str(j))\n",
    "        graph_l[str(i)] = adj_l\n",
    "    return graph_l\n",
    "                \n",
    "graph1 = [[0, 1, 1, 1, 0],\n",
    "[1, 0, 0, 0, 0],\n",
    "[1, 0, 0, 0, 1],\n",
    "[1, 0, 0, 0, 0],\n",
    "[0, 0, 1, 0, 0]]\n",
    "graph_l = mat_list(graph1)\n",
    "\n",
    "V = [] \n",
    "Q = []\n",
    "\n",
    "BFS(V,graph_l,'0')"
   ]
  },
  {
   "cell_type": "code",
   "execution_count": null,
   "id": "6cbf2304",
   "metadata": {},
   "outputs": [],
   "source": []
  }
 ],
 "metadata": {
  "kernelspec": {
   "display_name": "Python 3 (ipykernel)",
   "language": "python",
   "name": "python3"
  },
  "language_info": {
   "codemirror_mode": {
    "name": "ipython",
    "version": 3
   },
   "file_extension": ".py",
   "mimetype": "text/x-python",
   "name": "python",
   "nbconvert_exporter": "python",
   "pygments_lexer": "ipython3",
   "version": "3.9.13"
  }
 },
 "nbformat": 4,
 "nbformat_minor": 5
}
