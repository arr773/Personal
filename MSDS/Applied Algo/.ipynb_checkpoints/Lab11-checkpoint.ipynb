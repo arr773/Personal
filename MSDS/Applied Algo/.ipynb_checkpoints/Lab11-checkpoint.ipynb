{
 "cells": [
  {
   "cell_type": "code",
   "execution_count": 2,
   "id": "3a2f3f02",
   "metadata": {},
   "outputs": [
    {
     "data": {
      "text/plain": [
       "2"
      ]
     },
     "execution_count": 2,
     "metadata": {},
     "output_type": "execute_result"
    }
   ],
   "source": [
    "def get_shortest_path_cost(A,s,t):\n",
    "    start = s\n",
    "    dist = [10000] * len(A)\n",
    "    dist[start] = 0\n",
    "    List = []\n",
    "#     for i in range(len(A)):\n",
    "#         List.append(i)\n",
    "    for u in range(len(A)):\n",
    "        for v in range(len(A)):\n",
    "            if A[u][v] != 0:\n",
    "#                 print(dist[v],dist[u]+A[u][v])\n",
    "                dist[v]=min(dist[v],dist[u]+A[u][v])                    \n",
    "    return(dist[t])\n",
    "A=[ [0,0,0,0,0,0],\n",
    "    [0,0,0,0,0,0],\n",
    "    [0,0,0,1,0,0],\n",
    "    [0,0,1,0,0,1],\n",
    "    [0,0,0,0,0,0],\n",
    "    [0,0,0,1,0,0]]\n",
    "s=3\n",
    "t=6\n",
    "get_shortest_path_cost(A,s-1,t-1)"
   ]
  },
  {
   "cell_type": "code",
   "execution_count": null,
   "id": "f7201d55",
   "metadata": {},
   "outputs": [],
   "source": []
  }
 ],
 "metadata": {
  "kernelspec": {
   "display_name": "Python 3 (ipykernel)",
   "language": "python",
   "name": "python3"
  },
  "language_info": {
   "codemirror_mode": {
    "name": "ipython",
    "version": 3
   },
   "file_extension": ".py",
   "mimetype": "text/x-python",
   "name": "python",
   "nbconvert_exporter": "python",
   "pygments_lexer": "ipython3",
   "version": "3.9.13"
  }
 },
 "nbformat": 4,
 "nbformat_minor": 5
}
