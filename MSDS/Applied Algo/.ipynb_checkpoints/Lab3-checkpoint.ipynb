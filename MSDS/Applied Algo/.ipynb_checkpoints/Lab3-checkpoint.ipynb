{
 "cells": [
  {
   "cell_type": "code",
   "execution_count": 34,
   "id": "efb5a384",
   "metadata": {},
   "outputs": [
    {
     "name": "stdout",
     "output_type": "stream",
     "text": [
      "{\n"
     ]
    },
    {
     "data": {
      "text/plain": [
       "True"
      ]
     },
     "execution_count": 34,
     "metadata": {},
     "output_type": "execute_result"
    }
   ],
   "source": [
    "def is_valid_parantheses(s):\n",
    "    stack1=[]\n",
    "    stack2=[]\n",
    "    stack3=[]\n",
    "    for i in s:\n",
    "        if i==\"(\":\n",
    "            stack1.append(i)\n",
    "\n",
    "        elif i==\")\":\n",
    "            if stack1==[]:\n",
    "                return False\n",
    "            pop=stack1.pop()\n",
    "            if pop==\"(\"or\")\":\n",
    "                print(pop)\n",
    "                continue\n",
    "            else:\n",
    "                return False\n",
    "\n",
    "        if i==\"{\":\n",
    "            stack1.append(i)\n",
    "\n",
    "        elif i==\"}\":\n",
    "            if stack1==[]:\n",
    "                return False\n",
    "            pop=stack1.pop()\n",
    "            if pop==\"{\"or\"}\":\n",
    "                continue\n",
    "            else:\n",
    "                return False\n",
    "\n",
    "        if i==\"[\":\n",
    "            stack1.append(i)\n",
    "\n",
    "        elif i==\"]\":\n",
    "            if stack1==[]:\n",
    "                return False\n",
    "            pop=stack1.pop()\n",
    "            if pop==\"[\"or\"]\":\n",
    "                continue\n",
    "            else:\n",
    "                return False\n",
    "\n",
    "    if stack1==stack2==stack3==[]:\n",
    "        return True\n",
    "    else:\n",
    "        return False\n",
    "\n",
    "is_valid_parantheses(\"({)}\")"
   ]
  },
  {
   "cell_type": "code",
   "execution_count": 57,
   "id": "fb4d61a9",
   "metadata": {},
   "outputs": [
    {
     "data": {
      "text/plain": [
       "False"
      ]
     },
     "execution_count": 57,
     "metadata": {},
     "output_type": "execute_result"
    }
   ],
   "source": [
    "def parantheses(s):\n",
    "    for i in range(len(s)):\n",
    "        if s[i]==\"(\":\n",
    "            if i+1!=len(s):\n",
    "                if s[i+1]==\")\":\n",
    "                    continue\n",
    "                else:\n",
    "                    return False\n",
    "        if s[i]==\"{\":\n",
    "            if i+1!=len(s):\n",
    "                if s[i+1]==\"}\":\n",
    "                    continue\n",
    "                else:\n",
    "                    return False\n",
    "        if s[i]==\"[\":\n",
    "            if i+1!=len(s):\n",
    "                if s[i+1]==\"]\":\n",
    "                    continue\n",
    "                else:\n",
    "                    return False\n",
    "    if(s[len(s)-1])==\"(\"or\"{\"or\"[\" :\n",
    "        return False\n",
    "    return True\n",
    "        \n",
    "parantheses(\"(){}\")"
   ]
  },
  {
   "cell_type": "code",
   "execution_count": 58,
   "id": "1ee41488",
   "metadata": {},
   "outputs": [
    {
     "ename": "NameError",
     "evalue": "name 'push' is not defined",
     "output_type": "error",
     "traceback": [
      "\u001b[1;31m---------------------------------------------------------------------------\u001b[0m",
      "\u001b[1;31mNameError\u001b[0m                                 Traceback (most recent call last)",
      "Input \u001b[1;32mIn [58]\u001b[0m, in \u001b[0;36m<cell line: 40>\u001b[1;34m()\u001b[0m\n\u001b[0;32m     38\u001b[0m             \u001b[38;5;28;01mreturn\u001b[39;00m \u001b[38;5;28;01mFalse\u001b[39;00m\n\u001b[0;32m     40\u001b[0m \u001b[38;5;28;01mif\u001b[39;00m \u001b[38;5;18m__name__\u001b[39m \u001b[38;5;241m==\u001b[39m \u001b[38;5;124m\"\u001b[39m\u001b[38;5;124m__main__\u001b[39m\u001b[38;5;124m\"\u001b[39m:\n\u001b[1;32m---> 41\u001b[0m         \u001b[43mpush\u001b[49m()\n\u001b[0;32m     42\u001b[0m         top()\n\u001b[0;32m     43\u001b[0m         pop()\n",
      "\u001b[1;31mNameError\u001b[0m: name 'push' is not defined"
     ]
    }
   ],
   "source": [
    "class Stack:\n",
    "    \n",
    "    def __init__(self,string):\n",
    "        self.s = string\n",
    "        self.main_func()\n",
    "        \n",
    "    def push(self):\n",
    "        stack = []\n",
    "        for char in self.s:\n",
    "            if char in [\"(\",\"{\",\"[\"]:\n",
    "                stack.append(char)\n",
    "            else:\n",
    "                if not stack:\n",
    "                    return False\n",
    "        return stack\n",
    "    \n",
    "    def top(self):\n",
    "        item = self.push().pop()\n",
    "        return item\n",
    "    \n",
    "    def pop(self):\n",
    "        item = self.top()\n",
    "        for char in self.s:\n",
    "            if item == '(':\n",
    "                if char != ')':\n",
    "                    return False\n",
    "\n",
    "            if item == '{':\n",
    "                if char != '}':\n",
    "                    return False\n",
    "\n",
    "            if item == '[':\n",
    "                if char != ']':\n",
    "                    return False\n",
    "            \n",
    "    def Is_empty(self):\n",
    "        if self.push():\n",
    "            return False\n",
    "    \n",
    "def __name__ == \"__main__\":\n",
    "        push()\n",
    "        top()\n",
    "        pop()\n",
    "        Is_empty()\n",
    "        \n",
    "\n",
    " "
   ]
  },
  {
   "cell_type": "code",
   "execution_count": null,
   "id": "50b0bf2f",
   "metadata": {},
   "outputs": [],
   "source": []
  }
 ],
 "metadata": {
  "kernelspec": {
   "display_name": "Python 3 (ipykernel)",
   "language": "python",
   "name": "python3"
  },
  "language_info": {
   "codemirror_mode": {
    "name": "ipython",
    "version": 3
   },
   "file_extension": ".py",
   "mimetype": "text/x-python",
   "name": "python",
   "nbconvert_exporter": "python",
   "pygments_lexer": "ipython3",
   "version": "3.9.12"
  }
 },
 "nbformat": 4,
 "nbformat_minor": 5
}
