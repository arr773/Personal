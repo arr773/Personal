{
 "cells": [
  {
   "cell_type": "code",
   "execution_count": 4,
   "id": "6546ecb1",
   "metadata": {},
   "outputs": [
    {
     "data": {
      "text/plain": [
       "False"
      ]
     },
     "execution_count": 4,
     "metadata": {},
     "output_type": "execute_result"
    }
   ],
   "source": [
    "def can_take_course(c,n):\n",
    "    if len(c)==1:\n",
    "        if c[0]==n:\n",
    "            return True\n",
    "        return False\n",
    "    add=0\n",
    "    i=0\n",
    "    while(add<n):\n",
    "        add=add+c[i]\n",
    "        i+=1\n",
    "#     print (add)\n",
    "    if add==n:\n",
    "        return True\n",
    "    else:\n",
    "        return can_take_course(c[1:],n)\n",
    "can_take_course([2,4,6,8],7)"
   ]
  },
  {
   "cell_type": "code",
   "execution_count": null,
   "id": "1902cad5",
   "metadata": {},
   "outputs": [],
   "source": []
  }
 ],
 "metadata": {
  "kernelspec": {
   "display_name": "Python 3 (ipykernel)",
   "language": "python",
   "name": "python3"
  },
  "language_info": {
   "codemirror_mode": {
    "name": "ipython",
    "version": 3
   },
   "file_extension": ".py",
   "mimetype": "text/x-python",
   "name": "python",
   "nbconvert_exporter": "python",
   "pygments_lexer": "ipython3",
   "version": "3.9.12"
  }
 },
 "nbformat": 4,
 "nbformat_minor": 5
}
