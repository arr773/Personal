{
 "cells": [
  {
   "cell_type": "code",
   "execution_count": 44,
   "id": "ebb983a0",
   "metadata": {},
   "outputs": [
    {
     "name": "stdout",
     "output_type": "stream",
     "text": [
      "Square root is :  3\n",
      "Query list is: [[70, 78, 69], [96, 19, 68], [54, 60]]\n",
      "[78, 69, 19]\n",
      "Min Number is ;  19\n"
     ]
    }
   ],
   "source": [
    "nums = [70, 78, 69, 96, 19, 68, 54, 60]\n",
    "N = len(nums)\n",
    "sq_rt = round(N ** 0.5)\n",
    "print(\"Square root is : \",sq_rt)\n",
    "\n",
    "split_lists = [nums[i:i+sq_rt] for i in range(0,len(nums),sq_rt)]\n",
    "print(\"Query list is:\",split_lists)\n",
    "\n",
    "min_ele_list = []\n",
    "for x in range(len(split_lists)):\n",
    "    min_in_query_lists = min(split_lists[x])\n",
    "    min_ele_list.append(min_in_query_lists)\n",
    "# print(\"Min element is \",min_ele_list)\n",
    "    \n",
    "i = 1\n",
    "j = 5\n",
    "\n",
    "final_list = []\n",
    "\n",
    "while (i<=j):\n",
    "#     print(split_lists)\n",
    "    if (i % sq_rt) == 0:\n",
    "        pos = i // sq_rt\n",
    "#         print(i,sq_rt,pos)\n",
    "        min_num = min(split_lists[pos])\n",
    "#         print(min_num)\n",
    "        final_list.append(min_num)\n",
    "        i = i + sq_rt\n",
    "    else:\n",
    "        final_list.append(nums[i])\n",
    "        i = i + 1\n",
    "\n",
    "print(final_list)\n",
    "m = min(final_list)\n",
    "print(\"Min Number is ; \",m)"
   ]
  },
  {
   "cell_type": "code",
   "execution_count": null,
   "id": "dfd57ee5",
   "metadata": {},
   "outputs": [],
   "source": []
  }
 ],
 "metadata": {
  "kernelspec": {
   "display_name": "Python 3 (ipykernel)",
   "language": "python",
   "name": "python3"
  },
  "language_info": {
   "codemirror_mode": {
    "name": "ipython",
    "version": 3
   },
   "file_extension": ".py",
   "mimetype": "text/x-python",
   "name": "python",
   "nbconvert_exporter": "python",
   "pygments_lexer": "ipython3",
   "version": "3.9.12"
  }
 },
 "nbformat": 4,
 "nbformat_minor": 5
}
