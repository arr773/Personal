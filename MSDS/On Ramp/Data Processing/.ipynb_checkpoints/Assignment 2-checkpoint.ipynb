{
 "cells": [
  {
   "cell_type": "code",
   "execution_count": 1,
   "id": "ed4cbff7",
   "metadata": {},
   "outputs": [],
   "source": [
    "import numpy as np\n",
    "import pandas as pd"
   ]
  },
  {
   "cell_type": "markdown",
   "id": "7bef5f3e",
   "metadata": {},
   "source": [
    "# Task 1"
   ]
  },
  {
   "cell_type": "code",
   "execution_count": 2,
   "id": "c3c8316a",
   "metadata": {},
   "outputs": [
    {
     "name": "stdout",
     "output_type": "stream",
     "text": [
      "[2, 3]\n",
      "[2 3]\n"
     ]
    }
   ],
   "source": [
    "li=[1,2,3,4,5]\n",
    "ni=np.array([1,2,3,4,5])\n",
    "print(li[1:3])\n",
    "print(ni[1:3])"
   ]
  },
  {
   "cell_type": "code",
   "execution_count": 3,
   "id": "6aad3e7e",
   "metadata": {},
   "outputs": [],
   "source": [
    "cast=np.array([[\"kate winslet\",\"Leo di caprio\",\"Billy Zane\",\"Kathy Bates\"],\n",
    "               [\"Leo di caprio\",\"Toby Maguire\",\"Carry Mulligan\",\"Joel Edgerton\"],\n",
    "               [\"Toby Maguire\",\"Kirsten Dunst\",\"Willem Dafoe\",\"James Franco\"]])\n",
    "movie=np.array([[\"Titanic\",\"Titanic\",\"Titanic\",\"Titanic\"],\n",
    "                [\"The Great Gatsby\",\"The Great Gatsby\",\"The Great Gatsby\",\"The Great Gatsby\"],\n",
    "                [\"Spiderman\",\"Spiderman\",\"Spiderman\",\"Spiderman\"]])"
   ]
  },
  {
   "cell_type": "code",
   "execution_count": 4,
   "id": "ef4a90db",
   "metadata": {},
   "outputs": [
    {
     "name": "stdout",
     "output_type": "stream",
     "text": [
      "[[False False False False]\n",
      " [False False False False]\n",
      " [ True  True  True  True]]\n",
      "['Toby Maguire' 'Kirsten Dunst' 'Willem Dafoe' 'James Franco']\n"
     ]
    }
   ],
   "source": [
    "print(movie==\"Spiderman\")\n",
    "selected_movie=cast[movie==\"Spiderman\"]\n",
    "print(selected_movie)"
   ]
  },
  {
   "cell_type": "code",
   "execution_count": 5,
   "id": "80e7ba09",
   "metadata": {},
   "outputs": [],
   "source": [
    "np.savez('test.npz',cast=cast , movie = movie , selected_movie = selected_movie)"
   ]
  },
  {
   "cell_type": "code",
   "execution_count": 6,
   "id": "fbdc15d1",
   "metadata": {},
   "outputs": [
    {
     "name": "stdout",
     "output_type": "stream",
     "text": [
      "cast\n",
      "movie\n",
      "selected_movie\n",
      "[['kate winslet' 'Leo di caprio' 'Billy Zane' 'Kathy Bates']\n",
      " ['Leo di caprio' 'Toby Maguire' 'Carry Mulligan' 'Joel Edgerton']\n",
      " ['Toby Maguire' 'Kirsten Dunst' 'Willem Dafoe' 'James Franco']]\n",
      "[['Titanic' 'Titanic' 'Titanic' 'Titanic']\n",
      " ['The Great Gatsby' 'The Great Gatsby' 'The Great Gatsby'\n",
      "  'The Great Gatsby']\n",
      " ['Spiderman' 'Spiderman' 'Spiderman' 'Spiderman']]\n",
      "['Toby Maguire' 'Kirsten Dunst' 'Willem Dafoe' 'James Franco']\n"
     ]
    }
   ],
   "source": [
    "data=np.load(\"test.npz\")\n",
    "for i in data:\n",
    "    print(i)\n",
    "cast_new=data[\"cast\"]\n",
    "movies_new=data[\"movie\"]\n",
    "selected_movie_new=data[\"selected_movie\"]\n",
    "print(cast_new)\n",
    "print(movies_new)\n",
    "print(selected_movie_new)"
   ]
  },
  {
   "cell_type": "markdown",
   "id": "d393325c",
   "metadata": {},
   "source": [
    "# Task 2"
   ]
  },
  {
   "cell_type": "code",
   "execution_count": 7,
   "id": "99257348",
   "metadata": {},
   "outputs": [],
   "source": [
    "cars=pd.Series([\"M5\",\"GLS\",\"Creta\",\"Explorer\",\"Cruise\",\"MKZ\",\"Charger\"],index=[\"BMW\",\"Mercedes\",\"Hyundai\",\"Ford\",\"Chevrolet\",\"Lincoln\",\"Dodge\"])"
   ]
  },
  {
   "cell_type": "code",
   "execution_count": 8,
   "id": "8de89594",
   "metadata": {},
   "outputs": [
    {
     "data": {
      "text/plain": [
       "Hyundai      Creta\n",
       "Dodge      Charger\n",
       "dtype: object"
      ]
     },
     "execution_count": 8,
     "metadata": {},
     "output_type": "execute_result"
    }
   ],
   "source": [
    "cars[cars.str.contains('a')]"
   ]
  },
  {
   "cell_type": "code",
   "execution_count": 9,
   "id": "bf0c74c0",
   "metadata": {},
   "outputs": [],
   "source": [
    "cars.index.name = \"manufacturer\""
   ]
  },
  {
   "cell_type": "code",
   "execution_count": 10,
   "id": "63ce312c",
   "metadata": {},
   "outputs": [
    {
     "data": {
      "text/plain": [
       "manufacturer\n",
       "BMW                M5\n",
       "Mercedes          GLS\n",
       "Hyundai         Creta\n",
       "Ford         Explorer\n",
       "Chevrolet      Cruise\n",
       "Lincoln           MKZ\n",
       "Dodge         Charger\n",
       "dtype: object"
      ]
     },
     "execution_count": 10,
     "metadata": {},
     "output_type": "execute_result"
    }
   ],
   "source": [
    "cars"
   ]
  },
  {
   "cell_type": "markdown",
   "id": "a2ce18ec",
   "metadata": {},
   "source": [
    "# Task 3"
   ]
  },
  {
   "cell_type": "code",
   "execution_count": 11,
   "id": "9d0feca4",
   "metadata": {},
   "outputs": [
    {
     "data": {
      "text/html": [
       "<div>\n",
       "<style scoped>\n",
       "    .dataframe tbody tr th:only-of-type {\n",
       "        vertical-align: middle;\n",
       "    }\n",
       "\n",
       "    .dataframe tbody tr th {\n",
       "        vertical-align: top;\n",
       "    }\n",
       "\n",
       "    .dataframe thead th {\n",
       "        text-align: right;\n",
       "    }\n",
       "</style>\n",
       "<table border=\"1\" class=\"dataframe\">\n",
       "  <thead>\n",
       "    <tr style=\"text-align: right;\">\n",
       "      <th></th>\n",
       "      <th>Fruits</th>\n",
       "      <th>Number_of_seeds</th>\n",
       "      <th>Edible</th>\n",
       "      <th>Season</th>\n",
       "      <th>Color</th>\n",
       "    </tr>\n",
       "  </thead>\n",
       "  <tbody>\n",
       "    <tr>\n",
       "      <th>0</th>\n",
       "      <td>Banana</td>\n",
       "      <td>2</td>\n",
       "      <td>True</td>\n",
       "      <td>fall</td>\n",
       "      <td>Unknown</td>\n",
       "    </tr>\n",
       "    <tr>\n",
       "      <th>1</th>\n",
       "      <td>Apple</td>\n",
       "      <td>5</td>\n",
       "      <td>True</td>\n",
       "      <td>spring</td>\n",
       "      <td>Unknown</td>\n",
       "    </tr>\n",
       "    <tr>\n",
       "      <th>2</th>\n",
       "      <td>Guava</td>\n",
       "      <td>1</td>\n",
       "      <td>False</td>\n",
       "      <td>fall</td>\n",
       "      <td>Unknown</td>\n",
       "    </tr>\n",
       "    <tr>\n",
       "      <th>3</th>\n",
       "      <td>Pineapple</td>\n",
       "      <td>4</td>\n",
       "      <td>True</td>\n",
       "      <td>spring</td>\n",
       "      <td>Unknown</td>\n",
       "    </tr>\n",
       "    <tr>\n",
       "      <th>4</th>\n",
       "      <td>Litchi</td>\n",
       "      <td>1</td>\n",
       "      <td>False</td>\n",
       "      <td>Summer</td>\n",
       "      <td>Unknown</td>\n",
       "    </tr>\n",
       "  </tbody>\n",
       "</table>\n",
       "</div>"
      ],
      "text/plain": [
       "      Fruits  Number_of_seeds Edible  Season    Color\n",
       "0     Banana                2   True    fall  Unknown\n",
       "1      Apple                5   True  spring  Unknown\n",
       "2      Guava                1  False    fall  Unknown\n",
       "3  Pineapple                4   True  spring  Unknown\n",
       "4     Litchi                1  False  Summer  Unknown"
      ]
     },
     "execution_count": 11,
     "metadata": {},
     "output_type": "execute_result"
    }
   ],
   "source": [
    "fruit=[[\"Banana\",2,\"True\",\"fall\"],[\"Apple\",5,\"True\",\"spring\"],[\"Guava\",1,\"False\",\"fall\"],[\"Pineapple\",4,\"True\",\"spring\"],[\"Litchi\",1,\"False\",\"Summer\"]]\n",
    "fruit=pd.DataFrame(fruit,columns=['Fruits',\"Number_of_seeds\",\"Edible\",\"Season\"])\n",
    "fruit['Color']=np.nan\n",
    "fruit['Color']='Unknown'\n",
    "fruit"
   ]
  },
  {
   "cell_type": "code",
   "execution_count": 12,
   "id": "5f4556f7",
   "metadata": {},
   "outputs": [
    {
     "data": {
      "text/html": [
       "<div>\n",
       "<style scoped>\n",
       "    .dataframe tbody tr th:only-of-type {\n",
       "        vertical-align: middle;\n",
       "    }\n",
       "\n",
       "    .dataframe tbody tr th {\n",
       "        vertical-align: top;\n",
       "    }\n",
       "\n",
       "    .dataframe thead th {\n",
       "        text-align: right;\n",
       "    }\n",
       "</style>\n",
       "<table border=\"1\" class=\"dataframe\">\n",
       "  <thead>\n",
       "    <tr style=\"text-align: right;\">\n",
       "      <th></th>\n",
       "      <th>Fruits</th>\n",
       "      <th>Number_of_seeds</th>\n",
       "    </tr>\n",
       "  </thead>\n",
       "  <tbody>\n",
       "    <tr>\n",
       "      <th>0</th>\n",
       "      <td>Banana</td>\n",
       "      <td>2</td>\n",
       "    </tr>\n",
       "    <tr>\n",
       "      <th>1</th>\n",
       "      <td>Apple</td>\n",
       "      <td>5</td>\n",
       "    </tr>\n",
       "  </tbody>\n",
       "</table>\n",
       "</div>"
      ],
      "text/plain": [
       "   Fruits  Number_of_seeds\n",
       "0  Banana                2\n",
       "1   Apple                5"
      ]
     },
     "execution_count": 12,
     "metadata": {},
     "output_type": "execute_result"
    }
   ],
   "source": [
    "fruit.iloc[0:2,0:2]"
   ]
  },
  {
   "cell_type": "code",
   "execution_count": 13,
   "id": "958890cc",
   "metadata": {},
   "outputs": [
    {
     "data": {
      "text/plain": [
       "Number_of_seeds    13\n",
       "dtype: int64"
      ]
     },
     "execution_count": 13,
     "metadata": {},
     "output_type": "execute_result"
    }
   ],
   "source": [
    "def seed_count_calculator(seed):\n",
    "    s=0\n",
    "    for i in seed:\n",
    "        s+=i\n",
    "    return s \n",
    "\n",
    "fruit[['Number_of_seeds']].apply(seed_count_calculator,axis='rows')"
   ]
  },
  {
   "cell_type": "code",
   "execution_count": 14,
   "id": "e711eeb9",
   "metadata": {},
   "outputs": [
    {
     "data": {
      "text/html": [
       "<div>\n",
       "<style scoped>\n",
       "    .dataframe tbody tr th:only-of-type {\n",
       "        vertical-align: middle;\n",
       "    }\n",
       "\n",
       "    .dataframe tbody tr th {\n",
       "        vertical-align: top;\n",
       "    }\n",
       "\n",
       "    .dataframe thead th {\n",
       "        text-align: right;\n",
       "    }\n",
       "</style>\n",
       "<table border=\"1\" class=\"dataframe\">\n",
       "  <thead>\n",
       "    <tr style=\"text-align: right;\">\n",
       "      <th></th>\n",
       "      <th>Fruits</th>\n",
       "      <th>Number_of_seeds</th>\n",
       "      <th>Edible</th>\n",
       "      <th>Season</th>\n",
       "      <th>Color</th>\n",
       "    </tr>\n",
       "  </thead>\n",
       "  <tbody>\n",
       "    <tr>\n",
       "      <th>1</th>\n",
       "      <td>Apple</td>\n",
       "      <td>5</td>\n",
       "      <td>True</td>\n",
       "      <td>spring</td>\n",
       "      <td>Unknown</td>\n",
       "    </tr>\n",
       "    <tr>\n",
       "      <th>0</th>\n",
       "      <td>Banana</td>\n",
       "      <td>2</td>\n",
       "      <td>True</td>\n",
       "      <td>fall</td>\n",
       "      <td>Unknown</td>\n",
       "    </tr>\n",
       "    <tr>\n",
       "      <th>2</th>\n",
       "      <td>Guava</td>\n",
       "      <td>1</td>\n",
       "      <td>False</td>\n",
       "      <td>fall</td>\n",
       "      <td>Unknown</td>\n",
       "    </tr>\n",
       "    <tr>\n",
       "      <th>4</th>\n",
       "      <td>Litchi</td>\n",
       "      <td>1</td>\n",
       "      <td>False</td>\n",
       "      <td>Summer</td>\n",
       "      <td>Unknown</td>\n",
       "    </tr>\n",
       "    <tr>\n",
       "      <th>3</th>\n",
       "      <td>Pineapple</td>\n",
       "      <td>4</td>\n",
       "      <td>True</td>\n",
       "      <td>spring</td>\n",
       "      <td>Unknown</td>\n",
       "    </tr>\n",
       "  </tbody>\n",
       "</table>\n",
       "</div>"
      ],
      "text/plain": [
       "      Fruits  Number_of_seeds Edible  Season    Color\n",
       "1      Apple                5   True  spring  Unknown\n",
       "0     Banana                2   True    fall  Unknown\n",
       "2      Guava                1  False    fall  Unknown\n",
       "4     Litchi                1  False  Summer  Unknown\n",
       "3  Pineapple                4   True  spring  Unknown"
      ]
     },
     "execution_count": 14,
     "metadata": {},
     "output_type": "execute_result"
    }
   ],
   "source": [
    "fruit.sort_values(by = 'Fruits')"
   ]
  },
  {
   "cell_type": "code",
   "execution_count": 15,
   "id": "42be9bab",
   "metadata": {},
   "outputs": [
    {
     "name": "stdout",
     "output_type": "stream",
     "text": [
      "Number_of_seeds    1\n",
      "dtype: int64\n"
     ]
    },
    {
     "data": {
      "text/plain": [
       "'Apple'"
      ]
     },
     "execution_count": 15,
     "metadata": {},
     "output_type": "execute_result"
    }
   ],
   "source": [
    "m = fruit[['Number_of_seeds']].idxmax()\n",
    "print(m)\n",
    "fruit._get_value(int(m), 'Fruits')"
   ]
  },
  {
   "cell_type": "code",
   "execution_count": 16,
   "id": "677033b5",
   "metadata": {},
   "outputs": [
    {
     "data": {
      "text/html": [
       "<div>\n",
       "<style scoped>\n",
       "    .dataframe tbody tr th:only-of-type {\n",
       "        vertical-align: middle;\n",
       "    }\n",
       "\n",
       "    .dataframe tbody tr th {\n",
       "        vertical-align: top;\n",
       "    }\n",
       "\n",
       "    .dataframe thead th {\n",
       "        text-align: right;\n",
       "    }\n",
       "</style>\n",
       "<table border=\"1\" class=\"dataframe\">\n",
       "  <thead>\n",
       "    <tr style=\"text-align: right;\">\n",
       "      <th></th>\n",
       "      <th>Fruits</th>\n",
       "      <th>Number_of_seeds</th>\n",
       "      <th>Edible</th>\n",
       "      <th>Season</th>\n",
       "      <th>Color</th>\n",
       "    </tr>\n",
       "  </thead>\n",
       "  <tbody>\n",
       "    <tr>\n",
       "      <th>0</th>\n",
       "      <td>Banana</td>\n",
       "      <td>2</td>\n",
       "      <td>True</td>\n",
       "      <td>fall</td>\n",
       "      <td>Unknown</td>\n",
       "    </tr>\n",
       "    <tr>\n",
       "      <th>1</th>\n",
       "      <td>Apple</td>\n",
       "      <td>5</td>\n",
       "      <td>True</td>\n",
       "      <td>spring</td>\n",
       "      <td>Unknown</td>\n",
       "    </tr>\n",
       "    <tr>\n",
       "      <th>2</th>\n",
       "      <td>Guava</td>\n",
       "      <td>1</td>\n",
       "      <td>False</td>\n",
       "      <td>fall</td>\n",
       "      <td>Unknown</td>\n",
       "    </tr>\n",
       "    <tr>\n",
       "      <th>3</th>\n",
       "      <td>Pineapple</td>\n",
       "      <td>4</td>\n",
       "      <td>True</td>\n",
       "      <td>spring</td>\n",
       "      <td>Unknown</td>\n",
       "    </tr>\n",
       "    <tr>\n",
       "      <th>4</th>\n",
       "      <td>Litchi</td>\n",
       "      <td>1</td>\n",
       "      <td>False</td>\n",
       "      <td>Summer</td>\n",
       "      <td>Unknown</td>\n",
       "    </tr>\n",
       "  </tbody>\n",
       "</table>\n",
       "</div>"
      ],
      "text/plain": [
       "      Fruits  Number_of_seeds  Edible  Season    Color\n",
       "0     Banana                2    True    fall  Unknown\n",
       "1      Apple                5    True  spring  Unknown\n",
       "2      Guava                1   False    fall  Unknown\n",
       "3  Pineapple                4    True  spring  Unknown\n",
       "4     Litchi                1   False  Summer  Unknown"
      ]
     },
     "execution_count": 16,
     "metadata": {},
     "output_type": "execute_result"
    }
   ],
   "source": [
    "fruit.to_csv('Fruits_data.csv')\n",
    "var = pd.read_csv('Fruits_data.csv')\n",
    "var.drop(['Unnamed: 0'],axis=1)\n"
   ]
  },
  {
   "cell_type": "code",
   "execution_count": null,
   "id": "a4b1d006",
   "metadata": {},
   "outputs": [],
   "source": []
  }
 ],
 "metadata": {
  "kernelspec": {
   "display_name": "Python 3 (ipykernel)",
   "language": "python",
   "name": "python3"
  },
  "language_info": {
   "codemirror_mode": {
    "name": "ipython",
    "version": 3
   },
   "file_extension": ".py",
   "mimetype": "text/x-python",
   "name": "python",
   "nbconvert_exporter": "python",
   "pygments_lexer": "ipython3",
   "version": "3.9.13"
  }
 },
 "nbformat": 4,
 "nbformat_minor": 5
}
