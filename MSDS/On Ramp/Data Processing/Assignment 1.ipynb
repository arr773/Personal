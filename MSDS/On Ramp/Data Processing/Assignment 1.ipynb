{
 "cells": [
  {
   "cell_type": "code",
   "execution_count": 1,
   "id": "9da7cff0",
   "metadata": {},
   "outputs": [],
   "source": [
    "import numpy as np\n"
   ]
  },
  {
   "cell_type": "code",
   "execution_count": 2,
   "id": "e4d645bf",
   "metadata": {},
   "outputs": [
    {
     "name": "stdout",
     "output_type": "stream",
     "text": [
      "[12 14 16 18 20 22 24 26 28 30]\n",
      "[10 10 10 10 10 10 10 10 10 10]\n",
      "[ 11  24  39  56  75  96 119 144 171 200]\n",
      "[11.          6.          4.33333333  3.5         3.          2.66666667\n",
      "  2.42857143  2.25        2.11111111  2.        ]\n",
      "\n",
      "\n",
      "True\n",
      "10.0\n",
      "1\n",
      "True\n",
      "\n",
      "\n"
     ]
    }
   ],
   "source": [
    "#Task 1\n",
    "arr1=np.array([1,2,3,4,5,6,7,8,9,10])\n",
    "arr2=np.array([11,12,13,14,15,16,17,18,19,20])\n",
    "arr3=np.array([1,3,5,7,9])\n",
    "print(arr1+arr2)\n",
    "print(arr2-arr1)\n",
    "print(arr1*arr2)\n",
    "print(arr2/arr1)\n",
    "print(\"\\n\")\n",
    "a=\"Hello World\"\n",
    "b=10\n",
    "c=1.0\n",
    "d=True\n",
    "print(bool(a))\n",
    "print(float(b))\n",
    "print(int(c))\n",
    "print(str(d))\n",
    "print(\"\\n\")\n"
   ]
  },
  {
   "cell_type": "code",
   "execution_count": 3,
   "id": "f68de694",
   "metadata": {},
   "outputs": [
    {
     "name": "stdout",
     "output_type": "stream",
     "text": [
      "a\n",
      "b\n",
      "c\n",
      "four\n",
      "e\n",
      "f\n",
      "g\n",
      "h\n",
      "eight\n",
      "j\n",
      "\n",
      "\n"
     ]
    }
   ],
   "source": [
    "#Task 2\n",
    "arr4=np.array([\"a\",\"b\",\"c\",\"d\",\"e\",\"f\",\"g\",\"h\",\"i\",\"j\"])\n",
    "for it in arr4:\n",
    "    if it==\"d\":\n",
    "        print(\"four\")\n",
    "    elif it==\"i\":\n",
    "        print(\"eight\")\n",
    "    else:\n",
    "        print(it)\n",
    "print(\"\\n\")\n"
   ]
  },
  {
   "cell_type": "code",
   "execution_count": 4,
   "id": "51589499",
   "metadata": {},
   "outputs": [
    {
     "name": "stdout",
     "output_type": "stream",
     "text": [
      "seven\n",
      "['I', 'five', 'six']\n",
      "{'numbers': [1, 2, 3, 4, 5, 6, 7, 8, 9], 'letters': ['a', 'b', 'c', 'd', 'e', 'f'], 'words': ['Hello', 'World'], 'Sentences': ['Hi how are you', 'I am fine'], 'dates': ('1/2/23', '1/3/23'), 'times': ['1:11', '2:22', '3:33'], 'months': ['Jan', 'Feb', 'Mar']}\n",
      "\n",
      "\n"
     ]
    }
   ],
   "source": [
    "#Task 3\n",
    "tup=(\"Hello\",\"I\",\"am\",\"good\")\n",
    "lis=[\"one\",\"two\",\"three\",\"four\",\"five\",\"six\",\"seven\"]\n",
    "t1=tup[0]\n",
    "t2=tup[1]\n",
    "t3=tup[2]\n",
    "t4=tup[3]\n",
    "print(lis.pop())\n",
    "lis.append(t2)\n",
    "new_lis=lis[4:]\n",
    "new_lis.sort()\n",
    "print(new_lis)\n",
    "d={\"numbers\":[1,2,3,4,5,6,7,8,9],\"letters\":[\"a\",\"b\",\"c\",\"d\",\"e\",\"f\"],\"words\":[\"Hello\",\"World\"],\"Sentences\":[\"Hi how are you\",\"I am fine\"],\"dates\":(\"1/2/23\",\"1/3/23\"),\"times\":[\"1:11\",\"2:22\",\"3:33\"],\"months\":[\"Jan\",\"Feb\",\"Mar\"]}\n",
    "print(d)\n",
    "print(\"\\n\")"
   ]
  },
  {
   "cell_type": "code",
   "execution_count": 5,
   "id": "5d8be0c2",
   "metadata": {},
   "outputs": [
    {
     "name": "stdout",
     "output_type": "stream",
     "text": [
      "12 --> 11\n",
      "13 --> 12\n",
      "14 --> 13\n",
      "15 --> 14\n",
      "16 --> 15\n",
      "17 --> 16\n",
      "\n",
      "\n"
     ]
    }
   ],
   "source": [
    "#Task 4\n",
    "arr5=[11,12,13,14,15,16]\n",
    "for i in arr5:\n",
    "    print(i+1,\"-->\",i)\n",
    "print(\"\\n\")"
   ]
  },
  {
   "cell_type": "code",
   "execution_count": 6,
   "id": "28425c14",
   "metadata": {},
   "outputs": [
    {
     "name": "stdout",
     "output_type": "stream",
     "text": [
      "[11, 12, 13, 14, 15, 16]\n",
      "[19, 12, 13, 14, 15, 16]\n",
      "\n",
      "\n"
     ]
    }
   ],
   "source": [
    "#Task 5\n",
    "arr6=arr5.copy()\n",
    "arr6[0]=19\n",
    "print(arr5)\n",
    "print(arr6)\n",
    "print(\"\\n\")"
   ]
  },
  {
   "cell_type": "code",
   "execution_count": 7,
   "id": "aba8e8ad",
   "metadata": {},
   "outputs": [
    {
     "name": "stdout",
     "output_type": "stream",
     "text": [
      "Tuples are immutable\n",
      "\n",
      "\n"
     ]
    }
   ],
   "source": [
    "#Task 6\n",
    "tup1=(1,2,3,4,5)\n",
    "try:\n",
    "    tup1[0]=6\n",
    "except:\n",
    "    print(\"Tuples are immutable\")\n",
    "print(\"\\n\")\n"
   ]
  },
  {
   "cell_type": "code",
   "execution_count": null,
   "id": "9316ea7d",
   "metadata": {},
   "outputs": [],
   "source": []
  }
 ],
 "metadata": {
  "kernelspec": {
   "display_name": "Python 3 (ipykernel)",
   "language": "python",
   "name": "python3"
  },
  "language_info": {
   "codemirror_mode": {
    "name": "ipython",
    "version": 3
   },
   "file_extension": ".py",
   "mimetype": "text/x-python",
   "name": "python",
   "nbconvert_exporter": "python",
   "pygments_lexer": "ipython3",
   "version": "3.9.13"
  }
 },
 "nbformat": 4,
 "nbformat_minor": 5
}
