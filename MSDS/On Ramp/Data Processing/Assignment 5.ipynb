{
 "cells": [
  {
   "cell_type": "markdown",
   "id": "c04bf4ca",
   "metadata": {},
   "source": [
    "# Question 1"
   ]
  },
  {
   "cell_type": "code",
   "execution_count": 1,
   "id": "d787f0a0",
   "metadata": {},
   "outputs": [
    {
     "name": "stdout",
     "output_type": "stream",
     "text": [
      "Score = 1.000.\n"
     ]
    }
   ],
   "source": [
    "import numpy as np\n",
    "from sklearn.model_selection import cross_val_score\n",
    "bikeDataSet = np.genfromtxt('./Bike-Sharing-Dataset/hour.csv', delimiter=',')\n",
    "X = bikeDataSet[1:,2:-1]\n",
    "y = bikeDataSet[1:,-1]\n",
    "from sklearn import linear_model\n",
    "estimator = linear_model.LinearRegression()\n",
    "score = cross_val_score(estimator, X, y).mean()\n",
    "print(f\"Score = {score:.3f}.\")"
   ]
  },
  {
   "cell_type": "code",
   "execution_count": 2,
   "id": "ae3c007d",
   "metadata": {},
   "outputs": [
    {
     "name": "stdout",
     "output_type": "stream",
     "text": [
      "Score = -0.280.\n"
     ]
    }
   ],
   "source": [
    "import numpy as np\n",
    "from sklearn.model_selection import cross_val_score\n",
    "bikeDataSet = np.genfromtxt('./Bike-Sharing-Dataset/hour.csv', delimiter=',')\n",
    "𝑋=𝑛𝑝.𝑟𝑎𝑛𝑑𝑜𝑚.𝑟𝑎𝑛𝑑(𝑋.𝑠ℎ𝑎𝑝𝑒[0],4)\n",
    "y = bikeDataSet[1:,-1]\n",
    "from sklearn import linear_model\n",
    "estimator = linear_model.LinearRegression()\n",
    "score = cross_val_score(estimator, X, y).mean()\n",
    "print(f\"Score = {score:.3f}.\")"
   ]
  },
  {
   "cell_type": "code",
   "execution_count": 3,
   "id": "c46b02ba",
   "metadata": {},
   "outputs": [
    {
     "name": "stdout",
     "output_type": "stream",
     "text": [
      "Score = -0.280.\n"
     ]
    }
   ],
   "source": [
    "import numpy as np\n",
    "from sklearn.model_selection import cross_val_score\n",
    "bikeDataSet = np.genfromtxt('./Bike-Sharing-Dataset/hour.csv', delimiter=',')\n",
    "𝑋=𝑛𝑝.𝑟𝑎𝑛𝑑𝑜𝑚.𝑟𝑎𝑛𝑑(𝑋.𝑠ℎ𝑎𝑝𝑒[0],4)\n",
    "y = bikeDataSet[1:,-1]\n",
    "from sklearn import linear_model\n",
    "estimator = 𝑙𝑖𝑛𝑒𝑎𝑟_𝑚𝑜𝑑𝑒𝑙.𝐿𝑎𝑠𝑠𝑜(𝑎𝑙𝑝ℎ𝑎=0.1)\n",
    "score = cross_val_score(estimator, X, y).mean()\n",
    "print(f\"Score = {score:.3f}.\")"
   ]
  },
  {
   "cell_type": "code",
   "execution_count": 4,
   "id": "3d8b65ca",
   "metadata": {},
   "outputs": [
    {
     "name": "stdout",
     "output_type": "stream",
     "text": [
      "Score = 1.000.\n"
     ]
    }
   ],
   "source": [
    "import numpy as np\n",
    "from sklearn.model_selection import cross_val_score\n",
    "bikeDataSet = np.genfromtxt('./Bike-Sharing-Dataset/hour.csv', delimiter=',')\n",
    "X = bikeDataSet[1:,2:-1]\n",
    "y = bikeDataSet[1:,-1]\n",
    "from sklearn import linear_model\n",
    "estimator = 𝑙𝑖𝑛𝑒𝑎𝑟_𝑚𝑜𝑑𝑒𝑙.𝐿𝑎𝑠𝑠𝑜(𝑎𝑙𝑝ℎ𝑎=0.1)\n",
    "score = cross_val_score(estimator, X, y).mean()\n",
    "print(f\"Score = {score:.3f}.\")"
   ]
  },
  {
   "cell_type": "markdown",
   "id": "f675f386",
   "metadata": {},
   "source": [
    "# Question 2"
   ]
  },
  {
   "cell_type": "code",
   "execution_count": 3,
   "id": "405e964f",
   "metadata": {},
   "outputs": [
    {
     "name": "stdout",
     "output_type": "stream",
     "text": [
      "   0    4     5  6  7  8  9  10  11  12  ...  41_phf.  41_pod.  41_portsweep.  \\\n",
      "0  0  181  5450  0  0  0  0   0   1   0  ...        0        0              0   \n",
      "1  0  239   486  0  0  0  0   0   1   0  ...        0        0              0   \n",
      "2  0  235  1337  0  0  0  0   0   1   0  ...        0        0              0   \n",
      "3  0  219  1337  0  0  0  0   0   1   0  ...        0        0              0   \n",
      "4  0  217  2032  0  0  0  0   0   1   0  ...        0        0              0   \n",
      "\n",
      "   41_rootkit.  41_satan.  41_smurf.  41_spy.  41_teardrop.  41_warezclient.  \\\n",
      "0            0          0          0        0             0                0   \n",
      "1            0          0          0        0             0                0   \n",
      "2            0          0          0        0             0                0   \n",
      "3            0          0          0        0             0                0   \n",
      "4            0          0          0        0             0                0   \n",
      "\n",
      "   41_warezmaster.  \n",
      "0                0  \n",
      "1                0  \n",
      "2                0  \n",
      "3                0  \n",
      "4                0  \n",
      "\n",
      "[5 rows x 141 columns]\n",
      "494021\n",
      "One hot encoding time is 0.5821120738983154 seconds\n",
      "               0         4         5         6        7         8         9  \\\n",
      "0      -0.067792 -0.002879  0.138664 -0.006673 -0.04772 -0.002571 -0.044136   \n",
      "1      -0.067792 -0.002820 -0.011578 -0.006673 -0.04772 -0.002571 -0.044136   \n",
      "2      -0.067792 -0.002824  0.014179 -0.006673 -0.04772 -0.002571 -0.044136   \n",
      "3      -0.067792 -0.002840  0.014179 -0.006673 -0.04772 -0.002571 -0.044136   \n",
      "4      -0.067792 -0.002842  0.035214 -0.006673 -0.04772 -0.002571 -0.044136   \n",
      "...          ...       ...       ...       ...      ...       ...       ...   \n",
      "494016 -0.067792 -0.002748  0.030644 -0.006673 -0.04772 -0.002571 -0.044136   \n",
      "494017 -0.067792 -0.002776  0.042902 -0.006673 -0.04772 -0.002571 -0.044136   \n",
      "494018 -0.067792 -0.002856  0.010032 -0.006673 -0.04772 -0.002571 -0.044136   \n",
      "494019 -0.067792 -0.002767  0.010032 -0.006673 -0.04772 -0.002571 -0.044136   \n",
      "494020 -0.067792 -0.002840  0.011061 -0.006673 -0.04772 -0.002571 -0.044136   \n",
      "\n",
      "              10        11        12  ...   41_phf.   41_pod.  41_portsweep.  \\\n",
      "0      -0.009782  2.396977 -0.005679  ... -0.002846 -0.023123       -0.04593   \n",
      "1      -0.009782  2.396977 -0.005679  ... -0.002846 -0.023123       -0.04593   \n",
      "2      -0.009782  2.396977 -0.005679  ... -0.002846 -0.023123       -0.04593   \n",
      "3      -0.009782  2.396977 -0.005679  ... -0.002846 -0.023123       -0.04593   \n",
      "4      -0.009782  2.396977 -0.005679  ... -0.002846 -0.023123       -0.04593   \n",
      "...          ...       ...       ...  ...       ...       ...            ...   \n",
      "494016 -0.009782  2.396977 -0.005679  ... -0.002846 -0.023123       -0.04593   \n",
      "494017 -0.009782  2.396977 -0.005679  ... -0.002846 -0.023123       -0.04593   \n",
      "494018 -0.009782  2.396977 -0.005679  ... -0.002846 -0.023123       -0.04593   \n",
      "494019 -0.009782  2.396977 -0.005679  ... -0.002846 -0.023123       -0.04593   \n",
      "494020 -0.009782  2.396977 -0.005679  ... -0.002846 -0.023123       -0.04593   \n",
      "\n",
      "        41_rootkit.  41_satan.  41_smurf.   41_spy.  41_teardrop.  \\\n",
      "0         -0.004499  -0.056805  -1.147533 -0.002012      -0.04456   \n",
      "1         -0.004499  -0.056805  -1.147533 -0.002012      -0.04456   \n",
      "2         -0.004499  -0.056805  -1.147533 -0.002012      -0.04456   \n",
      "3         -0.004499  -0.056805  -1.147533 -0.002012      -0.04456   \n",
      "4         -0.004499  -0.056805  -1.147533 -0.002012      -0.04456   \n",
      "...             ...        ...        ...       ...           ...   \n",
      "494016    -0.004499  -0.056805  -1.147533 -0.002012      -0.04456   \n",
      "494017    -0.004499  -0.056805  -1.147533 -0.002012      -0.04456   \n",
      "494018    -0.004499  -0.056805  -1.147533 -0.002012      -0.04456   \n",
      "494019    -0.004499  -0.056805  -1.147533 -0.002012      -0.04456   \n",
      "494020    -0.004499  -0.056805  -1.147533 -0.002012      -0.04456   \n",
      "\n",
      "        41_warezclient.  41_warezmaster.  \n",
      "0             -0.045486        -0.006363  \n",
      "1             -0.045486        -0.006363  \n",
      "2             -0.045486        -0.006363  \n",
      "3             -0.045486        -0.006363  \n",
      "4             -0.045486        -0.006363  \n",
      "...                 ...              ...  \n",
      "494016        -0.045486        -0.006363  \n",
      "494017        -0.045486        -0.006363  \n",
      "494018        -0.045486        -0.006363  \n",
      "494019        -0.045486        -0.006363  \n",
      "494020        -0.045486        -0.006363  \n",
      "\n",
      "[494021 rows x 141 columns]\n",
      "Normalisation Time is 1.0734434127807617 seconds\n",
      "Time for both together is 1.6555554866790771 seconds\n"
     ]
    }
   ],
   "source": [
    "import pandas as pd\n",
    "import time\n",
    "from sklearn.preprocessing import LabelBinarizer\n",
    "bikeDataFrame=pd.read_csv( './kddcup.data_10_percent.gz', header=None )\n",
    "start_time=time.time()\n",
    "start_time1=time.time()\n",
    "# print(bikeDataFrame.head())\n",
    "# print( bikeDataFrame.dtypes )\n",
    "# bikeDataFrame[ 1 ] = bikeDataFrame[ 1 ].astype('category').cat.codes\n",
    "# print(bikeDataFrame.head())\n",
    "bikeDataFrame = pd.get_dummies(bikeDataFrame)\n",
    "print(bikeDataFrame.head())\n",
    "print(len(bikeDataFrame))\n",
    "print(\"One hot encoding time is %s seconds\" % (time.time() - start_time))\n",
    "start_time = time.time()\n",
    "bikeDataFrame_norm = (bikeDataFrame - bikeDataFrame.mean())/bikeDataFrame.std()\n",
    "print(bikeDataFrame_norm)\n",
    "print(\"Normalisation Time is %s seconds\" % (time.time() - start_time))\n",
    "print(\"Time for both together is %s seconds\" %(time.time()-start_time1))"
   ]
  },
  {
   "cell_type": "markdown",
   "id": "1081a08b",
   "metadata": {},
   "source": [
    "# Question 3"
   ]
  },
  {
   "cell_type": "code",
   "execution_count": 6,
   "id": "60a5a48a",
   "metadata": {},
   "outputs": [
    {
     "name": "stdout",
     "output_type": "stream",
     "text": [
      "Score = 0.980.\n"
     ]
    }
   ],
   "source": [
    "from sklearn import datasets\n",
    "from scipy.stats import describe\n",
    "from sklearn.svm import SVC\n",
    "alpha = 1\n",
    "# Load the dataset to X and y\n",
    "iris = datasets.load_iris()\n",
    "X = iris.data\n",
    "y = iris.target\n",
    "X = X * alpha\n",
    "estimator = SVC(kernel = 'linear')\n",
    "score = cross_val_score(estimator, X, y).mean()\n",
    "print(f\"Score = {score:.3f}.\")"
   ]
  },
  {
   "cell_type": "code",
   "execution_count": 7,
   "id": "1764fbde",
   "metadata": {},
   "outputs": [],
   "source": [
    "# highest value obtained when alpha is 1"
   ]
  }
 ],
 "metadata": {
  "kernelspec": {
   "display_name": "Python 3 (ipykernel)",
   "language": "python",
   "name": "python3"
  },
  "language_info": {
   "codemirror_mode": {
    "name": "ipython",
    "version": 3
   },
   "file_extension": ".py",
   "mimetype": "text/x-python",
   "name": "python",
   "nbconvert_exporter": "python",
   "pygments_lexer": "ipython3",
   "version": "3.9.13"
  }
 },
 "nbformat": 4,
 "nbformat_minor": 5
}
