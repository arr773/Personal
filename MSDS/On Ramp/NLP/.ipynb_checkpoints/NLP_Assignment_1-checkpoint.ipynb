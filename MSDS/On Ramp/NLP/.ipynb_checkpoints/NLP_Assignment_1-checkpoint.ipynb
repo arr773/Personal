{
 "cells": [
  {
   "cell_type": "markdown",
   "id": "cb2b0ea1",
   "metadata": {},
   "source": [
    "# Question 1"
   ]
  },
  {
   "cell_type": "code",
   "execution_count": 79,
   "id": "3656a748",
   "metadata": {},
   "outputs": [
    {
     "name": "stdout",
     "output_type": "stream",
     "text": [
      "<re.Match object; span=(1, 6), match='fried'>\n",
      "<re.Match object; span=(7, 12), match='Fired'>\n"
     ]
    }
   ],
   "source": [
    "import re\n",
    "\n",
    "text = '''\n",
    "fried\n",
    "Fired\n",
    "'''\n",
    "\n",
    "pattern = re.compile(r'[Ff][ri][ri]ed')\n",
    "\n",
    "matches = pattern.finditer(text)\n",
    "\n",
    "for match in matches:\n",
    "    print(match)"
   ]
  },
  {
   "cell_type": "markdown",
   "id": "0fa1c818",
   "metadata": {},
   "source": [
    "# Question 2"
   ]
  },
  {
   "cell_type": "code",
   "execution_count": 80,
   "id": "400a6f9e",
   "metadata": {},
   "outputs": [
    {
     "name": "stdout",
     "output_type": "stream",
     "text": [
      "<re.Match object; span=(1, 3), match='Go'>\n",
      "<re.Match object; span=(4, 9), match='Goooo'>\n",
      "<re.Match object; span=(10, 18), match='gooooooo'>\n",
      "<re.Match object; span=(19, 32), match='goGoooooooooo'>\n"
     ]
    }
   ],
   "source": [
    "import re\n",
    "\n",
    "text = '''\n",
    "Go\n",
    "Goooo\n",
    "gooooooo\n",
    "goGoooooooooo\n",
    "'''\n",
    "\n",
    "pattern = re.compile(r'[G,g]o+G?o*')\n",
    "\n",
    "matches = pattern.finditer(text)\n",
    "\n",
    "for match in matches:\n",
    "    print(match)\n"
   ]
  },
  {
   "cell_type": "markdown",
   "id": "4b6fc1c5",
   "metadata": {},
   "source": [
    "# Question 3"
   ]
  },
  {
   "cell_type": "code",
   "execution_count": 46,
   "id": "22e7d1c5",
   "metadata": {},
   "outputs": [
    {
     "name": "stdout",
     "output_type": "stream",
     "text": [
      "<re.Match object; span=(1, 9), match='Goneness'>\n",
      "<re.Match object; span=(10, 20), match='Orthogonal'>\n",
      "<re.Match object; span=(21, 31), match='snapdragon'>\n",
      "<re.Match object; span=(32, 47), match='nonantagonistic'>\n",
      "<re.Match object; span=(48, 58), match='Gonococcus'>\n",
      "<re.Match object; span=(59, 65), match='legong'>\n"
     ]
    }
   ],
   "source": [
    "import re\n",
    "\n",
    "text = '''\n",
    "Goneness\n",
    "Orthogonal\n",
    "snapdragon\n",
    "nonantagonistic\n",
    "Gonococcus\n",
    "legong\n",
    "'''\n",
    "\n",
    "pattern = re.compile(r'\\w*[Gg]on\\w*')\n",
    "\n",
    "matches = pattern.finditer(text)\n",
    "\n",
    "for match in matches:\n",
    "    print(match)"
   ]
  },
  {
   "cell_type": "markdown",
   "id": "2efc25fb",
   "metadata": {},
   "source": [
    "# Question 4"
   ]
  },
  {
   "cell_type": "code",
   "execution_count": 82,
   "id": "093865fb",
   "metadata": {},
   "outputs": [
    {
     "name": "stdout",
     "output_type": "stream",
     "text": [
      "<re.Match object; span=(1, 4), match='van'>\n",
      "<re.Match object; span=(5, 8), match='ban'>\n",
      "<re.Match object; span=(9, 12), match='man'>\n"
     ]
    }
   ],
   "source": [
    "import re\n",
    "\n",
    "text = '''\n",
    "van\n",
    "ban\n",
    "man\n",
    "can\n",
    "fan\n",
    "'''\n",
    "\n",
    "pattern = re.compile(r'[vbm]an')\n",
    "\n",
    "matches = pattern.finditer(text)\n",
    "\n",
    "for match in matches:\n",
    "    print(match)"
   ]
  },
  {
   "cell_type": "markdown",
   "id": "a93df3d9",
   "metadata": {},
   "source": [
    "# Question 5"
   ]
  },
  {
   "cell_type": "code",
   "execution_count": 83,
   "id": "ddd363c9",
   "metadata": {},
   "outputs": [
    {
     "name": "stdout",
     "output_type": "stream",
     "text": [
      "<re.Match object; span=(1, 43), match='U.S. is the greatest country in the world.'>\n",
      "<re.Match object; span=(44, 70), match='Great! Your idea is great!'>\n",
      "<re.Match object; span=(71, 101), match='Hale is greathearted and kind.'>\n"
     ]
    }
   ],
   "source": [
    "import re\n",
    "\n",
    "text = '''\n",
    "U.S. is the greatest country in the world.\n",
    "Great! Your idea is great!\n",
    "Hale is greathearted and kind.\n",
    "'''\n",
    "\n",
    "pattern = re.compile(r'[UGH].+\\sgreat\\w*.*')\n",
    "\n",
    "matches = pattern.finditer(text)\n",
    "\n",
    "for match in matches:\n",
    "    print(match)"
   ]
  },
  {
   "cell_type": "markdown",
   "id": "c3d39ea0",
   "metadata": {},
   "source": [
    "# Question 6"
   ]
  },
  {
   "cell_type": "code",
   "execution_count": 126,
   "id": "70e781c3",
   "metadata": {},
   "outputs": [
    {
     "name": "stdout",
     "output_type": "stream",
     "text": [
      "<re.Match object; span=(69, 81), match='greathearted'>\n",
      "<re.Match object; span=(83, 91), match='generous'>\n",
      "<re.Match object; span=(93, 104), match='mischievous'>\n"
     ]
    }
   ],
   "source": [
    "import re\n",
    "\n",
    "text = '''\n",
    "MayCie was an exemplary Navy wife, amazing mom and granny. \n",
    "She was greathearted, generous, mischievous and always \n",
    "ready to start (or join in) any high jinks, shenanigans or monkey business. \n",
    "Memorial contributions may be made to the Navy-Marine \n",
    "Corps Relief Society by mail 222 N.Randoldo St, #224, London, ON, PA23 6NH, Canada.\n",
    "'''\n",
    "\n",
    "#we can create a vocabulary of qualities and try to match them with MayCie\n",
    "pattern1 = re.compile(r'\\b(kind|generous|intelligent|compassionate|greathearted|hardworking|honest|reliable|diligent|determined|arrogant|stubborn|mischievous|selfish|lazy|unkind)\\b')\n",
    "matches = pattern1.finditer(text)\n",
    "\n",
    "for match in matches:\n",
    "    print(match)"
   ]
  },
  {
   "cell_type": "code",
   "execution_count": 127,
   "id": "a4c8d227",
   "metadata": {},
   "outputs": [
    {
     "name": "stdout",
     "output_type": "stream",
     "text": [
      "<re.Match object; span=(83, 91), match='generous'>\n",
      "<re.Match object; span=(93, 104), match='mischievous'>\n"
     ]
    }
   ],
   "source": [
    "pattern1 = re.compile(r'\\w*ous')\n",
    "matches = pattern1.finditer(text)\n",
    "for match in matches:\n",
    "    print(match)"
   ]
  },
  {
   "cell_type": "code",
   "execution_count": 128,
   "id": "55e9e2dc",
   "metadata": {},
   "outputs": [
    {
     "name": "stdout",
     "output_type": "stream",
     "text": [
      "<re.Match object; span=(12, 14), match='an'>\n",
      "<re.Match object; span=(48, 51), match='and'>\n",
      "<re.Match object; span=(52, 58), match='granny'>\n",
      "<re.Match object; span=(105, 108), match='and'>\n",
      "<re.Match object; span=(145, 148), match='any'>\n",
      "<re.Match object; span=(161, 172), match='shenanigans'>\n",
      "<re.Match object; span=(284, 292), match='Randoldo'>\n",
      "<re.Match object; span=(325, 331), match='Canada'>\n"
     ]
    }
   ],
   "source": [
    "pattern2 = re.compile(r'\\w*an\\w*')\n",
    "matches = pattern2.finditer(text)\n",
    "for match in matches:\n",
    "    print(match)"
   ]
  },
  {
   "cell_type": "code",
   "execution_count": 129,
   "id": "3032dbd1",
   "metadata": {},
   "outputs": [],
   "source": [
    "pattern3 = re.compile(r'ab\\w*')\n",
    "matches = pattern3.finditer(text)\n",
    "for match in matches:\n",
    "    print(match)"
   ]
  },
  {
   "cell_type": "code",
   "execution_count": 130,
   "id": "49442b29",
   "metadata": {},
   "outputs": [
    {
     "name": "stdout",
     "output_type": "stream",
     "text": [
      "['MayCie', 'was', 'an', 'exemplary', 'Navy', 'wife,', 'amazing', 'mom', 'and', 'granny.', 'She', 'was', 'greathearted,', 'generous,', 'mischievous', 'and', 'always', 'ready', 'to', 'start', '(or', 'join', 'in)', 'any', 'high', 'jinks,', 'shenanigans', 'or', 'monkey', 'business.', 'Memorial', 'contributions', 'may', 'be', 'made', 'to', 'the', 'Navy-Marine', 'Corps', 'Relief', 'Society', 'by', 'mail', '222', 'N.Randoldo', 'St,', '#224,', 'London,', 'ON,', 'PA23', '6NH,', 'Canada.']\n"
     ]
    }
   ],
   "source": [
    "list_of_words = text.split()\n",
    "print(list_of_words)"
   ]
  },
  {
   "cell_type": "code",
   "execution_count": null,
   "id": "9395bc5d",
   "metadata": {},
   "outputs": [],
   "source": []
  }
 ],
 "metadata": {
  "kernelspec": {
   "display_name": "Python 3 (ipykernel)",
   "language": "python",
   "name": "python3"
  },
  "language_info": {
   "codemirror_mode": {
    "name": "ipython",
    "version": 3
   },
   "file_extension": ".py",
   "mimetype": "text/x-python",
   "name": "python",
   "nbconvert_exporter": "python",
   "pygments_lexer": "ipython3",
   "version": "3.9.13"
  }
 },
 "nbformat": 4,
 "nbformat_minor": 5
}
