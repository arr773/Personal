{
 "cells": [
  {
   "cell_type": "code",
   "execution_count": 10,
   "id": "368f74b3",
   "metadata": {},
   "outputs": [
    {
     "name": "stdout",
     "output_type": "stream",
     "text": [
      "Enter the number 28\n"
     ]
    },
    {
     "data": {
      "text/plain": [
       "'Is a perfect number'"
      ]
     },
     "execution_count": 10,
     "metadata": {},
     "output_type": "execute_result"
    }
   ],
   "source": [
    "#1a\n",
    "inp=int(input(\"Enter the number \"))\n",
    "def perfect_number(n):\n",
    "    sum=0\n",
    "    for i in range(1,int(n/2+1)):\n",
    "        if n%i==0:\n",
    "#             print(i)\n",
    "            sum=sum+i\n",
    "    if n==sum:\n",
    "        return \"Is a perfect number\"\n",
    "    else:\n",
    "        return \"Not a perfect number\"\n",
    "perfect_number(inp)"
   ]
  },
  {
   "cell_type": "code",
   "execution_count": 15,
   "id": "ca348aff",
   "metadata": {},
   "outputs": [
    {
     "name": "stdout",
     "output_type": "stream",
     "text": [
      "1st number 6\n",
      "2nd number 4\n",
      "Check doesnt divide evenly into num\n"
     ]
    }
   ],
   "source": [
    "#1b\n",
    "inp=[int(input(\"1st number \")),int(input(\"2nd number \"))]\n",
    "if inp[0]%inp[1]==0:\n",
    "    print(\"Check divides evenly into num\")\n",
    "else:\n",
    "    print(\"Check doesnt divide evenly into num\")"
   ]
  },
  {
   "cell_type": "code",
   "execution_count": 22,
   "id": "6ef44bee",
   "metadata": {},
   "outputs": [
    {
     "name": "stdout",
     "output_type": "stream",
     "text": [
      "1st number 40\n",
      "2nd number 4\n",
      "7\n",
      "14\n",
      "21\n",
      "28\n"
     ]
    }
   ],
   "source": [
    "#2a\n",
    "inp=[int(input(\"1st number \")),int(input(\"2nd number \"))]\n",
    "for i in range(min(inp),max(inp)+1):\n",
    "    if i%7==0 and i%5!=0:\n",
    "        print(i)"
   ]
  },
  {
   "cell_type": "code",
   "execution_count": 26,
   "id": "7b9d7d13",
   "metadata": {},
   "outputs": [
    {
     "name": "stdout",
     "output_type": "stream",
     "text": [
      "Input Sentence Data Science on ramp\n",
      "Input meta character @\n",
      "Data@Science@on@ramp\n"
     ]
    }
   ],
   "source": [
    "#2b\n",
    "inp=[(input(\"Input Sentence \")),(input(\"Input meta character \"))]\n",
    "t=inp[0].replace(\" \",inp[1])\n",
    "print(t)"
   ]
  },
  {
   "cell_type": "code",
   "execution_count": 31,
   "id": "09a6f881",
   "metadata": {},
   "outputs": [
    {
     "name": "stdout",
     "output_type": "stream",
     "text": [
      "Input numbers 34,67,55,33,12,98\n",
      "['34', '67', '55', '33', '12', '98']\n",
      "('34', '67', '55', '33', '12', '98')\n"
     ]
    }
   ],
   "source": [
    "#3a\n",
    "inp=input(\"Input numbers \")\n",
    "inp=inp.split(\",\")\n",
    "print(inp)\n",
    "inp=tuple(inp)\n",
    "print(inp)"
   ]
  },
  {
   "cell_type": "code",
   "execution_count": 76,
   "id": "0625e9ca",
   "metadata": {},
   "outputs": [
    {
     "name": "stdout",
     "output_type": "stream",
     "text": [
      "Total lookup time for tuple:  31787049600\n",
      "Total lookup time for list:  38178909600\n"
     ]
    }
   ],
   "source": [
    "#3b\n",
    "import sys, platform\n",
    "import time\n",
    " \n",
    "li=list(range(100000000))\n",
    "tup=tuple(range(100000000))\n",
    "start=time.time_ns()\n",
    "for i in range(len(tup)):\n",
    "    a=tup[i]\n",
    "end=time.time_ns()\n",
    "print(\"Total lookup time for tuple: \",end-start)\n",
    "start=time.time_ns()\n",
    "for i in range(len(li)):\n",
    "    a=li[i]\n",
    "end=time.time_ns()\n",
    "print(\"Total lookup time for list: \",end-start)"
   ]
  },
  {
   "cell_type": "code",
   "execution_count": 77,
   "id": "bccaab89",
   "metadata": {},
   "outputs": [
    {
     "name": "stdout",
     "output_type": "stream",
     "text": [
      "Succesfully appended list\n",
      "Unsuccesfully appended tupple\n"
     ]
    }
   ],
   "source": [
    "li=[\"hello\",\"world\"]\n",
    "tup=(\"hello\",\"world\")\n",
    "try:\n",
    "    li.append(\"...\")\n",
    "    print(\"Succesfully appended list\")\n",
    "except:\n",
    "    print(\"Unsuccesfully appended list\")\n",
    "try:\n",
    "    tup.append(\"...\")\n",
    "    print(\"Succesfully appended tuple\")\n",
    "except:\n",
    "    print(\"Unsuccesfully appended tupple\")  "
   ]
  },
  {
   "cell_type": "code",
   "execution_count": 33,
   "id": "c0577299",
   "metadata": {},
   "outputs": [],
   "source": [
    "#3c\n",
    "#list take longer to traverse with respect to tuple\n",
    "#list can be modified but tuple cannot be\n",
    "#tuple is better in the first case\n",
    "#list is better in the second case"
   ]
  },
  {
   "cell_type": "code",
   "execution_count": 1,
   "id": "9db731f1",
   "metadata": {},
   "outputs": [
    {
     "name": "stdout",
     "output_type": "stream",
     "text": [
      "input sentence hi how\n",
      "h hw\n",
      "{'i': 1, 'o': 1}\n"
     ]
    }
   ],
   "source": [
    "#4a\n",
    "inp=input(\"input sentence \")\n",
    "v=[\"a\",\"e\",\"i\",\"o\",\"u\",\"A\",\"E\",\"I\",\"O\",\"U\"]\n",
    "out=inp\n",
    "# out=inp.replace([\"a\",\"e\",\"i\",\"o\",\"u\"],\"\")\n",
    "for i in v:\n",
    "    if i in out:\n",
    "        out=out.replace(i,\"\")\n",
    "print(out)\n",
    "\n",
    "#4b\n",
    "d={}\n",
    "for i in v:\n",
    "    if i in inp:\n",
    "        d[i]=inp.count(i)\n",
    "print(d)"
   ]
  },
  {
   "cell_type": "code",
   "execution_count": 36,
   "id": "accbe299",
   "metadata": {},
   "outputs": [
    {
     "name": "stdout",
     "output_type": "stream",
     "text": [
      "Enter the string abcdef\n",
      "f\n",
      "ed\n",
      "cba\n"
     ]
    }
   ],
   "source": [
    "#5\n",
    "inp=input(\"Enter the string \")\n",
    "j=len(inp)\n",
    "i=1\n",
    "li=[]\n",
    "while j>i:\n",
    "    temp=inp[j-i:j]\n",
    "    print(temp[::-1])\n",
    "    j=j-i\n",
    "    i=i+1\n",
    "j=j-i\n",
    "temp=inp[:i+j]\n",
    "temp=temp[::-1]\n",
    "if len(temp)!=i:\n",
    "    for k in range(i-len(temp)):\n",
    "        temp=temp+\"$\"\n",
    "print(temp)"
   ]
  },
  {
   "cell_type": "code",
   "execution_count": 78,
   "id": "8f81dac1",
   "metadata": {},
   "outputs": [
    {
     "name": "stdout",
     "output_type": "stream",
     "text": [
      "Number of word tokens: 23140\n",
      "Number of word types: 4017\n"
     ]
    },
    {
     "name": "stderr",
     "output_type": "stream",
     "text": [
      "[nltk_data] Downloading package gutenberg to C:\\Users\\Aaryan\n",
      "[nltk_data]     Agarwal\\AppData\\Roaming\\nltk_data...\n",
      "[nltk_data]   Package gutenberg is already up-to-date!\n"
     ]
    }
   ],
   "source": [
    "#6\n",
    "import nltk\n",
    "nltk.download('gutenberg')\n",
    "words=nltk.corpus.gutenberg.words('shakespeare-macbeth.txt')\n",
    "tokens=len(words)\n",
    "types=len(set(words))\n",
    "print(\"Number of word tokens:\",tokens)\n",
    "print(\"Number of word types:\",types)"
   ]
  },
  {
   "cell_type": "code",
   "execution_count": 80,
   "id": "a2384d3c",
   "metadata": {},
   "outputs": [
    {
     "name": "stderr",
     "output_type": "stream",
     "text": [
      "[nltk_data] Downloading package cmudict to C:\\Users\\Aaryan\n",
      "[nltk_data]     Agarwal\\AppData\\Roaming\\nltk_data...\n",
      "[nltk_data]   Package cmudict is already up-to-date!\n"
     ]
    },
    {
     "name": "stdout",
     "output_type": "stream",
     "text": [
      "Enter the text hi how are you\n",
      "The text contains 4 syllables.\n"
     ]
    }
   ],
   "source": [
    "#7\n",
    "import nltk\n",
    "from nltk.corpus import cmudict\n",
    "nltk.download('cmudict')\n",
    "dict_=cmudict.dict()\n",
    "def syllable_count(word):\n",
    "    p=cmudict.dict().get(word)\n",
    "    count=0\n",
    "    if p:  \n",
    "        new_p=p[0]      \n",
    "        count = len([i for i in new_p if i[-1].isdigit()])\n",
    "    return count\n",
    "def text_syllable_count(text):\n",
    "    words=nltk.word_tokenize(text)\n",
    "    count=0\n",
    "    for w in words:\n",
    "        try:\n",
    "            count+=syllable_count(w)\n",
    "        except:\n",
    "            count+=1\n",
    "    return count\n",
    "text = input(\"Enter the text \")\n",
    "syllable_counts=text_syllable_count(text)\n",
    "print(\"The text contains {} syllables.\".format(syllable_counts))"
   ]
  },
  {
   "cell_type": "code",
   "execution_count": 56,
   "id": "11d06a3a",
   "metadata": {},
   "outputs": [
    {
     "name": "stdout",
     "output_type": "stream",
     "text": [
      "Enter the number of lists 3\n",
      "Enter the value of k 100\n",
      "Enter the list number 1 2 3\n",
      "Enter the list number 4 5 6 1\n",
      "Enter the list number 0 0 0 10\n",
      "36\n"
     ]
    }
   ],
   "source": [
    "#8\n",
    "inp=[int(input(\"Enter the number of lists \")),int(input(\"Enter the value of k \"))]\n",
    "li=[]\n",
    "for i in range(inp[0]):\n",
    "    temp=input(\"Enter the list number \")\n",
    "    temp=temp.split(\" \")\n",
    "    li.append(temp)\n",
    "new_li=[]\n",
    "for i in li:\n",
    "    temp=[]\n",
    "    for j in i:\n",
    "        temp.append(int(j))\n",
    "    new_li.append(temp)    \n",
    "total=[]\n",
    "for i in new_li:\n",
    "    new_t=0\n",
    "    for j in i:\n",
    "        new_t=j*j*j+new_t\n",
    "    total.append(new_t)\n",
    "li=[]\n",
    "for i in total:\n",
    "    li.append(i%inp[1])\n",
    "print(max(li))"
   ]
  },
  {
   "cell_type": "code",
   "execution_count": 70,
   "id": "57c7f463",
   "metadata": {},
   "outputs": [
    {
     "name": "stdout",
     "output_type": "stream",
     "text": [
      "Enter the string aacdeeeahhhe\n",
      "[(2, 'a'), (1, 'c'), (1, 'd'), (3, 'e'), (1, 'a'), (3, 'h'), (1, 'e')]\n"
     ]
    }
   ],
   "source": [
    "inp=input(\"Enter the string \")\n",
    "j=inp[0]\n",
    "count=0\n",
    "li=[]\n",
    "for i in inp:\n",
    "    if j==i:\n",
    "        count=count+1\n",
    "    if j!=i:\n",
    "        li.append((count,j))\n",
    "        j=i\n",
    "        count=1\n",
    "li.append((count,j))\n",
    "print(li)"
   ]
  },
  {
   "cell_type": "markdown",
   "id": "94f98931",
   "metadata": {},
   "source": []
  }
 ],
 "metadata": {
  "kernelspec": {
   "display_name": "Python 3 (ipykernel)",
   "language": "python",
   "name": "python3"
  },
  "language_info": {
   "codemirror_mode": {
    "name": "ipython",
    "version": 3
   },
   "file_extension": ".py",
   "mimetype": "text/x-python",
   "name": "python",
   "nbconvert_exporter": "python",
   "pygments_lexer": "ipython3",
   "version": "3.9.13"
  }
 },
 "nbformat": 4,
 "nbformat_minor": 5
}
