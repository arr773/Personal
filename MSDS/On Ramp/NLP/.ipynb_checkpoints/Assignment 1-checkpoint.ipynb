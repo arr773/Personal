{
 "cells": [
  {
   "cell_type": "code",
   "execution_count": 9,
   "id": "ad047cdd",
   "metadata": {},
   "outputs": [],
   "source": [
    "import re"
   ]
  },
  {
   "cell_type": "code",
   "execution_count": 10,
   "id": "9c8d3c4e",
   "metadata": {},
   "outputs": [],
   "source": [
    "text=\"fried Fired\""
   ]
  },
  {
   "cell_type": "code",
   "execution_count": 11,
   "id": "2e93c2b7",
   "metadata": {},
   "outputs": [
    {
     "name": "stdout",
     "output_type": "stream",
     "text": [
      "fried\n",
      "Fired\n"
     ]
    }
   ],
   "source": [
    "match=re.findall(r'[fF][ir][ri]ed',text)\n",
    "for i in match:\n",
    "    print(i)"
   ]
  },
  {
   "cell_type": "code",
   "execution_count": 13,
   "id": "df43dc72",
   "metadata": {},
   "outputs": [],
   "source": [
    "text =\"Go Goooo gooooooo goGoooooooooo\""
   ]
  },
  {
   "cell_type": "code",
   "execution_count": 14,
   "id": "c1600b6d",
   "metadata": {},
   "outputs": [
    {
     "name": "stdout",
     "output_type": "stream",
     "text": [
      "Go\n",
      "Goooo\n",
      "gooooooo\n",
      "goGoooooooooo\n"
     ]
    }
   ],
   "source": [
    "match=re.findall(r'[G,g]o+G?o*',text)\n",
    "for i in match:\n",
    "    print(i)"
   ]
  },
  {
   "cell_type": "code",
   "execution_count": 15,
   "id": "be7468d9",
   "metadata": {},
   "outputs": [],
   "source": [
    "text=\"Goneness Orthogonal snapdragon nonantagonistic Gonococcus legong\""
   ]
  },
  {
   "cell_type": "code",
   "execution_count": 16,
   "id": "4aeaf44d",
   "metadata": {},
   "outputs": [
    {
     "name": "stdout",
     "output_type": "stream",
     "text": [
      "Goneness\n",
      "Orthogonal\n",
      "snapdragon\n",
      "nonantagonistic\n",
      "Gonococcus\n",
      "legong\n"
     ]
    }
   ],
   "source": [
    "match=re.findall(r'[a-zA-z]*[Gg]on[a-zA-z]*',text)\n",
    "for i in match:\n",
    "    print(i)"
   ]
  },
  {
   "cell_type": "code",
   "execution_count": 17,
   "id": "d57b91be",
   "metadata": {},
   "outputs": [],
   "source": [
    "text=\"van ban man can fan\""
   ]
  },
  {
   "cell_type": "code",
   "execution_count": 18,
   "id": "d2be73ce",
   "metadata": {},
   "outputs": [
    {
     "name": "stdout",
     "output_type": "stream",
     "text": [
      "van\n",
      "ban\n",
      "man\n"
     ]
    }
   ],
   "source": [
    "match=re.findall(r'[^c^f]an',text)\n",
    "for i in match:\n",
    "    print(i)"
   ]
  },
  {
   "cell_type": "code",
   "execution_count": 20,
   "id": "67dfa770",
   "metadata": {},
   "outputs": [],
   "source": [
    "text=\"U.S. is the greatest country in the world Great! Your idea is great! Hale is greathearted and kind.\""
   ]
  },
  {
   "cell_type": "code",
   "execution_count": 21,
   "id": "bc87ea92",
   "metadata": {},
   "outputs": [
    {
     "name": "stdout",
     "output_type": "stream",
     "text": [
      "U.S. is the greatest country in the world Great! Your idea is great! Hale is greathearted and kind.\n"
     ]
    }
   ],
   "source": [
    "match=re.findall(r'.*\\sgreat\\w*.*',text)\n",
    "for i in match:\n",
    "    print(i)"
   ]
  },
  {
   "cell_type": "code",
   "execution_count": 22,
   "id": "c16188f7",
   "metadata": {},
   "outputs": [],
   "source": [
    "text=\"MayCie was an exemplary Navy wife, amazing mom and granny. She was greathearted, generous, mischievous and always ready to start (or join in) any high jinks, shenanigans or monkey business. Memorial contributions may be made to the Navy-Marine Corps Relief Society by mail 222 N.Randoldo St, #224, London, ON, PA23 6NH, Canada.\""
   ]
  },
  {
   "cell_type": "code",
   "execution_count": 24,
   "id": "bd5450c7",
   "metadata": {},
   "outputs": [
    {
     "name": "stdout",
     "output_type": "stream",
     "text": [
      "greathearted\n",
      "generous\n",
      "mischievous\n"
     ]
    }
   ],
   "source": [
    "match = re.findall(\"generous|greathearted|mischievous|Honesty|Loyalty|Impatient|Ignorant\",text)\n",
    "for i in match:\n",
    "    print(i)"
   ]
  },
  {
   "cell_type": "code",
   "execution_count": 25,
   "id": "48f95de1",
   "metadata": {},
   "outputs": [
    {
     "name": "stdout",
     "output_type": "stream",
     "text": [
      "generous\n",
      "mischievous\n"
     ]
    }
   ],
   "source": [
    "match = re.findall(\"[a-zA-z]*ous\",text)\n",
    "for i in match:\n",
    "    print(i)"
   ]
  },
  {
   "cell_type": "code",
   "execution_count": 26,
   "id": "15bd61d6",
   "metadata": {},
   "outputs": [
    {
     "name": "stdout",
     "output_type": "stream",
     "text": [
      "an\n",
      "and\n",
      "granny\n",
      "and\n",
      "any\n",
      "shenanigans\n",
      "Randoldo\n",
      "Canada\n"
     ]
    }
   ],
   "source": [
    "match = re.findall(\"[a-zA-z]*an[a-zA-z]*\",text)\n",
    "for i in match:\n",
    "    print(i)"
   ]
  },
  {
   "cell_type": "code",
   "execution_count": 27,
   "id": "7c618d69",
   "metadata": {},
   "outputs": [],
   "source": [
    "match = re.findall(r'\\bab\\w*',text)\n",
    "for i in match:\n",
    "    print(i)"
   ]
  },
  {
   "cell_type": "code",
   "execution_count": 32,
   "id": "75e19368",
   "metadata": {},
   "outputs": [
    {
     "name": "stdout",
     "output_type": "stream",
     "text": [
      "['MayCie', 'was', 'an', 'exemplary', 'Navy', 'wife,', 'amazing', 'mom', 'and', 'granny.', 'She', 'was', 'greathearted,', 'generous,', 'mischievous', 'and', 'always', 'ready', 'to', 'start', '(or', 'join', 'in)', 'any', 'high', 'jinks,', 'shenanigans', 'or', 'monkey', 'business.', 'Memorial', 'contributions', 'may', 'be', 'made', 'to', 'the', 'Navy-Marine', 'Corps', 'Relief', 'Society', 'by', 'mail', '222', 'N.Randoldo', 'St,', '#224,', 'London,', 'ON,', 'PA23', '6NH,', 'Canada.']\n"
     ]
    }
   ],
   "source": [
    "print(text.split(\" \"))"
   ]
  },
  {
   "cell_type": "code",
   "execution_count": null,
   "id": "d7951af0",
   "metadata": {},
   "outputs": [],
   "source": []
  }
 ],
 "metadata": {
  "kernelspec": {
   "display_name": "Python 3 (ipykernel)",
   "language": "python",
   "name": "python3"
  },
  "language_info": {
   "codemirror_mode": {
    "name": "ipython",
    "version": 3
   },
   "file_extension": ".py",
   "mimetype": "text/x-python",
   "name": "python",
   "nbconvert_exporter": "python",
   "pygments_lexer": "ipython3",
   "version": "3.9.13"
  }
 },
 "nbformat": 4,
 "nbformat_minor": 5
}
