{
 "cells": [
  {
   "cell_type": "code",
   "execution_count": 1,
   "id": "85883095",
   "metadata": {},
   "outputs": [],
   "source": [
    "import re"
   ]
  },
  {
   "cell_type": "markdown",
   "id": "791b49fa",
   "metadata": {},
   "source": [
    "### Task 1"
   ]
  },
  {
   "cell_type": "code",
   "execution_count": 2,
   "id": "cf362223",
   "metadata": {},
   "outputs": [
    {
     "name": "stdout",
     "output_type": "stream",
     "text": [
      "list of matches:  ['Fired', 'fried']\n"
     ]
    }
   ],
   "source": [
    "s1=\"I was Fired or fried by the company which hired me through campus selection\"\n",
    "matches =re.findall(r'[fF][ir][ri]ed', s1)\n",
    "print(\"list of matches: \", matches)"
   ]
  },
  {
   "cell_type": "markdown",
   "id": "6dade32d",
   "metadata": {},
   "source": [
    "### Task 2"
   ]
  },
  {
   "cell_type": "code",
   "execution_count": 3,
   "id": "8b1f04c4",
   "metadata": {},
   "outputs": [
    {
     "name": "stdout",
     "output_type": "stream",
     "text": [
      "['Go', 'Goooo', 'gooooooo', 'goGoooooooooo']\n"
     ]
    }
   ],
   "source": [
    "s2 = \"Go, Goooo, gooooooo, goGoooooooooo\"\n",
    "m2 =re.findall(r'\\b[Gg]o*G*o*', s2)\n",
    "print(m2)"
   ]
  },
  {
   "cell_type": "markdown",
   "id": "d096d4d3",
   "metadata": {},
   "source": [
    "### Task 3"
   ]
  },
  {
   "cell_type": "code",
   "execution_count": 4,
   "id": "688f9491",
   "metadata": {},
   "outputs": [
    {
     "name": "stdout",
     "output_type": "stream",
     "text": [
      "['Goneness', 'Orthogonal', 'snapdragon', 'nonantagonistic', 'Gonococcus', 'legong']\n"
     ]
    }
   ],
   "source": [
    "s3 = \"Goneness, Orthogonal, snapdragon, nonantagonistic, Gonococcus, legong\"\n",
    "m3 = re.findall(r'[a-zA-z]*[Gg]on[a-zA-z]*',s3)\n",
    "print(m3)"
   ]
  },
  {
   "cell_type": "markdown",
   "id": "4d98eef5",
   "metadata": {},
   "source": [
    "### Task 4 "
   ]
  },
  {
   "cell_type": "code",
   "execution_count": 5,
   "id": "10e41b4e",
   "metadata": {},
   "outputs": [
    {
     "name": "stdout",
     "output_type": "stream",
     "text": [
      "['van', 'ban', 'man']\n"
     ]
    }
   ],
   "source": [
    "s4 = \"van, ban, man, can fan\"\n",
    "m4 =re.findall(r'[^c^f]an', s4)\n",
    "print(m4)"
   ]
  },
  {
   "cell_type": "markdown",
   "id": "084d68c7",
   "metadata": {},
   "source": [
    "### Task 5"
   ]
  },
  {
   "cell_type": "code",
   "execution_count": 6,
   "id": "254f7df9",
   "metadata": {},
   "outputs": [
    {
     "name": "stdout",
     "output_type": "stream",
     "text": [
      "['U.S. is the greatest country in the world. Great! Your idea is great! Hale is greathearted and kind.']\n"
     ]
    }
   ],
   "source": [
    "s5 = \"U.S. is the greatest country in the world. Great! Your idea is great! Hale is greathearted and kind.\"\n",
    "m5 = re.findall(r'.*\\sgreat\\w*.*',s5)\n",
    "print(m5)"
   ]
  },
  {
   "cell_type": "markdown",
   "id": "26d06692",
   "metadata": {},
   "source": [
    "### Task 6"
   ]
  },
  {
   "cell_type": "code",
   "execution_count": 7,
   "id": "30872f9e",
   "metadata": {},
   "outputs": [],
   "source": [
    "s6 = \"MayCie was an exemplary Navy wife, amazing mom and granny. She was greathearted, generous, mischievous and always ready to start (or join in) any high jinks, shenanigans or monkey business. Memorial contributions may be made to the Navy-Marine Corps Relief Society by mail 222 N.Randoldo St, #224, London, ON, PA23 6NH, Canada.\""
   ]
  },
  {
   "cell_type": "markdown",
   "id": "85bf9b5e",
   "metadata": {},
   "source": [
    "### part a"
   ]
  },
  {
   "cell_type": "code",
   "execution_count": 8,
   "id": "89a7ee4b",
   "metadata": {},
   "outputs": [
    {
     "name": "stdout",
     "output_type": "stream",
     "text": [
      "['greathearted', 'generous', 'mischievous']\n"
     ]
    }
   ],
   "source": [
    "p = \"generous|greathearted|mischievous|Honesty|Loyalty|Impatient|Ignorant\"\n",
    "m = re.findall(p,s6)\n",
    "print(m)"
   ]
  },
  {
   "cell_type": "markdown",
   "id": "a7baa58a",
   "metadata": {},
   "source": [
    "### part b"
   ]
  },
  {
   "cell_type": "code",
   "execution_count": 9,
   "id": "25adb6b9",
   "metadata": {},
   "outputs": [
    {
     "name": "stdout",
     "output_type": "stream",
     "text": [
      "['generous', 'mischievous']\n"
     ]
    }
   ],
   "source": [
    "p6 = \"[a-zA-z]*ous\"\n",
    "m6 =re.findall(p6, s6)\n",
    "print(m6)"
   ]
  },
  {
   "cell_type": "code",
   "execution_count": 10,
   "id": "614c9371",
   "metadata": {},
   "outputs": [
    {
     "name": "stdout",
     "output_type": "stream",
     "text": [
      "['an', 'and', 'granny', 'and', 'any', 'shenanigans', 'Randoldo', 'Canada']\n"
     ]
    }
   ],
   "source": [
    "p7 = \"[a-zA-z]*an[a-zA-z]*\"\n",
    "m7 =re.findall(p7, s6)\n",
    "print(m7)"
   ]
  },
  {
   "cell_type": "code",
   "execution_count": 11,
   "id": "186bfed9",
   "metadata": {},
   "outputs": [
    {
     "name": "stdout",
     "output_type": "stream",
     "text": [
      "[]\n"
     ]
    }
   ],
   "source": [
    "m8 =re.findall(r'\\bab\\w*', s6)\n",
    "print(m8)"
   ]
  },
  {
   "cell_type": "code",
   "execution_count": 12,
   "id": "dd741371",
   "metadata": {},
   "outputs": [
    {
     "name": "stdout",
     "output_type": "stream",
     "text": [
      "['MayCie', 'was', 'an', 'exemplary', 'Navy', 'wife,', 'amazing', 'mom', 'and', 'granny.', 'She', 'was', 'greathearted,', 'generous,', 'mischievous', 'and', 'always', 'ready', 'to', 'start', '(or', 'join', 'in)', 'any', 'high', 'jinks,', 'shenanigans', 'or', 'monkey', 'business.', 'Memorial', 'contributions', 'may', 'be', 'made', 'to', 'the', 'Navy-Marine', 'Corps', 'Relief', 'Society', 'by', 'mail', '222', 'N.Randoldo', 'St,', '#224,', 'London,', 'ON,', 'PA23', '6NH,', 'Canada.']\n"
     ]
    }
   ],
   "source": [
    "words = s6.split()\n",
    "print(words)"
   ]
  }
 ],
 "metadata": {
  "kernelspec": {
   "display_name": "Python 3 (ipykernel)",
   "language": "python",
   "name": "python3"
  },
  "language_info": {
   "codemirror_mode": {
    "name": "ipython",
    "version": 3
   },
   "file_extension": ".py",
   "mimetype": "text/x-python",
   "name": "python",
   "nbconvert_exporter": "python",
   "pygments_lexer": "ipython3",
   "version": "3.9.13"
  }
 },
 "nbformat": 4,
 "nbformat_minor": 5
}
