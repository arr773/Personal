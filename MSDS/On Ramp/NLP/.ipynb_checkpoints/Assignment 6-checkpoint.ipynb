{
 "cells": [
  {
   "cell_type": "code",
   "execution_count": 1,
   "id": "7b287420",
   "metadata": {},
   "outputs": [],
   "source": [
    "import nltk\n",
    "lp = nltk.sem.Expression.fromstring\n"
   ]
  },
  {
   "cell_type": "code",
   "execution_count": 7,
   "id": "98392d01",
   "metadata": {},
   "outputs": [
    {
     "data": {
      "text/plain": [
       "<ImpExpression (p -> q)>"
      ]
     },
     "execution_count": 7,
     "metadata": {},
     "output_type": "execute_result"
    }
   ],
   "source": [
    "#a\n",
    "p='be given war and peace'\n",
    "q='pat'\n",
    "lp('p->q')"
   ]
  },
  {
   "cell_type": "code",
   "execution_count": 76,
   "id": "9208876a",
   "metadata": {},
   "outputs": [
    {
     "data": {
      "text/plain": [
       "<LambdaExpression \\x.(if(exists p.given(p,x)) & then(exists q.pat(q,x)))>"
      ]
     },
     "execution_count": 76,
     "metadata": {},
     "output_type": "execute_result"
    }
   ],
   "source": [
    "lp('\\\\x. (if (exists p. given(p,x)) and then(exists q. pat(q,x))) ')"
   ]
  },
  {
   "cell_type": "code",
   "execution_count": 65,
   "id": "5952cd42",
   "metadata": {},
   "outputs": [
    {
     "data": {
      "text/plain": [
       "<AndExpression (-p & q)>"
      ]
     },
     "execution_count": 65,
     "metadata": {},
     "output_type": "execute_result"
    }
   ],
   "source": [
    "#b\n",
    "p='everyone loves pat'\n",
    "q='mathew loves pat'\n",
    "lp('-p & q')"
   ]
  },
  {
   "cell_type": "code",
   "execution_count": 66,
   "id": "09a5ba37",
   "metadata": {},
   "outputs": [
    {
     "data": {
      "text/plain": [
       "<AndExpression (\\x.-exists p.loves(p,x) & exists q.matthew(q,x))>"
      ]
     },
     "execution_count": 66,
     "metadata": {},
     "output_type": "execute_result"
    }
   ],
   "source": [
    "lp('\\\\x. -exists p. loves(p,x) and exists q. matthew(q,x)')"
   ]
  },
  {
   "cell_type": "code",
   "execution_count": 8,
   "id": "d754f245",
   "metadata": {},
   "outputs": [
    {
     "data": {
      "text/plain": [
       "<ImpExpression (-q -> p)>"
      ]
     },
     "execution_count": 8,
     "metadata": {},
     "output_type": "execute_result"
    }
   ],
   "source": [
    "#c\n",
    "p='it will snow'\n",
    "q='it will rain'\n",
    "lp('-q->p')"
   ]
  },
  {
   "cell_type": "code",
   "execution_count": 75,
   "id": "ff236987",
   "metadata": {},
   "outputs": [
    {
     "data": {
      "text/plain": [
       "<LambdaExpression \\x.(if(-exists q.rain(q,x)) & then(exists p.snow(p,x)))>"
      ]
     },
     "execution_count": 75,
     "metadata": {},
     "output_type": "execute_result"
    }
   ],
   "source": [
    "lp('\\\\x.(if (-exists q. rain(q,x))and then (exists p. snow(p,x)))')"
   ]
  },
  {
   "cell_type": "code",
   "execution_count": 15,
   "id": "765d944b",
   "metadata": {},
   "outputs": [
    {
     "data": {
      "text/plain": [
       "<AndExpression (p & -q)>"
      ]
     },
     "execution_count": 15,
     "metadata": {},
     "output_type": "execute_result"
    }
   ],
   "source": [
    "#d\n",
    "p='loved by everyone'\n",
    "q='detested by everyone'\n",
    "lp('p&-q')\n"
   ]
  },
  {
   "cell_type": "code",
   "execution_count": 62,
   "id": "8564d57d",
   "metadata": {},
   "outputs": [
    {
     "data": {
      "text/plain": [
       "<LambdaExpression \\x.(all p.love(p,x) & -exists q.detested(q,x))>"
      ]
     },
     "execution_count": 62,
     "metadata": {},
     "output_type": "execute_result"
    }
   ],
   "source": [
    "lp('\\\\x. (all p. love(p,x) & -exists q. detested(q,x))')"
   ]
  },
  {
   "cell_type": "code",
   "execution_count": 78,
   "id": "1fd242f2",
   "metadata": {},
   "outputs": [
    {
     "data": {
      "text/plain": [
       "<AndExpression (-p & -q)>"
      ]
     },
     "execution_count": 78,
     "metadata": {},
     "output_type": "execute_result"
    }
   ],
   "source": [
    "#e\n",
    "p='Pat cough'\n",
    "q='pat sneeze'\n",
    "lp('-p&-q')"
   ]
  },
  {
   "cell_type": "code",
   "execution_count": 29,
   "id": "41751451",
   "metadata": {},
   "outputs": [
    {
     "data": {
      "text/plain": [
       "<LambdaExpression \\x.(-all p.cough(p,x) & -all q.sneeze(q,x))>"
      ]
     },
     "execution_count": 29,
     "metadata": {},
     "output_type": "execute_result"
    }
   ],
   "source": [
    "lp('\\\\x(-all p. cough(p,x) and -all q. sneeze(q,x))')"
   ]
  },
  {
   "cell_type": "code",
   "execution_count": 18,
   "id": "a42ff5ee",
   "metadata": {},
   "outputs": [
    {
     "data": {
      "text/plain": [
       "<ImpExpression (-(t -> -s) -> (q -> -p))>"
      ]
     },
     "execution_count": 18,
     "metadata": {},
     "output_type": "execute_result"
    }
   ],
   "source": [
    "#f\n",
    "p='i come'\n",
    "q='you call'\n",
    "s='you come'\n",
    "t='i call'\n",
    "lp('-(t->-s)->(q->-p)')"
   ]
  },
  {
   "cell_type": "code",
   "execution_count": 77,
   "id": "34e3f3ae",
   "metadata": {},
   "outputs": [
    {
     "data": {
      "text/plain": [
       "<LambdaExpression \\x.(-(exists t.icall(t,x) & -exists s.youcome(s,x)) & exists q.youcall(q,x) & -exists p.icome(p,x))>"
      ]
     },
     "execution_count": 77,
     "metadata": {},
     "output_type": "execute_result"
    }
   ],
   "source": [
    "lp('\\\\x (- (exists t. icall(t,x) & -exists s. youcome(s,x)) and  (exists q. youcall(q,x) and -exists p. icome(p,x)))')"
   ]
  },
  {
   "cell_type": "code",
   "execution_count": null,
   "id": "5f8ecbf6",
   "metadata": {},
   "outputs": [],
   "source": []
  }
 ],
 "metadata": {
  "kernelspec": {
   "display_name": "Python 3 (ipykernel)",
   "language": "python",
   "name": "python3"
  },
  "language_info": {
   "codemirror_mode": {
    "name": "ipython",
    "version": 3
   },
   "file_extension": ".py",
   "mimetype": "text/x-python",
   "name": "python",
   "nbconvert_exporter": "python",
   "pygments_lexer": "ipython3",
   "version": "3.9.13"
  }
 },
 "nbformat": 4,
 "nbformat_minor": 5
}
