{
 "cells": [
  {
   "cell_type": "code",
   "execution_count": 1,
   "id": "c14243eb",
   "metadata": {},
   "outputs": [],
   "source": [
    "# Task 1"
   ]
  },
  {
   "cell_type": "code",
   "execution_count": 2,
   "id": "4fc30b0a",
   "metadata": {},
   "outputs": [
    {
     "name": "stdout",
     "output_type": "stream",
     "text": [
      "Enter the username Hello\n"
     ]
    }
   ],
   "source": [
    "credentials={\"hello\":\"123456\",\"world\":\"345678\"}\n",
    "security={\"mother name\":\"jane\",\"father name\":\"jo\"}\n",
    "username=input(\"Enter the username \")"
   ]
  },
  {
   "cell_type": "code",
   "execution_count": 3,
   "id": "9ad7ce4b",
   "metadata": {},
   "outputs": [
    {
     "name": "stdout",
     "output_type": "stream",
     "text": [
      "Enter the password 123456\n",
      "Correct password\n"
     ]
    }
   ],
   "source": [
    "if username.lower() in credentials.keys():\n",
    "    username=username.lower()\n",
    "    match=False\n",
    "    for i in range(3):\n",
    "        password=input(\"Enter the password \")\n",
    "        if password==credentials[username]:\n",
    "            match=True\n",
    "            break\n",
    "    if not match:\n",
    "        reset=input(\"Do you want to reset the password? \")\n",
    "        if reset.lower()==\"yes\":\n",
    "            code1=input(\"Mothers name \")\n",
    "            code2=input(\"Fathers name \")\n",
    "            if code1==security[\"mother name\"] and code2==security[\"father name\"]:\n",
    "                newpass=input(\"Enter the new password \")\n",
    "                credentials[username]=newpass\n",
    "            else:\n",
    "                print(\"Your account is blocked\")\n",
    "    else:\n",
    "        print(\"Correct password\")\n",
    "            \n",
    "else:\n",
    "    print(\"username doesnt exist\")"
   ]
  },
  {
   "cell_type": "code",
   "execution_count": 4,
   "id": "9ec78279",
   "metadata": {},
   "outputs": [],
   "source": [
    "# Task 2"
   ]
  },
  {
   "cell_type": "code",
   "execution_count": 9,
   "id": "52a06e13",
   "metadata": {},
   "outputs": [
    {
     "name": "stdout",
     "output_type": "stream",
     "text": [
      "20\n",
      "19\n",
      "18\n",
      "17\n",
      "16\n",
      "15\n",
      "14\n",
      "13\n",
      "12\n",
      "11\n",
      "10\n",
      "9\n",
      "8\n",
      "7\n",
      "6\n",
      "5\n",
      "4\n",
      "3\n",
      "2\n",
      "1\n",
      "0\n"
     ]
    }
   ],
   "source": [
    "def generator(n):\n",
    "    for i in range(n,-1,-1):\n",
    "        print(i)\n",
    "generator(20)"
   ]
  },
  {
   "cell_type": "code",
   "execution_count": 10,
   "id": "3f9dd6ad",
   "metadata": {},
   "outputs": [],
   "source": [
    "# Task 3"
   ]
  },
  {
   "cell_type": "code",
   "execution_count": 22,
   "id": "a34aa20e",
   "metadata": {},
   "outputs": [
    {
     "name": "stdout",
     "output_type": "stream",
     "text": [
      "1\n",
      "2\n",
      "Palindrome\n",
      "(1, 2, 3, 4)\n",
      "6\n",
      "HiH\n"
     ]
    }
   ],
   "source": [
    "def func():\n",
    "    lis=[1,2,3,4,5,4,3,2,1]\n",
    "    print(lis[len(lis)-1])\n",
    "    print(lis[len(lis)-2])\n",
    "    if lis==lis[::-1]:\n",
    "        print(\"Palindrome\")\n",
    "    else:\n",
    "        print(\"Not palindrome\")\n",
    "    tup1=(1,2)\n",
    "    tup2=(3,4)\n",
    "    tup=tup1+tup2\n",
    "    print(tup)\n",
    "    num_tup = (1,2,3,4,5,6)\n",
    "    lis=list(num_tup)\n",
    "    print(lis.pop())\n",
    "    newlis=[\"HiH\",\"world\",\"hello\"]\n",
    "    for i in newlis:\n",
    "        if i==i[::-1]:\n",
    "            print(i)\n",
    "func()"
   ]
  },
  {
   "cell_type": "code",
   "execution_count": 23,
   "id": "3d44ca6c",
   "metadata": {},
   "outputs": [],
   "source": [
    "# Task 4"
   ]
  },
  {
   "cell_type": "code",
   "execution_count": 26,
   "id": "8b0fd646",
   "metadata": {},
   "outputs": [
    {
     "name": "stdout",
     "output_type": "stream",
     "text": [
      "<class 'type'>\n",
      "dict_keys(['__module__', '__init__', '__dict__', '__weakref__', '__doc__'])\n",
      "__main__\n"
     ]
    }
   ],
   "source": [
    "class Student:\n",
    "    def __init__(self):\n",
    "        pass\n",
    "print(type(Student))\n",
    "print(Student.__dict__.keys())\n",
    "print(Student.__module__)"
   ]
  },
  {
   "cell_type": "code",
   "execution_count": null,
   "id": "31f08c74",
   "metadata": {},
   "outputs": [],
   "source": []
  }
 ],
 "metadata": {
  "kernelspec": {
   "display_name": "Python 3 (ipykernel)",
   "language": "python",
   "name": "python3"
  },
  "language_info": {
   "codemirror_mode": {
    "name": "ipython",
    "version": 3
   },
   "file_extension": ".py",
   "mimetype": "text/x-python",
   "name": "python",
   "nbconvert_exporter": "python",
   "pygments_lexer": "ipython3",
   "version": "3.9.13"
  }
 },
 "nbformat": 4,
 "nbformat_minor": 5
}
