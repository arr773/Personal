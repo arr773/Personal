{
 "cells": [
  {
   "cell_type": "markdown",
   "id": "9474bde6",
   "metadata": {},
   "source": [
    "# Question 2"
   ]
  },
  {
   "cell_type": "code",
   "execution_count": 3,
   "id": "34f2acb5",
   "metadata": {},
   "outputs": [],
   "source": [
    "import aspose.words as aw"
   ]
  },
  {
   "cell_type": "code",
   "execution_count": 4,
   "id": "47e40d16",
   "metadata": {},
   "outputs": [
    {
     "data": {
      "text/plain": [
       "<aspose.words.saving.SaveOutputParameters object at 0x0000029135F02C30>"
      ]
     },
     "execution_count": 4,
     "metadata": {},
     "output_type": "execute_result"
    }
   ],
   "source": [
    "doc=aw.Document(\"./UTT-Books.docx\")\n",
    "doc.save(\"UTT-Books.pdf\")"
   ]
  },
  {
   "cell_type": "markdown",
   "id": "8441da57",
   "metadata": {},
   "source": [
    "# Question 3"
   ]
  },
  {
   "cell_type": "code",
   "execution_count": 77,
   "id": "af389b54",
   "metadata": {},
   "outputs": [],
   "source": [
    "from bs4 import BeautifulSoup"
   ]
  },
  {
   "cell_type": "code",
   "execution_count": 78,
   "id": "66c37d5d",
   "metadata": {},
   "outputs": [],
   "source": [
    "file_name = './NOPAGETAB_NFHLWMS.html'\n",
    "\n",
    "soup = BeautifulSoup(open(file_name), 'lxml')\n",
    "\n",
    "# print(soup.prettify())"
   ]
  },
  {
   "cell_type": "code",
   "execution_count": 79,
   "id": "662119f6",
   "metadata": {},
   "outputs": [
    {
     "name": "stdout",
     "output_type": "stream",
     "text": [
      "The word hazard occurs  19  times\n",
      "\n"
     ]
    }
   ],
   "source": [
    "import re\n",
    "results = soup.body.find_all(string=re.compile('.*{0}*'.format('hazard')), recursive=True)\n",
    "print ('The word hazard occurs ',len(results) ,' times\\n')"
   ]
  },
  {
   "cell_type": "code",
   "execution_count": 80,
   "id": "9853f773",
   "metadata": {},
   "outputs": [
    {
     "data": {
      "text/plain": [
       "[<p class=\"note\">\n",
       " \t\t \t\n",
       " \t\t\tLast Updated: Friday, 13-January-2023 4:11 PM ET\n",
       " \t\t </p>]"
      ]
     },
     "execution_count": 80,
     "metadata": {},
     "output_type": "execute_result"
    }
   ],
   "source": [
    "import re\n",
    "results = soup.select(selector='.note',string=re.compile(\"^([0-1]?[0-9]|2[0-3]):[0-5][0-9]$\"))\n",
    "results"
   ]
  },
  {
   "cell_type": "code",
   "execution_count": 81,
   "id": "0529f145",
   "metadata": {},
   "outputs": [
    {
     "name": "stdout",
     "output_type": "stream",
     "text": [
      "<link href=\"https://hazards.fema.gov/femaportal/wps/portal/!ut/p/z1/04_Sj9CPykssy0xPLMnMz0vMAfIjo8zivdxdzDwcvQ0C3L0sXQ0CzULCQr1C_QwN3E30w8EKfAI83D38vQ38LQJNjQwCnX0sPf2CLA0NTMz1o0jSb-APUmBibBgQbOoINMmYOP0GOICjAXH68SiIwm98uH4UWAm-EEBVgMWLhCwpyA0NDY0wyPR0VFQEAGWBPHc!/\" id=\"YqbV:Hl4si3\" rel=\"alternate\"/> \n",
      "\n",
      "<a href=\"https://fema.gov/\"><img alt=\"Federal Emergency Management Agency\" src=\"/femaportal/wps/contenthandler/!ut/p/digest!AVpjyN-eMXoHdj8JKNHpMA/war/mipPortal85ThemeStatic/themes/mipPortal85Theme/MIP/images/logofema.png\"/></a> \n",
      "\n",
      "<a href=\"https://msc.fema.gov/\">FEMAs Map Service Center (MSC)</a> \n",
      "\n",
      "<a href=\"https://msc.fema.gov/nfhl\">NFHL Viewer</a> \n",
      "\n",
      "<a href=\"https://www.floodmaps.fema.gov/NFHL/status.shtml\"> NFHL Status Page</a> \n",
      "\n",
      "<a href=\"https://hazards.fema.gov/femaportal/prelimdownload/\">preliminary FEMA Map Products page</a> \n",
      "\n",
      "<a href=\"https://msc.fema.gov/fmcv\">Flood Map Changes Viewer (FMCV)</a> \n",
      "\n",
      "<a href=\"https://www.fema.gov/view-your-communitys-preliminary-flood-hazard-data-0\">Preliminary National Flood Hazard Layer webpage</a> \n",
      "\n",
      "<a href=\"https://www.fema.gov/flood-maps/national-flood-hazard-layer\">site</a> \n",
      "\n",
      "<a href=\"https://hazards-fema.maps.arcgis.com/apps/webappviewer/index.html?id=8b0adb51996444d4879338b5529aa9cd\">NFHL on FEMA GeoPlatform</a> \n",
      "\n",
      "<a href=\"https://pm.riskmapcds.com/kss/Lists/KSS_Standards2/DispForm.aspx?ID=2566\">Base Map Standards (420)</a> \n",
      "\n",
      "<a href=\"https://riskmapportal.msc.fema.gov/kss/MapChanges/default.aspx\">https://riskmapportal.msc.fema.gov/kss/MapChanges/default.aspx</a> \n",
      "\n",
      "<a href=\"https://msc.fema.gov/portal/advanceSearch\">MSC</a> \n",
      "\n",
      "<a href=\"https://hazards.fema.gov/gis/nfhl/rest/services/public/NFHL/MapServer/WFSServer?SERVICE=WFS&amp;VERSION=1.1.0&amp;REQUEST=GetFeature&amp;TYPENAME=public_NFHL%3AFlood_Hazard_Zones&amp;BBOX=40.779527%2C-72.788755%2C40.789527%2C-72.778755%2Curn%3Aogc%3Adef%3Acrs%3AEPSG%3A6.9%3A4269&amp;MAXFEATURES=1000\">\n",
      "an example of a WFS GetFeature request for the Flood Hazard Zone layer</a> \n",
      "\n",
      "<a href=\"https://resources.arcgis.com/en/help/main/10.1/index.html#//0154000004rz000000\">the topic on the ESRI help site</a> \n",
      "\n",
      "<a href=\"https://www.dhs.gov/\"><abbr title=\"Department of Homeland Security\">DHS</abbr>.gov</a> \n",
      "\n",
      "<a href=\"https://fema.gov/\"><abbr title=\"Federal Emergency Management Agency\">FEMA</abbr>.gov</a> \n",
      "\n",
      "<a href=\"https://www.fema.gov/privacy-comment-policy\">Privacy Policy</a> \n",
      "\n",
      "<a href=\"https://www.fema.gov/accessibility\">Accessibility</a> \n",
      "\n",
      "<a href=\"https://www.fema.gov/website-resources\">Site Help</a> \n",
      "\n",
      "<a href=\"https://www.fema.gov/contact-us\">Contact Us</a> \n",
      "\n"
     ]
    }
   ],
   "source": [
    "links_elems = soup.select('[href^=\"http\"]')\n",
    "for i in links_elems:\n",
    "    print(i,\"\\n\")"
   ]
  },
  {
   "cell_type": "code",
   "execution_count": null,
   "id": "dc7cddc4",
   "metadata": {},
   "outputs": [],
   "source": []
  }
 ],
 "metadata": {
  "kernelspec": {
   "display_name": "Python 3 (ipykernel)",
   "language": "python",
   "name": "python3"
  },
  "language_info": {
   "codemirror_mode": {
    "name": "ipython",
    "version": 3
   },
   "file_extension": ".py",
   "mimetype": "text/x-python",
   "name": "python",
   "nbconvert_exporter": "python",
   "pygments_lexer": "ipython3",
   "version": "3.9.13"
  }
 },
 "nbformat": 4,
 "nbformat_minor": 5
}
