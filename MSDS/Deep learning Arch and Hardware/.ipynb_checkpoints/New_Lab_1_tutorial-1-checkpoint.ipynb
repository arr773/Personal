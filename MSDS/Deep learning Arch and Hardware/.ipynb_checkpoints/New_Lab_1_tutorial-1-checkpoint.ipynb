{
 "cells": [
  {
   "cell_type": "code",
   "execution_count": 16,
   "metadata": {
    "id": "ADq0kjF1gvsJ"
   },
   "outputs": [],
   "source": [
    "import torch\n",
    "import numpy as np\n",
    "import matplotlib.pyplot as plt"
   ]
  },
  {
   "cell_type": "code",
   "execution_count": 17,
   "metadata": {
    "colab": {
     "base_uri": "https://localhost:8080/"
    },
    "id": "mdrlduNbulsQ",
    "outputId": "d89de9e2-b5f7-402e-c647-5fb13ba49a4c"
   },
   "outputs": [
    {
     "name": "stdout",
     "output_type": "stream",
     "text": [
      "tensor([[1., 1., 1.],\n",
      "        [1., 1., 1.],\n",
      "        [1., 1., 1.],\n",
      "        [1., 1., 1.]])\n"
     ]
    }
   ],
   "source": [
    "## creating a tensor of 4 rows and 3 columns consisting of ones\n",
    "x = torch.ones(4, 3)\n",
    "print(x)"
   ]
  },
  {
   "cell_type": "code",
   "execution_count": 18,
   "metadata": {
    "colab": {
     "base_uri": "https://localhost:8080/"
    },
    "id": "nt3H-ZB-vddC",
    "outputId": "16162159-2c77-4489-a1b6-112b2d51f153"
   },
   "outputs": [
    {
     "name": "stdout",
     "output_type": "stream",
     "text": [
      "tensor([[0., 0., 0.],\n",
      "        [0., 0., 0.],\n",
      "        [0., 0., 0.],\n",
      "        [0., 0., 0.]])\n"
     ]
    }
   ],
   "source": [
    "## creating a tensor of 4 rows and 3 columns consisting of zeros\n",
    "x = torch.zeros(4, 3)\n",
    "print(x)"
   ]
  },
  {
   "cell_type": "code",
   "execution_count": 19,
   "metadata": {
    "colab": {
     "base_uri": "https://localhost:8080/"
    },
    "id": "wKe4WflGw6qO",
    "outputId": "25e5dd86-5d45-4ed0-e400-ae3741067a45"
   },
   "outputs": [
    {
     "name": "stdout",
     "output_type": "stream",
     "text": [
      "tensor([[0.0043, 0.1056, 0.2858],\n",
      "        [0.0270, 0.4716, 0.0601],\n",
      "        [0.7719, 0.7437, 0.5944],\n",
      "        [0.8879, 0.4510, 0.7995]])\n"
     ]
    }
   ],
   "source": [
    "## We often set a specific value as random seed to increase the reproducibility\n",
    "torch.manual_seed(3)\n",
    "## generating a random tensor\n",
    "x = torch.rand(4, 3)\n",
    "print(x)"
   ]
  },
  {
   "cell_type": "code",
   "execution_count": 20,
   "metadata": {
    "colab": {
     "base_uri": "https://localhost:8080/"
    },
    "id": "FqfEEzen0goA",
    "outputId": "fdc1cd15-3e92-487f-9eeb-52bcac29e10f"
   },
   "outputs": [
    {
     "name": "stdout",
     "output_type": "stream",
     "text": [
      "tensor([[ 0.3375,  1.0111, -1.4352],\n",
      "        [ 0.9774,  0.5220,  1.2379],\n",
      "        [-0.8646,  0.2990,  0.4192],\n",
      "        [-0.0799,  0.9264,  0.8157]])\n"
     ]
    }
   ],
   "source": [
    "## generating a random tensor from normal distribution\n",
    "x = torch.randn(4, 3)\n",
    "print(x)"
   ]
  },
  {
   "cell_type": "code",
   "execution_count": 21,
   "metadata": {
    "colab": {
     "base_uri": "https://localhost:8080/"
    },
    "id": "hCz8fF5C0uFg",
    "outputId": "4756aeaf-2c6b-41ce-8c26-57e102a3edd0"
   },
   "outputs": [
    {
     "name": "stdout",
     "output_type": "stream",
     "text": [
      "tensor([7, 8, 9])\n",
      "tensor(2)\n",
      "tensor(2)\n",
      "2\n",
      "tensor([[1, 2, 3],\n",
      "        [4, 5, 6],\n",
      "        [7, 8, 9]])\n"
     ]
    }
   ],
   "source": [
    "## create a tensor with certain values\n",
    "x = torch.tensor([[1, 2, 3],\n",
    "                  [4, 5, 6],\n",
    "                  [7, 8, 9]])\n",
    "## get the third row (the index start with 0)\n",
    "print(x[2])\n",
    "## get the element in row 1, and col 2\n",
    "print(x[0][1]) # essentially (x[0])[1]\n",
    "print(x[0, 1])\n",
    "## get the value of one element tensor by using item()\n",
    "print(x[0][1].item())\n",
    "## access a range of elements\n",
    "print(x[0:3, 0:3]) # start index is 0, end index is 3\n",
    "                   # the range will include the start index\n",
    "                   # and exclude the end index"
   ]
  },
  {
   "cell_type": "code",
   "execution_count": 22,
   "metadata": {
    "colab": {
     "base_uri": "https://localhost:8080/"
    },
    "id": "FDkkyORL04sp",
    "outputId": "d431e78f-5d4a-4ff4-d0ef-ba63754cfa22"
   },
   "outputs": [
    {
     "name": "stdout",
     "output_type": "stream",
     "text": [
      "tensor([3, 6, 9])\n",
      "tensor([1, 2, 3])\n",
      "tensor([2, 5, 8])\n"
     ]
    }
   ],
   "source": [
    "## create a tensor with certain values\n",
    "x = torch.tensor([[1, 2, 3],\n",
    "                  [4, 5, 6],\n",
    "                  [7, 8, 9]])\n",
    "## try to slicing commands\n",
    "print(x[:, 2]) # Every row, only the last column\n",
    "print(x[0, :]) # Every column in frist row\n",
    "y = x[:, 1] # take the elements in the second columns and create another tensor\n",
    "print(y)"
   ]
  },
  {
   "cell_type": "code",
   "execution_count": 23,
   "metadata": {
    "colab": {
     "base_uri": "https://localhost:8080/"
    },
    "id": "bvUKmdRI1mWD",
    "outputId": "79f743c9-9f49-4b56-f226-7e0800349b19"
   },
   "outputs": [
    {
     "name": "stdout",
     "output_type": "stream",
     "text": [
      "tensor([[1, 2, 3],\n",
      "        [4, 5, 6]])\n"
     ]
    }
   ],
   "source": [
    "## create a tensor with 3 rows and 2 columns\n",
    "x = torch.tensor([[1, 2],\n",
    "                  [3, 4],\n",
    "                  [5, 6]])\n",
    "## reshaping to 2 rows and 3 columns\n",
    "y = x.view(2, 3)\n",
    "print(y)"
   ]
  },
  {
   "cell_type": "code",
   "execution_count": 24,
   "metadata": {
    "colab": {
     "base_uri": "https://localhost:8080/"
    },
    "id": "qsUnTjlC12-n",
    "outputId": "4984cdbc-cfc2-4401-9fc1-80d06a27d173"
   },
   "outputs": [
    {
     "name": "stdout",
     "output_type": "stream",
     "text": [
      "tensor([[1],\n",
      "        [2],\n",
      "        [3],\n",
      "        [4],\n",
      "        [5],\n",
      "        [6]])\n"
     ]
    }
   ],
   "source": [
    "## create a tensor with 3 rows and 2 columns\n",
    "x = torch.tensor([[1, 2],\n",
    "                  [3, 4],\n",
    "                  [5, 6]])\n",
    "## use of -1 to reshaping a tensor\n",
    "y = x.view(6, -1)\n",
    "print(y)"
   ]
  },
  {
   "cell_type": "code",
   "execution_count": 31,
   "metadata": {
    "colab": {
     "base_uri": "https://localhost:8080/"
    },
    "id": "kPhWpoWb2EFs",
    "outputId": "e7534b9f-3b2f-4934-ef4c-5a479c1f16eb"
   },
   "outputs": [
    {
     "name": "stdout",
     "output_type": "stream",
     "text": [
      "tensor([[2., 2.],\n",
      "        [2., 2.],\n",
      "        [2., 2.]])\n",
      "tensor([[2., 2.],\n",
      "        [2., 2.],\n",
      "        [2., 2.]])\n",
      "tensor([[0., 0.],\n",
      "        [0., 0.],\n",
      "        [0., 0.]])\n",
      "tensor([[0., 0.],\n",
      "        [0., 0.],\n",
      "        [0., 0.]])\n"
     ]
    }
   ],
   "source": [
    "# create two tensors\n",
    "x = torch.ones([3, 2])\n",
    "y = torch.ones([3, 2])\n",
    "\n",
    "# adding two tensors\n",
    "z1_add = x + y #method 1\n",
    "z2_add = torch.add(x, y) #method 2\n",
    "print(z1_add)\n",
    "print(z2_add)\n",
    "\n",
    "# substracting two tensors\n",
    "z1_sub = x - y #method 1\n",
    "z2_sub = torch.sub(x,y) #method 2\n",
    "print(z1_sub)\n",
    "print(z2_sub)"
   ]
  },
  {
   "cell_type": "code",
   "execution_count": 32,
   "metadata": {
    "colab": {
     "base_uri": "https://localhost:8080/"
    },
    "id": "X5YtPXmr2IVm",
    "outputId": "2a1ef3f7-3d7c-4797-f759-895cd9eccf5b"
   },
   "outputs": [
    {
     "name": "stdout",
     "output_type": "stream",
     "text": [
      "tensor([[1., 1.],\n",
      "        [1., 1.],\n",
      "        [1., 1.]])\n",
      "tensor([[1., 1.],\n",
      "        [1., 1.],\n",
      "        [1., 1.]])\n"
     ]
    }
   ],
   "source": [
    "## create two tensors\n",
    "x = torch.ones([3, 2])\n",
    "y = torch.ones([3, 2])\n",
    "\n",
    "## multiplying two tensors\n",
    "z1_mul = x * y # method 1\n",
    "z2_mul = torch.mul(x, y) # method 2\n",
    "\n",
    "print(z1_mul)\n",
    "print(z2_mul)"
   ]
  },
  {
   "cell_type": "code",
   "execution_count": 33,
   "metadata": {
    "colab": {
     "base_uri": "https://localhost:8080/"
    },
    "id": "7-VsdNZn2x4u",
    "outputId": "fa73fc44-643b-44ea-da05-73966158b7c2"
   },
   "outputs": [
    {
     "name": "stdout",
     "output_type": "stream",
     "text": [
      "tensor([[1., 1.],\n",
      "        [1., 1.],\n",
      "        [1., 1.]])\n",
      "tensor([[2., 2.],\n",
      "        [2., 2.],\n",
      "        [2., 2.]])\n",
      "tensor([[2., 2.],\n",
      "        [2., 2.],\n",
      "        [2., 2.]])\n"
     ]
    }
   ],
   "source": [
    "## create two tensors\n",
    "x = torch.ones(3, 2)\n",
    "y = torch.ones(3, 2)\n",
    "print(y)\n",
    "## inplace operation\n",
    "z = y.add_(x)\n",
    "print(y)\n",
    "print(z)"
   ]
  },
  {
   "cell_type": "code",
   "execution_count": 45,
   "metadata": {
    "colab": {
     "base_uri": "https://localhost:8080/"
    },
    "id": "BS6yiUpU3gOo",
    "outputId": "8c8af161-18f5-4511-d974-4b33117833b1"
   },
   "outputs": [
    {
     "name": "stdout",
     "output_type": "stream",
     "text": [
      "1\n",
      "Tesla T4\n"
     ]
    }
   ],
   "source": [
    "\n",
    "## check the number of CUDA supported GPU that connected to the machine\n",
    "print(torch.cuda.device_count())\n",
    "## get the name of the GPU Card\n",
    "print(torch.cuda.get_device_name(0))\n"
   ]
  },
  {
   "cell_type": "code",
   "execution_count": 61,
   "metadata": {
    "colab": {
     "base_uri": "https://localhost:8080/"
    },
    "id": "nUpSWPsYEVHK",
    "outputId": "fbe39744-27d4-4566-b86f-c751e38849af"
   },
   "outputs": [
    {
     "name": "stdout",
     "output_type": "stream",
     "text": [
      "CPU Seconds passed:54.449613094329834\n"
     ]
    }
   ],
   "source": [
    "import time\n",
    "## create numpy tensor with size of (10000,10000)\n",
    "a = np.random.rand(10000,10000)\n",
    "a_tensor = torch.from_numpy(a).cpu()\n",
    "start1 = time.time()\n",
    "a_tensor_matmul = torch.matmul(a_tensor.T,a_tensor)\n",
    "print(\"CPU Seconds passed:{}\".format(time.time()-start1))"
   ]
  },
  {
   "cell_type": "code",
   "execution_count": 62,
   "metadata": {
    "colab": {
     "base_uri": "https://localhost:8080/"
    },
    "id": "ypiNbRn7BLum",
    "outputId": "429f2eb7-88b0-4619-9647-37d93c4d18e9"
   },
   "outputs": [
    {
     "name": "stdout",
     "output_type": "stream",
     "text": [
      "GPU Seconds passed:0.12426137924194336\n"
     ]
    }
   ],
   "source": [
    "## performing operations on GPU\n",
    "## transfer data into cuda\n",
    "a_tensor_gpu = a_tensor.cuda()\n",
    "start2 = time.time()\n",
    "a_tensor_gpu_matmul = torch.matmul(a_tensor_gpu.T,a_tensor_gpu)\n",
    "print(\"GPU Seconds passed:{}\".format(time.time()-start2))"
   ]
  },
  {
   "cell_type": "code",
   "execution_count": 29,
   "metadata": {
    "colab": {
     "base_uri": "https://localhost:8080/"
    },
    "id": "2ck5_xOR5DQt",
    "outputId": "1d264502-2892-4ed5-ae5d-5fc3172c1dc9"
   },
   "outputs": [
    {
     "name": "stdout",
     "output_type": "stream",
     "text": [
      "tensor([[1., 1., 1.],\n",
      "        [1., 1., 1.],\n",
      "        [1., 1., 1.]], requires_grad=True)\n",
      "tensor([[2., 2., 2.],\n",
      "        [2., 2., 2.],\n",
      "        [2., 2., 2.]], grad_fn=<AddBackward0>)\n",
      "tensor([[4., 4., 4.],\n",
      "        [4., 4., 4.],\n",
      "        [4., 4., 4.]], grad_fn=<MulBackward0>)\n",
      "tensor(36., grad_fn=<SumBackward0>)\n",
      "tensor([[4., 4., 4.],\n",
      "        [4., 4., 4.],\n",
      "        [4., 4., 4.]])\n"
     ]
    }
   ],
   "source": [
    "## create a tensor with requires_grad = True\n",
    "## this will track all the operations performing on that tensor\n",
    "x = torch.ones([3, 3], requires_grad = True)\n",
    "print(x)\n",
    "\n",
    "## perform a tensor addition and check the result\n",
    "y = x + 1\n",
    "print(y)\n",
    "\n",
    "## perform a tensor multiplication and check the result\n",
    "z = y * y\n",
    "print(z)\n",
    "\n",
    "## adding all the values in z and check the result\n",
    "t = torch.sum(z)\n",
    "print(t)\n",
    "\n",
    "## perform backpropagation (partial derivate of t with respect to x) and check the result\n",
    "t.backward()\n",
    "print(x.grad)"
   ]
  },
  {
   "cell_type": "code",
   "execution_count": 30,
   "metadata": {
    "colab": {
     "base_uri": "https://localhost:8080/",
     "height": 141
    },
    "id": "JjaYC4frTJRC",
    "outputId": "bc1ed8ee-910a-4037-aacd-43f639f369dc"
   },
   "outputs": [
    {
     "ename": "IndentationError",
     "evalue": "ignored",
     "output_type": "error",
     "traceback": [
      "\u001b[0;36m  File \u001b[0;32m\"<ipython-input-30-5d2396140a46>\"\u001b[0;36m, line \u001b[0;32m12\u001b[0m\n\u001b[0;31m    class test_data(Dataset):\u001b[0m\n\u001b[0m    ^\u001b[0m\n\u001b[0;31mIndentationError\u001b[0m\u001b[0;31m:\u001b[0m expected an indented block after class definition on line 8\n"
     ]
    }
   ],
   "source": [
    "import torch\n",
    "## It is recommended that using a class to customize the Dataset\n",
    "## so that you can create an iterable loader by DataLoader.\n",
    "from torch.utils.data import Dataset, DataLoader\n",
    "## using matplotlib to plot your losses\n",
    "import matplotlib.pyplot as plt\n",
    "\n",
    "class train_data(Dataset):\n",
    "   ## your code is here\n",
    "   ## you need to define __init__, __len__, __getitem__ at least\n",
    "\n",
    "class test_data(Dataset):\n",
    "   ## your code is here\n",
    "\n",
    "## You can implement the delta_rule and batch_delta_rule with\n",
    "## functions or classes. The following code is just for reference.\n",
    "def delta_rule(your_model, your_dataloader):\n",
    "   ## your code is here\n",
    "   ## plot your figure of loss changes after training\n",
    "   ## or return the loss array of each iterations/epochs\n",
    "\n",
    "def batch_delta_rule(your_model, your_dataloader):\n",
    "   ## your code is here\n",
    "\n",
    "## In this case you should run delta_rule(model, train_loader) and\n",
    "## batch_delta_rule(model, train_loader) respectively.\n",
    "## Applying the above weights updating methods to train\n",
    "## your model instead of using the training API of pytorch.\n",
    "## Again, you can complete it in your own way"
   ]
  }
 ],
 "metadata": {
  "accelerator": "GPU",
  "colab": {
   "gpuType": "T4",
   "provenance": []
  },
  "kernelspec": {
   "display_name": "Python 3 (ipykernel)",
   "language": "python",
   "name": "python3"
  },
  "language_info": {
   "codemirror_mode": {
    "name": "ipython",
    "version": 3
   },
   "file_extension": ".py",
   "mimetype": "text/x-python",
   "name": "python",
   "nbconvert_exporter": "python",
   "pygments_lexer": "ipython3",
   "version": "3.9.13"
  }
 },
 "nbformat": 4,
 "nbformat_minor": 1
}
