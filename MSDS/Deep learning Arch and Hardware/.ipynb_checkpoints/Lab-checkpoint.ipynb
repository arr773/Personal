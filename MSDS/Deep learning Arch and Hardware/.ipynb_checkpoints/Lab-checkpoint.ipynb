{
 "cells": [
  {
   "cell_type": "code",
   "execution_count": 2,
   "id": "45746038",
   "metadata": {},
   "outputs": [
    {
     "name": "stdout",
     "output_type": "stream",
     "text": [
      "Collecting torch\n",
      "  Downloading torch-2.0.1-cp39-cp39-win_amd64.whl (172.4 MB)\n",
      "     -------------------------------------- 172.4/172.4 MB 9.3 MB/s eta 0:00:00\n",
      "Requirement already satisfied: filelock in c:\\users\\aaryan agarwal\\anaconda3\\lib\\site-packages (from torch) (3.6.0)\n",
      "Requirement already satisfied: typing-extensions in c:\\users\\aaryan agarwal\\anaconda3\\lib\\site-packages (from torch) (4.3.0)\n",
      "Requirement already satisfied: sympy in c:\\users\\aaryan agarwal\\anaconda3\\lib\\site-packages (from torch) (1.10.1)\n",
      "Requirement already satisfied: jinja2 in c:\\users\\aaryan agarwal\\anaconda3\\lib\\site-packages (from torch) (2.11.3)\n",
      "Requirement already satisfied: networkx in c:\\users\\aaryan agarwal\\anaconda3\\lib\\site-packages (from torch) (2.8.4)\n",
      "Requirement already satisfied: MarkupSafe>=0.23 in c:\\users\\aaryan agarwal\\anaconda3\\lib\\site-packages (from jinja2->torch) (2.0.1)\n",
      "Requirement already satisfied: mpmath>=0.19 in c:\\users\\aaryan agarwal\\anaconda3\\lib\\site-packages (from sympy->torch) (1.2.1)\n",
      "Installing collected packages: torch\n",
      "Successfully installed torch-2.0.1\n"
     ]
    }
   ],
   "source": [
    "import torch\n",
    "import numpy\n",
    "import matplotlib.pyplot as plt\n",
    "from torch.utils.data import Dataset,DataLoader"
   ]
  },
  {
   "cell_type": "code",
   "execution_count": 4,
   "id": "56b9d6bc",
   "metadata": {},
   "outputs": [],
   "source": [
    "data_train={\"inputs\":[[5,2,4],[3,3,3],[0,5,1],[2,1,2]],\n",
    "            \"targets\":[1250,900,350,550],\n",
    "            \"lr\":[1/70,1/12,1/27,2/20]}\n",
    "weights=[50,50,50]"
   ]
  },
  {
   "cell_type": "code",
   "execution_count": 5,
   "id": "78fb0708",
   "metadata": {},
   "outputs": [],
   "source": [
    "def our_model(x,w):\n",
    "    out=torch.dot(x,w)\n",
    "    return out"
   ]
  },
  {
   "cell_type": "code",
   "execution_count": 32,
   "id": "40ec22b1",
   "metadata": {},
   "outputs": [
    {
     "data": {
      "text/plain": [
       "tensor([134.,  52., 114.])"
      ]
     },
     "execution_count": 32,
     "metadata": {},
     "output_type": "execute_result"
    }
   ],
   "source": [
    "def delta_rule(model,data,weights):\n",
    "  ## your code is here\n",
    "    w=[]\n",
    "    loss=[]\n",
    "    for x in weights:\n",
    "        w.append(x)\n",
    "    w=torch.FloatTensor(w)\n",
    "    inputs=data[\"inputs\"]\n",
    "    targets=data[\"targets\"]\n",
    "    lr=data[\"lr\"]\n",
    "    for inputs,targets,lr in zip(inputs,targets,lr):\n",
    "        x=torch.FloatTensor(inputs)\n",
    "        t=torch.FloatTensor(targets)\n",
    "        y=model(x,w)\n",
    "        error=targets-y\n",
    "        w+=x*error*lr\n",
    "#         print(targets-y)\n",
    "#         print(w)\n",
    "    return(w)\n",
    "delta_rule(our_model,data_train,weights)\n",
    "  ## plot you figure of loss changes after training\n",
    "  ## or return the loss array of each iterations/epochs"
   ]
  },
  {
   "cell_type": "code",
   "execution_count": null,
   "id": "3a7822c1",
   "metadata": {},
   "outputs": [],
   "source": []
  }
 ],
 "metadata": {
  "kernelspec": {
   "display_name": "Python 3 (ipykernel)",
   "language": "python",
   "name": "python3"
  },
  "language_info": {
   "codemirror_mode": {
    "name": "ipython",
    "version": 3
   },
   "file_extension": ".py",
   "mimetype": "text/x-python",
   "name": "python",
   "nbconvert_exporter": "python",
   "pygments_lexer": "ipython3",
   "version": "3.9.13"
  }
 },
 "nbformat": 4,
 "nbformat_minor": 5
}
