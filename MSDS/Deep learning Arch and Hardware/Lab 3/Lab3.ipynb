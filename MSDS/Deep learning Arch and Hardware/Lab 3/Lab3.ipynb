{
  "cells": [
    {
      "cell_type": "code",
      "execution_count": null,
      "metadata": {
        "colab": {
          "base_uri": "https://localhost:8080/"
        },
        "id": "PXaNkpR9pX9U",
        "outputId": "9abdd01e-cebc-4fb4-a500-40ec69a56da7"
      },
      "outputs": [
        {
          "output_type": "stream",
          "name": "stdout",
          "text": [
            "GPU is available and being used\n"
          ]
        }
      ],
      "source": [
        "import torch\n",
        "import torch.nn as nn\n",
        "import torch.nn.functional as F\n",
        "\n",
        "if torch.cuda.is_available():\n",
        "    device = torch.device(\"cuda\")\n",
        "    print(\"GPU is available and being used\")\n",
        "else:\n",
        "    device = torch.device(\"cpu\")\n",
        "    print(\"GPU is not available, using CPU instead\")\n",
        "\n",
        "class AlexNet(nn.Module):\n",
        "    def __init__(self, num_classes: int = 10, dropout: float = 0.5) -> None:\n",
        "        super().__init__()\n",
        "        # _log_api_usage_once(self)\n",
        "        self.features = nn.Sequential(\n",
        "            nn.Conv2d(3, 96, kernel_size=11, stride=4, padding=2),\n",
        "            nn.ReLU(inplace=True),\n",
        "            nn.MaxPool2d(kernel_size=3, stride=2),\n",
        "            nn.Conv2d(96, 256, kernel_size=5, padding=2),\n",
        "            nn.ReLU(inplace=True),\n",
        "            nn.MaxPool2d(kernel_size=3, stride=2),\n",
        "            nn.Conv2d(256, 384, kernel_size=3, padding=1),\n",
        "            nn.ReLU(inplace=True),\n",
        "            nn.Conv2d(384, 384, kernel_size=3, padding=1),\n",
        "            nn.ReLU(inplace=True),\n",
        "            nn.Conv2d(384, 256, kernel_size=3, padding=1),\n",
        "            nn.ReLU(inplace=True),\n",
        "            nn.MaxPool2d(kernel_size=3, stride=2),\n",
        "        )\n",
        "        self.avgpool = nn.AdaptiveAvgPool2d((6, 6))\n",
        "        self.classifier = nn.Sequential(\n",
        "            nn.Dropout(p=dropout),\n",
        "            nn.Linear(256*6*6, 4096),\n",
        "            nn.ReLU(inplace=True),\n",
        "            nn.Dropout(p=dropout),\n",
        "            nn.Linear(4096, 4096),\n",
        "            nn.ReLU(inplace=True),\n",
        "            nn.Linear(4096, 10),\n",
        "        )\n",
        "\n",
        "    def forward(self, x: torch.Tensor) -> torch.Tensor:\n",
        "        x = self.features(x)\n",
        "        x = self.avgpool(x)\n",
        "        x = torch.flatten(x, 1)\n",
        "        x = self.classifier(x)\n",
        "        return x\n"
      ]
    },
    {
      "cell_type": "code",
      "execution_count": null,
      "metadata": {
        "colab": {
          "base_uri": "https://localhost:8080/"
        },
        "id": "4lJcLHmxp0ll",
        "outputId": "aa53d2d3-5a23-4653-f508-65f48273016f"
      },
      "outputs": [
        {
          "output_type": "stream",
          "name": "stdout",
          "text": [
            "Files already downloaded and verified\n"
          ]
        },
        {
          "output_type": "execute_result",
          "data": {
            "text/plain": [
              "torch.Size([1000, 3, 64, 64])"
            ]
          },
          "metadata": {},
          "execution_count": 2
        }
      ],
      "source": [
        "import torchvision.transforms as transforms\n",
        "from torchvision.datasets import CIFAR10\n",
        "from torch.utils.data import DataLoader, random_split\n",
        "\n",
        "#Resizing the mnist dataset\n",
        "transform = transforms.Compose([\n",
        "    transforms.Resize((64)),\n",
        "    # transforms.CenterCrop(224),\n",
        "    transforms.ToTensor(),\n",
        "     transforms.Normalize(mean=[0.485, 0.456, 0.406], std=[0.229, 0.224, 0.225])\n",
        "])\n",
        "\n",
        "#cownloadind the MNIST dataset\n",
        "train_dataset = CIFAR10(root='./data', train=True, transform=transform, download=True)\n",
        "test_dataset = CIFAR10(root='./data', train=False, transform=transform)\n",
        "\n",
        "#creating dataloaders\n",
        "batch_size = 1000\n",
        "train_loader = DataLoader(train_dataset, batch_size=batch_size, shuffle=True)\n",
        "test_loader = DataLoader(test_dataset, batch_size=batch_size, shuffle=True)\n",
        "dataiter = iter(train_loader)\n",
        "images, labels = next(dataiter)\n",
        "images.size()\n"
      ]
    },
    {
      "cell_type": "code",
      "execution_count": null,
      "metadata": {
        "colab": {
          "base_uri": "https://localhost:8080/"
        },
        "id": "2J1v7quVrZx8",
        "outputId": "a91ee6a5-14da-4372-f9d0-d997168078c6"
      },
      "outputs": [
        {
          "output_type": "execute_result",
          "data": {
            "text/plain": [
              "50000"
            ]
          },
          "metadata": {},
          "execution_count": 3
        }
      ],
      "source": [
        "len(train_dataset)"
      ]
    },
    {
      "cell_type": "code",
      "execution_count": null,
      "metadata": {
        "colab": {
          "base_uri": "https://localhost:8080/"
        },
        "id": "wIzRl1IZrd1_",
        "outputId": "f72e61f6-463d-49ee-969d-76257dd1a35c"
      },
      "outputs": [
        {
          "output_type": "execute_result",
          "data": {
            "text/plain": [
              "10000"
            ]
          },
          "metadata": {},
          "execution_count": 4
        }
      ],
      "source": [
        "len(test_dataset)"
      ]
    },
    {
      "cell_type": "code",
      "execution_count": null,
      "metadata": {
        "colab": {
          "base_uri": "https://localhost:8080/"
        },
        "id": "6vh3dEv0rgKc",
        "outputId": "ed80d2ed-fbf2-4466-a145-d4cf02917d78"
      },
      "outputs": [
        {
          "output_type": "execute_result",
          "data": {
            "text/plain": [
              "50"
            ]
          },
          "metadata": {},
          "execution_count": 5
        }
      ],
      "source": [
        "len(train_loader)"
      ]
    },
    {
      "cell_type": "code",
      "execution_count": null,
      "metadata": {
        "colab": {
          "base_uri": "https://localhost:8080/"
        },
        "id": "8WqOyY7vrv77",
        "outputId": "e7807c59-e621-44c3-9aad-cb6d8b9dbd35"
      },
      "outputs": [
        {
          "output_type": "execute_result",
          "data": {
            "text/plain": [
              "10"
            ]
          },
          "metadata": {},
          "execution_count": 6
        }
      ],
      "source": [
        "len(test_loader)"
      ]
    },
    {
      "cell_type": "code",
      "execution_count": null,
      "metadata": {
        "id": "H_DuuEjxrx29"
      },
      "outputs": [],
      "source": [
        "model = AlexNet().to(device)\n",
        "learning_rate=0.001\n",
        "#Setting the loss function\n",
        "cost = nn.CrossEntropyLoss()\n",
        "\n",
        "#Setting the optimizer with the model parameters and learning rate\n",
        "optimizer = torch.optim.Adam(model.parameters(), lr=learning_rate)\n"
      ]
    },
    {
      "cell_type": "code",
      "execution_count": null,
      "metadata": {
        "colab": {
          "base_uri": "https://localhost:8080/"
        },
        "id": "ElqINFT_sQ0a",
        "outputId": "1fa12808-b813-4b1b-d618-0b8554ad8683"
      },
      "outputs": [
        {
          "output_type": "stream",
          "name": "stdout",
          "text": [
            "Epoch [1/100], Loss: 2.4239, Accuracy: 12.34%\n",
            "Epoch [2/100], Loss: 1.9996, Accuracy: 22.02%\n",
            "Epoch [3/100], Loss: 1.6990, Accuracy: 32.16%\n",
            "Epoch [4/100], Loss: 1.5554, Accuracy: 39.85%\n",
            "Epoch [5/100], Loss: 1.4189, Accuracy: 46.75%\n",
            "Epoch [6/100], Loss: 1.2960, Accuracy: 52.85%\n",
            "Epoch [7/100], Loss: 1.1715, Accuracy: 57.80%\n",
            "Epoch [8/100], Loss: 1.0819, Accuracy: 61.20%\n",
            "Epoch [9/100], Loss: 0.9883, Accuracy: 64.93%\n",
            "Epoch [10/100], Loss: 0.9379, Accuracy: 66.66%\n",
            "Epoch [11/100], Loss: 0.8739, Accuracy: 69.00%\n",
            "Epoch [12/100], Loss: 0.8201, Accuracy: 71.15%\n",
            "Epoch [13/100], Loss: 0.7603, Accuracy: 73.54%\n",
            "Epoch [14/100], Loss: 0.7304, Accuracy: 74.51%\n",
            "Epoch [15/100], Loss: 0.6828, Accuracy: 76.17%\n",
            "Epoch [16/100], Loss: 0.6187, Accuracy: 78.43%\n",
            "Epoch [17/100], Loss: 0.5959, Accuracy: 79.05%\n",
            "Epoch [18/100], Loss: 0.5523, Accuracy: 80.80%\n",
            "Epoch [19/100], Loss: 0.5132, Accuracy: 81.97%\n",
            "Epoch [20/100], Loss: 0.4700, Accuracy: 83.49%\n",
            "Epoch [21/100], Loss: 0.4313, Accuracy: 84.94%\n",
            "Epoch [22/100], Loss: 0.4310, Accuracy: 84.89%\n",
            "Epoch [23/100], Loss: 0.3817, Accuracy: 86.73%\n",
            "Epoch [24/100], Loss: 0.3671, Accuracy: 87.12%\n",
            "Epoch [25/100], Loss: 0.3151, Accuracy: 89.09%\n",
            "Epoch [26/100], Loss: 0.2963, Accuracy: 89.73%\n",
            "Epoch [27/100], Loss: 0.3027, Accuracy: 89.52%\n",
            "Epoch [28/100], Loss: 0.2532, Accuracy: 91.26%\n",
            "Epoch [29/100], Loss: 0.2435, Accuracy: 91.58%\n",
            "Epoch [30/100], Loss: 0.2218, Accuracy: 92.35%\n",
            "Epoch [31/100], Loss: 0.2009, Accuracy: 93.11%\n",
            "Epoch [32/100], Loss: 0.1958, Accuracy: 93.34%\n",
            "Epoch [33/100], Loss: 0.1979, Accuracy: 93.23%\n",
            "Epoch [34/100], Loss: 0.1743, Accuracy: 94.05%\n",
            "Epoch [35/100], Loss: 0.1525, Accuracy: 94.86%\n",
            "Epoch [36/100], Loss: 0.1324, Accuracy: 95.52%\n",
            "Epoch [37/100], Loss: 0.1464, Accuracy: 95.14%\n",
            "Epoch [38/100], Loss: 0.1463, Accuracy: 95.14%\n",
            "Epoch [39/100], Loss: 0.1243, Accuracy: 95.91%\n",
            "Epoch [40/100], Loss: 0.1016, Accuracy: 96.56%\n",
            "Epoch [41/100], Loss: 0.1087, Accuracy: 96.33%\n",
            "Epoch [42/100], Loss: 0.1061, Accuracy: 96.41%\n",
            "Epoch [43/100], Loss: 0.1137, Accuracy: 96.32%\n",
            "Epoch [44/100], Loss: 0.1168, Accuracy: 96.28%\n",
            "Epoch [45/100], Loss: 0.1097, Accuracy: 96.39%\n",
            "Epoch [46/100], Loss: 0.0948, Accuracy: 96.90%\n",
            "Epoch [47/100], Loss: 0.0803, Accuracy: 97.29%\n",
            "Epoch [48/100], Loss: 0.0813, Accuracy: 97.30%\n",
            "Epoch [49/100], Loss: 0.0751, Accuracy: 97.56%\n",
            "Epoch [50/100], Loss: 0.0826, Accuracy: 97.31%\n",
            "Epoch [51/100], Loss: 0.0981, Accuracy: 96.81%\n",
            "Epoch [52/100], Loss: 0.0830, Accuracy: 97.38%\n",
            "Epoch [53/100], Loss: 0.0601, Accuracy: 97.96%\n",
            "Epoch [54/100], Loss: 0.0836, Accuracy: 97.26%\n",
            "Epoch [55/100], Loss: 0.0644, Accuracy: 97.89%\n",
            "Epoch [56/100], Loss: 0.0888, Accuracy: 97.11%\n",
            "Epoch [57/100], Loss: 0.0864, Accuracy: 97.18%\n",
            "Epoch [58/100], Loss: 0.0760, Accuracy: 97.55%\n",
            "Epoch [59/100], Loss: 0.0767, Accuracy: 97.52%\n",
            "Epoch [60/100], Loss: 0.0587, Accuracy: 98.10%\n",
            "Epoch [61/100], Loss: 0.0596, Accuracy: 98.07%\n",
            "Epoch [62/100], Loss: 0.0713, Accuracy: 97.78%\n",
            "Epoch [63/100], Loss: 0.0694, Accuracy: 97.80%\n",
            "Epoch [64/100], Loss: 0.0628, Accuracy: 98.00%\n",
            "Epoch [65/100], Loss: 0.0566, Accuracy: 98.22%\n",
            "Epoch [66/100], Loss: 0.0518, Accuracy: 98.38%\n",
            "Epoch [67/100], Loss: 0.0466, Accuracy: 98.53%\n",
            "Epoch [68/100], Loss: 0.0632, Accuracy: 98.04%\n",
            "Epoch [69/100], Loss: 0.0694, Accuracy: 97.84%\n",
            "Epoch [70/100], Loss: 0.0575, Accuracy: 98.19%\n",
            "Epoch [71/100], Loss: 0.0625, Accuracy: 98.16%\n",
            "Epoch [72/100], Loss: 0.0538, Accuracy: 98.36%\n",
            "Epoch [73/100], Loss: 0.0687, Accuracy: 97.90%\n",
            "Epoch [74/100], Loss: 0.0530, Accuracy: 98.37%\n",
            "Epoch [75/100], Loss: 0.0532, Accuracy: 98.36%\n",
            "Epoch [76/100], Loss: 0.0488, Accuracy: 98.45%\n",
            "Epoch [77/100], Loss: 0.0547, Accuracy: 98.26%\n",
            "Epoch [78/100], Loss: 0.0564, Accuracy: 98.25%\n",
            "Epoch [79/100], Loss: 0.0623, Accuracy: 98.07%\n",
            "Epoch [80/100], Loss: 0.0549, Accuracy: 98.23%\n",
            "Epoch [81/100], Loss: 0.0469, Accuracy: 98.50%\n",
            "Epoch [82/100], Loss: 0.0554, Accuracy: 98.24%\n",
            "Epoch [83/100], Loss: 0.0654, Accuracy: 97.93%\n",
            "Epoch [84/100], Loss: 0.0570, Accuracy: 98.22%\n",
            "Epoch [85/100], Loss: 0.0480, Accuracy: 98.49%\n",
            "Epoch [86/100], Loss: 0.0603, Accuracy: 98.22%\n",
            "Epoch [87/100], Loss: 0.0559, Accuracy: 98.29%\n",
            "Epoch [88/100], Loss: 0.0527, Accuracy: 98.43%\n",
            "Epoch [89/100], Loss: 0.0468, Accuracy: 98.51%\n",
            "Epoch [90/100], Loss: 0.0507, Accuracy: 98.46%\n",
            "Epoch [91/100], Loss: 0.0650, Accuracy: 97.97%\n",
            "Epoch [92/100], Loss: 0.0645, Accuracy: 98.00%\n",
            "Epoch [93/100], Loss: 0.0526, Accuracy: 98.40%\n",
            "Epoch [94/100], Loss: 0.0511, Accuracy: 98.45%\n",
            "Epoch [95/100], Loss: 0.0497, Accuracy: 98.57%\n",
            "Epoch [96/100], Loss: 0.0567, Accuracy: 98.20%\n",
            "Epoch [97/100], Loss: 0.0573, Accuracy: 98.22%\n",
            "Epoch [98/100], Loss: 0.0474, Accuracy: 98.54%\n",
            "Epoch [99/100], Loss: 0.0368, Accuracy: 98.90%\n",
            "Epoch [100/100], Loss: 0.0578, Accuracy: 98.25%\n"
          ]
        }
      ],
      "source": [
        "num_epochs=30\n",
        "total_step = len(train_loader)\n",
        "train_losses = []\n",
        "train_accuracies = []\n",
        "for epoch in range(num_epochs):\n",
        "    running_loss = 0.0\n",
        "    correct_predictions = 0\n",
        "    total_predictions = 0\n",
        "\n",
        "\n",
        "    for i, (images, labels) in enumerate(train_loader):\n",
        "        images = images.to(device)\n",
        "        labels = labels.to(device)\n",
        "        optimizer.zero_grad()\n",
        "        #Forward pass\n",
        "        outputs = model(images)\n",
        "        # outputs=torch.res\n",
        "        # print(outputs.shape)\n",
        "        # newlabels=torch.eye(10)[labels]\n",
        "        loss = cost(outputs, labels)\n",
        "\n",
        "        # Backward and optimize\n",
        "\n",
        "        loss.backward()\n",
        "        optimizer.step()\n",
        "        # print(i)\n",
        "        running_loss += loss.item()\n",
        "        _, predicted = torch.max(outputs.data, 1)\n",
        "\n",
        "        correct_predictions += (predicted == labels).sum().item()\n",
        "        total_predictions += labels.size(0)\n",
        "        # print((predicted == labels).sum().item())\n",
        "        # print(labels.size(0))\n",
        "    #computing the average loss and accuracy for this epoch\n",
        "    epoch_loss = running_loss / len(train_loader)\n",
        "    epoch_accuracy = 100 * correct_predictions / total_predictions\n",
        "\n",
        "    #Storing loss\n",
        "    train_losses.append(epoch_loss)\n",
        "    train_accuracies.append(epoch_accuracy)\n",
        "\n",
        "    print(f\"Epoch [{epoch+1}/{num_epochs}], Loss: {epoch_loss:.4f}, Accuracy: {epoch_accuracy:.2f}%\")"
      ]
    },
    {
      "cell_type": "code",
      "execution_count": null,
      "metadata": {
        "colab": {
          "base_uri": "https://localhost:8080/"
        },
        "id": "opt9n6yoQ-WL",
        "outputId": "a6376700-b0e6-4629-aa1f-2107fd69c7b5"
      },
      "outputs": [
        {
          "output_type": "execute_result",
          "data": {
            "text/plain": [
              "98.248"
            ]
          },
          "metadata": {},
          "execution_count": 9
        }
      ],
      "source": [
        "accuracy"
      ]
    },
    {
      "cell_type": "code",
      "execution_count": null,
      "metadata": {
        "colab": {
          "base_uri": "https://localhost:8080/"
        },
        "id": "eMJBqvJGsZeQ",
        "outputId": "4b96ad80-596c-4f79-d88c-967d9cd003e1"
      },
      "outputs": [
        {
          "output_type": "stream",
          "name": "stdout",
          "text": [
            "Accuracy of the network on the 10000 test images: 66.8 %\n"
          ]
        }
      ],
      "source": [
        "with torch.no_grad():\n",
        "    correct = 0\n",
        "    total = 0\n",
        "    for images, labels in test_loader:\n",
        "        images = images.to(device)\n",
        "        labels = labels.to(device)\n",
        "        outputs = model(images)\n",
        "        _, predicted = torch.max(outputs.data, 1)\n",
        "        total += labels.size(0)\n",
        "        correct += (predicted == labels).sum().item()\n",
        "\n",
        "    print('Accuracy of the network on the 10000 test images: {} %'.format(100 * correct / total))"
      ]
    },
    {
      "cell_type": "code",
      "execution_count": null,
      "metadata": {
        "colab": {
          "base_uri": "https://localhost:8080/",
          "height": 927
        },
        "id": "PXDmnzWe7QzT",
        "outputId": "16042a74-e491-468b-e044-43a8d66c4018"
      },
      "outputs": [
        {
          "output_type": "display_data",
          "data": {
            "text/plain": [
              "<Figure size 640x480 with 1 Axes>"
            ],
            "image/png": "[encoded data removed]"
          },
          "metadata": {}
        },
        {
          "output_type": "display_data",
          "data": {
            "text/plain": [
              "<Figure size 640x480 with 1 Axes>"
            ],
            "image/png": "[encoded data removed]"
          },
          "metadata": {}
        }
      ],
      "source": [
        "import matplotlib.pyplot as plt\n",
        "plt.plot(train_losses, '-x')\n",
        "plt.title('Training Loss')\n",
        "plt.xlabel('Epochs')\n",
        "plt.ylabel('Loss')\n",
        "plt.show()\n",
        "plt.plot(train_accuracies, '-x')\n",
        "plt.title('Training Accuracy')\n",
        "plt.xlabel('Epochs')\n",
        "plt.ylabel('Accuracy (%)')\n",
        "plt.show()"
      ]
    },
    {
      "cell_type": "code",
      "execution_count": null,
      "metadata": {
        "colab": {
          "base_uri": "https://localhost:8080/"
        },
        "id": "dRCcdtJPkjfB",
        "outputId": "7e3dc32a-e306-443b-e0ce-04055d18b641"
      },
      "outputs": [
        {
          "output_type": "execute_result",
          "data": {
            "text/plain": [
              "[12.336,\n",
              " 22.016,\n",
              " 32.158,\n",
              " 39.846,\n",
              " 46.752,\n",
              " 52.852,\n",
              " 57.796,\n",
              " 61.196,\n",
              " 64.926,\n",
              " 66.664,\n",
              " 69.002,\n",
              " 71.146,\n",
              " 73.538,\n",
              " 74.514,\n",
              " 76.166,\n",
              " 78.432,\n",
              " 79.052,\n",
              " 80.796,\n",
              " 81.97,\n",
              " 83.486,\n",
              " 84.938,\n",
              " 84.892,\n",
              " 86.73,\n",
              " 87.12,\n",
              " 89.088,\n",
              " 89.732,\n",
              " 89.518,\n",
              " 91.258,\n",
              " 91.582,\n",
              " 92.346,\n",
              " 93.108,\n",
              " 93.34,\n",
              " 93.232,\n",
              " 94.046,\n",
              " 94.856,\n",
              " 95.516,\n",
              " 95.136,\n",
              " 95.136,\n",
              " 95.91,\n",
              " 96.564,\n",
              " 96.326,\n",
              " 96.414,\n",
              " 96.322,\n",
              " 96.278,\n",
              " 96.386,\n",
              " 96.898,\n",
              " 97.292,\n",
              " 97.304,\n",
              " 97.56,\n",
              " 97.314,\n",
              " 96.812,\n",
              " 97.384,\n",
              " 97.964,\n",
              " 97.26,\n",
              " 97.89,\n",
              " 97.108,\n",
              " 97.18,\n",
              " 97.546,\n",
              " 97.522,\n",
              " 98.104,\n",
              " 98.074,\n",
              " 97.78,\n",
              " 97.796,\n",
              " 98.002,\n",
              " 98.216,\n",
              " 98.38,\n",
              " 98.532,\n",
              " 98.042,\n",
              " 97.838,\n",
              " 98.194,\n",
              " 98.156,\n",
              " 98.36,\n",
              " 97.898,\n",
              " 98.37,\n",
              " 98.362,\n",
              " 98.45,\n",
              " 98.262,\n",
              " 98.252,\n",
              " 98.074,\n",
              " 98.228,\n",
              " 98.496,\n",
              " 98.242,\n",
              " 97.932,\n",
              " 98.222,\n",
              " 98.488,\n",
              " 98.218,\n",
              " 98.29,\n",
              " 98.43,\n",
              " 98.512,\n",
              " 98.462,\n",
              " 97.972,\n",
              " 98.002,\n",
              " 98.4,\n",
              " 98.448,\n",
              " 98.566,\n",
              " 98.204,\n",
              " 98.216,\n",
              " 98.538,\n",
              " 98.898,\n",
              " 98.248]"
            ]
          },
          "metadata": {},
          "execution_count": 12
        }
      ],
      "source": [
        "train_accuracies"
      ]
    },
    {
      "cell_type": "code",
      "execution_count": null,
      "metadata": {
        "colab": {
          "base_uri": "https://localhost:8080/"
        },
        "id": "_6k4ZAzW7U1k",
        "outputId": "5c7c2ce3-bb28-47c5-bc74-0533fd37c7e0"
      },
      "outputs": [
        {
          "output_type": "execute_result",
          "data": {
            "text/plain": [
              "49124"
            ]
          },
          "metadata": {},
          "execution_count": 13
        }
      ],
      "source": [
        "correct_predictions"
      ]
    },
    {
      "cell_type": "code",
      "execution_count": null,
      "metadata": {
        "colab": {
          "base_uri": "https://localhost:8080/"
        },
        "id": "0Isr7ZVtB5_d",
        "outputId": "4656220f-5fcb-4881-9a11-c80ef0814a48"
      },
      "outputs": [
        {
          "output_type": "execute_result",
          "data": {
            "text/plain": [
              "50000"
            ]
          },
          "metadata": {},
          "execution_count": 14
        }
      ],
      "source": [
        "total_predictions"
      ]
    },
    {
      "cell_type": "code",
      "execution_count": null,
      "metadata": {
        "id": "QnhGmBfGB7gU",
        "colab": {
          "base_uri": "https://localhost:8080/"
        },
        "outputId": "8e6b1b56-5c58-4067-8db3-5b9ba21475c6"
      },
      "outputs": [
        {
          "output_type": "execute_result",
          "data": {
            "text/plain": [
              "98.898"
            ]
          },
          "metadata": {},
          "execution_count": 15
        }
      ],
      "source": [
        "max(train_accuracies)"
      ]
    },
    {
      "cell_type": "code",
      "source": [],
      "metadata": {
        "id": "UpJAU_wS5trJ"
      },
      "execution_count": null,
      "outputs": []
    }
  ],
  "metadata": {
    "accelerator": "GPU",
    "colab": {
      "provenance": []
    },
    "kernelspec": {
      "display_name": "Python 3",
      "name": "python3"
    },
    "language_info": {
      "name": "python"
    }
  },
  "nbformat": 4,
  "nbformat_minor": 0
}