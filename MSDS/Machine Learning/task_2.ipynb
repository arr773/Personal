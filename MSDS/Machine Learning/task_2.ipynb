{
 "cells": [
  {
   "cell_type": "code",
   "execution_count": 1,
   "id": "ebff69ff",
   "metadata": {},
   "outputs": [],
   "source": [
    "from matplotlib import markers\n",
    "import pandas as pd\n",
    "import numpy as np\n",
    "import matplotlib. pyplot as plt\n",
    "import random\n",
    "import time"
   ]
  },
  {
   "cell_type": "code",
   "execution_count": 2,
   "id": "5a4682ea",
   "metadata": {},
   "outputs": [
    {
     "name": "stdout",
     "output_type": "stream",
     "text": [
      "1333\n"
     ]
    }
   ],
   "source": [
    "data = pd.read_csv(r'pp3/pp3data/pp3data/A.csv', header=None)\n",
    "labels = pd.read_csv(r'pp3/pp3data/pp3data/labels-A.csv', header=None)\n",
    "\n",
    "X = data.to_numpy()\n",
    "N = X.shape[0]\n",
    "Y = labels.to_numpy().flatten()\n",
    "newX = np.c_[np.ones(N),X]\n",
    "train_size = int((2/3) * len(data))\n",
    "print(train_size)\n",
    "xtrain = newX[:train_size]\n",
    "ytrain = Y[:train_size]\n",
    "xtest = newX[train_size:]\n",
    "ytest = Y[train_size:]\n"
   ]
  },
  {
   "cell_type": "code",
   "execution_count": null,
   "id": "bae346e1",
   "metadata": {},
   "outputs": [],
   "source": []
  },
  {
   "cell_type": "code",
   "execution_count": 3,
   "id": "ee0f127d",
   "metadata": {},
   "outputs": [],
   "source": [
    "def newton(newX,Y):\n",
    "    N = newX.shape[0]\n",
    "    d = newX.shape[1]\n",
    "    train_size = int((2/3) * len(data))\n",
    "    xtrain = newX[:train_size]\n",
    "    ytrain = Y[:train_size]\n",
    "    xtest = newX[train_size:]\n",
    "    ytest = Y[train_size:]\n",
    "   # W_old = np.ones(xtrain.shape[1])\n",
    "    W_old = np.zeros(xtrain.shape[1])\n",
    "    alpha = 0.1\n",
    "    iteration = 0\n",
    "    weight_vector = {}\n",
    "    errors = {}\n",
    "    while True:\n",
    "        print(\"hi\")\n",
    "        a = np.dot(xtrain, W_old)\n",
    "        y = 1/(1 + np.exp(-a))\n",
    "        #print(y.shape)\n",
    "        R = np.diag(y*(1-y))\n",
    "        #print(R.shape,R)\n",
    "        term_1 = alpha*np.identity(d) + np.dot(np.dot(xtrain.T,R),xtrain)\n",
    "        term_2 = np.dot(xtrain.T, (y-ytrain)) + alpha*W_old\n",
    "        W_new = W_old - np.dot(np.linalg.inv(term_1),term_2)\n",
    "        iteration+=1\n",
    "        #W_old = W_new\n",
    "        ts = time.time()\n",
    "        weight_vector[ts] = W_old \n",
    "        \n",
    "        if ((np.linalg.norm(W_new-W_old)**2)/(np.linalg.norm(W_old)**2)<0.001) or iteration>100:\n",
    "            break\n",
    "        else:\n",
    "            W_old = W_new\n",
    "                \n",
    "                \n",
    "            # SN calculation\n",
    "            a = np.dot(xtrain, W_new)\n",
    "            y = 1/(1 + np.exp(-a))\n",
    "            summation = np.zeros((d,d))\n",
    "            for i in range(y.size):\n",
    "                summation+= (y[i]*(1-y[i]))*np.dot(xtrain[i,:], xtrain[i,:])\n",
    "            \n",
    "            SN = alpha*np.identity(d) + summation\n",
    "            #predictions\n",
    "\n",
    "            pred = np.zeros(xtest.shape[0])\n",
    "            for i in range(pred.size):\n",
    "                phi = xtest[i,:]\n",
    "                mu = np.dot(W_new.T, phi)\n",
    "                sigma_sq = np.dot(np.dot(phi.T, SN), phi)\n",
    "                a = 1/np.sqrt(1 + (np.pi*sigma_sq/8))\n",
    "                pred[i] = 1/(1 + np.exp(-(a*mu)))\n",
    "                     \n",
    "            prediction = np.where(pred>=0.5,1,0)\n",
    "            error = np.sum(np.logical_xor(ytest, prediction))\n",
    "            test_error = error/ytest.size\n",
    "            errors[ts] = test_error\n",
    "#             print(errors[ts])\n",
    "    return errors, weight_vector"
   ]
  },
  {
   "cell_type": "code",
   "execution_count": 4,
   "id": "7eda7bbc",
   "metadata": {},
   "outputs": [],
   "source": [
    "def gradient_descent(newX,Y):\n",
    "    N = newX.shape[0]\n",
    "    d = newX.shape[1]\n",
    "    train_size = int((2/3) * len(data))\n",
    "    xtrain = newX[:train_size]\n",
    "    ytrain = Y[:train_size]\n",
    "    xtest = newX[train_size:]\n",
    "    ytest = Y[train_size:]\n",
    "    W_old = np.zeros(xtrain.shape[1])\n",
    "    alpha = 0.1\n",
    "    iteration = 0\n",
    "    weight_vector = {}\n",
    "    errors = {}\n",
    "    while True:\n",
    "        a = np.dot(xtrain, W_old)\n",
    "        y = 1/(1 + np.exp(-a))\n",
    "        term_1 = np.dot(xtrain.T, (y-ytrain)) + alpha*W_old\n",
    "        W_new = W_old - 0.001*(term_1)\n",
    "        if(iteration%10 == 0):\n",
    "            ts = time.time()\n",
    "            weight_vector[ts] = W_old \n",
    "        iteration+=1\n",
    "        if ((np.linalg.norm(W_new-W_old)**2)/(np.linalg.norm(W_old)**2)<0.001) or iteration>6000:\n",
    "            break\n",
    "        else:\n",
    "            W_old = W_new\n",
    "            # SN calculation\n",
    "            a = np.dot(xtrain, W_new)\n",
    "            y = 1/(1 + np.exp(-a))\n",
    "            summation = np.zeros((d,d))\n",
    "            for i in range(y.size):\n",
    "                summation+= (y[i]*(1-y[i]))*np.dot(xtrain[i,:], xtrain[i,:])\n",
    "            \n",
    "            SN = alpha*np.identity(d) + summation\n",
    "            #predictions\n",
    "\n",
    "            pred = np.zeros(xtest.shape[0])\n",
    "            for i in range(pred.size):\n",
    "                phi = xtest[i,:]\n",
    "                mu = np.dot(W_new.T, phi)\n",
    "                sigma_sq = np.dot(np.dot(phi.T, SN), phi)\n",
    "                a = 1/np.sqrt(1 + (np.pi*sigma_sq/8))\n",
    "                pred[i] = 1/(1 + np.exp(-(a*mu)))\n",
    "                     \n",
    "            prediction = np.where(pred>=0.5,1,0)\n",
    "            error = np.sum(np.logical_xor(ytest, prediction))\n",
    "            test_error = error/ytest.size\n",
    "            errors[ts] = test_error   \n",
    "            \n",
    "            \n",
    "    return errors, weight_vector"
   ]
  },
  {
   "cell_type": "code",
   "execution_count": null,
   "id": "fe02a61e",
   "metadata": {},
   "outputs": [],
   "source": []
  },
  {
   "cell_type": "code",
   "execution_count": 5,
   "id": "df27f508",
   "metadata": {},
   "outputs": [
    {
     "name": "stdout",
     "output_type": "stream",
     "text": [
      "hi\n",
      "hi\n",
      "hi\n",
      "hi\n",
      "hi\n",
      "{1667793704.7862782: 0.047976011994003, 1667793704.8182888: 0.047976011994003, 1667793704.8652132: 0.047976011994003, 1667793704.8964717: 0.044977511244377814}\n"
     ]
    },
    {
     "name": "stderr",
     "output_type": "stream",
     "text": [
      "C:\\Users\\Aaryan Agarwal\\AppData\\Local\\Temp\\ipykernel_20428\\4126866149.py:30: RuntimeWarning: divide by zero encountered in double_scalars\n",
      "  if ((np.linalg.norm(W_new-W_old)**2)/(np.linalg.norm(W_old)**2)<0.001) or iteration>100:\n"
     ]
    }
   ],
   "source": [
    "a,b = newton(newX,Y)\n",
    "print(a)"
   ]
  },
  {
   "cell_type": "code",
   "execution_count": 6,
   "id": "0d74de42",
   "metadata": {},
   "outputs": [
    {
     "data": {
      "text/plain": [
       "4"
      ]
     },
     "execution_count": 6,
     "metadata": {},
     "output_type": "execute_result"
    }
   ],
   "source": [
    "len(a)"
   ]
  },
  {
   "cell_type": "code",
   "execution_count": 8,
   "id": "3de8ebd2",
   "metadata": {},
   "outputs": [
    {
     "name": "stderr",
     "output_type": "stream",
     "text": [
      "C:\\Users\\Aaryan Agarwal\\AppData\\Local\\Temp\\ipykernel_20428\\3488771581.py:23: RuntimeWarning: divide by zero encountered in double_scalars\n",
      "  if ((np.linalg.norm(W_new-W_old)**2)/(np.linalg.norm(W_old)**2)<0.001) or iteration>6000:\n"
     ]
    },
    {
     "ename": "KeyboardInterrupt",
     "evalue": "",
     "output_type": "error",
     "traceback": [
      "\u001b[1;31m---------------------------------------------------------------------------\u001b[0m",
      "\u001b[1;31mKeyboardInterrupt\u001b[0m                         Traceback (most recent call last)",
      "\u001b[1;32m~\\AppData\\Local\\Temp\\ipykernel_20428\\3164758887.py\u001b[0m in \u001b[0;36m<module>\u001b[1;34m\u001b[0m\n\u001b[1;32m----> 1\u001b[1;33m \u001b[0mc\u001b[0m\u001b[1;33m,\u001b[0m\u001b[0md\u001b[0m \u001b[1;33m=\u001b[0m \u001b[0mgradient_descent\u001b[0m\u001b[1;33m(\u001b[0m\u001b[0mnewX\u001b[0m\u001b[1;33m,\u001b[0m\u001b[0mY\u001b[0m\u001b[1;33m)\u001b[0m\u001b[1;33m\u001b[0m\u001b[1;33m\u001b[0m\u001b[0m\n\u001b[0m\u001b[0;32m      2\u001b[0m \u001b[0mprint\u001b[0m\u001b[1;33m(\u001b[0m\u001b[0mc\u001b[0m\u001b[1;33m,\u001b[0m\u001b[0md\u001b[0m\u001b[1;33m)\u001b[0m\u001b[1;33m\u001b[0m\u001b[1;33m\u001b[0m\u001b[0m\n",
      "\u001b[1;32m~\\AppData\\Local\\Temp\\ipykernel_20428\\3488771581.py\u001b[0m in \u001b[0;36mgradient_descent\u001b[1;34m(newX, Y)\u001b[0m\n\u001b[0;32m     30\u001b[0m             \u001b[0msummation\u001b[0m \u001b[1;33m=\u001b[0m \u001b[0mnp\u001b[0m\u001b[1;33m.\u001b[0m\u001b[0mzeros\u001b[0m\u001b[1;33m(\u001b[0m\u001b[1;33m(\u001b[0m\u001b[0md\u001b[0m\u001b[1;33m,\u001b[0m\u001b[0md\u001b[0m\u001b[1;33m)\u001b[0m\u001b[1;33m)\u001b[0m\u001b[1;33m\u001b[0m\u001b[1;33m\u001b[0m\u001b[0m\n\u001b[0;32m     31\u001b[0m             \u001b[1;32mfor\u001b[0m \u001b[0mi\u001b[0m \u001b[1;32min\u001b[0m \u001b[0mrange\u001b[0m\u001b[1;33m(\u001b[0m\u001b[0my\u001b[0m\u001b[1;33m.\u001b[0m\u001b[0msize\u001b[0m\u001b[1;33m)\u001b[0m\u001b[1;33m:\u001b[0m\u001b[1;33m\u001b[0m\u001b[1;33m\u001b[0m\u001b[0m\n\u001b[1;32m---> 32\u001b[1;33m                 \u001b[0msummation\u001b[0m\u001b[1;33m+=\u001b[0m \u001b[1;33m(\u001b[0m\u001b[0my\u001b[0m\u001b[1;33m[\u001b[0m\u001b[0mi\u001b[0m\u001b[1;33m]\u001b[0m\u001b[1;33m*\u001b[0m\u001b[1;33m(\u001b[0m\u001b[1;36m1\u001b[0m\u001b[1;33m-\u001b[0m\u001b[0my\u001b[0m\u001b[1;33m[\u001b[0m\u001b[0mi\u001b[0m\u001b[1;33m]\u001b[0m\u001b[1;33m)\u001b[0m\u001b[1;33m)\u001b[0m\u001b[1;33m*\u001b[0m\u001b[0mnp\u001b[0m\u001b[1;33m.\u001b[0m\u001b[0mdot\u001b[0m\u001b[1;33m(\u001b[0m\u001b[0mxtrain\u001b[0m\u001b[1;33m[\u001b[0m\u001b[0mi\u001b[0m\u001b[1;33m,\u001b[0m\u001b[1;33m:\u001b[0m\u001b[1;33m]\u001b[0m\u001b[1;33m,\u001b[0m \u001b[0mxtrain\u001b[0m\u001b[1;33m[\u001b[0m\u001b[0mi\u001b[0m\u001b[1;33m,\u001b[0m\u001b[1;33m:\u001b[0m\u001b[1;33m]\u001b[0m\u001b[1;33m)\u001b[0m\u001b[1;33m\u001b[0m\u001b[1;33m\u001b[0m\u001b[0m\n\u001b[0m\u001b[0;32m     33\u001b[0m \u001b[1;33m\u001b[0m\u001b[0m\n\u001b[0;32m     34\u001b[0m             \u001b[0mSN\u001b[0m \u001b[1;33m=\u001b[0m \u001b[0malpha\u001b[0m\u001b[1;33m*\u001b[0m\u001b[0mnp\u001b[0m\u001b[1;33m.\u001b[0m\u001b[0midentity\u001b[0m\u001b[1;33m(\u001b[0m\u001b[0md\u001b[0m\u001b[1;33m)\u001b[0m \u001b[1;33m+\u001b[0m \u001b[0msummation\u001b[0m\u001b[1;33m\u001b[0m\u001b[1;33m\u001b[0m\u001b[0m\n",
      "\u001b[1;32m<__array_function__ internals>\u001b[0m in \u001b[0;36mdot\u001b[1;34m(*args, **kwargs)\u001b[0m\n",
      "\u001b[1;31mKeyboardInterrupt\u001b[0m: "
     ]
    }
   ],
   "source": [
    "c,d = gradient_descent(newX,Y)\n",
    "print(c,d)"
   ]
  },
  {
   "cell_type": "code",
   "execution_count": 247,
   "id": "452e7f25",
   "metadata": {},
   "outputs": [
    {
     "data": {
      "text/plain": [
       "195"
      ]
     },
     "execution_count": 247,
     "metadata": {},
     "output_type": "execute_result"
    }
   ],
   "source": [
    "len(c)"
   ]
  },
  {
   "cell_type": "code",
   "execution_count": null,
   "id": "1a0f6a96",
   "metadata": {},
   "outputs": [],
   "source": []
  },
  {
   "cell_type": "code",
   "execution_count": null,
   "id": "cd1bcbb0",
   "metadata": {},
   "outputs": [],
   "source": []
  },
  {
   "cell_type": "code",
   "execution_count": null,
   "id": "90f2bf21",
   "metadata": {},
   "outputs": [],
   "source": []
  },
  {
   "cell_type": "code",
   "execution_count": null,
   "id": "d6cee8ce",
   "metadata": {},
   "outputs": [],
   "source": []
  },
  {
   "cell_type": "code",
   "execution_count": null,
   "id": "c12978a9",
   "metadata": {},
   "outputs": [],
   "source": []
  },
  {
   "cell_type": "code",
   "execution_count": null,
   "id": "a63f5e93",
   "metadata": {},
   "outputs": [],
   "source": []
  },
  {
   "cell_type": "code",
   "execution_count": null,
   "id": "8fcfe14f",
   "metadata": {},
   "outputs": [],
   "source": []
  },
  {
   "cell_type": "code",
   "execution_count": null,
   "id": "1ec452ec",
   "metadata": {},
   "outputs": [],
   "source": []
  },
  {
   "cell_type": "code",
   "execution_count": null,
   "id": "81eaa01c",
   "metadata": {},
   "outputs": [],
   "source": []
  },
  {
   "cell_type": "code",
   "execution_count": null,
   "id": "9adbc2f6",
   "metadata": {},
   "outputs": [],
   "source": []
  },
  {
   "cell_type": "code",
   "execution_count": 175,
   "id": "e35b6048",
   "metadata": {},
   "outputs": [],
   "source": [
    "def newtonirl(newX,Y):\n",
    "    N = newX.shape[0]\n",
    "    d = newX.shape[1]\n",
    "    train_size = int((2/3) * len(data))\n",
    "    xtrain = newX\n",
    "    ytrain = Y\n",
    "    #xtest = newX[train_size:]\n",
    "    #ytest = Y[train_size:]\n",
    "   # W_old = np.ones(xtrain.shape[1])\n",
    "    W_old = np.zeros(xtrain.shape[1])\n",
    "    alpha = 0.1\n",
    "    iteration = 0\n",
    "    gd = {}\n",
    "\n",
    "    while True:\n",
    "        a = np.dot(newX, W_old)\n",
    "        y = 1/(1 + np.exp(-a))\n",
    "        #print(y.shape)\n",
    "        R = np.diag(y*(1-y))\n",
    "        #print(R.shape,R)\n",
    "        term_1 = alpha*np.identity(d) + np.dot(np.dot(xtrain.T,R),xtrain)\n",
    "        term_2 = np.dot(xtrain.T, (y-ytrain)) + alpha*W_old\n",
    "        W_new = W_old - np.dot(np.linalg.inv(term_1),term_2)\n",
    "\n",
    "        iteration+=1\n",
    "        ts = time.time()\n",
    "        gd[ts] = W_new\n",
    "        #W_old = W_new\n",
    "        if ((np.linalg.norm(W_new-W_old)**2)/(np.linalg.norm(W_old)**2)<0.001) or iteration>100:\n",
    "            break\n",
    "        else:\n",
    "            W_old = W_new\n",
    "                \n",
    "                \n",
    "            # SN calculation\n",
    "            a = np.dot(xtrain, W_new)\n",
    "            y = 1/(1 + np.exp(-a))\n",
    "            summation = np.zeros((d,d))\n",
    "            for i in range(y.size):\n",
    "                summation+= (y[i]*(1-y[i]))*np.dot(xtrain[i,:], xtrain[i,:])\n",
    "            \n",
    "            SN = alpha*np.identity(d) + summation\n",
    "            #predictions\n",
    "\n",
    "            pred = np.zeros(xtest.shape[0])\n",
    "            for i in range(pred.size):\n",
    "                phi = xtest[i,:]\n",
    "                mu = np.dot(W_new.T, phi)\n",
    "                sigma_sq = np.dot(np.dot(phi.T, SN), phi)\n",
    "                a = 1/np.sqrt(1 + (np.pi*sigma_sq/8))\n",
    "                pred[i] = 1/(1 + np.exp(-(a*mu)))\n",
    "                     \n",
    "            prediction = np.where(pred>=0.5,1,0)\n",
    "            error = np.sum(np.logical_xor(ytest, prediction))\n",
    "            test_error = error/ytest.size\n",
    "            \n",
    "            \n",
    "    return test_error, gd"
   ]
  },
  {
   "cell_type": "code",
   "execution_count": 176,
   "id": "cc1cc2d8",
   "metadata": {},
   "outputs": [
    {
     "name": "stderr",
     "output_type": "stream",
     "text": [
      "<ipython-input-175-ea7d12a02933>:29: RuntimeWarning: divide by zero encountered in double_scalars\n",
      "  if ((np.linalg.norm(W_new-W_old)**2)/(np.linalg.norm(W_old)**2)<0.001) or iteration>100:\n",
      "<ipython-input-175-ea7d12a02933>:55: RuntimeWarning: invalid value encountered in long_scalars\n",
      "  test_error = error/ytest.size\n"
     ]
    }
   ],
   "source": [
    "a, b = newtonirl(newX, Y)"
   ]
  },
  {
   "cell_type": "code",
   "execution_count": 177,
   "id": "2bcc33c3",
   "metadata": {},
   "outputs": [
    {
     "data": {
      "text/plain": [
       "nan"
      ]
     },
     "execution_count": 177,
     "metadata": {},
     "output_type": "execute_result"
    }
   ],
   "source": [
    "a"
   ]
  },
  {
   "cell_type": "code",
   "execution_count": 178,
   "id": "c6d9ed3f",
   "metadata": {},
   "outputs": [
    {
     "data": {
      "text/plain": [
       "{1667788034.249928: array([-0.86316407, -0.02259252, -0.03735176,  0.00188608,  0.0063821 ,\n",
       "        -0.01541332,  0.17739743,  0.19547831,  0.28583494,  0.22518514,\n",
       "         0.0724937 ]),\n",
       " 1667788034.2539442: array([-1.2192701 , -0.05633861, -0.06217637, -0.01492856, -0.01471653,\n",
       "        -0.03091183,  0.33240312,  0.33175087,  0.46330976,  0.36820044,\n",
       "         0.13546486]),\n",
       " 1667788034.255251: array([-1.44719713, -0.09139924, -0.08070553, -0.02377427, -0.03337685,\n",
       "        -0.03981415,  0.49351944,  0.45323661,  0.63053214,  0.46969681,\n",
       "         0.2035983 ]),\n",
       " 1667788034.256453: array([-1.57975802, -0.11266316, -0.09096322, -0.02745594, -0.04599887,\n",
       "        -0.04320355,  0.61230236,  0.5349704 ,  0.76463913,  0.52343881,\n",
       "         0.25261048]),\n",
       " 1667788034.257758: array([-1.62629672, -0.11887586, -0.09410175, -0.02857767, -0.0507146 ,\n",
       "        -0.04403553,  0.65483689,  0.5622436 ,  0.81864416,  0.53992691,\n",
       "         0.27025911]),\n",
       " 1667788034.25908: array([-1.63079594, -0.11937555, -0.09438136, -0.02868412, -0.05118218,\n",
       "        -0.0441032 ,  0.65873618,  0.56468341,  0.82402276,  0.54140379,\n",
       "         0.27194108])}"
      ]
     },
     "execution_count": 178,
     "metadata": {},
     "output_type": "execute_result"
    }
   ],
   "source": [
    "b"
   ]
  },
  {
   "cell_type": "code",
   "execution_count": null,
   "id": "e496baef",
   "metadata": {},
   "outputs": [],
   "source": []
  }
 ],
 "metadata": {
  "kernelspec": {
   "display_name": "Python 3 (ipykernel)",
   "language": "python",
   "name": "python3"
  },
  "language_info": {
   "codemirror_mode": {
    "name": "ipython",
    "version": 3
   },
   "file_extension": ".py",
   "mimetype": "text/x-python",
   "name": "python",
   "nbconvert_exporter": "python",
   "pygments_lexer": "ipython3",
   "version": "3.9.13"
  }
 },
 "nbformat": 4,
 "nbformat_minor": 5
}
