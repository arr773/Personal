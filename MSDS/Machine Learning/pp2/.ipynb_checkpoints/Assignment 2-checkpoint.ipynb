{
 "cells": [
  {
   "cell_type": "code",
   "execution_count": 1,
   "id": "182f68db",
   "metadata": {},
   "outputs": [],
   "source": [
    "import pandas as pd\n",
    "import numpy as np\n",
    "from numpy import loadtxt\n",
    "import matplotlib.pyplot as plt\n",
    "import math"
   ]
  },
  {
   "cell_type": "markdown",
   "id": "97cfb185",
   "metadata": {},
   "source": [
    "# Task 1"
   ]
  },
  {
   "cell_type": "markdown",
   "id": "85e6d79d",
   "metadata": {},
   "source": [
    "# Reading datasets"
   ]
  },
  {
   "cell_type": "code",
   "execution_count": 2,
   "id": "b35ab6b5",
   "metadata": {},
   "outputs": [],
   "source": [
    "train_crime=open(\"../pp2data/train-crime.csv\",\"rb\").read().split()\n",
    "train_house=open(\"../pp2data/train-housing.csv\",\"rb\").read().split()\n",
    "trainR_crime=open(\"../pp2data/trainR-crime.csv\",\"rb\").read().split()\n",
    "trainR_house=open(\"../pp2data/trainR-housing.csv\",\"rb\").read().split()\n",
    "test_crime=open(\"../pp2data/test-crime.csv\",\"rb\").read().split()\n",
    "test_house=open(\"../pp2data/test-housing.csv\",\"rb\").read().split()\n",
    "testR_crime=open(\"../pp2data/testR-crime.csv\",\"rb\").read().split()\n",
    "testR_house=open(\"../pp2data/testR-housing.csv\",\"rb\").read().split()"
   ]
  },
  {
   "cell_type": "code",
   "execution_count": 3,
   "id": "ffa897e7",
   "metadata": {},
   "outputs": [],
   "source": [
    "train_c=loadtxt(train_crime,delimiter=\",\")\n",
    "trainR_c=loadtxt(trainR_crime,delimiter=\",\")\n",
    "test_c=loadtxt(test_crime,delimiter=\",\")\n",
    "testR_c=loadtxt(testR_crime,delimiter=\",\")\n",
    "train_h=loadtxt(train_house,delimiter=\",\")\n",
    "trainR_h=loadtxt(trainR_house,delimiter=\",\")\n",
    "test_h=loadtxt(test_house,delimiter=\",\")\n",
    "testR_h=loadtxt(testR_house,delimiter=\",\")"
   ]
  },
  {
   "cell_type": "markdown",
   "id": "d5e56736",
   "metadata": {},
   "source": [
    "# Calculating MSE"
   ]
  },
  {
   "cell_type": "code",
   "execution_count": 4,
   "id": "6242d51a",
   "metadata": {},
   "outputs": [],
   "source": [
    "def calc_MSE(x,y):\n",
    "    MSE=np.square(np.subtract(x,y)).mean()\n",
    "    return MSE"
   ]
  },
  {
   "cell_type": "markdown",
   "id": "5e55e1ba",
   "metadata": {},
   "source": [
    "# Calculating MLE"
   ]
  },
  {
   "cell_type": "code",
   "execution_count": 5,
   "id": "7d0ea9f2",
   "metadata": {},
   "outputs": [],
   "source": [
    "def calc_MLE(x,y,z,l=0):\n",
    "    pred=z.dot((np.linalg.pinv(l*np.identity(x.shape[1])+np.transpose(x).dot(x))).dot(np.transpose(x)).dot(y))\n",
    "    return pred"
   ]
  },
  {
   "cell_type": "markdown",
   "id": "2727ebea",
   "metadata": {},
   "source": [
    "# Bayesian Function"
   ]
  },
  {
   "cell_type": "code",
   "execution_count": 6,
   "id": "a3afdca4",
   "metadata": {},
   "outputs": [],
   "source": [
    "def bayes(a,b,x,y,z):\n",
    "    pred=z.dot(b*np.dot(np.dot(np.linalg.inv(a*np.identity(x.shape[1])+b*np.dot(x.T,x)),x.T),y))\n",
    "    return pred"
   ]
  },
  {
   "cell_type": "code",
   "execution_count": 7,
   "id": "1352c535",
   "metadata": {},
   "outputs": [],
   "source": [
    "pred_c=calc_MLE(train_c,trainR_c,test_c)\n",
    "pred_h=calc_MLE(train_h,trainR_h,test_h)"
   ]
  },
  {
   "cell_type": "code",
   "execution_count": 8,
   "id": "5c2cb16c",
   "metadata": {},
   "outputs": [
    {
     "data": {
      "text/plain": [
       "0.3450569330423569"
      ]
     },
     "execution_count": 8,
     "metadata": {},
     "output_type": "execute_result"
    }
   ],
   "source": [
    "MSE_c=calc_MSE(testR_c,pred_c)\n",
    "MSE_c"
   ]
  },
  {
   "cell_type": "code",
   "execution_count": 9,
   "id": "b00d2229",
   "metadata": {},
   "outputs": [
    {
     "data": {
      "text/plain": [
       "0.29443262001271514"
      ]
     },
     "execution_count": 9,
     "metadata": {},
     "output_type": "execute_result"
    }
   ],
   "source": [
    "MSE_h=calc_MSE(testR_h,pred_h)\n",
    "MSE_h"
   ]
  },
  {
   "cell_type": "markdown",
   "id": "5a19cf31",
   "metadata": {},
   "source": [
    "# Splitting Datasets according to Question"
   ]
  },
  {
   "cell_type": "code",
   "execution_count": 10,
   "id": "e1d24010",
   "metadata": {},
   "outputs": [],
   "source": [
    "new_train_c=[]\n",
    "l=len(train_c)\n",
    "for i in range(0,10,1):\n",
    "    new_train_c.append(train_c[0:int(l*((i+1)/10)),:])\n",
    "new_trainR_c=[]\n",
    "l=len(trainR_c)\n",
    "for i in range(0,10,1):\n",
    "    new_trainR_c.append(trainR_c[0:int(l*((i+1)/10))])\n",
    "    \n",
    "new_train_h=[]\n",
    "l=len(train_h)\n",
    "for i in range(0,10,1):\n",
    "    new_train_h.append(train_h[0:int(l*((i+1)/10)),:])\n",
    "new_trainR_h=[]\n",
    "l=len(trainR_h)\n",
    "for i in range(0,10,1):\n",
    "    new_trainR_h.append(trainR_h[0:int(l*((i+1)/10))])"
   ]
  },
  {
   "cell_type": "markdown",
   "id": "3bed6c48",
   "metadata": {},
   "source": [
    "# Model Selection"
   ]
  },
  {
   "cell_type": "code",
   "execution_count": 11,
   "id": "0f22b196",
   "metadata": {},
   "outputs": [],
   "source": [
    "def ModelSelection(phi,t):\n",
    "    N=phi.shape[0]\n",
    "    d=phi.shape[1]\n",
    "    a0=2\n",
    "    b0=10\n",
    "    a_change=1\n",
    "    b_change=1\n",
    "    while not (a_change<=0.001 and b_change<=0.001):\n",
    "        lam=np.linalg.eigvals(b0*np.dot(phi.T,phi))\n",
    "        gam=0\n",
    "        for i in range(0,len(lam)):\n",
    "            gam+=(lam[i]/(a0+lam[i]))\n",
    "        m=b0*np.dot(np.dot(np.linalg.inv(a0*np.identity(d)+b0*np.dot(phi.T,phi)),phi.T),t)\n",
    "        a1=gam/np.dot(m,m)\n",
    "        b1=1/((1/(N-gam))*(np.dot(np.dot(phi,m)-t,np.dot(phi,m)-t)))\n",
    "        a_change=abs(a1-a0)\n",
    "        b_change=abs(b1-b0)\n",
    "        a0=a1\n",
    "        b0=b1\n",
    "    return a0,b0,(a0/b0)"
   ]
  },
  {
   "cell_type": "markdown",
   "id": "97faf93f",
   "metadata": {},
   "source": [
    "# Crime dataset model"
   ]
  },
  {
   "cell_type": "code",
   "execution_count": 12,
   "id": "f446752b",
   "metadata": {},
   "outputs": [
    {
     "name": "stdout",
     "output_type": "stream",
     "text": [
      "{'partition': 0.1, 'alpha': 188.13418564070818, 'beta': 3.0590610997375354, 'regularization': 61.50063026098103}\n",
      "{'partition': 0.2, 'alpha': 284.7219942674846, 'beta': 2.964418873946527, 'regularization': 96.04647871116627}\n",
      "{'partition': 0.3, 'alpha': 266.99009988195087, 'beta': 2.847152772909647, 'regularization': 93.77441998277473}\n",
      "{'partition': 0.4, 'alpha': 280.4488295991778, 'beta': 2.8496845641386455, 'regularization': 98.41399049159224}\n",
      "{'partition': 0.5, 'alpha': 284.08760024259936, 'beta': 2.9156222181703813, 'regularization': 97.4363545702676}\n",
      "{'partition': 0.6, 'alpha': 263.4754615387708, 'beta': 2.962261804049953, 'regularization': 88.9440160820869}\n",
      "{'partition': 0.7, 'alpha': 254.16163967645417, 'beta': 3.0875611127863833, 'regularization': 82.31793003996117}\n",
      "{'partition': 0.8, 'alpha': 254.20674738385384, 'beta': 3.1241961399624962, 'regularization': 81.36708964338757}\n",
      "{'partition': 0.9, 'alpha': 247.4375126121574, 'beta': 3.046255677039333, 'regularization': 81.22677110696198}\n",
      "{'partition': 1.0, 'alpha': 239.71632213512905, 'beta': 3.0852982512664147, 'regularization': 77.69632061883588}\n"
     ]
    }
   ],
   "source": [
    "model_crime=[]\n",
    "for i in range(10):\n",
    "    d={}\n",
    "    alpha,beta,regularization=ModelSelection(new_train_c[i],new_trainR_c[i])\n",
    "    d[\"partition\"]=(i+1)/10\n",
    "    d[\"alpha\"]=alpha\n",
    "    d[\"beta\"]=beta\n",
    "    d[\"regularization\"]=regularization\n",
    "    model_crime.append(d)\n",
    "    print(model_crime[i])"
   ]
  },
  {
   "cell_type": "markdown",
   "id": "98a1f016",
   "metadata": {},
   "source": [
    "# Housing dataset model"
   ]
  },
  {
   "cell_type": "code",
   "execution_count": 13,
   "id": "f33b67ca",
   "metadata": {},
   "outputs": [
    {
     "name": "stdout",
     "output_type": "stream",
     "text": [
      "{'partition': 0.1, 'alpha': (17.115748346919897-4.8112392413123525e-30j), 'beta': (55.43127666781543+4.35640031600882e-29j), 'regularization': (0.308774204308696-3.2946525412022132e-31j)}\n",
      "{'partition': 0.2, 'alpha': 16.334287029416586, 'beta': 3.4586561427608227, 'regularization': 4.722726502779191}\n",
      "{'partition': 0.3, 'alpha': 17.047085057337306, 'beta': 4.1144505963678375, 'regularization': 4.1432226874679605}\n",
      "{'partition': 0.4, 'alpha': 18.406145860229955, 'beta': 4.974604278779374, 'regularization': 3.700022118090225}\n",
      "{'partition': 0.5, 'alpha': 17.80860565102691, 'beta': 4.411526273698912, 'regularization': 4.0368354501706305}\n",
      "{'partition': 0.6, 'alpha': 19.53644116765738, 'beta': 4.691276605105255, 'regularization': 4.1644189443864725}\n",
      "{'partition': 0.7, 'alpha': 18.642552046513647, 'beta': 4.393500189872348, 'regularization': 4.243211844963025}\n",
      "{'partition': 0.8, 'alpha': 19.27321350878941, 'beta': 4.549846965772047, 'regularization': 4.23601357447393}\n",
      "{'partition': 0.9, 'alpha': 16.95077861294148, 'beta': 4.119603837235635, 'regularization': 4.114662303139301}\n",
      "{'partition': 1.0, 'alpha': 20.412460531028803, 'beta': 4.041255751833772, 'regularization': 5.051019233753366}\n"
     ]
    }
   ],
   "source": [
    "model_housing=[]\n",
    "for i in range(10):\n",
    "    d={}\n",
    "    alpha,beta,regularization=ModelSelection(new_train_h[i],new_trainR_h[i])\n",
    "    d[\"partition\"]=(i+1)/10\n",
    "    d[\"alpha\"]=alpha\n",
    "    d[\"beta\"]=beta\n",
    "    d[\"regularization\"]=regularization\n",
    "    model_housing.append(d)\n",
    "    print(model_housing[i])"
   ]
  },
  {
   "cell_type": "markdown",
   "id": "b81befdb",
   "metadata": {},
   "source": [
    "# MLE and Bayesian for crime dataset"
   ]
  },
  {
   "cell_type": "code",
   "execution_count": 14,
   "id": "9174fcb3",
   "metadata": {},
   "outputs": [],
   "source": [
    "MSE_crime=[]\n",
    "l=len(train_c)\n",
    "for i in range(0,10,1):\n",
    "    x=train_c[0:int(round(l*((i+1)/10),0))]\n",
    "    y=trainR_c[0:int(round(l*((i+1)/10),0))]\n",
    "    pred=calc_MLE(x,y,test_c)\n",
    "    MSE=calc_MSE(testR_c,pred)\n",
    "    MSE_crime.append(((i+1)/10,MSE))    "
   ]
  },
  {
   "cell_type": "code",
   "execution_count": 15,
   "id": "cebef731",
   "metadata": {},
   "outputs": [
    {
     "data": {
      "text/plain": [
       "[(0.1, 1.3002479408636172),\n",
       " (0.2, 0.4967427267380541),\n",
       " (0.3, 0.45634855646314215),\n",
       " (0.4, 0.38714667059641883),\n",
       " (0.5, 0.3713426121845869),\n",
       " (0.6, 0.3644705541248856),\n",
       " (0.7, 0.35484728890387435),\n",
       " (0.8, 0.34830539217648143),\n",
       " (0.9, 0.3463928082504861),\n",
       " (1.0, 0.3450569330423569)]"
      ]
     },
     "execution_count": 15,
     "metadata": {},
     "output_type": "execute_result"
    }
   ],
   "source": [
    "MSE_crime"
   ]
  },
  {
   "cell_type": "code",
   "execution_count": 16,
   "id": "95168391",
   "metadata": {},
   "outputs": [],
   "source": [
    "bayes_crime=[]\n",
    "for i in range(10):\n",
    "    x=train_c[0:int(round(l*((i+1)/10),0))]\n",
    "    y=trainR_c[0:int(round(l*((i+1)/10),0))]\n",
    "    pred=bayes(model_crime[i][\"alpha\"],model_crime[i][\"beta\"],x,y,test_c)\n",
    "    MSE=calc_MSE(testR_c,pred)\n",
    "    bayes_crime.append(((i+1)/10,MSE))    "
   ]
  },
  {
   "cell_type": "code",
   "execution_count": 17,
   "id": "e592653f",
   "metadata": {},
   "outputs": [
    {
     "data": {
      "text/plain": [
       "[(0.1, 0.39698400187767374),\n",
       " (0.2, 0.3452471828496966),\n",
       " (0.3, 0.34826092450288),\n",
       " (0.4, 0.33788161858136473),\n",
       " (0.5, 0.33862318460111307),\n",
       " (0.6, 0.3328208435831047),\n",
       " (0.7, 0.33077656253536186),\n",
       " (0.8, 0.33244628962304645),\n",
       " (0.9, 0.33214869354426235),\n",
       " (1.0, 0.3345435937647672)]"
      ]
     },
     "execution_count": 17,
     "metadata": {},
     "output_type": "execute_result"
    }
   ],
   "source": [
    "bayes_crime"
   ]
  },
  {
   "cell_type": "markdown",
   "id": "adb73313",
   "metadata": {},
   "source": [
    "# MLE and Bayesian for housing dataset"
   ]
  },
  {
   "cell_type": "code",
   "execution_count": 18,
   "id": "34547028",
   "metadata": {},
   "outputs": [],
   "source": [
    "MSE_housing=[]\n",
    "l=len(train_h)\n",
    "for i in range(0,10,1):\n",
    "    x=train_h[0:int(round(l*((i+1)/10),0))]\n",
    "    y=trainR_h[0:int(round(l*((i+1)/10),0))]\n",
    "    pred=calc_MLE(x,y,test_h)\n",
    "    MSE=calc_MSE(testR_h,pred)\n",
    "    MSE_housing.append(((i+1)/10,MSE))"
   ]
  },
  {
   "cell_type": "code",
   "execution_count": 19,
   "id": "e0eb0ec3",
   "metadata": {},
   "outputs": [
    {
     "data": {
      "text/plain": [
       "[(0.1, 0.8678327090953848),\n",
       " (0.2, 0.6531445531536013),\n",
       " (0.3, 0.3736963444198246),\n",
       " (0.4, 0.3414166696345161),\n",
       " (0.5, 0.3644021055620389),\n",
       " (0.6, 0.32080556108532404),\n",
       " (0.7, 0.3141824758819998),\n",
       " (0.8, 0.30051685692609026),\n",
       " (0.9, 0.31907890073457246),\n",
       " (1.0, 0.29443262001271514)]"
      ]
     },
     "execution_count": 19,
     "metadata": {},
     "output_type": "execute_result"
    }
   ],
   "source": [
    "MSE_housing"
   ]
  },
  {
   "cell_type": "code",
   "execution_count": 20,
   "id": "8f510902",
   "metadata": {},
   "outputs": [],
   "source": [
    "bayes_housing=[]\n",
    "for i in range(10):\n",
    "    x=train_h[0:int(round(l*((i+1)/10),0))]\n",
    "    y=trainR_h[0:int(round(l*((i+1)/10),0))]\n",
    "    pred=bayes(model_housing[i][\"alpha\"],model_housing[i][\"beta\"],x,y,test_h)\n",
    "    MSE=calc_MSE(testR_h,pred)\n",
    "    bayes_housing.append(((i+1)/10,MSE))"
   ]
  },
  {
   "cell_type": "code",
   "execution_count": 21,
   "id": "727df017",
   "metadata": {},
   "outputs": [
    {
     "data": {
      "text/plain": [
       "[(0.1, (0.47393428813876126+6.53776744194863e-32j)),\n",
       " (0.2, 0.3178536604019471),\n",
       " (0.3, 0.3141356507494856),\n",
       " (0.4, 0.3098564718648854),\n",
       " (0.5, 0.32089215353385886),\n",
       " (0.6, 0.29966191365297895),\n",
       " (0.7, 0.2942475355630813),\n",
       " (0.8, 0.2879615393914638),\n",
       " (0.9, 0.3025004284077777),\n",
       " (1.0, 0.2884936266054806)]"
      ]
     },
     "execution_count": 21,
     "metadata": {},
     "output_type": "execute_result"
    }
   ],
   "source": [
    "bayes_housing"
   ]
  },
  {
   "cell_type": "markdown",
   "id": "8c764baa",
   "metadata": {},
   "source": [
    "# Graph for Crime dataset"
   ]
  },
  {
   "cell_type": "code",
   "execution_count": 22,
   "id": "7d575d22",
   "metadata": {},
   "outputs": [
    {
     "data": {
      "image/png": "[encoded data removed]",
      "text/plain": [
       "<Figure size 432x288 with 1 Axes>"
      ]
     },
     "metadata": {
      "needs_background": "light"
     },
     "output_type": "display_data"
    }
   ],
   "source": [
    "plt.plot(*zip(*bayes_crime),label=\"Bayes Crime\")\n",
    "plt.plot(*zip(*MSE_crime),label=\"MSE\")\n",
    "plt.ylim([0,1])\n",
    "plt.legend()\n",
    "plt.show()"
   ]
  },
  {
   "cell_type": "markdown",
   "id": "735df55e",
   "metadata": {},
   "source": [
    "# Graph for Housing Dataset"
   ]
  },
  {
   "cell_type": "code",
   "execution_count": 23,
   "id": "334fb033",
   "metadata": {},
   "outputs": [
    {
     "name": "stderr",
     "output_type": "stream",
     "text": [
      "C:\\Users\\aarya\\anaconda3\\lib\\site-packages\\matplotlib\\cbook\\__init__.py:1298: ComplexWarning: Casting complex values to real discards the imaginary part\n",
      "  return np.asarray(x, float)\n"
     ]
    },
    {
     "data": {
      "image/png": "[encoded data removed]",
      "text/plain": [
       "<Figure size 432x288 with 1 Axes>"
      ]
     },
     "metadata": {
      "needs_background": "light"
     },
     "output_type": "display_data"
    }
   ],
   "source": [
    "plt.plot(*zip(*bayes_housing),label=\"Bayes Crime\")\n",
    "plt.plot(*zip(*MSE_housing),label=\"MSE\")\n",
    "plt.ylim([0,1])\n",
    "plt.legend()\n",
    "plt.show()"
   ]
  },
  {
   "cell_type": "markdown",
   "id": "9512964e",
   "metadata": {},
   "source": [
    "# Calculating MSE for different lamda values"
   ]
  },
  {
   "cell_type": "code",
   "execution_count": 24,
   "id": "1ce1928d",
   "metadata": {},
   "outputs": [],
   "source": [
    "lam=[1.0,33.0,100.0,1000.0]\n",
    "mse_c=[]\n",
    "for la in lam:\n",
    "    MSE_crime=[]\n",
    "    l=len(train_c)        \n",
    "    for i in range(0,10,1):\n",
    "        x=train_c[0:int(round(l*((i+1)/10),0))]\n",
    "        y=trainR_c[0:int(round(l*((i+1)/10),0))]\n",
    "        pred=calc_MLE(x,y,test_c,la)\n",
    "        MSE=calc_MSE(testR_c,pred)\n",
    "        MSE_crime.append(((i+1)/10,MSE))\n",
    "    mse_c.append(MSE_crime)"
   ]
  },
  {
   "cell_type": "code",
   "execution_count": 25,
   "id": "ac293490",
   "metadata": {},
   "outputs": [],
   "source": [
    "lam=[1.0,33.0,100.0,1000.0]\n",
    "mse_h=[]\n",
    "for la in lam:\n",
    "    MSE_housing=[]\n",
    "    l=len(train_h)        \n",
    "    for i in range(0,10,1):\n",
    "        x=train_h[0:int(round(l*((i+1)/10),0))]\n",
    "        y=trainR_h[0:int(round(l*((i+1)/10),0))]\n",
    "        pred=calc_MLE(x,y,test_h,la)\n",
    "        MSE=calc_MSE(testR_h,pred)\n",
    "        MSE_housing.append(((i+1)/10,MSE))\n",
    "    mse_h.append(MSE_housing)"
   ]
  },
  {
   "cell_type": "markdown",
   "id": "27251de2",
   "metadata": {},
   "source": [
    "# Graph for Crime datset"
   ]
  },
  {
   "cell_type": "code",
   "execution_count": 26,
   "id": "199749fa",
   "metadata": {},
   "outputs": [
    {
     "data": {
      "image/png": "[encoded data removed]",
      "text/plain": [
       "<Figure size 432x288 with 1 Axes>"
      ]
     },
     "metadata": {
      "needs_background": "light"
     },
     "output_type": "display_data"
    }
   ],
   "source": [
    "plt.plot(*zip(*mse_c[0]),label=\"lambda=1\")\n",
    "plt.plot(*zip(*mse_c[1]),label=\"lambda=33\")\n",
    "plt.plot(*zip(*mse_c[2]),label=\"lambda=100\")\n",
    "plt.plot(*zip(*mse_c[3]),label=\"lambda=1000\")\n",
    "plt.legend()\n",
    "plt.show()"
   ]
  },
  {
   "cell_type": "markdown",
   "id": "b4217878",
   "metadata": {},
   "source": [
    "# Graph for Housing dataset"
   ]
  },
  {
   "cell_type": "code",
   "execution_count": 27,
   "id": "9ba2adf6",
   "metadata": {},
   "outputs": [
    {
     "data": {
      "image/png": "[encoded data removed]",
      "text/plain": [
       "<Figure size 432x288 with 1 Axes>"
      ]
     },
     "metadata": {
      "needs_background": "light"
     },
     "output_type": "display_data"
    }
   ],
   "source": [
    "plt.plot(*zip(*mse_h[0]),label=\"lambda=1\")\n",
    "plt.plot(*zip(*mse_h[1]),label=\"lambda=33\")\n",
    "plt.plot(*zip(*mse_h[2]),label=\"lambda=100\")\n",
    "plt.plot(*zip(*mse_h[3]),label=\"lambda=1000\")\n",
    "plt.legend()\n",
    "plt.show()"
   ]
  },
  {
   "cell_type": "markdown",
   "id": "151c8aa4",
   "metadata": {},
   "source": [
    "# Task 2"
   ]
  },
  {
   "cell_type": "markdown",
   "id": "b201674b",
   "metadata": {},
   "source": [
    "# Creating datsets"
   ]
  },
  {
   "cell_type": "code",
   "execution_count": 28,
   "id": "831cf14d",
   "metadata": {},
   "outputs": [],
   "source": [
    "train_f3=open(\"../pp2data/train-f3.csv\",\"rb\").read().split()\n",
    "train_f5=open(\"../pp2data/train-f5.csv\",\"rb\").read().split()\n",
    "trainR_f3=open(\"../pp2data/trainR-f3.csv\",\"rb\").read().split()\n",
    "trainR_f5=open(\"../pp2data/trainR-f5.csv\",\"rb\").read().split()\n",
    "test_f3=open(\"../pp2data/test-f3.csv\",\"rb\").read().split()\n",
    "test_f5=open(\"../pp2data/test-f5.csv\",\"rb\").read().split()\n",
    "testR_f3=open(\"../pp2data/testR-f3.csv\",\"rb\").read().split()\n",
    "testR_f5=open(\"../pp2data/testR-f5.csv\",\"rb\").read().split()"
   ]
  },
  {
   "cell_type": "code",
   "execution_count": 29,
   "id": "b7e5b25e",
   "metadata": {},
   "outputs": [],
   "source": [
    "train_3=loadtxt(train_f3,delimiter=\",\")\n",
    "trainR_3=loadtxt(trainR_f3,delimiter=\",\")\n",
    "test_3=loadtxt(test_f3,delimiter=\",\")\n",
    "testR_3=loadtxt(testR_f3,delimiter=\",\")\n",
    "train_5=loadtxt(train_f5,delimiter=\",\")\n",
    "trainR_5=loadtxt(trainR_f5,delimiter=\",\")\n",
    "test_5=loadtxt(test_f5,delimiter=\",\")\n",
    "testR_5=loadtxt(testR_f5,delimiter=\",\")\n"
   ]
  },
  {
   "cell_type": "code",
   "execution_count": 30,
   "id": "2bcc6122",
   "metadata": {},
   "outputs": [],
   "source": [
    "def bayes2(a,b,x,y,z):\n",
    "    pred=z.dot(b*np.dot(np.dot(np.linalg.inv(a*np.identity(x.shape[1])+b*np.dot(x.T,x)),x.T),y))\n",
    "    mn=(b*np.dot(np.dot(np.linalg.inv(a*np.identity(x.shape[1])+b*np.dot(x.T,x)),x.T),y))\n",
    "    sn=(np.linalg.inv(a*np.identity(x.shape[1])+b*np.dot(x.T,x)),x.T)\n",
    "    return pred,mn,sn"
   ]
  },
  {
   "cell_type": "markdown",
   "id": "03db60d4",
   "metadata": {},
   "source": [
    "# Calculating log Evidence and MSE for f3"
   ]
  },
  {
   "cell_type": "code",
   "execution_count": 31,
   "id": "d2c69ea4",
   "metadata": {},
   "outputs": [],
   "source": [
    "logev_3=[]\n",
    "MSE_3=[]\n",
    "bayes_3=[]\n",
    "for i in range(10):\n",
    "    \n",
    "    new_train_3=np.hstack((np.ones((train_3.shape[0],1)),train_3.reshape(train_3.shape[0],1)))\n",
    "    new_test_3=np.hstack((np.ones((test_3.shape[0],1)),test_3.reshape(test_3.shape[0],1)))    \n",
    "    for j in range(2,i+2):\n",
    "        new_train_3=np.hstack((new_train_3,(new_train_3[:,1]**(j)).reshape(new_train_3.shape[0],1)))\n",
    "        new_test_3=np.hstack((new_test_3,(new_test_3[:,1]**(j)).reshape(new_test_3.shape[0],1)))        \n",
    "    \n",
    "    a,b,l=ModelSelection(new_train_3,trainR_3)\n",
    "    \n",
    "    bayes,mn,sn=bayes2(a,b,new_train_3,trainR_3,new_test_3)\n",
    "    \n",
    "    e=np.dot((trainR_3-np.dot(new_train_3,mn)).T,(trainR_3-np.dot(new_train_3,mn)))*b/2\n",
    "    e1=(a*np.dot(mn.T,mn))/2\n",
    "    e2=np.log(np.linalg.det(np.linalg.inv(sn[0])))\n",
    "    log=(((new_train_3.shape[1]/2*np.log(alpha))+((300/2)*np.log(b))-e-e1-(e2/2)-(300*np.log(2*math.pi)/2)))\n",
    "    logev_3.append((i+1,log))\n",
    "   \n",
    "    \n",
    "    MSE=calc_MSE(testR_3,bayes)\n",
    "    bayes_3.append((i+1,MSE))\n",
    "    \n",
    "    pred=calc_MLE(new_train_3,trainR_3,new_test_3)\n",
    "    MSE=calc_MSE(testR_3,pred)\n",
    "    MSE_3.append((i+1,MSE))"
   ]
  },
  {
   "cell_type": "code",
   "execution_count": 32,
   "id": "49ac4e5e",
   "metadata": {},
   "outputs": [
    {
     "data": {
      "text/plain": [
       "[(1, -3031.2969121330398),\n",
       " (2, -3028.564275831095),\n",
       " (3, -2695.224252770911),\n",
       " (4, -2701.4329184615654),\n",
       " (5, -2706.667939500311),\n",
       " (6, -2707.3946126834317),\n",
       " (7, -2721.462621288671),\n",
       " (8, -2732.579184186423),\n",
       " (9, -2746.881958887436),\n",
       " (10, (-2761.319226132034+0j))]"
      ]
     },
     "execution_count": 32,
     "metadata": {},
     "output_type": "execute_result"
    }
   ],
   "source": [
    "logev_3"
   ]
  },
  {
   "cell_type": "code",
   "execution_count": 33,
   "id": "c4deb737",
   "metadata": {},
   "outputs": [
    {
     "data": {
      "text/plain": [
       "[(1, 39389142.58553826),\n",
       " (2, 39495762.45900575),\n",
       " (3, 148429.38836568058),\n",
       " (4, 179627.46131843395),\n",
       " (5, 186263.6807275151),\n",
       " (6, 211370.60715117436),\n",
       " (7, 184992.29642495257),\n",
       " (8, 196641.43358936673),\n",
       " (9, 546257.7759903334),\n",
       " (10, 579316.5958650279)]"
      ]
     },
     "execution_count": 33,
     "metadata": {},
     "output_type": "execute_result"
    }
   ],
   "source": [
    "MSE_3"
   ]
  },
  {
   "cell_type": "markdown",
   "id": "ade192f0",
   "metadata": {},
   "source": [
    "# Calculating Log evidence and MSE for f5"
   ]
  },
  {
   "cell_type": "code",
   "execution_count": 34,
   "id": "bba59350",
   "metadata": {},
   "outputs": [],
   "source": [
    "logev_5=[]\n",
    "MSE_5=[]\n",
    "bayes_5=[]\n",
    "for i in range(10):\n",
    "    \n",
    "    new_train_5=np.hstack((np.ones((train_5.shape[0],1)),train_5.reshape(train_5.shape[0],1)))\n",
    "    new_test_5=np.hstack((np.ones((test_5.shape[0],1)),test_5.reshape(test_5.shape[0],1)))    \n",
    "    j=2\n",
    "    while j <=i+2:\n",
    "        new_train_5=np.hstack((new_train_5,(new_train_5[:,1]**(j)).reshape(new_train_5.shape[0],1)))\n",
    "        new_test_5=np.hstack((new_test_5,(new_test_5[:,1]**(j)).reshape(new_test_5.shape[0],1)))        \n",
    "        j+=1\n",
    "    a,b,l=ModelSelection(new_train_5,trainR_5)\n",
    "    \n",
    "    bayes,mn,sn=bayes2(a,b,new_train_5,trainR_5,new_test_5)\n",
    "    \n",
    "    e=np.dot((trainR_5-np.dot(new_train_5,mn)).T,(trainR_5-np.dot(new_train_5,mn)))*b/2\n",
    "    e1=(a*np.dot(mn.T,mn))/2\n",
    "    e2=np.log(np.linalg.det(np.linalg.inv(sn[0])))\n",
    "    log=(((new_train_5.shape[1]/2*np.log(alpha))+((300/2)*np.log(b))-e-e1-(e2/2)-(300*np.log(2*math.pi)/2)))\n",
    "    logev_5.append((i+1,log))\n",
    "   \n",
    "    \n",
    "    MSE=calc_MSE(testR_5,bayes)\n",
    "    bayes_5.append((i+1,MSE))\n",
    "    \n",
    "    pred=calc_MLE(new_train_5,trainR_5,new_test_5)\n",
    "    MSE=calc_MSE(testR_5,pred)\n",
    "    MSE_5.append((i+1,MSE))"
   ]
  },
  {
   "cell_type": "code",
   "execution_count": 35,
   "id": "480ad613",
   "metadata": {},
   "outputs": [
    {
     "data": {
      "text/plain": [
       "[(1, -4360.422864141759),\n",
       " (2, -3912.9560540194047),\n",
       " (3, -3908.1614614004034),\n",
       " (4, -2714.974896657237),\n",
       " (5, -2721.7392525595783),\n",
       " (6, -2729.895548191721),\n",
       " (7, -2741.309541933108),\n",
       " (8, -2754.408590279996),\n",
       " (9, (-2769.3179042194065+0j)),\n",
       " (10, -2788.119185549046)]"
      ]
     },
     "execution_count": 35,
     "metadata": {},
     "output_type": "execute_result"
    }
   ],
   "source": [
    "logev_5"
   ]
  },
  {
   "cell_type": "code",
   "execution_count": 36,
   "id": "81df81e7",
   "metadata": {},
   "outputs": [
    {
     "data": {
      "text/plain": [
       "[(1, 341195638304.2565),\n",
       " (2, 17465602121.94851),\n",
       " (3, 17435655143.626442),\n",
       " (4, 61375.3499006928),\n",
       " (5, 79043.03733122443),\n",
       " (6, 92512.84710342463),\n",
       " (7, 90189.90562969688),\n",
       " (8, 126835.276487774),\n",
       " (9, 7703653.185180388),\n",
       " (10, 238757655.70912683)]"
      ]
     },
     "execution_count": 36,
     "metadata": {},
     "output_type": "execute_result"
    }
   ],
   "source": [
    "MSE_5"
   ]
  },
  {
   "cell_type": "code",
   "execution_count": 37,
   "id": "f7570d1e",
   "metadata": {},
   "outputs": [
    {
     "data": {
      "image/png": "[encoded data removed]",
      "text/plain": [
       "<Figure size 432x288 with 1 Axes>"
      ]
     },
     "metadata": {
      "needs_background": "light"
     },
     "output_type": "display_data"
    }
   ],
   "source": [
    "plt.plot(*zip(*bayes_3),label='f3 bayesian mse')\n",
    "plt.plot(*zip(*MSE_3),label='f3 mle mse')\n",
    "plt.legend()\n",
    "plt.show()"
   ]
  },
  {
   "cell_type": "code",
   "execution_count": 38,
   "id": "5c647a5d",
   "metadata": {},
   "outputs": [
    {
     "data": {
      "image/png": "[encoded data removed]",
      "text/plain": [
       "<Figure size 432x288 with 1 Axes>"
      ]
     },
     "metadata": {
      "needs_background": "light"
     },
     "output_type": "display_data"
    }
   ],
   "source": [
    "plt.plot(*zip(*bayes_5),label='f5 bayesian mse')\n",
    "plt.plot(*zip(*MSE_5),label='f5 mle mse')\n",
    "plt.legend()\n",
    "plt.show()"
   ]
  },
  {
   "cell_type": "code",
   "execution_count": 39,
   "id": "a772e184",
   "metadata": {},
   "outputs": [
    {
     "data": {
      "image/png": "[encoded data removed]",
      "text/plain": [
       "<Figure size 432x288 with 1 Axes>"
      ]
     },
     "metadata": {
      "needs_background": "light"
     },
     "output_type": "display_data"
    }
   ],
   "source": [
    "plt.plot(*zip(*logev_3),label='log ev f3')\n",
    "plt.legend()\n",
    "plt.show()"
   ]
  },
  {
   "cell_type": "code",
   "execution_count": 40,
   "id": "d3f4b452",
   "metadata": {},
   "outputs": [
    {
     "data": {
      "image/png": "[encoded data removed]",
      "text/plain": [
       "<Figure size 432x288 with 1 Axes>"
      ]
     },
     "metadata": {
      "needs_background": "light"
     },
     "output_type": "display_data"
    }
   ],
   "source": [
    "plt.plot(*zip(*logev_5),label='log ev f5')\n",
    "plt.legend()\n",
    "plt.show()"
   ]
  },
  {
   "cell_type": "code",
   "execution_count": null,
   "id": "a951284d",
   "metadata": {},
   "outputs": [],
   "source": []
  }
 ],
 "metadata": {
  "kernelspec": {
   "display_name": "Python 3 (ipykernel)",
   "language": "python",
   "name": "python3"
  },
  "language_info": {
   "codemirror_mode": {
    "name": "ipython",
    "version": 3
   },
   "file_extension": ".py",
   "mimetype": "text/x-python",
   "name": "python",
   "nbconvert_exporter": "python",
   "pygments_lexer": "ipython3",
   "version": "3.9.12"
  }
 },
 "nbformat": 4,
 "nbformat_minor": 5
}
