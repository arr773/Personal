{
 "cells": [
  {
   "cell_type": "code",
   "execution_count": 1,
   "id": "62ff556e",
   "metadata": {},
   "outputs": [],
   "source": [
    "import random\n",
    "import numpy as np\n",
    "from IPython.display import clear_output\n",
    "import csv\n",
    "import pandas as pd\n",
    "import time\n",
    "import matplotlib.pyplot as plt\n"
   ]
  },
  {
   "cell_type": "markdown",
   "id": "613ce1a3",
   "metadata": {},
   "source": [
    "# Task 1"
   ]
  },
  {
   "cell_type": "code",
   "execution_count": 2,
   "id": "23a63dd2",
   "metadata": {},
   "outputs": [],
   "source": [
    "def read_all_documents(path, D):\n",
    "    corpus = []\n",
    "    for f in range(1,D+1):\n",
    "        file_path = f'{path}/{f}'\n",
    "        with open(file_path,'r') as file:\n",
    "            corpus.append(file.read().split())\n",
    "    return corpus"
   ]
  },
  {
   "cell_type": "code",
   "execution_count": 3,
   "id": "d579bfb2",
   "metadata": {},
   "outputs": [],
   "source": [
    "def LDA(corpus,K):\n",
    "    N_iters=500\n",
    "    N_words=0\n",
    "    a=5/K\n",
    "    b=0.01\n",
    "    for i in corpus:\n",
    "        N_words=N_words+len(i)\n",
    "    vocab=[]\n",
    "    for i in corpus:\n",
    "        for j in i:\n",
    "            if j not in vocab:\n",
    "                vocab.append(j)\n",
    "    pi_n=random.sample(range(0,N_words),N_words)\n",
    "    w_n=[]\n",
    "    for i in corpus:\n",
    "        for j in i:\n",
    "            w_n.append(vocab.index(j))\n",
    "    d_n=[]\n",
    "    for i in range(len(corpus)):\n",
    "        for j in range(len(corpus[i])):\n",
    "            d_n.append(i)\n",
    "    z_n=[]\n",
    "    for i in range(N_words):\n",
    "        z_n.append(random.randint(0,K-1))\n",
    "    w_n=np.array(w_n)\n",
    "    z_n=np.array(z_n)\n",
    "    d_n=np.array(d_n)\n",
    "    c_d = np.zeros((D, K))\n",
    "    c_t = np.zeros((K, len(vocab)))\n",
    "    P=np.zeros(K)\n",
    "    for i in range(c_d.shape[0]):\n",
    "        for j in range(c_d.shape[1]):\n",
    "            c_d[i,j] = np.sum(z_n[np.where(d_n==i)[0]]==j)\n",
    "\n",
    "    for i in range(c_t.shape[0]):\n",
    "        for j in range(c_t.shape[1]):\n",
    "            c_t[i,j] = np.sum(w_n[np.where(z_n==i)[0]]==j)\n",
    "\n",
    "    for i in range(N_iters):\n",
    "        for n in range(N_words):\n",
    "            word=w_n[pi_n[n]]\n",
    "            topic=z_n[pi_n[n]]\n",
    "            doc=d_n[pi_n[n]]\n",
    "            c_d[doc][topic]=c_d[doc][topic]-1\n",
    "            c_t[topic][word]=c_t[topic][word]-1\n",
    "            for k in range(K):\n",
    "                P[k]=((c_t[k,word] + b)/(len(vocab)*b + np.sum(c_t[k,:])))*((c_d[doc,k] + a)/(K*a + np.sum(c_d[doc,:])))\n",
    "            pnorm = sum(P)\n",
    "            pnorm = pnorm if pnorm>0 else 1\n",
    "            P = [pp/pnorm for pp in P]\n",
    "            topic=np.random.choice(np.arange(K),p=P)\n",
    "            z_n[pi_n[n]]=topic\n",
    "            c_d[doc][topic]=c_d[doc][topic]+1\n",
    "            c_t[topic][word]=c_t[topic][word]+1\n",
    "    return(z_n,c_d,c_t,vocab)"
   ]
  },
  {
   "cell_type": "code",
   "execution_count": 4,
   "id": "afd72a14",
   "metadata": {},
   "outputs": [],
   "source": [
    "path = 'pp4data/artificial'\n",
    "D = 10\n",
    "corpus = read_all_documents(path, D)\n",
    "K=2\n",
    "ans=(LDA(corpus,K))"
   ]
  },
  {
   "cell_type": "code",
   "execution_count": 5,
   "id": "ecf21195",
   "metadata": {},
   "outputs": [],
   "source": [
    "path = 'pp4data/20newsgroups/'\n",
    "D = 200\n",
    "corpus = read_all_documents(path, D)\n",
    "K=20\n",
    "newans=(LDA(corpus,K))"
   ]
  },
  {
   "cell_type": "code",
   "execution_count": 6,
   "id": "64104aa4",
   "metadata": {},
   "outputs": [],
   "source": [
    "data=[]\n",
    "for j in range(2):\n",
    "    newarr=sorted(range(len(ans[2][j])), key=lambda i: ans[2][j][i])[-3:]\n",
    "    temp=[]\n",
    "    for i in newarr:\n",
    "        temp.append(ans[3][i])\n",
    "    data.append(temp)"
   ]
  },
  {
   "cell_type": "code",
   "execution_count": 7,
   "id": "4024bbdc",
   "metadata": {},
   "outputs": [
    {
     "data": {
      "text/html": [
       "<div>\n",
       "<style scoped>\n",
       "    .dataframe tbody tr th:only-of-type {\n",
       "        vertical-align: middle;\n",
       "    }\n",
       "\n",
       "    .dataframe tbody tr th {\n",
       "        vertical-align: top;\n",
       "    }\n",
       "\n",
       "    .dataframe thead th {\n",
       "        text-align: right;\n",
       "    }\n",
       "</style>\n",
       "<table border=\"1\" class=\"dataframe\">\n",
       "  <thead>\n",
       "    <tr style=\"text-align: right;\">\n",
       "      <th></th>\n",
       "      <th>0</th>\n",
       "      <th>1</th>\n",
       "      <th>2</th>\n",
       "    </tr>\n",
       "  </thead>\n",
       "  <tbody>\n",
       "    <tr>\n",
       "      <th>0</th>\n",
       "      <td>bank</td>\n",
       "      <td>dollars</td>\n",
       "      <td>loan</td>\n",
       "    </tr>\n",
       "    <tr>\n",
       "      <th>1</th>\n",
       "      <td>river</td>\n",
       "      <td>water</td>\n",
       "      <td>bank</td>\n",
       "    </tr>\n",
       "  </tbody>\n",
       "</table>\n",
       "</div>"
      ],
      "text/plain": [
       "       0        1     2\n",
       "0   bank  dollars  loan\n",
       "1  river    water  bank"
      ]
     },
     "execution_count": 7,
     "metadata": {},
     "output_type": "execute_result"
    }
   ],
   "source": [
    "f = open('csv_file', 'w')\n",
    "writer = csv.writer(f)\n",
    "writer.writerows(data)\n",
    "f.close()\n",
    "\n",
    "df=pd.read_csv(\"csv_file\",header=None)\n",
    "df"
   ]
  },
  {
   "cell_type": "code",
   "execution_count": 8,
   "id": "ae96b916",
   "metadata": {},
   "outputs": [],
   "source": [
    "data=[]\n",
    "for j in range(20):\n",
    "    newarr=sorted(range(len(newans[2][j])), key=lambda i: newans[2][j][i])[-5:]\n",
    "    temp=[]\n",
    "    for i in newarr:\n",
    "        temp.append(newans[3][i])\n",
    "    data.append(temp)"
   ]
  },
  {
   "cell_type": "code",
   "execution_count": 9,
   "id": "c370a2e2",
   "metadata": {},
   "outputs": [
    {
     "data": {
      "text/html": [
       "<div>\n",
       "<style scoped>\n",
       "    .dataframe tbody tr th:only-of-type {\n",
       "        vertical-align: middle;\n",
       "    }\n",
       "\n",
       "    .dataframe tbody tr th {\n",
       "        vertical-align: top;\n",
       "    }\n",
       "\n",
       "    .dataframe thead th {\n",
       "        text-align: right;\n",
       "    }\n",
       "</style>\n",
       "<table border=\"1\" class=\"dataframe\">\n",
       "  <thead>\n",
       "    <tr style=\"text-align: right;\">\n",
       "      <th></th>\n",
       "      <th>0</th>\n",
       "      <th>1</th>\n",
       "      <th>2</th>\n",
       "      <th>3</th>\n",
       "      <th>4</th>\n",
       "    </tr>\n",
       "  </thead>\n",
       "  <tbody>\n",
       "    <tr>\n",
       "      <th>0</th>\n",
       "      <td>mustang</td>\n",
       "      <td>apr</td>\n",
       "      <td>article</td>\n",
       "      <td>writes</td>\n",
       "      <td>edu</td>\n",
       "    </tr>\n",
       "    <tr>\n",
       "      <th>1</th>\n",
       "      <td>access</td>\n",
       "      <td>pat</td>\n",
       "      <td>shuttle</td>\n",
       "      <td>hst</td>\n",
       "      <td>mission</td>\n",
       "    </tr>\n",
       "    <tr>\n",
       "      <th>2</th>\n",
       "      <td>ship</td>\n",
       "      <td>night</td>\n",
       "      <td>life</td>\n",
       "      <td>etc</td>\n",
       "      <td>earth</td>\n",
       "    </tr>\n",
       "    <tr>\n",
       "      <th>3</th>\n",
       "      <td>interested</td>\n",
       "      <td>probe</td>\n",
       "      <td>problem</td>\n",
       "      <td>make</td>\n",
       "      <td>find</td>\n",
       "    </tr>\n",
       "    <tr>\n",
       "      <th>4</th>\n",
       "      <td>want</td>\n",
       "      <td>make</td>\n",
       "      <td>mail</td>\n",
       "      <td>geico</td>\n",
       "      <td>insurance</td>\n",
       "    </tr>\n",
       "    <tr>\n",
       "      <th>5</th>\n",
       "      <td>want</td>\n",
       "      <td>extra</td>\n",
       "      <td>cost</td>\n",
       "      <td>money</td>\n",
       "      <td>don</td>\n",
       "    </tr>\n",
       "    <tr>\n",
       "      <th>6</th>\n",
       "      <td>shift</td>\n",
       "      <td>sho</td>\n",
       "      <td>don</td>\n",
       "      <td>shifter</td>\n",
       "      <td>clutch</td>\n",
       "    </tr>\n",
       "    <tr>\n",
       "      <th>7</th>\n",
       "      <td>incoming</td>\n",
       "      <td>ics</td>\n",
       "      <td>uci</td>\n",
       "      <td>gif</td>\n",
       "      <td>edu</td>\n",
       "    </tr>\n",
       "    <tr>\n",
       "      <th>8</th>\n",
       "      <td>writes</td>\n",
       "      <td>spencer</td>\n",
       "      <td>toronto</td>\n",
       "      <td>edu</td>\n",
       "      <td>henry</td>\n",
       "    </tr>\n",
       "    <tr>\n",
       "      <th>9</th>\n",
       "      <td>oort</td>\n",
       "      <td>spacecraft</td>\n",
       "      <td>mars</td>\n",
       "      <td>part</td>\n",
       "      <td>system</td>\n",
       "    </tr>\n",
       "    <tr>\n",
       "      <th>10</th>\n",
       "      <td>sci</td>\n",
       "      <td>sky</td>\n",
       "      <td>gov</td>\n",
       "      <td>nasa</td>\n",
       "      <td>space</td>\n",
       "    </tr>\n",
       "    <tr>\n",
       "      <th>11</th>\n",
       "      <td>don</td>\n",
       "      <td>apr</td>\n",
       "      <td>article</td>\n",
       "      <td>writes</td>\n",
       "      <td>edu</td>\n",
       "    </tr>\n",
       "    <tr>\n",
       "      <th>12</th>\n",
       "      <td>capability</td>\n",
       "      <td>diesels</td>\n",
       "      <td>redesign</td>\n",
       "      <td>option</td>\n",
       "      <td>station</td>\n",
       "    </tr>\n",
       "    <tr>\n",
       "      <th>13</th>\n",
       "      <td>find</td>\n",
       "      <td>information</td>\n",
       "      <td>internet</td>\n",
       "      <td>george</td>\n",
       "      <td>science</td>\n",
       "    </tr>\n",
       "    <tr>\n",
       "      <th>14</th>\n",
       "      <td>mph</td>\n",
       "      <td>doesn</td>\n",
       "      <td>work</td>\n",
       "      <td>two</td>\n",
       "      <td>power</td>\n",
       "    </tr>\n",
       "    <tr>\n",
       "      <th>15</th>\n",
       "      <td>program</td>\n",
       "      <td>long</td>\n",
       "      <td>moon</td>\n",
       "      <td>bill</td>\n",
       "      <td>space</td>\n",
       "    </tr>\n",
       "    <tr>\n",
       "      <th>16</th>\n",
       "      <td>seat</td>\n",
       "      <td>toyota</td>\n",
       "      <td>price</td>\n",
       "      <td>cars</td>\n",
       "      <td>engine</td>\n",
       "    </tr>\n",
       "    <tr>\n",
       "      <th>17</th>\n",
       "      <td>dealer</td>\n",
       "      <td>speed</td>\n",
       "      <td>manual</td>\n",
       "      <td>ford</td>\n",
       "      <td>car</td>\n",
       "    </tr>\n",
       "    <tr>\n",
       "      <th>18</th>\n",
       "      <td>people</td>\n",
       "      <td>high</td>\n",
       "      <td>large</td>\n",
       "      <td>good</td>\n",
       "      <td>time</td>\n",
       "    </tr>\n",
       "    <tr>\n",
       "      <th>19</th>\n",
       "      <td>bmw</td>\n",
       "      <td>lights</td>\n",
       "      <td>change</td>\n",
       "      <td>service</td>\n",
       "      <td>oil</td>\n",
       "    </tr>\n",
       "  </tbody>\n",
       "</table>\n",
       "</div>"
      ],
      "text/plain": [
       "             0            1         2        3          4\n",
       "0      mustang          apr   article   writes        edu\n",
       "1       access          pat   shuttle      hst    mission\n",
       "2         ship        night      life      etc      earth\n",
       "3   interested        probe   problem     make       find\n",
       "4         want         make      mail    geico  insurance\n",
       "5         want        extra      cost    money        don\n",
       "6        shift          sho       don  shifter     clutch\n",
       "7     incoming          ics       uci      gif        edu\n",
       "8       writes      spencer   toronto      edu      henry\n",
       "9         oort   spacecraft      mars     part     system\n",
       "10         sci          sky       gov     nasa      space\n",
       "11         don          apr   article   writes        edu\n",
       "12  capability      diesels  redesign   option    station\n",
       "13        find  information  internet   george    science\n",
       "14         mph        doesn      work      two      power\n",
       "15     program         long      moon     bill      space\n",
       "16        seat       toyota     price     cars     engine\n",
       "17      dealer        speed    manual     ford        car\n",
       "18      people         high     large     good       time\n",
       "19         bmw       lights    change  service        oil"
      ]
     },
     "execution_count": 9,
     "metadata": {},
     "output_type": "execute_result"
    }
   ],
   "source": [
    "f = open('topicwords', 'w')\n",
    "writer = csv.writer(f)\n",
    "writer.writerows(data)\n",
    "f.close()\n",
    "\n",
    "df=pd.read_csv(\"topicwords\",header=None)\n",
    "df"
   ]
  },
  {
   "cell_type": "code",
   "execution_count": 20,
   "id": "00ca024a",
   "metadata": {},
   "outputs": [
    {
     "data": {
      "text/plain": [
       "array([[0.91346154, 0.08653846],\n",
       "       [0.20175439, 0.79824561],\n",
       "       [0.75641026, 0.24358974],\n",
       "       [0.16666667, 0.83333333],\n",
       "       [0.78205128, 0.21794872],\n",
       "       [0.13068182, 0.86931818],\n",
       "       [0.71978022, 0.28021978],\n",
       "       [0.20967742, 0.79032258],\n",
       "       [0.6875    , 0.3125    ],\n",
       "       [0.15853659, 0.84146341]])"
      ]
     },
     "execution_count": 20,
     "metadata": {},
     "output_type": "execute_result"
    }
   ],
   "source": [
    "P1=[]\n",
    "for i in range(10):\n",
    "    temp=[]\n",
    "    for k in range(2):\n",
    "        temp.append((ans[1][i,k] + 5/2)/(5 + np.sum(ans[1][i,:])))\n",
    "    P1.append(temp)\n",
    "P1=np.array(P1)\n",
    "P1"
   ]
  },
  {
   "cell_type": "code",
   "execution_count": 21,
   "id": "c9a0c533",
   "metadata": {},
   "outputs": [
    {
     "data": {
      "text/plain": [
       "array([[0.10416667, 0.02083333, 0.02083333, ..., 0.02083333, 0.02083333,\n",
       "        0.10416667],\n",
       "       [0.05681818, 0.01136364, 0.03863636, ..., 0.05681818, 0.05681818,\n",
       "        0.58409091],\n",
       "       [0.14130435, 0.01086957, 0.01086957, ..., 0.01086957, 0.05434783,\n",
       "        0.01086957],\n",
       "       ...,\n",
       "       [0.01666667, 0.01666667, 0.28333333, ..., 0.01666667, 0.08333333,\n",
       "        0.01666667],\n",
       "       [0.00438596, 0.60087719, 0.00438596, ..., 0.00438596, 0.00438596,\n",
       "        0.00438596],\n",
       "       [0.1712963 , 0.00462963, 0.02314815, ..., 0.00462963, 0.06018519,\n",
       "        0.02314815]])"
      ]
     },
     "execution_count": 21,
     "metadata": {},
     "output_type": "execute_result"
    }
   ],
   "source": [
    "P2=[]\n",
    "for i in range(200):\n",
    "    temp=[]\n",
    "    for k in range(20):\n",
    "        temp.append((newans[1][i,k] + 5/20)/(5 + np.sum(newans[1][i,:])))\n",
    "    P2.append(temp)\n",
    "P2=np.array(P2)\n",
    "P2"
   ]
  },
  {
   "cell_type": "markdown",
   "id": "9a7a1e4c",
   "metadata": {},
   "source": [
    "# Task 2"
   ]
  },
  {
   "cell_type": "code",
   "execution_count": 36,
   "id": "d6d32087",
   "metadata": {},
   "outputs": [],
   "source": [
    "def bagOfWords(corpus):\n",
    "    word=[]\n",
    "    for i in corpus:\n",
    "        for j in i:\n",
    "            word.append(j)\n",
    "    count=0\n",
    "    d={}\n",
    "    for i in word:\n",
    "        if i not in d:\n",
    "            d[i] = count\n",
    "            count=count+1\n",
    "    doc = []\n",
    "    for i,j in enumerate(corpus):\n",
    "        doc.extend([i for k in range(len(j))])\n",
    "    doc = np.array(doc)\n",
    "    w = []\n",
    "    for i in word:\n",
    "        w.append(d[i])\n",
    "    w = np.array(w)\n",
    "    doc_words = np.zeros((200,len(d)))\n",
    "    for i in range(doc_words.shape[0]):\n",
    "        for j in range(doc_words.shape[1]):\n",
    "            doc_words[i,j] = np.sum(w[np.where(doc==i)[0]]==j)\n",
    "    return doc_words\n",
    "words=bagOfWords(corpus)"
   ]
  },
  {
   "cell_type": "code",
   "execution_count": 37,
   "id": "7263db25",
   "metadata": {},
   "outputs": [],
   "source": [
    "partition = [0.1,0.2,0.3,0.4,0.5,0.6,0.7,0.8,0.9,1]\n",
    "labels = pd.read_csv(r'pp4data/20newsgroups/index.csv', header=None)\n",
    "y=labels[1].to_numpy().flatten()"
   ]
  },
  {
   "cell_type": "code",
   "execution_count": 38,
   "id": "20d805f6",
   "metadata": {},
   "outputs": [],
   "source": [
    "def discriminative(X,Y):\n",
    "    N = X.shape[0]\n",
    "    N_test = int(N/3)\n",
    "    N_train = N-N_test\n",
    "    index=[]\n",
    "    for j in range(N):\n",
    "        index.append(j)\n",
    "    discriminative_result = {}\n",
    "    logisticR_X = np.c_[np.ones(N),X]\n",
    "    for times in range(1, 31):\n",
    "        test_index = random.sample(index, N_test)\n",
    "        train_index = [x for x in index if x not in test_index]\n",
    "        xtrain = logisticR_X[train_index,:]\n",
    "        ytrain = Y[train_index]\n",
    "        xtest = logisticR_X[test_index,:]\n",
    "        ytest = Y[test_index]\n",
    "        for pv in partition:\n",
    "            pv_N = int(pv*N_train)\n",
    "            p_x = xtrain[:pv_N,]\n",
    "            p_y = ytrain[:pv_N]\n",
    "            W_old = np.zeros(p_x.shape[1])\n",
    "            W_new = np.matrix(np.zeros(p_x.shape[1]))\n",
    "            d = X.shape[1]\n",
    "            for iteration in range(100):\n",
    "                if not(np.linalg.norm(W_new-W_old)**2)/(np.linalg.norm(W_old)**2>0.001):\n",
    "                      break\n",
    "                a = np.dot(p_x, W_old)\n",
    "                y = 1/(1 + np.exp(-a))\n",
    "                R = np.diag(y*(1-y))\n",
    "                W_new = W_old - np.dot(np.linalg.inv(0.01*np.identity(d+1) + np.dot(np.dot(p_x.T,R),p_x)),np.dot(p_x.T, (y-p_y)) + 0.01*W_old)\n",
    "                W_old=W_new\n",
    "            a = np.dot(p_x, W_new)\n",
    "            y = 1/(1 + np.exp(-a))\n",
    "            total = np.zeros((d+1,d+1))\n",
    "            for i in range(y.size):\n",
    "                total+= (y[i]*(1-y[i]))*np.dot(p_x[i,:], p_x[i,:])\n",
    "            SN = 0.01*np.identity(d+1) + total\n",
    "            prob = np.zeros(xtest.shape[0])\n",
    "            for i in range(prob.size):\n",
    "                phi = xtest[i,:]\n",
    "                mu = np.dot(W_new.T, phi)\n",
    "                sigma_square = np.dot(np.dot(phi.T, SN), phi)\n",
    "                k = 1/np.sqrt(1 + (np.pi*sigma_square/8))\n",
    "\n",
    "                prob[i] = 1/(1 + np.exp(-(k*mu)))\n",
    "            \n",
    "            pred_labels = np.where(prob>=0.5,1,0)\n",
    "            misclassified_instances = np.sum(np.logical_xor(ytest, pred_labels))\n",
    "            test_error_rate = misclassified_instances/ytest.size\n",
    "            \n",
    "            \n",
    "            discriminative_result[(str(times),str(pv))] = test_error_rate\n",
    "\n",
    "    return(discriminative_result)\n",
    "def error(generative):\n",
    "    g_avg = {}\n",
    "\n",
    "\n",
    "    for p in partition:\n",
    "            x = np.array([generative[(str(t),str(p))] for t in range(1,31)])\n",
    "            g_avg[(str(p), \"Discriminative\")] = (np.mean(x), np.std(x))\n",
    "    return g_avg"
   ]
  },
  {
   "cell_type": "code",
   "execution_count": 39,
   "id": "0688db4c",
   "metadata": {},
   "outputs": [
    {
     "name": "stderr",
     "output_type": "stream",
     "text": [
      "C:\\Users\\Aaryan Agarwal\\AppData\\Local\\Temp\\ipykernel_23112\\2718418435.py:25: RuntimeWarning: invalid value encountered in true_divide\n",
      "  if not(np.linalg.norm(W_new-W_old)**2)/(np.linalg.norm(W_old)**2>0.001):\n"
     ]
    },
    {
     "name": "stdout",
     "output_type": "stream",
     "text": [
      "Time taken for topic representation  0.6286466121673584  seconds\n",
      "Time taken for Bag of words  16.87462830543518  seconds\n"
     ]
    }
   ],
   "source": [
    "start1 = time.time()\n",
    "prediction1 = discriminative(P2,y)\n",
    "end1 = time.time()\n",
    "diff1 = end1-start1\n",
    "print(\"Time taken for topic representation \",diff1,\" seconds\")\n",
    "\n",
    "start2 = time.time()\n",
    "prediction2 = discriminative(words,y)\n",
    "end2 = time.time()\n",
    "diff2 = end2-start2\n",
    "print(\"Time taken for Bag of words \",diff2,\" seconds\")\n"
   ]
  },
  {
   "cell_type": "code",
   "execution_count": 40,
   "id": "c3c7368c",
   "metadata": {},
   "outputs": [],
   "source": [
    "result1=error(prediction1)\n",
    "result2=error(prediction2)"
   ]
  },
  {
   "cell_type": "code",
   "execution_count": 41,
   "id": "4c852dd0",
   "metadata": {},
   "outputs": [
    {
     "data": {
      "text/plain": [
       "{('0.1', 'Discriminative'): (0.20404040404040408, 0.0684040523367152),\n",
       " ('0.2', 'Discriminative'): (0.17020202020202022, 0.05170543190616634),\n",
       " ('0.3', 'Discriminative'): (0.13838383838383836, 0.05445184635128709),\n",
       " ('0.4', 'Discriminative'): (0.13030303030303028, 0.04058042308404175),\n",
       " ('0.5', 'Discriminative'): (0.1015151515151515, 0.0391503736894616),\n",
       " ('0.6', 'Discriminative'): (0.09343434343434341, 0.02981509523867766),\n",
       " ('0.7', 'Discriminative'): (0.09141414141414139, 0.03862563394949271),\n",
       " ('0.8', 'Discriminative'): (0.09090909090909088, 0.03477154440011819),\n",
       " ('0.9', 'Discriminative'): (0.09646464646464643, 0.035096467986043815),\n",
       " ('1', 'Discriminative'): (0.08535353535353533, 0.034877750849736454)}"
      ]
     },
     "execution_count": 41,
     "metadata": {},
     "output_type": "execute_result"
    }
   ],
   "source": [
    "result1"
   ]
  },
  {
   "cell_type": "code",
   "execution_count": 42,
   "id": "ab4a725d",
   "metadata": {},
   "outputs": [
    {
     "data": {
      "text/plain": [
       "{('0.1', 'Discriminative'): (0.2404040404040404, 0.0706059883527325),\n",
       " ('0.2', 'Discriminative'): (0.15707070707070706, 0.04924954623451553),\n",
       " ('0.3', 'Discriminative'): (0.16515151515151516, 0.045848461481965114),\n",
       " ('0.4', 'Discriminative'): (0.14545454545454545, 0.05415121274214227),\n",
       " ('0.5', 'Discriminative'): (0.1398989898989899, 0.044892711835682594),\n",
       " ('0.6', 'Discriminative'): (0.1419191919191919, 0.04587070991781632),\n",
       " ('0.7', 'Discriminative'): (0.15202020202020206, 0.04074665343743424),\n",
       " ('0.8', 'Discriminative'): (0.14898989898989898, 0.03412362814466438),\n",
       " ('0.9', 'Discriminative'): (0.16414141414141417, 0.034789878988473785),\n",
       " ('1', 'Discriminative'): (0.15959595959595962, 0.034712808641292094)}"
      ]
     },
     "execution_count": 42,
     "metadata": {},
     "output_type": "execute_result"
    }
   ],
   "source": [
    "result2"
   ]
  },
  {
   "cell_type": "code",
   "execution_count": 49,
   "id": "fde13fb5",
   "metadata": {},
   "outputs": [
    {
     "data": {
      "image/png": "[encoded data removed]",
      "text/plain": [
       "<Figure size 640x480 with 1 Axes>"
      ]
     },
     "metadata": {},
     "output_type": "display_data"
    }
   ],
   "source": [
    "plt.plot(partition,[1-result1[(str(p),'Discriminative')][0] for p in partition], label = 'Topic Representation')\n",
    "plt.plot(partition, [1-result2[(str(p),'Discriminative')][0] for p in partition], label = 'Bag of words')\n",
    "plt.xlabel('Partition')\n",
    "plt.ylabel('Error')\n",
    "plt.legend()\n",
    "plt.show()"
   ]
  },
  {
   "cell_type": "code",
   "execution_count": null,
   "id": "b902c000",
   "metadata": {},
   "outputs": [],
   "source": []
  }
 ],
 "metadata": {
  "kernelspec": {
   "display_name": "Python 3 (ipykernel)",
   "language": "python",
   "name": "python3"
  },
  "language_info": {
   "codemirror_mode": {
    "name": "ipython",
    "version": 3
   },
   "file_extension": ".py",
   "mimetype": "text/x-python",
   "name": "python",
   "nbconvert_exporter": "python",
   "pygments_lexer": "ipython3",
   "version": "3.9.13"
  }
 },
 "nbformat": 4,
 "nbformat_minor": 5
}
