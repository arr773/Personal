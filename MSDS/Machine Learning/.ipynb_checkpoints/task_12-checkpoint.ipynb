{
 "cells": [
  {
   "cell_type": "code",
   "execution_count": 1,
   "id": "ae9aa61e",
   "metadata": {},
   "outputs": [],
   "source": [
    "from matplotlib import markers\n",
    "import pandas as pd\n",
    "import numpy as np\n",
    "import matplotlib. pyplot as plt\n",
    "import random"
   ]
  },
  {
   "cell_type": "code",
   "execution_count": 3,
   "id": "15635bec",
   "metadata": {},
   "outputs": [],
   "source": [
    "partition_values = [0.1,0.2,0.3,0.4,0.5,0.6,0.7,0.8,0.9,1]"
   ]
  },
  {
   "cell_type": "code",
   "execution_count": 59,
   "id": "702e9adb",
   "metadata": {},
   "outputs": [],
   "source": [
    "def generative(X, Y):\n",
    "    N = X.shape[0]\n",
    "    d = X.shape[1]\n",
    "    N_test = int(N/3)\n",
    "    N_train = N-N_test\n",
    "    all_index = [i for i in range(N)]\n",
    "    generative_result = {}\n",
    "    for times in range(1, 31):\n",
    "        test_index = random.sample(all_index, N_test)\n",
    "        train_index = [x for x in all_index if x not in test_index]\n",
    "        xtrain = X[train_index,:]\n",
    "        ytrain = Y[train_index]\n",
    "        xtest = X[test_index,:]\n",
    "        ytest = Y[test_index]\n",
    "        for pv in partition_values:\n",
    "            alpha = 0.1\n",
    "            pv_N = int(pv*N_train)\n",
    "            xpv = xtrain[:pv_N,]\n",
    "            ypv = ytrain[:pv_N]\n",
    "            W_old = np.zeros(xpv.shape[1])\n",
    "            \n",
    "            #Generative model\n",
    "            class1 = xpv[(np.where(ypv==1)[0]),:]\n",
    "            mu1 = np.mean(class1, axis=0)\n",
    "            class2 = xpv[(np.where(ypv==0)[0]),:]\n",
    "            mu2 = np.mean(class2, axis=0)\n",
    "            \n",
    "            #S1 calculation\n",
    "            summation = np.zeros((d,d))\n",
    "            for i in range(class1.shape[0]):\n",
    "                summation+= np.outer((class1[i,:]-mu1), (class1[i,:]-mu1))\n",
    "            \n",
    "            S1 = summation/class1.shape[0]\n",
    "            \n",
    "            #S1 calculation\n",
    "            summation = np.zeros((d,d))\n",
    "            for i in range(class2.shape[0]):\n",
    "                summation+= np.outer((class2[i,:]-mu2), (class2[i,:]-mu2))\n",
    "            \n",
    "            S2 = summation/class2.shape[0]\n",
    "            \n",
    "            S = ((class1.shape[0]/pv_N)*S1) + ((class2.shape[0]/pv_N)*S2)\n",
    "            #print(S)\n",
    "            \n",
    "            W = np.dot(np.linalg.inv(S),(mu1-mu2))\n",
    "            PC1 = class1.shape[0]/pv_N\n",
    "            PC2 = class2.shape[0]/pv_N\n",
    "            \n",
    "            term1 = -0.5*np.dot(np.dot(mu1, np.linalg.inv(S)),mu1)\n",
    "            term2 = 0.5*np.dot(np.dot(mu2, np.linalg.inv(S)),mu2)\n",
    "            term3 = np.log(PC1/PC2)\n",
    "            \n",
    "            W0 = term1 + term2 + term3\n",
    "            #print(W0)\n",
    "            \n",
    "            # Prediction\n",
    "            pred = np.zeros(xtest.shape[0])\n",
    "            for i in range(pred.size):\n",
    "                x_test = xtest[i,:]\n",
    "                pred[i] = np.dot(W,x_test) + W0\n",
    "            prediction = np.where(pred>=0,1,0)\n",
    "            error = np.sum(np.logical_xor(ytest, prediction))\n",
    "            test_error = error/ytest.size\n",
    "            \n",
    "            generative_result[(str(times),str(pv))] = test_error\n",
    "    return generative_result"
   ]
  },
  {
   "cell_type": "code",
   "execution_count": 60,
   "id": "26a442d1",
   "metadata": {},
   "outputs": [],
   "source": [
    "def discriminatve(X, Y):\n",
    "    N = X.shape[0]\n",
    "    d = X.shape[1]\n",
    "    N_test = int(N/3)\n",
    "    N_train = N-N_test\n",
    "    all_index = [i for i in range(N)]\n",
    "    discriminative_result = {}\n",
    "    logisticR_X = np.c_[np.ones(N),X]\n",
    "    for times in range(1, 31):\n",
    "        test_index = random.sample(all_index, N_test)\n",
    "        train_index = [x for x in all_index if x not in test_index]\n",
    "        xtrain = logisticR_X[train_index,:]\n",
    "        ytrain = Y[train_index]\n",
    "        xtest = logisticR_X[test_index,:]\n",
    "        ytest = Y[test_index]\n",
    "        for pv in partition_values:\n",
    "            alpha = 0.1\n",
    "            pv_N = int(pv*N_train)\n",
    "            xpv = xtrain[:pv_N,]\n",
    "            ypv = ytrain[:pv_N]\n",
    "            W_old = np.zeros(xpv.shape[1])\n",
    "            W_new = np.matrix(np.zeros(xpv.shape[1]))\n",
    "            iteration = 0\n",
    "            while( (np.linalg.norm(W_new-W_old)**2)/(np.linalg.norm(W_old)**2>0.001) and (iteration<100) ):\n",
    "                a = np.dot(xpv, W_old)\n",
    "                y = 1/(1 + np.exp(-a))\n",
    "                R = np.diag(y*(1-y))\n",
    "                term_1 = alpha*np.identity(d+1) + np.dot(np.dot(xpv.T,R),xpv)\n",
    "                term_2 = np.dot(xpv.T, (y-ypv)) + alpha*W_old\n",
    "                W_new = W_old - np.dot(np.linalg.inv(term_1),term_2)\n",
    "\n",
    "                W_old=W_new\n",
    "                iteration+=1\n",
    "\n",
    "            # SN calculation\n",
    "            a = np.dot(xpv, W_new)\n",
    "            y = 1/(1 + np.exp(-a))\n",
    "            sum = np.zeros((d+1,d+1))\n",
    "            for i in range(y.size):\n",
    "                sum+= (y[i]*(1-y[i]))*np.dot(xpv[i,:], xpv[i,:])\n",
    "            \n",
    "            SN = alpha*np.identity(d+1) + sum\n",
    "            \n",
    "            #predictions\n",
    "\n",
    "            probs = np.zeros(xtest.shape[0])\n",
    "            for i in range(probs.size):\n",
    "                phi = xtest[i,:]\n",
    "                mu = np.dot(W_new.T, phi)\n",
    "                sigma_square = np.dot(np.dot(phi.T, SN), phi)\n",
    "                k = 1/np.sqrt(1 + (np.pi*sigma_square/8))\n",
    "\n",
    "                probs[i] = 1/(1 + np.exp(-(k*mu)))\n",
    "            \n",
    "            pred_labels = np.where(probs>=0.5,1,0)\n",
    "            misclassified_instances = np.sum(np.logical_xor(ytest, pred_labels))\n",
    "            test_error_rate = misclassified_instances/ytest.size\n",
    "            \n",
    "            \n",
    "            discriminative_result[(str(times),str(pv))] = test_error_rate\n",
    "    return discriminative_result"
   ]
  },
  {
   "cell_type": "code",
   "execution_count": 61,
   "id": "415835cc",
   "metadata": {},
   "outputs": [],
   "source": [
    "generative_result = generative(X,Y)"
   ]
  },
  {
   "cell_type": "code",
   "execution_count": 62,
   "id": "38e94ff1",
   "metadata": {},
   "outputs": [
    {
     "name": "stderr",
     "output_type": "stream",
     "text": [
      "<ipython-input-60-d8ced88877ed>:24: RuntimeWarning: invalid value encountered in true_divide\n",
      "  while( (np.linalg.norm(W_new-W_old)**2)/(np.linalg.norm(W_old)**2>0.001) and (iteration<100) ):\n"
     ]
    }
   ],
   "source": [
    "discriminative_result = discriminatve(X, Y)"
   ]
  },
  {
   "cell_type": "code",
   "execution_count": null,
   "id": "3413cefc",
   "metadata": {},
   "outputs": [],
   "source": []
  },
  {
   "cell_type": "code",
   "execution_count": 63,
   "id": "f615c624",
   "metadata": {},
   "outputs": [],
   "source": [
    "def average_error(gr, dr):\n",
    "\n",
    "    generative_avg = {}\n",
    "    discriminative_avg = {}\n",
    "\n",
    "    for pv in partition_values:\n",
    "        #for algo in ['Generative Algorithm','Discriminative Algorithm']:\n",
    "            arr = np.array([gr[(str(e),str(pv))] for e in range(1,31)])\n",
    "            arr1 = np.array([dr[(str(e),str(pv))] for e in range(1,31)])\n",
    "            generative_avg[(str(pv), \"Generative\")] = (np.mean(arr), np.std(arr))\n",
    "            discriminative_avg[(str(pv), \"Discriminative\")] = (np.mean(arr1), np.std(arr1))\n",
    "    return generative_avg, discriminative_avg"
   ]
  },
  {
   "cell_type": "code",
   "execution_count": 64,
   "id": "7f757549",
   "metadata": {},
   "outputs": [],
   "source": []
  },
  {
   "cell_type": "code",
   "execution_count": 69,
   "id": "301fb577",
   "metadata": {},
   "outputs": [],
   "source": [
    "# dataset - A"
   ]
  },
  {
   "cell_type": "code",
   "execution_count": 121,
   "id": "7aeb10e7",
   "metadata": {},
   "outputs": [
    {
     "name": "stderr",
     "output_type": "stream",
     "text": [
      "<ipython-input-60-d8ced88877ed>:24: RuntimeWarning: invalid value encountered in true_divide\n",
      "  while( (np.linalg.norm(W_new-W_old)**2)/(np.linalg.norm(W_old)**2>0.001) and (iteration<100) ):\n"
     ]
    }
   ],
   "source": [
    "data = pd.read_csv(r'pp3data/A.csv', header=None)\n",
    "labels = pd.read_csv(r'pp3data/labels-A.csv', header=None)\n",
    "\n",
    "X = data.to_numpy()\n",
    "Y = labels.to_numpy().flatten()\n",
    "\n",
    "generative_result = generative(X,Y)\n",
    "discriminative_result = discriminatve(X, Y)\n",
    "\n",
    "generative_result, discriminative_result = average_error(generative_result, discriminative_result)"
   ]
  },
  {
   "cell_type": "code",
   "execution_count": 122,
   "id": "ac0adc62",
   "metadata": {},
   "outputs": [
    {
     "data": {
      "text/plain": [
       "({('0.1', 'Generative'): (0.15480480480480482, 0.0197923111187973),\n",
       "  ('0.2', 'Generative'): (0.11566566566566566, 0.01932405145175451),\n",
       "  ('0.3', 'Generative'): (0.09374374374374374, 0.012343300278550757),\n",
       "  ('0.4', 'Generative'): (0.07777777777777777, 0.01285458343900982),\n",
       "  ('0.5', 'Generative'): (0.07297297297297295, 0.013281287920418008),\n",
       "  ('0.6', 'Generative'): (0.066016016016016, 0.012499392520917588),\n",
       "  ('0.7', 'Generative'): (0.06506506506506506, 0.010878260650167892),\n",
       "  ('0.8', 'Generative'): (0.06306306306306307, 0.00967663064936695),\n",
       "  ('0.9', 'Generative'): (0.06121121121121121, 0.00893095426739542),\n",
       "  ('1', 'Generative'): (0.0573073073073073, 0.00874731126651683)},\n",
       " {('0.1', 'Discriminative'): (0.30185185185185176, 0.029787517605769417),\n",
       "  ('0.2', 'Discriminative'): (0.155055055055055, 0.017480011328408415),\n",
       "  ('0.3', 'Discriminative'): (0.10835835835835836, 0.015219248319588824),\n",
       "  ('0.4', 'Discriminative'): (0.08933933933933934, 0.01056577776047309),\n",
       "  ('0.5', 'Discriminative'): (0.08003003003003002, 0.009101543459688794),\n",
       "  ('0.6', 'Discriminative'): (0.071021021021021, 0.008548015211705876),\n",
       "  ('0.7', 'Discriminative'): (0.06696696696696697, 0.008560753454744866),\n",
       "  ('0.8', 'Discriminative'): (0.06576576576576576, 0.008435178321434318),\n",
       "  ('0.9', 'Discriminative'): (0.06166166166166166, 0.007811015485445205),\n",
       "  ('1', 'Discriminative'): (0.05625625625625627, 0.007702505947231485)})"
      ]
     },
     "execution_count": 122,
     "metadata": {},
     "output_type": "execute_result"
    }
   ],
   "source": [
    "generative_result, discriminative_result"
   ]
  },
  {
   "cell_type": "code",
   "execution_count": 123,
   "id": "70e7c4ce",
   "metadata": {},
   "outputs": [
    {
     "data": {
      "image/png": "[encoded data removed]",
      "text/plain": [
       "<Figure size 432x288 with 1 Axes>"
      ]
     },
     "metadata": {
      "needs_background": "light"
     },
     "output_type": "display_data"
    }
   ],
   "source": [
    "plt.figure(1)\n",
    "plt.plot(partition_values, [generative_result[(str(pv), 'Generative')][0] for pv in partition_values], marker = 'o', label = 'Generative Algorithm')\n",
    "plt.plot(partition_values, [discriminative_result[(str(pv), 'Discriminative')][0] for pv in partition_values], marker = 'o', label = 'Discriminative Algorithm')\n",
    "plt.xlabel('Partition Values')\n",
    "plt.ylabel('Test Set Error')\n",
    "plt.title('learning curves for dataset  A')\n",
    "plt.legend()\n",
    "plt.xticks(partition_values)\n",
    "plt.show()"
   ]
  },
  {
   "cell_type": "code",
   "execution_count": 124,
   "id": "2f666271",
   "metadata": {},
   "outputs": [],
   "source": [
    "# dataset - B"
   ]
  },
  {
   "cell_type": "code",
   "execution_count": 125,
   "id": "77bc1596",
   "metadata": {},
   "outputs": [
    {
     "name": "stderr",
     "output_type": "stream",
     "text": [
      "<ipython-input-60-d8ced88877ed>:24: RuntimeWarning: invalid value encountered in true_divide\n",
      "  while( (np.linalg.norm(W_new-W_old)**2)/(np.linalg.norm(W_old)**2>0.001) and (iteration<100) ):\n"
     ]
    }
   ],
   "source": [
    "data = pd.read_csv(r'pp3data/B.csv', header=None)\n",
    "labels = pd.read_csv(r'pp3data/labels-B.csv', header=None)\n",
    "\n",
    "X = data.to_numpy()\n",
    "Y = labels.to_numpy().flatten()\n",
    "\n",
    "generative_result = generative(X,Y)\n",
    "discriminative_result = discriminatve(X, Y)\n",
    "\n",
    "generative_result, discriminative_result = average_error(generative_result, discriminative_result)"
   ]
  },
  {
   "cell_type": "code",
   "execution_count": 126,
   "id": "465b3583",
   "metadata": {},
   "outputs": [
    {
     "data": {
      "text/plain": [
       "({('0.1', 'Generative'): (0.34191919191919184, 0.07602813638845664),\n",
       "  ('0.2', 'Generative'): (0.2676767676767676, 0.053829949876663556),\n",
       "  ('0.3', 'Generative'): (0.2727272727272727, 0.05868156585162753),\n",
       "  ('0.4', 'Generative'): (0.24646464646464653, 0.056817620648182764),\n",
       "  ('0.5', 'Generative'): (0.20707070707070707, 0.04764636935382123),\n",
       "  ('0.6', 'Generative'): (0.19444444444444445, 0.05264409632106418),\n",
       "  ('0.7', 'Generative'): (0.1994949494949495, 0.042511334366704984),\n",
       "  ('0.8', 'Generative'): (0.1808080808080808, 0.04561140163586116),\n",
       "  ('0.9', 'Generative'): (0.17070707070707072, 0.04742098825982021),\n",
       "  ('1', 'Generative'): (0.17272727272727273, 0.047849370837684896)},\n",
       " {('0.1', 'Discriminative'): (0.31060606060606055, 0.05259562108396904),\n",
       "  ('0.2', 'Discriminative'): (0.2722222222222222, 0.04909392267426363),\n",
       "  ('0.3', 'Discriminative'): (0.2722222222222222, 0.0507795570273781),\n",
       "  ('0.4', 'Discriminative'): (0.24393939393939393, 0.04219817110162487),\n",
       "  ('0.5', 'Discriminative'): (0.21313131313131312, 0.04372699155942093),\n",
       "  ('0.6', 'Discriminative'): (0.19949494949494948, 0.044960842966577916),\n",
       "  ('0.7', 'Discriminative'): (0.19797979797979798, 0.05247666750650722),\n",
       "  ('0.8', 'Discriminative'): (0.18585858585858583, 0.05681762064818276),\n",
       "  ('0.9', 'Discriminative'): (0.18434343434343436, 0.055887438435850034),\n",
       "  ('1', 'Discriminative'): (0.1873737373737374, 0.047830709355744745)})"
      ]
     },
     "execution_count": 126,
     "metadata": {},
     "output_type": "execute_result"
    }
   ],
   "source": [
    "generative_result, discriminative_result"
   ]
  },
  {
   "cell_type": "code",
   "execution_count": 127,
   "id": "bef7cfd1",
   "metadata": {},
   "outputs": [
    {
     "data": {
      "image/png": "[encoded data removed]",
      "text/plain": [
       "<Figure size 432x288 with 1 Axes>"
      ]
     },
     "metadata": {
      "needs_background": "light"
     },
     "output_type": "display_data"
    }
   ],
   "source": [
    "plt.figure(1)\n",
    "plt.plot(partition_values, [generative_result[(str(pv), 'Generative')][0] for pv in partition_values], marker = 'o', label = 'Generative Algorithm')\n",
    "plt.plot(partition_values, [discriminative_result[(str(pv), 'Discriminative')][0] for pv in partition_values], marker = 'o', label = 'Discriminative Algorithm')\n",
    "plt.xlabel('Training Fraction')\n",
    "plt.ylabel('Test Set Error')\n",
    "plt.title('learning curves for dataset  B')\n",
    "plt.legend()\n",
    "plt.xticks(partition_values)\n",
    "plt.show()"
   ]
  },
  {
   "cell_type": "code",
   "execution_count": 128,
   "id": "d7593f29",
   "metadata": {},
   "outputs": [],
   "source": [
    "# dataset USPS"
   ]
  },
  {
   "cell_type": "code",
   "execution_count": 129,
   "id": "5a72c952",
   "metadata": {},
   "outputs": [
    {
     "name": "stderr",
     "output_type": "stream",
     "text": [
      "<ipython-input-60-d8ced88877ed>:24: RuntimeWarning: invalid value encountered in true_divide\n",
      "  while( (np.linalg.norm(W_new-W_old)**2)/(np.linalg.norm(W_old)**2>0.001) and (iteration<100) ):\n"
     ]
    }
   ],
   "source": [
    "data = pd.read_csv(r'pp3data/usps.csv', header=None)\n",
    "labels = pd.read_csv(r'pp3data/labels-usps.csv', header=None)\n",
    "\n",
    "X = data.to_numpy()\n",
    "Y = labels.to_numpy().flatten()\n",
    "\n",
    "generative_result = generative(X,Y)\n",
    "discriminative_result = discriminatve(X, Y)\n",
    "\n",
    "generative_result, discriminative_result = average_error(generative_result, discriminative_result)"
   ]
  },
  {
   "cell_type": "code",
   "execution_count": 130,
   "id": "92451d8d",
   "metadata": {},
   "outputs": [
    {
     "data": {
      "text/plain": [
       "({('0.1', 'Generative'): (0.5022092267706303, 0.037120672073592466),\n",
       "  ('0.2', 'Generative'): (0.4829109811565952, 0.038377088984322995),\n",
       "  ('0.3', 'Generative'): (0.21163092917478885, 0.022996901095429487),\n",
       "  ('0.4', 'Generative'): (0.10818713450292397, 0.01612758580263006),\n",
       "  ('0.5', 'Generative'): (0.07563352826510722, 0.013878996283116814),\n",
       "  ('0.6', 'Generative'): (0.06595191682910981, 0.01288205889842205),\n",
       "  ('0.7', 'Generative'): (0.05782975958414554, 0.010380104248325332),\n",
       "  ('0.8', 'Generative'): (0.050357374918778425, 0.008891443913842759),\n",
       "  ('0.9', 'Generative'): (0.04853801169590643, 0.009527757824444394),\n",
       "  ('1', 'Generative'): (0.044119558154645876, 0.0073020678120819735)},\n",
       " {('0.1', 'Discriminative'): (0.09532163742690057, 0.01710778523731646),\n",
       "  ('0.2', 'Discriminative'): (0.06523716699155296, 0.011228852281859882),\n",
       "  ('0.3', 'Discriminative'): (0.05750487329434697, 0.008684861368399792),\n",
       "  ('0.4', 'Discriminative'): (0.047693307342430144, 0.008064512792254817),\n",
       "  ('0.5', 'Discriminative'): (0.045549057829759584, 0.007901886450999164),\n",
       "  ('0.6', 'Discriminative'): (0.04158544509421701, 0.006530133606966142),\n",
       "  ('0.7', 'Discriminative'): (0.039571150097465896, 0.007433864042081124),\n",
       "  ('0.8', 'Discriminative'): (0.038726445743989604, 0.006479506621087932),\n",
       "  ('0.9', 'Discriminative'): (0.037686809616634176, 0.006004686186951486),\n",
       "  ('1', 'Discriminative'): (0.037166991552956455, 0.006675919188585483)})"
      ]
     },
     "execution_count": 130,
     "metadata": {},
     "output_type": "execute_result"
    }
   ],
   "source": [
    "generative_result, discriminative_result"
   ]
  },
  {
   "cell_type": "code",
   "execution_count": 131,
   "id": "6473dd63",
   "metadata": {},
   "outputs": [
    {
     "data": {
      "image/png": "[encoded data removed]",
      "text/plain": [
       "<Figure size 432x288 with 1 Axes>"
      ]
     },
     "metadata": {
      "needs_background": "light"
     },
     "output_type": "display_data"
    }
   ],
   "source": [
    "plt.figure(1)\n",
    "plt.plot(partition_values, [generative_result[(str(pv), 'Generative')][0] for pv in partition_values], marker = 'o', label = 'Generative Algorithm')\n",
    "plt.plot(partition_values, [discriminative_result[(str(pv), 'Discriminative')][0] for pv in partition_values], marker = 'o', label = 'Discriminative Algorithm')\n",
    "plt.xlabel('Training Fraction')\n",
    "plt.ylabel('Test Set Error')\n",
    "plt.title('learning curves for dataset  USPS')\n",
    "plt.legend()\n",
    "plt.xticks(partition_values)\n",
    "plt.show()"
   ]
  },
  {
   "cell_type": "code",
   "execution_count": null,
   "id": "8dc3b84f",
   "metadata": {},
   "outputs": [],
   "source": []
  }
 ],
 "metadata": {
  "kernelspec": {
   "display_name": "Python 3 (ipykernel)",
   "language": "python",
   "name": "python3"
  },
  "language_info": {
   "codemirror_mode": {
    "name": "ipython",
    "version": 3
   },
   "file_extension": ".py",
   "mimetype": "text/x-python",
   "name": "python",
   "nbconvert_exporter": "python",
   "pygments_lexer": "ipython3",
   "version": "3.9.13"
  }
 },
 "nbformat": 4,
 "nbformat_minor": 5
}
