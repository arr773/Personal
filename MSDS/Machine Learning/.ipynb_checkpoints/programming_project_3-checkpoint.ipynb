{
 "cells": [
  {
   "cell_type": "markdown",
   "id": "b9e74382",
   "metadata": {},
   "source": [
    "# Task 1"
   ]
  },
  {
   "cell_type": "code",
   "execution_count": 223,
   "id": "21f238a2",
   "metadata": {},
   "outputs": [],
   "source": [
    "from matplotlib import markers\n",
    "import pandas as pd\n",
    "import numpy as np\n",
    "import matplotlib. pyplot as plt\n",
    "import random\n",
    "import time"
   ]
  },
  {
   "cell_type": "code",
   "execution_count": 3,
   "id": "33d77419",
   "metadata": {},
   "outputs": [],
   "source": [
    "partition_values = [0.1,0.2,0.3,0.4,0.5,0.6,0.7,0.8,0.9,1]"
   ]
  },
  {
   "cell_type": "code",
   "execution_count": 189,
   "id": "0af2fcdd",
   "metadata": {},
   "outputs": [],
   "source": [
    "def generative(X, Y):\n",
    "    N = X.shape[0]\n",
    "    d = X.shape[1]\n",
    "    N_test = int(N/3)\n",
    "    N_train = N-N_test\n",
    "    all_index = [i for i in range(N)]\n",
    "    generative_result = {}\n",
    "    for times in range(1, 31):\n",
    "        test_index = random.sample(all_index, N_test)\n",
    "        train_index = [x for x in all_index if x not in test_index]\n",
    "        xtrain = X[train_index,:]\n",
    "        ytrain = Y[train_index]\n",
    "        xtest = X[test_index,:]\n",
    "        ytest = Y[test_index]\n",
    "        for pv in partition_values:\n",
    "            alpha = 0.1\n",
    "            pv_N = int(pv*N_train)\n",
    "            xpv = xtrain[:pv_N,]\n",
    "            ypv = ytrain[:pv_N]\n",
    "            W_old = np.zeros(xpv.shape[1])\n",
    "            \n",
    "            #Generative model\n",
    "            class1 = xpv[(np.where(ypv==1)[0]),:]\n",
    "            mu1 = np.mean(class1, axis=0)\n",
    "            class2 = xpv[(np.where(ypv==0)[0]),:]\n",
    "            mu2 = np.mean(class2, axis=0)\n",
    "            \n",
    "            #S1 calculation\n",
    "            summation = np.zeros((d,d))\n",
    "            for i in range(class1.shape[0]):\n",
    "                summation+= np.outer((class1[i,:]-mu1), (class1[i,:]-mu1))\n",
    "            \n",
    "            S1 = summation/class1.shape[0]\n",
    "            \n",
    "            #S1 calculation\n",
    "            summation = np.zeros((d,d))\n",
    "            for i in range(class2.shape[0]):\n",
    "                summation+= np.outer((class2[i,:]-mu2), (class2[i,:]-mu2))\n",
    "            \n",
    "            S2 = summation/class2.shape[0]\n",
    "            \n",
    "            S = ((class1.shape[0]/pv_N)*S1) + ((class2.shape[0]/pv_N)*S2)\n",
    "            #print(S)\n",
    "            \n",
    "            W = np.dot(np.linalg.inv(S),(mu1-mu2))\n",
    "            PC1 = class1.shape[0]/pv_N\n",
    "            PC2 = class2.shape[0]/pv_N\n",
    "            \n",
    "            term1 = -0.5*np.dot(np.dot(mu1, np.linalg.inv(S)),mu1)\n",
    "            term2 = 0.5*np.dot(np.dot(mu2, np.linalg.inv(S)),mu2)\n",
    "            term3 = np.log(PC1/PC2)\n",
    "            \n",
    "            W0 = term1 + term2 + term3\n",
    "            #print(W0)\n",
    "            \n",
    "            # Prediction\n",
    "            pred = np.zeros(xtest.shape[0])\n",
    "            for i in range(pred.size):\n",
    "                x_test = xtest[i,:]\n",
    "                pred[i] = np.dot(W,x_test) + W0\n",
    "            prediction = np.where(pred>=0.5,1,0)\n",
    "            error = np.sum(np.logical_xor(ytest, prediction))\n",
    "            test_error = error/ytest.size\n",
    "            \n",
    "            generative_result[(str(times),str(pv))] = test_error\n",
    "    return generative_result"
   ]
  },
  {
   "cell_type": "code",
   "execution_count": 209,
   "id": "b63d762a",
   "metadata": {},
   "outputs": [],
   "source": [
    "def discriminative(X, Y):\n",
    "    N = X.shape[0]\n",
    "    d = X.shape[1]\n",
    "    N_test = int(N/3)\n",
    "    N_train = N-N_test\n",
    "    all_index = [i for i in range(N)]\n",
    "    discriminative_result = {}\n",
    "    logisticR_X = np.c_[np.ones(N),X]\n",
    "    for times in range(1, 31):\n",
    "        test_index = random.sample(all_index, N_test)\n",
    "        train_index = [x for x in all_index if x not in test_index]\n",
    "        xtrain = logisticR_X[train_index,:]\n",
    "        ytrain = Y[train_index]\n",
    "        xtest = logisticR_X[test_index,:]\n",
    "        ytest = Y[test_index]\n",
    "        for pv in partition_values:\n",
    "            alpha = 0.1\n",
    "            pv_N = int(pv*N_train)\n",
    "            xpv = xtrain[:pv_N,]\n",
    "            ypv = ytrain[:pv_N]\n",
    "            W_old = np.zeros(xpv.shape[1])\n",
    "            #W_new = np.matrix(np.zeros(xpv.shape[1]))\n",
    "            iteration = 0\n",
    "            while True:\n",
    "                a = np.dot(xpv, W_old)\n",
    "                y = 1/(1 + np.exp(-a))\n",
    "                R = np.diag(y*(1-y))\n",
    "                term_1 = alpha*np.identity(d+1) + np.dot(np.dot(xpv.T,R),xpv)\n",
    "                term_2 = np.dot(xpv.T, (y-ypv)) + alpha*W_old\n",
    "                W_new = W_old - np.dot(np.linalg.inv(term_1),term_2)\n",
    "\n",
    "                #W_old=W_new\n",
    "                iteration+=1\n",
    "                if ((np.linalg.norm(W_new-W_old)**2)/(np.linalg.norm(W_old)**2)<0.001) or iteration>100:\n",
    "                    break\n",
    "                else:\n",
    "                    W_old = W_new\n",
    "\n",
    "            # SN calculation\n",
    "            a = np.dot(xpv, W_new)\n",
    "            y = 1/(1 + np.exp(-a))\n",
    "            summation = np.zeros((d+1,d+1))\n",
    "            for i in range(y.size):\n",
    "                summation+= (y[i]*(1-y[i]))*np.dot(xpv[i,:], xpv[i,:])\n",
    "            \n",
    "            SN = alpha*np.identity(d+1) + summation\n",
    "            \n",
    "            #predictions\n",
    "\n",
    "            pred = np.zeros(xtest.shape[0])\n",
    "            for i in range(pred.size):\n",
    "                phi = xtest[i,:]\n",
    "                mu = np.dot(W_new.T, phi)\n",
    "                sigma_sq = np.dot(np.dot(phi.T, SN), phi)\n",
    "                a = 1/np.sqrt(1 + (np.pi*sigma_sq/8))\n",
    "\n",
    "                pred[i] = 1/(1 + np.exp(-(a*mu)))\n",
    "            \n",
    "            prediction = np.where(pred>=0.5,1,0)\n",
    "            error = np.sum(np.logical_xor(ytest, prediction))\n",
    "            test_error = error/ytest.size\n",
    "            \n",
    "            \n",
    "            discriminative_result[(str(times),str(pv))] = test_error\n",
    "    return discriminative_result"
   ]
  },
  {
   "cell_type": "code",
   "execution_count": 210,
   "id": "05a5567b",
   "metadata": {},
   "outputs": [],
   "source": [
    "def average_error(gr, dr):\n",
    "\n",
    "    generative_avg = {}\n",
    "    discriminative_avg = {}\n",
    "\n",
    "    for pv in partition_values:\n",
    "        arr = np.array([gr[(str(e),str(pv))] for e in range(1,31)])\n",
    "        arr1 = np.array([dr[(str(e),str(pv))] for e in range(1,31)])\n",
    "        generative_avg[(str(pv), \"Generative\")] = (np.mean(arr), np.std(arr))\n",
    "        discriminative_avg[(str(pv), \"Discriminative\")] = (np.mean(arr1), np.std(arr1))\n",
    "    return generative_avg, discriminative_avg"
   ]
  },
  {
   "cell_type": "code",
   "execution_count": null,
   "id": "7e3a987a",
   "metadata": {},
   "outputs": [],
   "source": []
  },
  {
   "cell_type": "code",
   "execution_count": 211,
   "id": "074a48ba",
   "metadata": {},
   "outputs": [],
   "source": [
    "# dataset - A"
   ]
  },
  {
   "cell_type": "code",
   "execution_count": 212,
   "id": "a6b7d45b",
   "metadata": {},
   "outputs": [
    {
     "name": "stderr",
     "output_type": "stream",
     "text": [
      "<ipython-input-209-5af78dea5294>:34: RuntimeWarning: divide by zero encountered in double_scalars\n",
      "  if ((np.linalg.norm(W_new-W_old)**2)/(np.linalg.norm(W_old)**2)<0.001) or iteration>100:\n"
     ]
    }
   ],
   "source": [
    "data = pd.read_csv(r'pp3data/A.csv', header=None)\n",
    "labels = pd.read_csv(r'pp3data/labels-A.csv', header=None)\n",
    "\n",
    "X = data.to_numpy()\n",
    "Y = labels.to_numpy().flatten()\n",
    "\n",
    "generative_result = generative(X,Y)\n",
    "discriminative_result = discriminative(X, Y)\n",
    "\n",
    "generative_result, discriminative_result = average_error(generative_result, discriminative_result)"
   ]
  },
  {
   "cell_type": "code",
   "execution_count": 213,
   "id": "1e8327a9",
   "metadata": {},
   "outputs": [
    {
     "data": {
      "text/plain": [
       "({('0.1', 'Generative'): (0.165015015015015, 0.023921672612816372),\n",
       "  ('0.2', 'Generative'): (0.11716716716716716, 0.014709010627240397),\n",
       "  ('0.3', 'Generative'): (0.09109109109109109, 0.013559776961105172),\n",
       "  ('0.4', 'Generative'): (0.07827827827827825, 0.011808418100547448),\n",
       "  ('0.5', 'Generative'): (0.07547547547547546, 0.012222464066918189),\n",
       "  ('0.6', 'Generative'): (0.06661661661661661, 0.010420631965074504),\n",
       "  ('0.7', 'Generative'): (0.06366366366366366, 0.01068495307787219),\n",
       "  ('0.8', 'Generative'): (0.06181181181181182, 0.008432356620287431),\n",
       "  ('0.9', 'Generative'): (0.06001001001001002, 0.008954484093904605),\n",
       "  ('1', 'Generative'): (0.057007007007007005, 0.009104295332358465)},\n",
       " {('0.1', 'Discriminative'): (0.3586586586586586, 0.02501921854558945),\n",
       "  ('0.2', 'Discriminative'): (0.1853853853853854, 0.023869414071302348),\n",
       "  ('0.3', 'Discriminative'): (0.11636636636636635, 0.01899958176461665),\n",
       "  ('0.4', 'Discriminative'): (0.09214214214214213, 0.015514627505344516),\n",
       "  ('0.5', 'Discriminative'): (0.07617617617617617, 0.010785292241517667),\n",
       "  ('0.6', 'Discriminative'): (0.06711711711711711, 0.01116340533240698),\n",
       "  ('0.7', 'Discriminative'): (0.061161161161161166, 0.010799218936392699),\n",
       "  ('0.8', 'Discriminative'): (0.05675675675675675, 0.008488464879941482),\n",
       "  ('0.9', 'Discriminative'): (0.0523023023023023, 0.009059612081406139),\n",
       "  ('1', 'Discriminative'): (0.04844844844844844, 0.007897130299626035)})"
      ]
     },
     "execution_count": 213,
     "metadata": {},
     "output_type": "execute_result"
    }
   ],
   "source": [
    "generative_result, discriminative_result"
   ]
  },
  {
   "cell_type": "code",
   "execution_count": 214,
   "id": "0ec3e0ec",
   "metadata": {},
   "outputs": [
    {
     "data": {
      "image/png": "[encoded data removed]",
      "text/plain": [
       "<Figure size 432x288 with 1 Axes>"
      ]
     },
     "metadata": {
      "needs_background": "light"
     },
     "output_type": "display_data"
    }
   ],
   "source": [
    "plt.figure(1)\n",
    "plt.plot(partition_values, [generative_result[(str(pv), 'Generative')][0] for pv in partition_values], marker = 'o', label = 'Generative Algorithm')\n",
    "plt.plot(partition_values, [discriminative_result[(str(pv), 'Discriminative')][0] for pv in partition_values], marker = 'o', label = 'Discriminative Algorithm')\n",
    "plt.xlabel('Partition Values')\n",
    "plt.ylabel('Test Set Error')\n",
    "plt.title('learning curves for dataset  A')\n",
    "plt.legend()\n",
    "plt.xticks(partition_values)\n",
    "plt.show()"
   ]
  },
  {
   "cell_type": "code",
   "execution_count": 215,
   "id": "c4cf7143",
   "metadata": {},
   "outputs": [],
   "source": [
    "# dataset - B"
   ]
  },
  {
   "cell_type": "code",
   "execution_count": 216,
   "id": "421dcf2b",
   "metadata": {},
   "outputs": [
    {
     "name": "stderr",
     "output_type": "stream",
     "text": [
      "<ipython-input-209-5af78dea5294>:34: RuntimeWarning: divide by zero encountered in double_scalars\n",
      "  if ((np.linalg.norm(W_new-W_old)**2)/(np.linalg.norm(W_old)**2)<0.001) or iteration>100:\n"
     ]
    }
   ],
   "source": [
    "data = pd.read_csv(r'pp3data/B.csv', header=None)\n",
    "labels = pd.read_csv(r'pp3data/labels-B.csv', header=None)\n",
    "\n",
    "X = data.to_numpy()\n",
    "Y = labels.to_numpy().flatten()\n",
    "\n",
    "generative_result = generative(X,Y)\n",
    "discriminative_result = discriminative(X, Y)\n",
    "\n",
    "generative_result, discriminative_result = average_error(generative_result, discriminative_result)"
   ]
  },
  {
   "cell_type": "code",
   "execution_count": 217,
   "id": "1ba3fc40",
   "metadata": {},
   "outputs": [
    {
     "data": {
      "text/plain": [
       "({('0.1', 'Generative'): (0.34242424242424246, 0.06278897077947497),\n",
       "  ('0.2', 'Generative'): (0.27878787878787886, 0.05623097236249204),\n",
       "  ('0.3', 'Generative'): (0.2803030303030302, 0.050517675189788384),\n",
       "  ('0.4', 'Generative'): (0.23939393939393938, 0.05834153162906527),\n",
       "  ('0.5', 'Generative'): (0.21767676767676766, 0.048624063603006876),\n",
       "  ('0.6', 'Generative'): (0.2151515151515152, 0.04535342286998717),\n",
       "  ('0.7', 'Generative'): (0.20656565656565656, 0.04130621561735825),\n",
       "  ('0.8', 'Generative'): (0.1944444444444444, 0.03933237873219705),\n",
       "  ('0.9', 'Generative'): (0.17525252525252527, 0.04297680080708041),\n",
       "  ('1', 'Generative'): (0.17626262626262623, 0.040746653437434256)},\n",
       " {('0.1', 'Discriminative'): (0.21363636363636365, 0.05045704789499004),\n",
       "  ('0.2', 'Discriminative'): (0.2095959595959596, 0.052206198819528746),\n",
       "  ('0.3', 'Discriminative'): (0.2292929292929293, 0.05096757903653683),\n",
       "  ('0.4', 'Discriminative'): (0.2095959595959596, 0.053509141667719924),\n",
       "  ('0.5', 'Discriminative'): (0.17474747474747476, 0.04657431063999396),\n",
       "  ('0.6', 'Discriminative'): (0.1595959595959596, 0.046078766577604215),\n",
       "  ('0.7', 'Discriminative'): (0.16464646464646465, 0.04190397679331624),\n",
       "  ('0.8', 'Discriminative'): (0.154040404040404, 0.041967843253620664),\n",
       "  ('0.9', 'Discriminative'): (0.14747474747474745, 0.04007441297955025),\n",
       "  ('1', 'Discriminative'): (0.14848484848484847, 0.04165977904505309)})"
      ]
     },
     "execution_count": 217,
     "metadata": {},
     "output_type": "execute_result"
    }
   ],
   "source": [
    "generative_result, discriminative_result"
   ]
  },
  {
   "cell_type": "code",
   "execution_count": 218,
   "id": "38a56fce",
   "metadata": {},
   "outputs": [
    {
     "data": {
      "image/png": "[encoded data removed]",
      "text/plain": [
       "<Figure size 432x288 with 1 Axes>"
      ]
     },
     "metadata": {
      "needs_background": "light"
     },
     "output_type": "display_data"
    }
   ],
   "source": [
    "plt.figure(2)\n",
    "plt.plot(partition_values, [generative_result[(str(pv), 'Generative')][0] for pv in partition_values], marker = 'o', label = 'Generative Algorithm')\n",
    "plt.plot(partition_values, [discriminative_result[(str(pv), 'Discriminative')][0] for pv in partition_values], marker = 'o', label = 'Discriminative Algorithm')\n",
    "plt.xlabel('Training Fraction')\n",
    "plt.ylabel('Test Set Error')\n",
    "plt.title('learning curves for dataset  B')\n",
    "plt.legend()\n",
    "plt.xticks(partition_values)\n",
    "plt.show()"
   ]
  },
  {
   "cell_type": "code",
   "execution_count": 219,
   "id": "394020ef",
   "metadata": {},
   "outputs": [],
   "source": [
    "# dataset USPS"
   ]
  },
  {
   "cell_type": "code",
   "execution_count": 220,
   "id": "ebf37281",
   "metadata": {},
   "outputs": [
    {
     "name": "stderr",
     "output_type": "stream",
     "text": [
      "<ipython-input-209-5af78dea5294>:34: RuntimeWarning: divide by zero encountered in double_scalars\n",
      "  if ((np.linalg.norm(W_new-W_old)**2)/(np.linalg.norm(W_old)**2)<0.001) or iteration>100:\n"
     ]
    }
   ],
   "source": [
    "data = pd.read_csv(r'pp3data/usps.csv', header=None)\n",
    "labels = pd.read_csv(r'pp3data/labels-usps.csv', header=None)\n",
    "\n",
    "X = data.to_numpy()\n",
    "Y = labels.to_numpy().flatten()\n",
    "\n",
    "generative_result = generative(X,Y)\n",
    "discriminative_result = discriminative(X, Y)\n",
    "\n",
    "generative_result, discriminative_result = average_error(generative_result, discriminative_result)"
   ]
  },
  {
   "cell_type": "code",
   "execution_count": 221,
   "id": "72c4c4f1",
   "metadata": {},
   "outputs": [
    {
     "data": {
      "text/plain": [
       "({('0.1', 'Generative'): (0.49831059129304733, 0.0363866262823458),\n",
       "  ('0.2', 'Generative'): (0.4994152046783626, 0.03380965978540354),\n",
       "  ('0.3', 'Generative'): (0.20311890838206625, 0.028232151251823268),\n",
       "  ('0.4', 'Generative'): (0.11150097465886938, 0.017861537916499505),\n",
       "  ('0.5', 'Generative'): (0.08382066276803118, 0.00938915756630978),\n",
       "  ('0.6', 'Generative'): (0.07166991552956464, 0.010298639163955996),\n",
       "  ('0.7', 'Generative'): (0.06179337231968811, 0.010030308455587585),\n",
       "  ('0.8', 'Generative'): (0.05464587394411956, 0.007541002011396943),\n",
       "  ('0.9', 'Generative'): (0.05081221572449642, 0.0069546917012395845),\n",
       "  ('1', 'Generative'): (0.050227420402859, 0.0059271939867348725)},\n",
       " {('0.1', 'Discriminative'): (0.06361273554256011, 0.00818532938009244),\n",
       "  ('0.2', 'Discriminative'): (0.057374918778427535, 0.008110713185265465),\n",
       "  ('0.3', 'Discriminative'): (0.05724496426250812, 0.0072498431985036915),\n",
       "  ('0.4', 'Discriminative'): (0.05445094217024042, 0.0067888020203295514),\n",
       "  ('0.5', 'Discriminative'): (0.05087719298245614, 0.006740431443400067),\n",
       "  ('0.6', 'Discriminative'): (0.046653671215074716, 0.008345468152307899),\n",
       "  ('0.7', 'Discriminative'): (0.041000649772579584, 0.008811309100897087),\n",
       "  ('0.8', 'Discriminative'): (0.04126055880441846, 0.00774974687581323),\n",
       "  ('0.9', 'Discriminative'): (0.04028589993502275, 0.00935311460192155),\n",
       "  ('1', 'Discriminative'): (0.039246263807667305, 0.007905892748150815)})"
      ]
     },
     "execution_count": 221,
     "metadata": {},
     "output_type": "execute_result"
    }
   ],
   "source": [
    "generative_result, discriminative_result"
   ]
  },
  {
   "cell_type": "code",
   "execution_count": 222,
   "id": "0b699604",
   "metadata": {},
   "outputs": [
    {
     "data": {
      "image/png": "[encoded data removed]",
      "text/plain": [
       "<Figure size 432x288 with 1 Axes>"
      ]
     },
     "metadata": {
      "needs_background": "light"
     },
     "output_type": "display_data"
    }
   ],
   "source": [
    "plt.figure(3)\n",
    "plt.plot(partition_values, [generative_result[(str(pv), 'Generative')][0] for pv in partition_values], marker = 'o', label = 'Generative Algorithm')\n",
    "plt.plot(partition_values, [discriminative_result[(str(pv), 'Discriminative')][0] for pv in partition_values], marker = 'o', label = 'Discriminative Algorithm')\n",
    "plt.xlabel('Training Fraction')\n",
    "plt.ylabel('Test Set Error')\n",
    "plt.title('learning curves for dataset  USPS')\n",
    "plt.legend()\n",
    "plt.xticks(partition_values)\n",
    "plt.show()"
   ]
  },
  {
   "cell_type": "markdown",
   "id": "dc0d199e",
   "metadata": {},
   "source": [
    "# Task 2"
   ]
  },
  {
   "cell_type": "code",
   "execution_count": 224,
   "id": "7b465468",
   "metadata": {},
   "outputs": [],
   "source": [
    "data = pd.read_csv(r'pp3data/A.csv', header=None)\n",
    "labels = pd.read_csv(r'pp3data/labels-A.csv', header=None)\n",
    "\n",
    "X = data.to_numpy()\n",
    "N = X.shape[0]\n",
    "Y = labels.to_numpy().flatten()\n",
    "newX = np.c_[np.ones(N),X]\n",
    "\n",
    "train_size = int((2/3) * len(data))\n",
    "xtrain = newX[:train_size]\n",
    "ytrain = Y[:train_size]\n",
    "xtest = newX[train_size:]\n",
    "ytest = Y[train_size:]\n"
   ]
  },
  {
   "cell_type": "code",
   "execution_count": 225,
   "id": "20df61e9",
   "metadata": {},
   "outputs": [],
   "source": [
    "def newton(newX,Y):\n",
    "    N = newX.shape[0]\n",
    "    d = newX.shape[1]\n",
    "    train_size = int((2/3) * len(data))\n",
    "    xtrain = newX[:train_size]\n",
    "    ytrain = Y[:train_size]\n",
    "    xtest = newX[train_size:]\n",
    "    ytest = Y[train_size:]\n",
    "   # W_old = np.ones(xtrain.shape[1])\n",
    "    W_old = np.zeros(xtrain.shape[1])\n",
    "    alpha = 0.1\n",
    "    iteration = 0\n",
    "    weight_vector = {}\n",
    "    errors = {}\n",
    "    time_diff = []\n",
    "    initial_time = time.time()\n",
    "    while True:\n",
    "        a = np.dot(xtrain, W_old)\n",
    "        y = 1/(1 + np.exp(-a))\n",
    "        #print(y.shape)\n",
    "        R = np.diag(y*(1-y))\n",
    "        #print(R.shape,R)\n",
    "        term_1 = alpha*np.identity(d) + np.dot(np.dot(xtrain.T,R),xtrain)\n",
    "        term_2 = np.dot(xtrain.T, (y-ytrain)) + alpha*W_old\n",
    "        W_new = W_old - np.dot(np.linalg.inv(term_1),term_2)\n",
    "        iteration+=1\n",
    "        #W_old = W_new\n",
    "        ts = time.time()\n",
    "        weight_vector[ts] = W_old \n",
    "        \n",
    "        if ((np.linalg.norm(W_new-W_old)**2)/(np.linalg.norm(W_old)**2)<0.001) or iteration>100:\n",
    "            break\n",
    "        else:\n",
    "            W_old = W_new\n",
    "    for ts in weight_vector:\n",
    "                \n",
    "                \n",
    "        # SN calculation\n",
    "        a = np.dot(xtrain, weight_vector[ts])\n",
    "        y = 1/(1 + np.exp(-a))\n",
    "        summation = np.zeros((d,d))\n",
    "        for i in range(y.size):\n",
    "            summation+= (y[i]*(1-y[i]))*np.dot(xtrain[i,:], xtrain[i,:])\n",
    "            \n",
    "        SN = alpha*np.identity(d) + summation\n",
    "        #predictions\n",
    "\n",
    "        pred = np.zeros(xtest.shape[0])\n",
    "        for i in range(pred.size):\n",
    "            phi = xtest[i,:]\n",
    "            mu = np.dot(weight_vector[ts].T, phi)\n",
    "            sigma_sq = np.dot(np.dot(phi.T, SN), phi)\n",
    "            a = 1/np.sqrt(1 + (np.pi*sigma_sq/8))\n",
    "            pred[i] = 1/(1 + np.exp(-(a*mu)))\n",
    "                     \n",
    "        prediction = np.where(pred>=0.5,1,0)\n",
    "        error = np.sum(np.logical_xor(ytest, prediction))\n",
    "        test_error = error/ytest.size\n",
    "        errors[ts-initial_time] = test_error\n",
    "        time_diff.append(ts-initial_time)   \n",
    "            \n",
    "    return errors, weight_vector, time_diff"
   ]
  },
  {
   "cell_type": "code",
   "execution_count": 226,
   "id": "635efae9",
   "metadata": {},
   "outputs": [],
   "source": [
    "def gradient_descent(newX,Y):\n",
    "    N = newX.shape[0]\n",
    "    d = newX.shape[1]\n",
    "    train_size = int((2/3) * len(data))\n",
    "    xtrain = newX[:train_size]\n",
    "    ytrain = Y[:train_size]\n",
    "    xtest = newX[train_size:]\n",
    "    ytest = Y[train_size:]\n",
    "    W_old = np.zeros(xtrain.shape[1])\n",
    "    alpha = 0.1\n",
    "    iteration = 0\n",
    "    weight_vector = {}\n",
    "    errors = {}\n",
    "    time_diff = []\n",
    "    initial_time = time.time()\n",
    "    while True:\n",
    "        a = np.dot(xtrain, W_old)\n",
    "        y = 1/(1 + np.exp(-a))\n",
    "        term_1 = np.dot(xtrain.T, (y-ytrain)) + alpha*W_old\n",
    "        W_new = W_old - 0.001*(term_1)\n",
    "        if(iteration%10 == 0):\n",
    "            ts = time.time()\n",
    "            weight_vector[ts] = W_old \n",
    "        iteration+=1\n",
    "        if ((np.linalg.norm(W_new-W_old)**2)/(np.linalg.norm(W_old)**2)<0.001) or iteration>6000:\n",
    "            break\n",
    "        else:\n",
    "            W_old = W_new\n",
    "    for ts in weight_vector:\n",
    "        \n",
    "        \n",
    "    \n",
    "        # SN calculation\n",
    "        a = np.dot(xtrain, weight_vector[ts])\n",
    "        y = 1/(1 + np.exp(-a))\n",
    "        summation = np.zeros((d,d))\n",
    "        for i in range(y.size):\n",
    "            summation+= (y[i]*(1-y[i]))*np.dot(xtrain[i,:], xtrain[i,:])\n",
    "            \n",
    "        SN = alpha*np.identity(d) + summation\n",
    "        #predictions\n",
    "\n",
    "        pred = np.zeros(xtest.shape[0])\n",
    "        for i in range(pred.size):\n",
    "            phi = xtest[i,:]\n",
    "            mu = np.dot(weight_vector[ts].T, phi)\n",
    "            sigma_sq = np.dot(np.dot(phi.T, SN), phi)\n",
    "            a = 1/np.sqrt(1 + (np.pi*sigma_sq/8))\n",
    "            pred[i] = 1/(1 + np.exp(-(a*mu)))\n",
    "                     \n",
    "        prediction = np.where(pred>=0.5,1,0)\n",
    "        error = np.sum(np.logical_xor(ytest, prediction))\n",
    "        test_error = error/ytest.size\n",
    "        \n",
    "        errors[ts-initial_time] = test_error     \n",
    "        time_diff.append(ts-initial_time)   \n",
    "    return errors, weight_vector, time_diff"
   ]
  },
  {
   "cell_type": "code",
   "execution_count": 227,
   "id": "98e27f68",
   "metadata": {},
   "outputs": [
    {
     "name": "stderr",
     "output_type": "stream",
     "text": [
      "<ipython-input-225-eefcc4822ef9>:31: RuntimeWarning: divide by zero encountered in double_scalars\n",
      "  if ((np.linalg.norm(W_new-W_old)**2)/(np.linalg.norm(W_old)**2)<0.001) or iteration>100:\n"
     ]
    }
   ],
   "source": [
    "errors_newton_A1,weight_vector_newton_A1,t1N = newton(newX,Y)\n",
    "errors_newton_A2,weight_vector_newton_A2,t2N = newton(newX,Y)\n",
    "errors_newton_A3,weight_vector_newton_A3,t3N = newton(newX,Y)"
   ]
  },
  {
   "cell_type": "code",
   "execution_count": 228,
   "id": "1322a22b",
   "metadata": {},
   "outputs": [
    {
     "name": "stderr",
     "output_type": "stream",
     "text": [
      "<ipython-input-226-765655dfb483>:25: RuntimeWarning: divide by zero encountered in double_scalars\n",
      "  if ((np.linalg.norm(W_new-W_old)**2)/(np.linalg.norm(W_old)**2)<0.001) or iteration>6000:\n"
     ]
    }
   ],
   "source": [
    "errors_gd_A1,weight_vector_gd_A1, t1G = gradient_descent(newX,Y)\n",
    "errors_gd_A2,weight_vector_gd_A2, t2G = gradient_descent(newX,Y)\n",
    "errors_gd_A3,weight_vector_gd_A3, t3G = gradient_descent(newX,Y)"
   ]
  },
  {
   "cell_type": "code",
   "execution_count": 229,
   "id": "fa16ca39",
   "metadata": {},
   "outputs": [],
   "source": [
    "N_A = []\n",
    "for i in range(len(t1N)):\n",
    "    N_A.append((t1N[i]+t2N[i]+t3N[i])/3)"
   ]
  },
  {
   "cell_type": "code",
   "execution_count": 230,
   "id": "5ffc6654",
   "metadata": {},
   "outputs": [
    {
     "data": {
      "text/plain": [
       "[0.0063169002532958984,\n",
       " 0.013271570205688477,\n",
       " 0.01843126614888509,\n",
       " 0.023821671803792317,\n",
       " 0.02881034215291341]"
      ]
     },
     "execution_count": 230,
     "metadata": {},
     "output_type": "execute_result"
    }
   ],
   "source": [
    "N_A"
   ]
  },
  {
   "cell_type": "code",
   "execution_count": 231,
   "id": "0d5a1ec4",
   "metadata": {},
   "outputs": [],
   "source": [
    "GD_A = []\n",
    "for i in range(len(t1G)):\n",
    "    GD_A.append((t1G[i]+t2G[i]+t3G[i])/3)"
   ]
  },
  {
   "cell_type": "code",
   "execution_count": 232,
   "id": "916bf2b3",
   "metadata": {},
   "outputs": [
    {
     "data": {
      "text/plain": [
       "[0.00037487347920735675,\n",
       " 0.0024177233378092446,\n",
       " 0.004139343897501628,\n",
       " 0.005756298700968425,\n",
       " 0.007427295049031575,\n",
       " 0.009071032206217447,\n",
       " 0.01071635882059733,\n",
       " 0.012307087580362955,\n",
       " 0.01387333869934082,\n",
       " 0.015648921330769856,\n",
       " 0.017285664876302082,\n",
       " 0.01884778340657552,\n",
       " 0.02041323979695638,\n",
       " 0.022013028462727863,\n",
       " 0.023665746053059895,\n",
       " 0.025325298309326172,\n",
       " 0.02692699432373047,\n",
       " 0.028547366460164387,\n",
       " 0.030089378356933594,\n",
       " 0.031713008880615234,\n",
       " 0.033287366231282554,\n",
       " 0.0348663330078125,\n",
       " 0.036437273025512695,\n",
       " 0.03797626495361328,\n",
       " 0.039551337560017906,\n",
       " 0.04135489463806152,\n",
       " 0.042891740798950195,\n",
       " 0.04435396194458008,\n",
       " 0.045882781346639,\n",
       " 0.047322352727254234,\n",
       " 0.04883003234863281,\n",
       " 0.05028001467386881,\n",
       " 0.051723321278889976,\n",
       " 0.053117990493774414,\n",
       " 0.05457631746927897,\n",
       " 0.056093295415242515,\n",
       " 0.05757570266723633,\n",
       " 0.058988730112711586,\n",
       " 0.060415426890055336,\n",
       " 0.06187295913696289,\n",
       " 0.06339263916015625,\n",
       " 0.06487902005513509,\n",
       " 0.06631135940551758,\n",
       " 0.06766335169474284,\n",
       " 0.06911404927571614,\n",
       " 0.0704963207244873,\n",
       " 0.07205438613891602,\n",
       " 0.07352161407470703,\n",
       " 0.07488497098286946,\n",
       " 0.07624427477518718,\n",
       " 0.07763202985127766,\n",
       " 0.07902987798055013,\n",
       " 0.08046468098958333,\n",
       " 0.08193763097127278,\n",
       " 0.08335510889689128,\n",
       " 0.0847485860188802,\n",
       " 0.08614158630371094,\n",
       " 0.0876006285349528,\n",
       " 0.08920900026957194,\n",
       " 0.0906817118326823,\n",
       " 0.09216594696044922,\n",
       " 0.09356935818990071,\n",
       " 0.09501075744628906,\n",
       " 0.09644762674967448,\n",
       " 0.09825873374938965,\n",
       " 0.09981393814086914,\n",
       " 0.10129030545552571,\n",
       " 0.10280601183573405,\n",
       " 0.10419297218322754,\n",
       " 0.10566234588623047,\n",
       " 0.10723694165547688,\n",
       " 0.10862231254577637,\n",
       " 0.11007555325826009,\n",
       " 0.11154794692993164,\n",
       " 0.1129922866821289,\n",
       " 0.1145769755045573,\n",
       " 0.11605302492777507,\n",
       " 0.11761363347371419,\n",
       " 0.11911638577779134,\n",
       " 0.12062191963195801,\n",
       " 0.12206459045410156,\n",
       " 0.1235946814219157,\n",
       " 0.12497901916503906,\n",
       " 0.12642327944437662,\n",
       " 0.1278553009033203,\n",
       " 0.12931537628173828,\n",
       " 0.13072403271993002,\n",
       " 0.13222901026407877,\n",
       " 0.1336359977722168,\n",
       " 0.13513429959615073,\n",
       " 0.13652729988098145,\n",
       " 0.13801002502441406,\n",
       " 0.13945762316385904,\n",
       " 0.14099923769632974,\n",
       " 0.14242172241210938,\n",
       " 0.1439367135365804,\n",
       " 0.14543771743774414,\n",
       " 0.14691535631815592,\n",
       " 0.14835731188456217,\n",
       " 0.14983606338500977,\n",
       " 0.15131171544392905,\n",
       " 0.15277632077534994,\n",
       " 0.15425737698872885,\n",
       " 0.155810276667277,\n",
       " 0.15736103057861328,\n",
       " 0.15898402531941733,\n",
       " 0.16071454683939615,\n",
       " 0.16218090057373047,\n",
       " 0.16358073552449545,\n",
       " 0.16509095827738443,\n",
       " 0.16653966903686523,\n",
       " 0.1680015722910563,\n",
       " 0.1694782574971517,\n",
       " 0.170974334081014,\n",
       " 0.17243361473083496,\n",
       " 0.17385967572530112,\n",
       " 0.17525156339009604,\n",
       " 0.1766692797342936,\n",
       " 0.1781325340270996,\n",
       " 0.179613987604777,\n",
       " 0.1810640494028727,\n",
       " 0.1826019287109375,\n",
       " 0.1840489705403646,\n",
       " 0.1855762799580892,\n",
       " 0.18706727027893066,\n",
       " 0.18851089477539062,\n",
       " 0.19000323613484701,\n",
       " 0.19141228993733725,\n",
       " 0.1927949587504069,\n",
       " 0.19443066914876303,\n",
       " 0.1959069569905599,\n",
       " 0.19762698809305826,\n",
       " 0.1992053190867106,\n",
       " 0.20079286893208823,\n",
       " 0.20221265157063803,\n",
       " 0.20366867383321127,\n",
       " 0.20512239138285318,\n",
       " 0.2067429224650065,\n",
       " 0.20821038881937662,\n",
       " 0.20972704887390137,\n",
       " 0.21123766899108887,\n",
       " 0.21276434262593588,\n",
       " 0.21425763765970865,\n",
       " 0.2157149314880371,\n",
       " 0.2172259489695231,\n",
       " 0.21857301394144693,\n",
       " 0.22017979621887207,\n",
       " 0.2216333548227946,\n",
       " 0.2233873208363851,\n",
       " 0.22489229838053384,\n",
       " 0.22641523679097494,\n",
       " 0.2279963493347168,\n",
       " 0.22954622904459634,\n",
       " 0.23105192184448242,\n",
       " 0.2326353391011556,\n",
       " 0.23411456743876138,\n",
       " 0.2356403668721517,\n",
       " 0.2371049722035726,\n",
       " 0.23874505360921225,\n",
       " 0.24032195409138998,\n",
       " 0.24184862772623697,\n",
       " 0.2433489958445231,\n",
       " 0.24485325813293457,\n",
       " 0.24638899167378744,\n",
       " 0.24782427151997885,\n",
       " 0.24927830696105957,\n",
       " 0.25071024894714355,\n",
       " 0.2523008982340495,\n",
       " 0.2537846565246582,\n",
       " 0.2552656332651774,\n",
       " 0.25702524185180664,\n",
       " 0.25855326652526855,\n",
       " 0.26004966100056964,\n",
       " 0.2615206241607666,\n",
       " 0.26297426223754883,\n",
       " 0.26447224617004395,\n",
       " 0.2660103638966878,\n",
       " 0.26760196685791016,\n",
       " 0.26917529106140137,\n",
       " 0.27073009808858234,\n",
       " 0.2722012996673584,\n",
       " 0.2736273606618245,\n",
       " 0.27512431144714355,\n",
       " 0.276652733484904,\n",
       " 0.2781166235605876,\n",
       " 0.2796339988708496,\n",
       " 0.28118737538655597,\n",
       " 0.2826825777689616,\n",
       " 0.28417762120564777,\n",
       " 0.28565367062886554,\n",
       " 0.2872556845347087,\n",
       " 0.28881359100341797,\n",
       " 0.29030370712280273,\n",
       " 0.29168128967285156,\n",
       " 0.29308438301086426]"
      ]
     },
     "execution_count": 232,
     "metadata": {},
     "output_type": "execute_result"
    }
   ],
   "source": [
    "GD_A"
   ]
  },
  {
   "cell_type": "code",
   "execution_count": 234,
   "id": "a186f370",
   "metadata": {},
   "outputs": [
    {
     "data": {
      "text/plain": [
       "Text(0.5, 0, 'time')"
      ]
     },
     "execution_count": 234,
     "metadata": {},
     "output_type": "execute_result"
    },
    {
     "data": {
      "image/png": "[encoded data removed]",
      "text/plain": [
       "<Figure size 800x400 with 1 Axes>"
      ]
     },
     "metadata": {
      "needs_background": "light"
     },
     "output_type": "display_data"
    }
   ],
   "source": [
    "plt.figure(figsize=(10,5),dpi=80)\n",
    "plt.plot(N_A,errors_newton_A1.values(), marker = 'o', label = \"Newton's method\")\n",
    "plt.ylabel('errors')\n",
    "plt.xlabel('time')"
   ]
  },
  {
   "cell_type": "code",
   "execution_count": 235,
   "id": "ea7ac8fc",
   "metadata": {},
   "outputs": [
    {
     "data": {
      "text/plain": [
       "Text(0.5, 0, 'time')"
      ]
     },
     "execution_count": 235,
     "metadata": {},
     "output_type": "execute_result"
    },
    {
     "data": {
      "image/png": "[encoded data removed]",
      "text/plain": [
       "<Figure size 800x400 with 1 Axes>"
      ]
     },
     "metadata": {
      "needs_background": "light"
     },
     "output_type": "display_data"
    }
   ],
   "source": [
    "plt.figure(figsize=(10,5),dpi=80)\n",
    "plt.plot(GD_A,errors_gd_A1.values(), label = \"Gradient Descent method\")\n",
    "plt.ylabel('errors')\n",
    "plt.xlabel('time')"
   ]
  },
  {
   "cell_type": "code",
   "execution_count": 236,
   "id": "ea9de83a",
   "metadata": {},
   "outputs": [],
   "source": [
    "data = pd.read_csv(r'pp3data/usps.csv', header=None)\n",
    "labels = pd.read_csv(r'pp3data/labels-usps.csv', header=None)\n",
    "\n",
    "X = data.to_numpy()\n",
    "N = X.shape[0]\n",
    "Y = labels.to_numpy().flatten()\n",
    "newX = np.c_[np.ones(N),X]\n",
    "\n",
    "train_size = int((2/3) * len(data))\n",
    "xtrain = newX[:train_size]\n",
    "ytrain = Y[:train_size]\n",
    "xtest = newX[train_size:]\n",
    "ytest = Y[train_size:]\n"
   ]
  },
  {
   "cell_type": "code",
   "execution_count": 271,
   "id": "6b514843",
   "metadata": {},
   "outputs": [
    {
     "name": "stderr",
     "output_type": "stream",
     "text": [
      "<ipython-input-225-eefcc4822ef9>:31: RuntimeWarning: divide by zero encountered in double_scalars\n",
      "  if ((np.linalg.norm(W_new-W_old)**2)/(np.linalg.norm(W_old)**2)<0.001) or iteration>100:\n"
     ]
    }
   ],
   "source": [
    "errors_newton_U1,weight_vector_newton_U1,t1N = newton(newX,Y)\n",
    "errors_newton_U2,weight_vector_newton_U2,t2N = newton(newX,Y)\n",
    "errors_newton_U3,weight_vector_newton_U3,t3N = newton(newX,Y)"
   ]
  },
  {
   "cell_type": "code",
   "execution_count": 272,
   "id": "c374df99",
   "metadata": {},
   "outputs": [
    {
     "name": "stderr",
     "output_type": "stream",
     "text": [
      "<ipython-input-226-765655dfb483>:25: RuntimeWarning: divide by zero encountered in double_scalars\n",
      "  if ((np.linalg.norm(W_new-W_old)**2)/(np.linalg.norm(W_old)**2)<0.001) or iteration>6000:\n"
     ]
    }
   ],
   "source": [
    "errors_gd_U1,weight_vector_gd_U1, t1G = gradient_descent(newX,Y)\n",
    "errors_gd_U2,weight_vector_gd_U2, t2G = gradient_descent(newX,Y)\n",
    "errors_gd_U3,weight_vector_gd_U3, t3G = gradient_descent(newX,Y)"
   ]
  },
  {
   "cell_type": "code",
   "execution_count": 273,
   "id": "58d59b33",
   "metadata": {},
   "outputs": [],
   "source": [
    "N_U = []\n",
    "for i in range(len(t1N)):\n",
    "    N_U.append((t1N[i]+t2N[i]+t3N[i])/3)"
   ]
  },
  {
   "cell_type": "code",
   "execution_count": 274,
   "id": "99528ea0",
   "metadata": {},
   "outputs": [
    {
     "data": {
      "text/plain": [
       "[0.007961273193359375,\n",
       " 0.016689062118530273,\n",
       " 0.024754683176676433,\n",
       " 0.03290534019470215,\n",
       " 0.04019904136657715,\n",
       " 0.047802368799845375,\n",
       " 0.05544137954711914,\n",
       " 0.06278530756632487,\n",
       " 0.06983304023742676]"
      ]
     },
     "execution_count": 274,
     "metadata": {},
     "output_type": "execute_result"
    }
   ],
   "source": [
    "N_U"
   ]
  },
  {
   "cell_type": "code",
   "execution_count": 275,
   "id": "a86733ad",
   "metadata": {},
   "outputs": [],
   "source": [
    "GD_U = []\n",
    "for i in range(len(t1G)):\n",
    "    GD_U.append((t1G[i]+t2G[i]+t3G[i])/3)"
   ]
  },
  {
   "cell_type": "code",
   "execution_count": 276,
   "id": "f3954619",
   "metadata": {},
   "outputs": [
    {
     "data": {
      "text/plain": [
       "[0.0008815924326578776]"
      ]
     },
     "execution_count": 276,
     "metadata": {},
     "output_type": "execute_result"
    }
   ],
   "source": [
    "GD_U"
   ]
  },
  {
   "cell_type": "code",
   "execution_count": 277,
   "id": "7193dc44",
   "metadata": {},
   "outputs": [
    {
     "data": {
      "text/plain": [
       "Text(0.5, 0, 'time')"
      ]
     },
     "execution_count": 277,
     "metadata": {},
     "output_type": "execute_result"
    },
    {
     "data": {
      "image/png": "[encoded data removed]",
      "text/plain": [
       "<Figure size 800x400 with 1 Axes>"
      ]
     },
     "metadata": {
      "needs_background": "light"
     },
     "output_type": "display_data"
    }
   ],
   "source": [
    "plt.figure(figsize=(10,5),dpi=80)\n",
    "plt.plot(N_U,errors_newton_U1.values(), marker = 'o', label = \"Newton's method\")\n",
    "plt.ylabel('errors')\n",
    "plt.xlabel('time')"
   ]
  },
  {
   "cell_type": "code",
   "execution_count": 278,
   "id": "6266959a",
   "metadata": {},
   "outputs": [
    {
     "data": {
      "text/plain": [
       "Text(0.5, 0, 'time')"
      ]
     },
     "execution_count": 278,
     "metadata": {},
     "output_type": "execute_result"
    },
    {
     "data": {
      "image/png": "[encoded data removed]",
      "text/plain": [
       "<Figure size 800x400 with 1 Axes>"
      ]
     },
     "metadata": {
      "needs_background": "light"
     },
     "output_type": "display_data"
    }
   ],
   "source": [
    "plt.figure(figsize=(10,5),dpi=80)\n",
    "plt.plot(GD_U,errors_gd_U1.values(), marker = 'o', label = \"Gradient Descent method\")\n",
    "plt.ylabel('errors')\n",
    "plt.xlabel('time')"
   ]
  },
  {
   "cell_type": "code",
   "execution_count": null,
   "id": "77528280",
   "metadata": {},
   "outputs": [],
   "source": []
  }
 ],
 "metadata": {
  "kernelspec": {
   "display_name": "Python 3 (ipykernel)",
   "language": "python",
   "name": "python3"
  },
  "language_info": {
   "codemirror_mode": {
    "name": "ipython",
    "version": 3
   },
   "file_extension": ".py",
   "mimetype": "text/x-python",
   "name": "python",
   "nbconvert_exporter": "python",
   "pygments_lexer": "ipython3",
   "version": "3.9.13"
  }
 },
 "nbformat": 4,
 "nbformat_minor": 5
}
