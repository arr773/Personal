{
 "cells": [
  {
   "cell_type": "code",
   "execution_count": 8,
   "id": "1fdffb5c",
   "metadata": {},
   "outputs": [],
   "source": [
    "import pandas as pd\n",
    "import numpy as np\n",
    "from numpy import loadtxt"
   ]
  },
  {
   "cell_type": "markdown",
   "id": "d5337cae",
   "metadata": {},
   "source": [
    "# Reading crime dataset"
   ]
  },
  {
   "cell_type": "code",
   "execution_count": 242,
   "id": "fdc19019",
   "metadata": {},
   "outputs": [
    {
     "data": {
      "text/plain": [
       "(1695, 100)"
      ]
     },
     "execution_count": 242,
     "metadata": {},
     "output_type": "execute_result"
    }
   ],
   "source": [
    "train_crime = open('train-crime.csv', 'rb')\n",
    "X_train = loadtxt(train_crime,delimiter = \",\")\n",
    "#print(X_train)\n",
    "X_train.shape"
   ]
  },
  {
   "cell_type": "code",
   "execution_count": 113,
   "id": "08a5096c",
   "metadata": {},
   "outputs": [
    {
     "name": "stdout",
     "output_type": "stream",
     "text": [
      "[-0.2059   -0.33463  -0.89246  ... -0.84955   0.48067   0.094476]\n"
     ]
    }
   ],
   "source": [
    "trainR_crime = open('trainR-crime.csv', 'rb')\n",
    "y_train = loadtxt(trainR_crime,delimiter = \",\")\n",
    "print(y_train)"
   ]
  },
  {
   "cell_type": "code",
   "execution_count": 98,
   "id": "107bcbcc",
   "metadata": {},
   "outputs": [],
   "source": [
    "test_crime = open('test-crime.csv', 'rb')\n",
    "X_test = loadtxt(test_crime,delimiter = \",\")\n",
    "#print(X_test)\n",
    "#print(X_test.shape)"
   ]
  },
  {
   "cell_type": "code",
   "execution_count": 99,
   "id": "c9b5d12c",
   "metadata": {},
   "outputs": [],
   "source": [
    "testR_crime = open('testR-crime.csv', 'rb')\n",
    "y_test = loadtxt(testR_crime,delimiter = \",\")\n",
    "#print(y_test)\n",
    "#print(y_test.shape)"
   ]
  },
  {
   "cell_type": "markdown",
   "id": "f1e524d0",
   "metadata": {},
   "source": [
    "# Reading housing dataset"
   ]
  },
  {
   "cell_type": "code",
   "execution_count": 235,
   "id": "02edd26f",
   "metadata": {},
   "outputs": [
    {
     "data": {
      "text/plain": [
       "(102, 13)"
      ]
     },
     "execution_count": 235,
     "metadata": {},
     "output_type": "execute_result"
    }
   ],
   "source": [
    "train_housing = open('train-housing.csv', 'rb')\n",
    "X_train_housing = loadtxt(train_housing,delimiter = \",\")\n",
    "#print(X_train_housing)\n",
    "X_train_housing.shape"
   ]
  },
  {
   "cell_type": "code",
   "execution_count": 243,
   "id": "e8744840",
   "metadata": {},
   "outputs": [
    {
     "data": {
      "text/plain": [
       "(102,)"
      ]
     },
     "execution_count": 243,
     "metadata": {},
     "output_type": "execute_result"
    }
   ],
   "source": [
    "trainR_housing = open('trainR-housing.csv', 'rb')\n",
    "y_train_housing = loadtxt(trainR_housing,delimiter = \",\")\n",
    "y_train_housing.shape\n",
    "#print(y_train_housing)"
   ]
  },
  {
   "cell_type": "code",
   "execution_count": 241,
   "id": "744c22b0",
   "metadata": {},
   "outputs": [
    {
     "name": "stdout",
     "output_type": "stream",
     "text": [
      "(404, 13)\n"
     ]
    }
   ],
   "source": [
    "test_housing = open('test-housing.csv', 'rb')\n",
    "X_test_housing = loadtxt(test_housing,delimiter = \",\")\n",
    "#print(X_test_housing)\n",
    "#print(X_test_housing.shape)"
   ]
  },
  {
   "cell_type": "code",
   "execution_count": 240,
   "id": "2a94f557",
   "metadata": {},
   "outputs": [
    {
     "name": "stdout",
     "output_type": "stream",
     "text": [
      "(404,)\n"
     ]
    }
   ],
   "source": [
    "testR_housing = open('testR-housing.csv', 'rb')\n",
    "y_test_housing = loadtxt(testR_housing,delimiter = \",\")\n",
    "#print(y_test_housing)\n",
    "print(y_test_housing.shape)"
   ]
  },
  {
   "cell_type": "markdown",
   "id": "fd2efcb0",
   "metadata": {},
   "source": [
    "# Splitting the crime dataset into 10 parts as .1, .2, .3, ..., 1"
   ]
  },
  {
   "cell_type": "code",
   "execution_count": 244,
   "id": "ff71b53e",
   "metadata": {},
   "outputs": [],
   "source": [
    "xtrain1 = X_train[0 : 169, : ]\n",
    "xtrain2 = X_train[0 : 339, : ]\n",
    "xtrain3 = X_train[0 : 508, : ]\n",
    "xtrain4 = X_train[0 : 678, : ]\n",
    "xtrain5 = X_train[0 : 847, : ]\n",
    "xtrain6 = X_train[0 : 1017, : ]\n",
    "xtrain7 = X_train[0 : 1186, : ]\n",
    "xtrain8 = X_train[0 : 1356, : ]\n",
    "xtrain9 = X_train[0 : 1525, : ]\n",
    "xtrain10 = X_train[0 : 1695, : ]"
   ]
  },
  {
   "cell_type": "code",
   "execution_count": 245,
   "id": "672c719c",
   "metadata": {},
   "outputs": [],
   "source": [
    "ytrain1 = y_train[:169]\n",
    "ytrain2 = y_train[:339]\n",
    "ytrain3 = y_train[:508]\n",
    "ytrain4 = y_train[:678]\n",
    "ytrain5 = y_train[:847]\n",
    "ytrain6 = y_train[:1017]\n",
    "ytrain7 = y_train[:1186]\n",
    "ytrain8 = y_train[:1356]\n",
    "ytrain9 = y_train[:1525]\n",
    "ytrain10 = y_train[:1695]"
   ]
  },
  {
   "cell_type": "markdown",
   "id": "61554874",
   "metadata": {},
   "source": [
    "# Splitting the housing dataset into 10 parts as .1, .2, .3, ..., 1"
   ]
  },
  {
   "cell_type": "code",
   "execution_count": 257,
   "id": "ae7a5795",
   "metadata": {},
   "outputs": [],
   "source": [
    "xtrain_h1 = X_train_housing[0 : 10, : ]\n",
    "xtrain_h2 = X_train_housing[0 : 20, : ]\n",
    "xtrain_h3 = X_train_housing[0 : 30, : ]\n",
    "xtrain_h4 = X_train_housing[0 : 40, : ]\n",
    "xtrain_h5 = X_train_housing[0 : 51, : ]\n",
    "xtrain_h6 = X_train_housing[0 : 61, : ]\n",
    "xtrain_h7 = X_train_housing[0 : 71, : ]\n",
    "xtrain_h8 = X_train_housing[0 : 81, : ]\n",
    "xtrain_h9 = X_train_housing[0 : 91, : ]\n",
    "xtrain_h10 = X_train_housing[0 : 102, : ]"
   ]
  },
  {
   "cell_type": "code",
   "execution_count": 258,
   "id": "b2111f7c",
   "metadata": {},
   "outputs": [],
   "source": [
    "ytrain_h1 = y_train_housing[:10]\n",
    "ytrain_h2 = y_train_housing[:20]\n",
    "ytrain_h3 = y_train_housing[:30]\n",
    "ytrain_h4 = y_train_housing[:40]\n",
    "ytrain_h5 = y_train_housing[:51]\n",
    "ytrain_h6 = y_train_housing[:61]\n",
    "ytrain_h7 = y_train_housing[:71]\n",
    "ytrain_h8 = y_train_housing[:81]\n",
    "ytrain_h9 = y_train_housing[:91]\n",
    "ytrain_h10 = y_train_housing[:102]"
   ]
  },
  {
   "cell_type": "markdown",
   "id": "c49719a3",
   "metadata": {},
   "source": [
    "# MSE Function"
   ]
  },
  {
   "cell_type": "code",
   "execution_count": 275,
   "id": "433876ad",
   "metadata": {},
   "outputs": [],
   "source": [
    "def MSE(y_test, y_pred):\n",
    "    MSE = np.square(np.subtract(y_test,y_pred)).mean()\n",
    "    return MSE"
   ]
  },
  {
   "cell_type": "markdown",
   "id": "95dc34bc",
   "metadata": {},
   "source": [
    "# MLE Function"
   ]
  },
  {
   "cell_type": "code",
   "execution_count": 421,
   "id": "aaa64d2a",
   "metadata": {},
   "outputs": [],
   "source": [
    "#w = (λI + ΦTΦ) ^−1 ΦTt.\n"
   ]
  },
  {
   "cell_type": "code",
   "execution_count": 497,
   "id": "60c3d83a",
   "metadata": {},
   "outputs": [],
   "source": [
    "def MLE(X_train, y_train, X_test, lamb):\n",
    "    #lamb = 0\n",
    "    a = np.linalg.pinv(lamb*np.identity(X_train.shape[1]) + np.transpose(X_train).dot(X_train))\n",
    "    w = a.dot(np.transpose(X_train)).dot(y_train)\n",
    "    prediction = X_test.dot(w)\n",
    "    \n",
    "    return prediction"
   ]
  },
  {
   "cell_type": "markdown",
   "id": "7f88e4ac",
   "metadata": {},
   "source": [
    "# Model selection function"
   ]
  },
  {
   "cell_type": "code",
   "execution_count": 446,
   "id": "57d15ab0",
   "metadata": {},
   "outputs": [],
   "source": [
    "def ModelSelection(X_train, y_train):\n",
    "    phi = X_train\n",
    "    t = y_train\n",
    "    N = phi.shape[0]\n",
    "    d = phi.shape[1]\n",
    "    alpha0, beta0 = 2,10\n",
    "    alpha_change,beta_change = 1,1\n",
    "    while not(alpha_change<=0.001 and beta_change<=0.001):\n",
    "        A = beta0*np.dot(X_train.T,X_train)\n",
    "        sn = np.linalg.inv(alpha0*np.identity(d) + A)\n",
    "        mn = beta0*np.dot(np.dot(sn,X_train.T),y_train)\n",
    "        lambda_ = np.linalg.eigvals(A)\n",
    "        gamma = 0\n",
    "        for i in range(0,len(lambda_)):\n",
    "            gamma+=(lambda_[i]/(alpha0+lambda_[i]))\n",
    "            \n",
    "        alpha1 = gamma/np.dot(mn,mn)\n",
    "        beta1 = 1/((1/(N-gamma))*(np.dot(np.dot(X_train,mn)-y_train, np.dot(X_train,mn)-y_train)))\n",
    "\n",
    "        alpha_change = abs(alpha1-alpha0)\n",
    "        beta_change = abs(beta1 - beta0)\n",
    "\n",
    "        beta0 = beta1\n",
    "        alpha0 = alpha1\n",
    "        \n",
    "    reg_lambda = alpha0.real/beta0.real\n",
    "    return alpha0.real, beta0.real, reg_lambda"
   ]
  },
  {
   "cell_type": "markdown",
   "id": "5dd43e15",
   "metadata": {},
   "source": [
    "# Bayesian function"
   ]
  },
  {
   "cell_type": "code",
   "execution_count": 447,
   "id": "d0dd5ee3",
   "metadata": {},
   "outputs": [],
   "source": [
    "def bayesian(alpha, beta, X_train, y_train, X_test):  \n",
    "    d = X_train.shape[1]\n",
    "    A = beta*np.dot(X_train.T,X_train)\n",
    "    sn = np.linalg.inv(alpha*np.identity(d) + A)\n",
    "    mn = beta*np.dot(np.dot(sn,X_train.T),y_train)\n",
    "    prediction = (X_test).dot(mn)\n",
    "    return prediction"
   ]
  },
  {
   "cell_type": "markdown",
   "id": "118b4ed0",
   "metadata": {},
   "source": [
    "# Task 1"
   ]
  },
  {
   "cell_type": "markdown",
   "id": "5ea25a6e",
   "metadata": {},
   "source": [
    "## Part 1"
   ]
  },
  {
   "cell_type": "markdown",
   "id": "847f9ed5",
   "metadata": {},
   "source": [
    "### printing α, β and effective λ for each train size of Crime dataset."
   ]
  },
  {
   "cell_type": "code",
   "execution_count": 448,
   "id": "0e077cc1",
   "metadata": {},
   "outputs": [],
   "source": [
    "crime={}\n",
    "for r in range(1,11):\n",
    "    s=int(round(len(X_train)*r/10,0))\n",
    "    x_sub = X_train[:s]\n",
    "    y_sub = y_train[:s]\n",
    "    alpha,beta,l = ModelSelection(x_sub, y_sub)\n",
    "    crime[r/10]= (round(alpha,4),round(beta,4))"
   ]
  },
  {
   "cell_type": "code",
   "execution_count": 449,
   "id": "7f514aab",
   "metadata": {},
   "outputs": [
    {
     "name": "stdout",
     "output_type": "stream",
     "text": [
      "For partition  0.1 ----> alpha: 188.6595 beta: 3.0783 lambda: 61.2869\n",
      "For partition  0.2 ----> alpha: 284.722 beta: 2.9644 lambda: 96.0471\n",
      "For partition  0.3 ----> alpha: 266.9901 beta: 2.8472 lambda: 93.7729\n",
      "For partition  0.4 ----> alpha: 280.4488 beta: 2.8497 lambda: 98.4134\n",
      "For partition  0.5 ----> alpha: 282.7676 beta: 2.9149 lambda: 97.0077\n",
      "For partition  0.6 ----> alpha: 263.4755 beta: 2.9623 lambda: 88.9429\n",
      "For partition  0.7 ----> alpha: 254.1616 beta: 3.0876 lambda: 82.3169\n",
      "For partition  0.8 ----> alpha: 254.2067 beta: 3.1242 lambda: 81.367\n",
      "For partition  0.9 ----> alpha: 247.8892 beta: 3.0471 lambda: 81.3525\n",
      "For partition  1.0 ----> alpha: 239.7163 beta: 3.0853 lambda: 77.6963\n"
     ]
    }
   ],
   "source": [
    "for row in crime:\n",
    "    print(\"For partition \",row, \"----> alpha:\",\n",
    "          crime[row][0], \"beta:\",crime[row][1], \"lambda:\", round(crime[row][0]/crime[row][1],4))"
   ]
  },
  {
   "cell_type": "markdown",
   "id": "f076ca8a",
   "metadata": {},
   "source": [
    "### printing α, β and effective λ for each train size of Housing dataset."
   ]
  },
  {
   "cell_type": "code",
   "execution_count": 450,
   "id": "01673259",
   "metadata": {},
   "outputs": [],
   "source": [
    "housing={}\n",
    "for r in range(1,11):\n",
    "    s=int(round(len(X_train_housing)*r/10,0))\n",
    "    x_sub = X_train_housing[:s]\n",
    "    y_sub = y_train_housing[:s]\n",
    "    alpha,beta,l = ModelSelection(x_sub, y_sub)\n",
    "    housing[r/10]= (round(alpha,4),round(beta,4))"
   ]
  },
  {
   "cell_type": "code",
   "execution_count": 451,
   "id": "ef677cac",
   "metadata": {},
   "outputs": [
    {
     "name": "stdout",
     "output_type": "stream",
     "text": [
      "For partition  [0.1] ----> alpha: 17.1157 beta: 55.4313 lambda: 0.3088\n",
      "For partition  [0.2] ----> alpha: 16.3343 beta: 3.4587 lambda: 4.7227\n",
      "For partition  [0.3] ----> alpha: 17.0971 beta: 4.3022 lambda: 3.974\n",
      "For partition  [0.4] ----> alpha: 18.4078 beta: 5.1336 lambda: 3.5857\n",
      "For partition  [0.5] ----> alpha: 17.8086 beta: 4.4115 lambda: 4.0369\n",
      "For partition  [0.6] ----> alpha: 19.5364 beta: 4.6913 lambda: 4.1644\n",
      "For partition  [0.7] ----> alpha: 18.6426 beta: 4.3935 lambda: 4.2432\n",
      "For partition  [0.8] ----> alpha: 18.9251 beta: 4.5876 lambda: 4.1253\n",
      "For partition  [0.9] ----> alpha: 16.9791 beta: 4.1692 lambda: 4.0725\n",
      "For partition  [1.0] ----> alpha: 20.4125 beta: 4.0413 lambda: 5.051\n"
     ]
    }
   ],
   "source": [
    "for row in housing:\n",
    "    print(\"For partition \",[row], \"----> alpha:\",\n",
    "          housing[row][0], \"beta:\",housing[row][1], \"lambda:\", round(housing[row][0]/housing[row][1],4))"
   ]
  },
  {
   "cell_type": "markdown",
   "id": "48bcb719",
   "metadata": {},
   "source": [
    "## Part 2"
   ]
  },
  {
   "cell_type": "markdown",
   "id": "1f839118",
   "metadata": {},
   "source": [
    "## MLE and Bayesian for crime dataset"
   ]
  },
  {
   "cell_type": "code",
   "execution_count": 452,
   "id": "a93caaeb",
   "metadata": {},
   "outputs": [],
   "source": [
    "mse_mle_crime=[]\n",
    "for r in range(1,11):\n",
    "    s=int(round(len(X_train)*r/10,0))\n",
    "    x_sub = X_train[:s]\n",
    "    y_sub = y_train[:s]\n",
    "    pred = MLE(x_sub, y_sub, X_test, 0)\n",
    "    mse = MSE(y_test, pred)\n",
    "    mse_mle_crime.append((r/10, mse))"
   ]
  },
  {
   "cell_type": "code",
   "execution_count": 453,
   "id": "57f10669",
   "metadata": {},
   "outputs": [
    {
     "data": {
      "text/plain": [
       "[(0.1, 1.3002479408653578),\n",
       " (0.2, 0.49674272673822173),\n",
       " (0.3, 0.4563485564631832),\n",
       " (0.4, 0.3871466705963706),\n",
       " (0.5, 0.37134261218463643),\n",
       " (0.6, 0.36447055412489887),\n",
       " (0.7, 0.3548472889039074),\n",
       " (0.8, 0.348305392176499),\n",
       " (0.9, 0.3463928082505606),\n",
       " (1.0, 0.34505693304241475)]"
      ]
     },
     "execution_count": 453,
     "metadata": {},
     "output_type": "execute_result"
    }
   ],
   "source": [
    "mse_mle_crime"
   ]
  },
  {
   "cell_type": "code",
   "execution_count": 454,
   "id": "b36c82af",
   "metadata": {},
   "outputs": [],
   "source": [
    "mse_bayesian_crime=[]\n",
    "for r in range(1,11):\n",
    "    s=int(round(len(X_train)*r/10,0))\n",
    "    x_sub = X_train[:s]\n",
    "    y_sub = y_train[:s]\n",
    "    pred = bayesian(crime[r/10][0],crime[r/10][1],x_sub, y_sub, X_test)\n",
    "    mse = MSE(y_test, pred)\n",
    "    mse_bayesian_crime.append((r/10, mse))"
   ]
  },
  {
   "cell_type": "code",
   "execution_count": 455,
   "id": "2130359c",
   "metadata": {},
   "outputs": [
    {
     "data": {
      "text/plain": [
       "[(0.1, 0.39706429262398923),\n",
       " (0.2, 0.34524708583492175),\n",
       " (0.3, 0.3482611984943556),\n",
       " (0.4, 0.3378816740262158),\n",
       " (0.5, 0.33866577001711773),\n",
       " (0.6, 0.3328209555449332),\n",
       " (0.7, 0.330776657508738),\n",
       " (0.8, 0.33244629863584646),\n",
       " (0.9, 0.33213979157960855),\n",
       " (1.0, 0.3345435972106512)]"
      ]
     },
     "execution_count": 455,
     "metadata": {},
     "output_type": "execute_result"
    }
   ],
   "source": [
    "mse_bayesian_crime"
   ]
  },
  {
   "cell_type": "markdown",
   "id": "dce219ee",
   "metadata": {},
   "source": [
    "## MLE and Bayesian for housing dataset"
   ]
  },
  {
   "cell_type": "code",
   "execution_count": 472,
   "id": "e4029c6f",
   "metadata": {},
   "outputs": [],
   "source": [
    "mse_mle_housing=[]\n",
    "for r in range(1,11):\n",
    "    s=int(round(len(X_train_housing)*r/10,0))\n",
    "    x_sub = X_train_housing[:s]\n",
    "    y_sub = y_train_housing[:s]\n",
    "    pred = MLE(x_sub, y_sub, X_test_housing, 0)\n",
    "    mse = MSE(y_test_housing, pred)\n",
    "    mse_mle_housing.append((r/10, mse))"
   ]
  },
  {
   "cell_type": "code",
   "execution_count": 473,
   "id": "cac9e176",
   "metadata": {},
   "outputs": [
    {
     "data": {
      "text/plain": [
       "[(0.1, 47.35835683294497),\n",
       " (0.2, 0.6531445531535934),\n",
       " (0.3, 0.37328040705891985),\n",
       " (0.4, 0.340572258403595),\n",
       " (0.5, 0.3644021055620384),\n",
       " (0.6, 0.32080556108532426),\n",
       " (0.7, 0.314182475882),\n",
       " (0.8, 0.29894116465022413),\n",
       " (0.9, 0.3195726620376518),\n",
       " (1.0, 0.2944326200127151)]"
      ]
     },
     "execution_count": 473,
     "metadata": {},
     "output_type": "execute_result"
    }
   ],
   "source": [
    "mse_mle_housing"
   ]
  },
  {
   "cell_type": "code",
   "execution_count": 458,
   "id": "34b52e04",
   "metadata": {},
   "outputs": [],
   "source": [
    "mse_bayesian_housing=[]\n",
    "for r in range(1,11):\n",
    "    s=int(round(len(X_train_housing)*r/10,0))\n",
    "    x_sub = X_train_housing[:s]\n",
    "    y_sub = y_train_housing[:s]\n",
    "    pred = bayesian(housing[r/10][0],housing[r/10][1],x_sub, y_sub, X_test_housing)\n",
    "    mse = MSE(y_test_housing, pred)\n",
    "    mse_bayesian_housing.append((r/10, mse))"
   ]
  },
  {
   "cell_type": "code",
   "execution_count": 459,
   "id": "655fe0ac",
   "metadata": {},
   "outputs": [
    {
     "data": {
      "text/plain": [
       "[(0.1, 0.47393448700451385),\n",
       " (0.2, 0.3178536655988658),\n",
       " (0.3, 0.3145821480396294),\n",
       " (0.4, 0.31017943952079036),\n",
       " (0.5, 0.32089205037880114),\n",
       " (0.6, 0.2996619685273803),\n",
       " (0.7, 0.29424751308687025),\n",
       " (0.8, 0.2880966683758234),\n",
       " (0.9, 0.30259974587036587),\n",
       " (1.0, 0.28849364529076055)]"
      ]
     },
     "execution_count": 459,
     "metadata": {},
     "output_type": "execute_result"
    }
   ],
   "source": [
    "mse_bayesian_housing"
   ]
  },
  {
   "cell_type": "code",
   "execution_count": 460,
   "id": "9a104011",
   "metadata": {},
   "outputs": [],
   "source": [
    "import matplotlib.pyplot as plt"
   ]
  },
  {
   "cell_type": "code",
   "execution_count": 491,
   "id": "7f6de4cf",
   "metadata": {},
   "outputs": [
    {
     "data": {
      "image/png": "[encoded data removed]",
      "text/plain": [
       "<Figure size 432x288 with 1 Axes>"
      ]
     },
     "metadata": {
      "needs_background": "light"
     },
     "output_type": "display_data"
    }
   ],
   "source": [
    "plt.plot(*zip(*mse_bayesian_housing),label='bayesian')\n",
    "plt.plot(*zip(*mse_mle_housing),label='MLE')\n",
    "plt.ylim([0,1])\n",
    "plt.legend()\n",
    "plt.show()"
   ]
  },
  {
   "cell_type": "code",
   "execution_count": 492,
   "id": "975498da",
   "metadata": {},
   "outputs": [
    {
     "data": {
      "image/png": "[encoded data removed]",
      "text/plain": [
       "<Figure size 432x288 with 1 Axes>"
      ]
     },
     "metadata": {
      "needs_background": "light"
     },
     "output_type": "display_data"
    }
   ],
   "source": [
    "plt.plot(*zip(*mse_bayesian_crime),label='bayesian')\n",
    "plt.plot(*zip(*mse_mle_crime),label='MLE')\n",
    "plt.ylim([0,1])\n",
    "plt.legend()\n",
    "plt.show()"
   ]
  },
  {
   "cell_type": "code",
   "execution_count": 506,
   "id": "f5f34fc5",
   "metadata": {},
   "outputs": [],
   "source": [
    "# We can observe here that as the training size increases, both MLE and the Bayesian performs better.\n",
    "# That is, with increase in training size, the MSE of both of them decreases."
   ]
  },
  {
   "cell_type": "code",
   "execution_count": 507,
   "id": "6d92dfa7",
   "metadata": {},
   "outputs": [],
   "source": [
    "# We can also observe that Bayesian performs better than MLE for smaller size data and as the data size increases\n",
    "# the MLE becomes better and better and finally comes close to Bayesian for large dataset"
   ]
  },
  {
   "cell_type": "code",
   "execution_count": 508,
   "id": "b744e99a",
   "metadata": {},
   "outputs": [],
   "source": [
    "# It is as expected because the Bayesian uses prior alpha, beta and updates them to get closer to minimum. Because of\n",
    "# that it performs better than the MLE on smaller datasets. \n",
    "# MLE doesn't use prior so it is bad for smaller datasets"
   ]
  },
  {
   "cell_type": "code",
   "execution_count": 509,
   "id": "4e41e9d6",
   "metadata": {},
   "outputs": [],
   "source": [
    "# But when data size increases the prior is no longer required, so MLE performs similar to Bayesian"
   ]
  },
  {
   "cell_type": "markdown",
   "id": "e2da8546",
   "metadata": {},
   "source": [
    "## Part 3"
   ]
  },
  {
   "cell_type": "markdown",
   "id": "36626d66",
   "metadata": {},
   "source": [
    "## MSE for different values of lambda for housing dataset"
   ]
  },
  {
   "cell_type": "code",
   "execution_count": 482,
   "id": "8e1befdf",
   "metadata": {},
   "outputs": [
    {
     "data": {
      "text/plain": [
       "[(0.1, 0.423566671346588),\n",
       " (0.2, 0.364347103962465),\n",
       " (0.3, 0.33395792069853797),\n",
       " (0.4, 0.3245221372579648),\n",
       " (0.5, 0.3465678845328673),\n",
       " (0.6, 0.3121350227356345),\n",
       " (0.7, 0.3064930898153738),\n",
       " (0.8, 0.29565013092780723),\n",
       " (0.9, 0.31340436821154144),\n",
       " (1.0, 0.29243562805471485)]"
      ]
     },
     "execution_count": 482,
     "metadata": {},
     "output_type": "execute_result"
    }
   ],
   "source": [
    "lambda_ = [1.0, 33.0, 100.0, 1000.0]\n",
    "mse_housing_l1=[]\n",
    "for r in range(1,11):\n",
    "    s=int(round(len(X_train_housing)*r/10,0))\n",
    "    x_sub = X_train_housing[:s]\n",
    "    y_sub = y_train_housing[:s]\n",
    "    pred = MLE(x_sub, y_sub, X_test_housing, 1)\n",
    "    mse = MSE(y_test_housing, pred)\n",
    "    mse_housing_l1.append((r/10, mse))\n",
    "mse_housing_l1"
   ]
  },
  {
   "cell_type": "code",
   "execution_count": 483,
   "id": "1f88f5ae",
   "metadata": {},
   "outputs": [
    {
     "data": {
      "text/plain": [
       "[(0.1, 0.6228938094966632),\n",
       " (0.2, 0.43120043352934045),\n",
       " (0.3, 0.36198910039033505),\n",
       " (0.4, 0.34623425073937913),\n",
       " (0.5, 0.3535278215760684),\n",
       " (0.6, 0.33658550947382065),\n",
       " (0.7, 0.31340187896536814),\n",
       " (0.8, 0.3109797680403168),\n",
       " (0.9, 0.30707758566560717),\n",
       " (1.0, 0.30544116862297077)]"
      ]
     },
     "execution_count": 483,
     "metadata": {},
     "output_type": "execute_result"
    }
   ],
   "source": [
    "mse_housing_l2=[]\n",
    "for r in range(1,11):\n",
    "    s=int(round(len(X_train_housing)*r/10,0))\n",
    "    x_sub = X_train_housing[:s]\n",
    "    y_sub = y_train_housing[:s]\n",
    "    pred = MLE(x_sub, y_sub, X_test_housing, 33)\n",
    "    mse = MSE(y_test_housing, pred)\n",
    "    mse_housing_l2.append((r/10, mse))\n",
    "mse_housing_l2"
   ]
  },
  {
   "cell_type": "code",
   "execution_count": 484,
   "id": "f60db1dd",
   "metadata": {},
   "outputs": [
    {
     "data": {
      "text/plain": [
       "[(0.1, 0.7528468192512342),\n",
       " (0.2, 0.5860306395284415),\n",
       " (0.3, 0.4969074236955882),\n",
       " (0.4, 0.4652078201136607),\n",
       " (0.5, 0.46523221726870506),\n",
       " (0.6, 0.43991054865547957),\n",
       " (0.7, 0.3927385261620822),\n",
       " (0.8, 0.38805650351350507),\n",
       " (0.9, 0.368878253417283),\n",
       " (1.0, 0.3681112017016033)]"
      ]
     },
     "execution_count": 484,
     "metadata": {},
     "output_type": "execute_result"
    }
   ],
   "source": [
    "mse_housing_l3=[]\n",
    "for r in range(1,11):\n",
    "    s=int(round(len(X_train_housing)*r/10,0))\n",
    "    x_sub = X_train_housing[:s]\n",
    "    y_sub = y_train_housing[:s]\n",
    "    pred = MLE(x_sub, y_sub, X_test_housing, 100)\n",
    "    mse = MSE(y_test_housing, pred)\n",
    "    mse_housing_l3.append((r/10, mse))\n",
    "mse_housing_l3"
   ]
  },
  {
   "cell_type": "code",
   "execution_count": 485,
   "id": "cd648946",
   "metadata": {},
   "outputs": [
    {
     "data": {
      "text/plain": [
       "[(0.1, 0.953727842908941),\n",
       " (0.2, 0.9009342810382331),\n",
       " (0.3, 0.863043505399434),\n",
       " (0.4, 0.8358504606601795),\n",
       " (0.5, 0.8121887269030442),\n",
       " (0.6, 0.7845764141233202),\n",
       " (0.7, 0.7380347740786489),\n",
       " (0.8, 0.7254527905844244),\n",
       " (0.9, 0.7114874135618322),\n",
       " (1.0, 0.7019701422003521)]"
      ]
     },
     "execution_count": 485,
     "metadata": {},
     "output_type": "execute_result"
    }
   ],
   "source": [
    "mse_housing_l4=[]\n",
    "for r in range(1,11):\n",
    "    s=int(round(len(X_train_housing)*r/10,0))\n",
    "    x_sub = X_train_housing[:s]\n",
    "    y_sub = y_train_housing[:s]\n",
    "    pred = MLE(x_sub, y_sub, X_test_housing, 1000)\n",
    "    mse = MSE(y_test_housing, pred)\n",
    "    mse_housing_l4.append((r/10, mse))\n",
    "mse_housing_l4"
   ]
  },
  {
   "cell_type": "code",
   "execution_count": null,
   "id": "f346d870",
   "metadata": {},
   "outputs": [],
   "source": []
  },
  {
   "cell_type": "markdown",
   "id": "25012e13",
   "metadata": {},
   "source": [
    "## MSE for different values of lambda for crime dataset"
   ]
  },
  {
   "cell_type": "code",
   "execution_count": 500,
   "id": "25584cf2",
   "metadata": {},
   "outputs": [
    {
     "data": {
      "text/plain": [
       "[(0.1, 0.6858603980070377),\n",
       " (0.2, 0.46291459413209307),\n",
       " (0.3, 0.43913106939104),\n",
       " (0.4, 0.3807361093289912),\n",
       " (0.5, 0.3685403392386222),\n",
       " (0.6, 0.36203020128751834),\n",
       " (0.7, 0.35245424929419483),\n",
       " (0.8, 0.34721311299402213),\n",
       " (0.9, 0.3454577265194423),\n",
       " (1.0, 0.34476207986660184)]"
      ]
     },
     "execution_count": 500,
     "metadata": {},
     "output_type": "execute_result"
    }
   ],
   "source": [
    "mse_crime_l1=[]\n",
    "for r in range(1,11):\n",
    "    s=int(round(len(X_train)*r/10,0))\n",
    "    x_sub = X_train[:s]\n",
    "    y_sub = y_train[:s]\n",
    "    pred = MLE(x_sub, y_sub, X_test, 1)\n",
    "    mse = MSE(y_test, pred)\n",
    "    mse_crime_l1.append((r/10, mse))\n",
    "mse_crime_l1"
   ]
  },
  {
   "cell_type": "code",
   "execution_count": 501,
   "id": "289513b6",
   "metadata": {},
   "outputs": [
    {
     "data": {
      "text/plain": [
       "[(0.1, 0.41386083230023096),\n",
       " (0.2, 0.3672197335103873),\n",
       " (0.3, 0.37007750526177874),\n",
       " (0.4, 0.3503675088360638),\n",
       " (0.5, 0.34952140373863017),\n",
       " (0.6, 0.3421520939712646),\n",
       " (0.7, 0.33776025019091327),\n",
       " (0.8, 0.33791258111563405),\n",
       " (0.9, 0.33695100963174895),\n",
       " (1.0, 0.3385348019256801)]"
      ]
     },
     "execution_count": 501,
     "metadata": {},
     "output_type": "execute_result"
    }
   ],
   "source": [
    "mse_crime_l2=[]\n",
    "for r in range(1,11):\n",
    "    s=int(round(len(X_train)*r/10,0))\n",
    "    x_sub = X_train[:s]\n",
    "    y_sub = y_train[:s]\n",
    "    pred = MLE(x_sub, y_sub, X_test, 33)\n",
    "    mse = MSE(y_test, pred)\n",
    "    mse_crime_l2.append((r/10, mse))\n",
    "mse_crime_l2"
   ]
  },
  {
   "cell_type": "code",
   "execution_count": 502,
   "id": "1b948a21",
   "metadata": {},
   "outputs": [
    {
     "data": {
      "text/plain": [
       "[(0.1, 0.38671427974882283),\n",
       " (0.2, 0.34464194585171487),\n",
       " (0.3, 0.34721774532290106),\n",
       " (0.4, 0.33772147306230293),\n",
       " (0.5, 0.33837304664555407),\n",
       " (0.6, 0.33180639669842815),\n",
       " (0.7, 0.3293511730594402),\n",
       " (0.8, 0.3311361569946168),\n",
       " (0.9, 0.33093739874230965),\n",
       " (1.0, 0.3331851548679833)]"
      ]
     },
     "execution_count": 502,
     "metadata": {},
     "output_type": "execute_result"
    }
   ],
   "source": [
    "mse_crime_l3=[]\n",
    "for r in range(1,11):\n",
    "    s=int(round(len(X_train)*r/10,0))\n",
    "    x_sub = X_train[:s]\n",
    "    y_sub = y_train[:s]\n",
    "    pred = MLE(x_sub, y_sub, X_test, 100)\n",
    "    mse = MSE(y_test, pred)\n",
    "    mse_crime_l3.append((r/10, mse))\n",
    "mse_crime_l3"
   ]
  },
  {
   "cell_type": "code",
   "execution_count": 503,
   "id": "2694bac4",
   "metadata": {},
   "outputs": [
    {
     "data": {
      "text/plain": [
       "[(0.1, 0.35176188300956496),\n",
       " (0.2, 0.33083123457806146),\n",
       " (0.3, 0.3278070039250277),\n",
       " (0.4, 0.32228036024027046),\n",
       " (0.5, 0.3231409675016109),\n",
       " (0.6, 0.31949498622635497),\n",
       " (0.7, 0.31914334811655065),\n",
       " (0.8, 0.3197029261641157),\n",
       " (0.9, 0.31919476904947075),\n",
       " (1.0, 0.3204242304587341)]"
      ]
     },
     "execution_count": 503,
     "metadata": {},
     "output_type": "execute_result"
    }
   ],
   "source": [
    "mse_crime_l4=[]\n",
    "for r in range(1,11):\n",
    "    s=int(round(len(X_train)*r/10,0))\n",
    "    x_sub = X_train[:s]\n",
    "    y_sub = y_train[:s]\n",
    "    pred = MLE(x_sub, y_sub, X_test, 1000)\n",
    "    mse = MSE(y_test, pred)\n",
    "    mse_crime_l4.append((r/10, mse))\n",
    "mse_crime_l4"
   ]
  },
  {
   "cell_type": "code",
   "execution_count": null,
   "id": "280bd7a5",
   "metadata": {},
   "outputs": [],
   "source": []
  },
  {
   "cell_type": "code",
   "execution_count": null,
   "id": "bd0e44ff",
   "metadata": {},
   "outputs": [],
   "source": []
  },
  {
   "cell_type": "code",
   "execution_count": 504,
   "id": "5f530eea",
   "metadata": {},
   "outputs": [
    {
     "data": {
      "image/png": "[encoded data removed]",
      "text/plain": [
       "<Figure size 432x288 with 1 Axes>"
      ]
     },
     "metadata": {
      "needs_background": "light"
     },
     "output_type": "display_data"
    }
   ],
   "source": [
    "plt.plot(*zip(*mse_housing_l1),label='lambda=1')\n",
    "plt.plot(*zip(*mse_housing_l2),label='lambda=33')\n",
    "plt.plot(*zip(*mse_housing_l3),label='lambda=100')\n",
    "plt.plot(*zip(*mse_housing_l4),label='lambda=1000')\n",
    "plt.ylim([0,1])\n",
    "plt.legend()\n",
    "plt.show()"
   ]
  },
  {
   "cell_type": "code",
   "execution_count": 505,
   "id": "e3668383",
   "metadata": {},
   "outputs": [
    {
     "data": {
      "image/png": "[encoded data removed]",
      "text/plain": [
       "<Figure size 432x288 with 1 Axes>"
      ]
     },
     "metadata": {
      "needs_background": "light"
     },
     "output_type": "display_data"
    }
   ],
   "source": [
    "plt.plot(*zip(*mse_crime_l1),label='lambda=1')\n",
    "plt.plot(*zip(*mse_crime_l2),label='lambda=33')\n",
    "plt.plot(*zip(*mse_crime_l3),label='lambda=100')\n",
    "plt.plot(*zip(*mse_crime_l4),label='lambda=1000')\n",
    "#plt.ylim([0,1])\n",
    "plt.legend()\n",
    "plt.show()"
   ]
  },
  {
   "cell_type": "code",
   "execution_count": null,
   "id": "4ec8de07",
   "metadata": {},
   "outputs": [],
   "source": []
  },
  {
   "cell_type": "code",
   "execution_count": 600,
   "id": "6600ec99",
   "metadata": {},
   "outputs": [],
   "source": [
    "# we can't use universal lambda"
   ]
  },
  {
   "cell_type": "code",
   "execution_count": 599,
   "id": "b377c4c3",
   "metadata": {},
   "outputs": [],
   "source": [
    "# It is successful for housing data "
   ]
  },
  {
   "cell_type": "code",
   "execution_count": null,
   "id": "23589a54",
   "metadata": {},
   "outputs": [],
   "source": []
  },
  {
   "cell_type": "code",
   "execution_count": null,
   "id": "c3d05894",
   "metadata": {},
   "outputs": [],
   "source": []
  },
  {
   "cell_type": "markdown",
   "id": "a601e32e",
   "metadata": {},
   "source": [
    "# Task 2"
   ]
  },
  {
   "cell_type": "code",
   "execution_count": null,
   "id": "1c099c70",
   "metadata": {},
   "outputs": [],
   "source": [
    "# reading f3"
   ]
  },
  {
   "cell_type": "code",
   "execution_count": 520,
   "id": "0d033437",
   "metadata": {},
   "outputs": [
    {
     "data": {
      "text/plain": [
       "(300,)"
      ]
     },
     "execution_count": 520,
     "metadata": {},
     "output_type": "execute_result"
    }
   ],
   "source": [
    "train_f3 = open('train-f3.csv', 'rb')\n",
    "X_train_f3 = loadtxt(train_f3,delimiter = \",\")\n",
    "#print(X_train)\n",
    "X_train_f3.shape"
   ]
  },
  {
   "cell_type": "code",
   "execution_count": 517,
   "id": "c187c66c",
   "metadata": {},
   "outputs": [
    {
     "data": {
      "text/plain": [
       "(300,)"
      ]
     },
     "execution_count": 517,
     "metadata": {},
     "output_type": "execute_result"
    }
   ],
   "source": [
    "trainR_f3 = open('trainR-f3.csv', 'rb')\n",
    "y_train_f3 = loadtxt(trainR_f3,delimiter = \",\")\n",
    "#print(y_train_f3)\n",
    "y_train_f3.shape"
   ]
  },
  {
   "cell_type": "code",
   "execution_count": 518,
   "id": "e407c16d",
   "metadata": {},
   "outputs": [
    {
     "data": {
      "text/plain": [
       "(500,)"
      ]
     },
     "execution_count": 518,
     "metadata": {},
     "output_type": "execute_result"
    }
   ],
   "source": [
    "test_f3 = open('test-f3.csv', 'rb')\n",
    "X_test_f3 = loadtxt(test_f3,delimiter = \",\")\n",
    "#print(X_train)\n",
    "X_test_f3.shape"
   ]
  },
  {
   "cell_type": "code",
   "execution_count": 519,
   "id": "9bc89f6a",
   "metadata": {},
   "outputs": [
    {
     "data": {
      "text/plain": [
       "(500,)"
      ]
     },
     "execution_count": 519,
     "metadata": {},
     "output_type": "execute_result"
    }
   ],
   "source": [
    "testR_f3 = open('testR-f3.csv', 'rb')\n",
    "y_test_f3 = loadtxt(testR_f3,delimiter = \",\")\n",
    "#print(X_train)\n",
    "y_test_f3.shape"
   ]
  },
  {
   "cell_type": "code",
   "execution_count": null,
   "id": "de1be82e",
   "metadata": {},
   "outputs": [],
   "source": [
    "# reading f5"
   ]
  },
  {
   "cell_type": "code",
   "execution_count": 521,
   "id": "b2cf2e79",
   "metadata": {},
   "outputs": [
    {
     "data": {
      "text/plain": [
       "(300,)"
      ]
     },
     "execution_count": 521,
     "metadata": {},
     "output_type": "execute_result"
    }
   ],
   "source": [
    "train_f5 = open('train-f5.csv', 'rb')\n",
    "X_train_f5 = loadtxt(train_f5,delimiter = \",\")\n",
    "#print(X_train)\n",
    "X_train_f5.shape"
   ]
  },
  {
   "cell_type": "code",
   "execution_count": 522,
   "id": "df56461d",
   "metadata": {},
   "outputs": [
    {
     "data": {
      "text/plain": [
       "(300,)"
      ]
     },
     "execution_count": 522,
     "metadata": {},
     "output_type": "execute_result"
    }
   ],
   "source": [
    "trainR_f5 = open('trainR-f5.csv', 'rb')\n",
    "y_train_f5 = loadtxt(trainR_f5,delimiter = \",\")\n",
    "#print(y_train_f3)\n",
    "y_train_f5.shape"
   ]
  },
  {
   "cell_type": "code",
   "execution_count": 523,
   "id": "62ab1b5a",
   "metadata": {},
   "outputs": [
    {
     "data": {
      "text/plain": [
       "(500,)"
      ]
     },
     "execution_count": 523,
     "metadata": {},
     "output_type": "execute_result"
    }
   ],
   "source": [
    "test_f5 = open('test-f5.csv', 'rb')\n",
    "X_test_f5 = loadtxt(test_f5,delimiter = \",\")\n",
    "#print(X_train)\n",
    "X_test_f5.shape"
   ]
  },
  {
   "cell_type": "code",
   "execution_count": 524,
   "id": "eb1e035a",
   "metadata": {},
   "outputs": [
    {
     "data": {
      "text/plain": [
       "(500,)"
      ]
     },
     "execution_count": 524,
     "metadata": {},
     "output_type": "execute_result"
    }
   ],
   "source": [
    "testR_f5 = open('testR-f5.csv', 'rb')\n",
    "y_test_f5 = loadtxt(testR_f5,delimiter = \",\")\n",
    "#print(X_train)\n",
    "y_test_f5.shape"
   ]
  },
  {
   "cell_type": "code",
   "execution_count": 566,
   "id": "d8a94a4a",
   "metadata": {},
   "outputs": [],
   "source": [
    "import math\n"
   ]
  },
  {
   "cell_type": "code",
   "execution_count": 567,
   "id": "f0b5bf09",
   "metadata": {},
   "outputs": [],
   "source": [
    "def bayesian_task2(alpha, beta, X_train, y_train, X_test):  \n",
    "    d = X_train.shape[1]\n",
    "    A = beta*np.dot(X_train.T,X_train)\n",
    "    sn = np.linalg.inv(alpha*np.identity(d) + A)\n",
    "    mn = beta*np.dot(np.dot(sn,X_train.T),y_train)\n",
    "    prediction = (X_test).dot(mn)\n",
    "    return prediction, mn, sn"
   ]
  },
  {
   "cell_type": "code",
   "execution_count": 581,
   "id": "d2f07fc4",
   "metadata": {},
   "outputs": [],
   "source": [
    "mse_bayesian_value = []\n",
    "mse_mle_value = []\n",
    "logev = []\n",
    "for i in range(1,11):\n",
    "    x_train_f3 = np.hstack((np.ones((X_train_f3.shape[0],1)), X_train_f3.reshape(X_train_f3.shape[0],1)))\n",
    "    x_test_f3 = np.hstack((np.ones((X_test_f3.shape[0],1)), X_test_f3.reshape(X_test_f3.shape[0],1)))\n",
    "    for j in range(2, i+1):\n",
    "        x_train_f3 = np.hstack((x_train_f3, (x_train_f3[:,1]**j).reshape(x_train_f3.shape[0],1)))\n",
    "        x_test_f3 = np.hstack((x_test_f3, (x_test_f3[:,1]**j).reshape(x_test_f3.shape[0],1)))\n",
    "        \n",
    "    mle_pred = MLE(x_train_f3, y_train_f3, x_test_f3, 0)\n",
    "    mse_mle_value.append((i, MSE(y_test_f3, mle_pred)))\n",
    "    alpha, beta, l = ModelSelection(x_train_f3, y_train_f3)\n",
    "    bay_pred, mn, sn = bayesian_task2(alpha, beta, x_train_f3, y_train_f3, x_test_f3)\n",
    "    mse_bayesian_value.append((i, MSE(y_test_f3, bay_pred)))\n",
    "    \n",
    "    exp = np.dot((y_train_f3 - np.dot(x_train_f3, mn)).T, (y_train_f3 - np.dot(x_train_f3, mn)))*beta/2\n",
    "    exp1 = (alpha*np.dot(mn.T, mn))/2\n",
    "    exp2 = np.log(np.linalg.det(np.linalg.inv(sn)))\n",
    "    m = x_train_f3.shape[1]\n",
    "    log = (((m/2)*np.log(alpha))+((300/2)*np.log(beta))-exp-exp1-(0.5*exp2)-(300*np.log(2*math.pi)/2))\n",
    "    logev.append((i, log))"
   ]
  },
  {
   "cell_type": "code",
   "execution_count": 582,
   "id": "ed0416e3",
   "metadata": {},
   "outputs": [
    {
     "data": {
      "text/plain": [
       "[(1, 39376476.35523856),\n",
       " (2, 39527143.96946786),\n",
       " (3, 96545.25989708769),\n",
       " (4, 149527.31579077654),\n",
       " (5, 152228.94192618792),\n",
       " (6, 165223.4868313984),\n",
       " (7, 172103.0795626843),\n",
       " (8, 181625.09449402342),\n",
       " (9, 178856.84456180208),\n",
       " (10, 219943.14242957288)]"
      ]
     },
     "execution_count": 582,
     "metadata": {},
     "output_type": "execute_result"
    }
   ],
   "source": [
    "mse_bayesian_value"
   ]
  },
  {
   "cell_type": "code",
   "execution_count": 583,
   "id": "7040d7df",
   "metadata": {},
   "outputs": [
    {
     "data": {
      "text/plain": [
       "[(1, 39389142.58553826),\n",
       " (2, 39495762.459005706),\n",
       " (3, 148429.38836504074),\n",
       " (4, 179627.4613192888),\n",
       " (5, 186263.56046385024),\n",
       " (6, 211370.6069387943),\n",
       " (7, 184992.29746071447),\n",
       " (8, 196641.43373562046),\n",
       " (9, 546257.7764251676),\n",
       " (10, 579316.5958698977)]"
      ]
     },
     "execution_count": 583,
     "metadata": {},
     "output_type": "execute_result"
    }
   ],
   "source": [
    "mse_mle_value"
   ]
  },
  {
   "cell_type": "code",
   "execution_count": 584,
   "id": "669d07d5",
   "metadata": {},
   "outputs": [
    {
     "data": {
      "text/plain": [
       "[(1, -3048.4892729193894),\n",
       " (2, -3053.744957338956),\n",
       " (3, -2718.8888658439623),\n",
       " (4, -2718.9170919003063),\n",
       " (5, -2726.8170462141616),\n",
       " (6, -2742.4629196159035),\n",
       " (7, -2747.637942423453),\n",
       " (8, -2761.3960561097224),\n",
       " (9, -2777.0257302965797),\n",
       " (10, -2794.366141195468)]"
      ]
     },
     "execution_count": 584,
     "metadata": {},
     "output_type": "execute_result"
    }
   ],
   "source": [
    "logev"
   ]
  },
  {
   "cell_type": "code",
   "execution_count": 587,
   "id": "46506782",
   "metadata": {},
   "outputs": [],
   "source": [
    "mse_bayesian_value1 = []\n",
    "mse_mle_value1 = []\n",
    "logev1 = []\n",
    "for i in range(1,11):\n",
    "    x_train_f5 = np.hstack((np.ones((X_train_f5.shape[0],1)), X_train_f5.reshape(X_train_f5.shape[0],1)))\n",
    "    x_test_f5 = np.hstack((np.ones((X_test_f5.shape[0],1)), X_test_f5.reshape(X_test_f5.shape[0],1)))\n",
    "    for j in range(2, i+1):\n",
    "        x_train_f5 = np.hstack((x_train_f5, (x_train_f5[:,1]**j).reshape(x_train_f5.shape[0],1)))\n",
    "        x_test_f5 = np.hstack((x_test_f5, (x_test_f5[:,1]**j).reshape(x_test_f5.shape[0],1)))\n",
    "        \n",
    "    mle_pred = MLE(x_train_f5, y_train_f5, x_test_f5, 0)\n",
    "    mse_mle_value1.append((i, MSE(y_test_f5, mle_pred)))\n",
    "    alpha, beta, l = ModelSelection(x_train_f5, y_train_f5)\n",
    "    bay_pred, mn, sn = bayesian_task2(alpha, beta, x_train_f5, y_train_f5, x_test_f5)\n",
    "    mse_bayesian_value1.append((i, MSE(y_test_f5, bay_pred)))\n",
    "    \n",
    "    exp = np.dot((y_train_f5 - np.dot(x_train_f5, mn)).T, (y_train_f5 - np.dot(x_train_f5, mn)))*beta/2\n",
    "    exp1 = (alpha*np.dot(mn.T, mn))/2\n",
    "    exp2 = np.log(np.linalg.det(np.linalg.inv(sn)))\n",
    "    m = x_train_f5.shape[1]\n",
    "    log = (((m/2)*np.log(alpha))+((300/2)*np.log(beta))-exp-exp1-(0.5*exp2)-(300*np.log(2*math.pi)/2))\n",
    "    logev1.append((i, log))"
   ]
  },
  {
   "cell_type": "code",
   "execution_count": 588,
   "id": "268152d0",
   "metadata": {},
   "outputs": [
    {
     "data": {
      "text/plain": [
       "[(1, 341402524666.3644),\n",
       " (2, 341325166345.9245),\n",
       " (3, 17502035333.632584),\n",
       " (4, 17478864421.527435),\n",
       " (5, 54265.26317118945),\n",
       " (6, 69168.48310862089),\n",
       " (7, 92511.06896837348),\n",
       " (8, 96676.96643826309),\n",
       " (9, 105738.05477979768),\n",
       " (10, 103636.20149133497)]"
      ]
     },
     "execution_count": 588,
     "metadata": {},
     "output_type": "execute_result"
    }
   ],
   "source": [
    "mse_bayesian_value1"
   ]
  },
  {
   "cell_type": "code",
   "execution_count": 589,
   "id": "d37fdd95",
   "metadata": {},
   "outputs": [
    {
     "data": {
      "text/plain": [
       "[(1, 341642661126.0123),\n",
       " (2, 341195638304.25635),\n",
       " (3, 17465602121.938595),\n",
       " (4, 17435655143.616207),\n",
       " (5, 61375.346700692135),\n",
       " (6, 79043.04992100339),\n",
       " (7, 92512.84946313873),\n",
       " (8, 90189.90520350951),\n",
       " (9, 126835.2836694603),\n",
       " (10, 7703653.1846193625)]"
      ]
     },
     "execution_count": 589,
     "metadata": {},
     "output_type": "execute_result"
    }
   ],
   "source": [
    "mse_mle_value1"
   ]
  },
  {
   "cell_type": "code",
   "execution_count": 590,
   "id": "7b0bf17a",
   "metadata": {},
   "outputs": [
    {
     "data": {
      "text/plain": [
       "[(1, -4393.813804817335),\n",
       " (2, -4397.8343350130945),\n",
       " (3, -3960.023711170577),\n",
       " (4, -3966.059713354173),\n",
       " (5, -2733.785768534937),\n",
       " (6, -2742.735597852743),\n",
       " (7, -2752.6670780749328),\n",
       " (8, -2766.1591228082693),\n",
       " (9, -2781.242836047037),\n",
       " (10, -2798.336281899438)]"
      ]
     },
     "execution_count": 590,
     "metadata": {},
     "output_type": "execute_result"
    }
   ],
   "source": [
    "logev1"
   ]
  },
  {
   "cell_type": "code",
   "execution_count": 592,
   "id": "7cf3dc29",
   "metadata": {},
   "outputs": [
    {
     "data": {
      "image/png": "[encoded data removed]",
      "text/plain": [
       "<Figure size 432x288 with 1 Axes>"
      ]
     },
     "metadata": {
      "needs_background": "light"
     },
     "output_type": "display_data"
    }
   ],
   "source": [
    "plt.plot(*zip(*mse_bayesian_value),label='f3 bayesian mse')\n",
    "plt.plot(*zip(*mse_mle_value),label='f3 mle mse')\n",
    "\n",
    "plt.legend()\n",
    "plt.show()"
   ]
  },
  {
   "cell_type": "code",
   "execution_count": 596,
   "id": "d8b7eab0",
   "metadata": {},
   "outputs": [
    {
     "data": {
      "image/png": "[encoded data removed]",
      "text/plain": [
       "<Figure size 432x288 with 1 Axes>"
      ]
     },
     "metadata": {
      "needs_background": "light"
     },
     "output_type": "display_data"
    }
   ],
   "source": [
    "plt.plot(*zip(*logev),label='log ev f3')\n",
    "plt.legend()\n",
    "plt.show()"
   ]
  },
  {
   "cell_type": "code",
   "execution_count": 597,
   "id": "7c6808f9",
   "metadata": {},
   "outputs": [
    {
     "data": {
      "image/png": "[encoded data removed]",
      "text/plain": [
       "<Figure size 432x288 with 1 Axes>"
      ]
     },
     "metadata": {
      "needs_background": "light"
     },
     "output_type": "display_data"
    }
   ],
   "source": [
    "plt.plot(*zip(*mse_bayesian_value1),label='f5 bayesian mse')\n",
    "plt.plot(*zip(*mse_mle_value1),label='f5 mle mse')\n",
    "plt.yscale('log')\n",
    "plt.legend()\n",
    "plt.show()"
   ]
  },
  {
   "cell_type": "code",
   "execution_count": 598,
   "id": "2085bbba",
   "metadata": {},
   "outputs": [
    {
     "data": {
      "image/png": "[encoded data removed]",
      "text/plain": [
       "<Figure size 432x288 with 1 Axes>"
      ]
     },
     "metadata": {
      "needs_background": "light"
     },
     "output_type": "display_data"
    }
   ],
   "source": [
    "plt.plot(*zip(*logev1),label='log ev f5')\n",
    "plt.legend()\n",
    "plt.show()"
   ]
  },
  {
   "cell_type": "code",
   "execution_count": 601,
   "id": "4f9ccdc3",
   "metadata": {},
   "outputs": [],
   "source": [
    "# the evidence maximization is successful in selecting alpha, beta and d"
   ]
  },
  {
   "cell_type": "code",
   "execution_count": 602,
   "id": "a026ae07",
   "metadata": {},
   "outputs": [],
   "source": [
    "# even non regularizeed regression performs relatively good as compared to bayesian"
   ]
  },
  {
   "cell_type": "code",
   "execution_count": null,
   "id": "d29027f9",
   "metadata": {},
   "outputs": [],
   "source": []
  }
 ],
 "metadata": {
  "kernelspec": {
   "display_name": "Python 3",
   "language": "python",
   "name": "python3"
  },
  "language_info": {
   "codemirror_mode": {
    "name": "ipython",
    "version": 3
   },
   "file_extension": ".py",
   "mimetype": "text/x-python",
   "name": "python",
   "nbconvert_exporter": "python",
   "pygments_lexer": "ipython3",
   "version": "3.8.8"
  }
 },
 "nbformat": 4,
 "nbformat_minor": 5
}
