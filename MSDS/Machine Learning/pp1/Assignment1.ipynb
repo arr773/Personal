{
 "cells": [
  {
   "cell_type": "markdown",
   "id": "793fbfdb",
   "metadata": {},
   "source": [
    "# Question 1"
   ]
  },
  {
   "cell_type": "markdown",
   "id": "f5f20d12",
   "metadata": {},
   "source": [
    "# Reading Training data"
   ]
  },
  {
   "cell_type": "code",
   "execution_count": 1,
   "id": "f060f1b4",
   "metadata": {},
   "outputs": [],
   "source": [
    "training_data=open(\"training_data.txt\",\"r\").read().split()"
   ]
  },
  {
   "cell_type": "code",
   "execution_count": 2,
   "id": "65afa5fd",
   "metadata": {},
   "outputs": [],
   "source": [
    "N=[640000,160000,40000,10000,5000]"
   ]
  },
  {
   "cell_type": "code",
   "execution_count": 3,
   "id": "6c8a84bf",
   "metadata": {},
   "outputs": [],
   "source": [
    "file=[training_data,training_data[:N[1]],training_data[:N[2]],training_data[:N[3]],training_data[:N[4]]]"
   ]
  },
  {
   "cell_type": "markdown",
   "id": "522956bf",
   "metadata": {},
   "source": [
    "# Calculating Frequency"
   ]
  },
  {
   "cell_type": "code",
   "execution_count": 4,
   "id": "d063ac58",
   "metadata": {},
   "outputs": [],
   "source": [
    "def frequency(data):\n",
    "    freq={}\n",
    "    for i in data:\n",
    "        if i in freq.keys():\n",
    "            freq[i]+=1\n",
    "        else:\n",
    "            freq[i]=1\n",
    "    return freq\n"
   ]
  },
  {
   "cell_type": "code",
   "execution_count": 5,
   "id": "026b62af",
   "metadata": {},
   "outputs": [],
   "source": [
    "freq=[]\n",
    "for i in file:\n",
    "    freq.append(frequency(i))"
   ]
  },
  {
   "cell_type": "markdown",
   "id": "6791848c",
   "metadata": {},
   "source": [
    "# Calculating MLE models"
   ]
  },
  {
   "cell_type": "code",
   "execution_count": 6,
   "id": "00b0615e",
   "metadata": {},
   "outputs": [],
   "source": [
    "def max_L(freq,N):\n",
    "    mle={}\n",
    "    for w in freq.keys():\n",
    "        mle[w]=freq[w]/N\n",
    "    return mle"
   ]
  },
  {
   "cell_type": "code",
   "execution_count": 7,
   "id": "b24b0929",
   "metadata": {},
   "outputs": [],
   "source": [
    "mle=[]\n",
    "for i in range(len(N)):\n",
    "    temp=max_L(freq[i],N[i])\n",
    "    mle.append(temp)"
   ]
  },
  {
   "cell_type": "markdown",
   "id": "5d8c6713",
   "metadata": {},
   "source": [
    "# Calculating MAP models"
   ]
  },
  {
   "cell_type": "code",
   "execution_count": 8,
   "id": "71f1d45d",
   "metadata": {},
   "outputs": [],
   "source": [
    "def max_a_p(freq,N):\n",
    "    ma={}\n",
    "    for w in freq.keys():\n",
    "        ma[w]=(freq[w]+2-1)/(N+20000-10000)\n",
    "    return ma"
   ]
  },
  {
   "cell_type": "code",
   "execution_count": 9,
   "id": "b110453f",
   "metadata": {},
   "outputs": [],
   "source": [
    "ma=[]\n",
    "for i in range(len(N)):\n",
    "    temp=max_a_p(freq[i],N[i])\n",
    "    ma.append(temp)"
   ]
  },
  {
   "cell_type": "markdown",
   "id": "05b6fba3",
   "metadata": {},
   "source": [
    "# Calculating Predictive Distributions Models"
   ]
  },
  {
   "cell_type": "code",
   "execution_count": 10,
   "id": "260422c5",
   "metadata": {},
   "outputs": [],
   "source": [
    "def pred_dist(freq,N):\n",
    "    pd={}\n",
    "    for w in freq.keys():\n",
    "        pd[w]=(freq[w]+2)/(N+20000)\n",
    "    return pd"
   ]
  },
  {
   "cell_type": "code",
   "execution_count": 11,
   "id": "7fa65bd4",
   "metadata": {},
   "outputs": [],
   "source": [
    "pd=[]\n",
    "for i in range(len(N)):\n",
    "    temp=pred_dist(freq[i],N[i])\n",
    "    pd.append(temp)"
   ]
  },
  {
   "cell_type": "markdown",
   "id": "2370ecf5",
   "metadata": {},
   "source": [
    "# Calculating Perplexity"
   ]
  },
  {
   "cell_type": "code",
   "execution_count": 12,
   "id": "b430fb1e",
   "metadata": {},
   "outputs": [],
   "source": [
    "import math\n",
    "import numpy as np"
   ]
  },
  {
   "cell_type": "code",
   "execution_count": 13,
   "id": "e6a0bded",
   "metadata": {},
   "outputs": [],
   "source": [
    "def perp(model,data):\n",
    "    p=0\n",
    "    for i in data:\n",
    "        p+=np.log(model[i])\n",
    "    perp=math.exp(-p/len(data))\n",
    "    return perp"
   ]
  },
  {
   "cell_type": "code",
   "execution_count": 14,
   "id": "a7c8a60b",
   "metadata": {},
   "outputs": [
    {
     "name": "stdout",
     "output_type": "stream",
     "text": [
      "The perplexity on train set of MLE model is\n",
      "size:  640000  Perplexity is  8506.43367662384\n",
      "size:  160000  Perplexity is  8292.385691215124\n",
      "size:  40000  Perplexity is  7478.035656314462\n",
      "size:  10000  Perplexity is  5005.389219343304\n",
      "size:  5000  Perplexity is  3388.2567752667333\n"
     ]
    }
   ],
   "source": [
    "print(\"The perplexity on train set of MLE model is\")\n",
    "for i in range(len(N)):\n",
    "    print(\"size: \",N[i],\" Perplexity is \",perp(mle[i],file[i]))"
   ]
  },
  {
   "cell_type": "code",
   "execution_count": 15,
   "id": "22a15079",
   "metadata": {},
   "outputs": [
    {
     "name": "stdout",
     "output_type": "stream",
     "text": [
      "The perplexity on train set of MAP model is\n",
      "size:  640000  Perplexity is  8506.96513236839\n",
      "size:  160000  Perplexity is  8303.124332848962\n",
      "size:  40000  Perplexity is  7669.433287645091\n",
      "size:  10000  Perplexity is  6453.994771744834\n",
      "size:  5000  Perplexity is  5915.104263875246\n"
     ]
    }
   ],
   "source": [
    "print(\"The perplexity on train set of MAP model is\")\n",
    "for i in range(len(N)):\n",
    "    print(\"size: \",N[i],\" Perplexity is \",perp(ma[i],file[i]))"
   ]
  },
  {
   "cell_type": "code",
   "execution_count": 16,
   "id": "3236c7fd",
   "metadata": {},
   "outputs": [
    {
     "name": "stdout",
     "output_type": "stream",
     "text": [
      "The perplexity on train set of Predicitive Distribution model is\n",
      "size:  640000  Perplexity is  8508.427803625034\n",
      "size:  160000  Perplexity is  8324.246394665119\n",
      "size:  40000  Perplexity is  7866.496544080013\n",
      "size:  10000  Perplexity is  7230.294305050776\n",
      "size:  5000  Perplexity is  7014.415012644821\n"
     ]
    }
   ],
   "source": [
    "print(\"The perplexity on train set of Predicitive Distribution model is\")\n",
    "for i in range(len(N)):\n",
    "    print(\"size: \",N[i],\" Perplexity is \",perp(pd[i],file[i]))"
   ]
  },
  {
   "cell_type": "markdown",
   "id": "540f79ff",
   "metadata": {},
   "source": [
    "# Reading Test data"
   ]
  },
  {
   "cell_type": "code",
   "execution_count": 17,
   "id": "76664cef",
   "metadata": {},
   "outputs": [],
   "source": [
    "test_data = open(\"test_data.txt\", \"r\").read().split()"
   ]
  },
  {
   "cell_type": "markdown",
   "id": "4aed67dc",
   "metadata": {},
   "source": [
    "# Calculating Test Data Frequency"
   ]
  },
  {
   "cell_type": "code",
   "execution_count": 18,
   "id": "fa4a49b3",
   "metadata": {},
   "outputs": [],
   "source": [
    "freq_test={}\n",
    "for i in test_data:\n",
    "    if i in freq_test:\n",
    "        freq_test[i]=freq_test[i]+1\n",
    "    else:\n",
    "        freq_test[i]=1"
   ]
  },
  {
   "cell_type": "markdown",
   "id": "b76d6915",
   "metadata": {},
   "source": [
    "# Testing the models"
   ]
  },
  {
   "cell_type": "markdown",
   "id": "db6834a1",
   "metadata": {},
   "source": [
    "# MLE predictions"
   ]
  },
  {
   "cell_type": "code",
   "execution_count": 19,
   "id": "42f3f594",
   "metadata": {},
   "outputs": [],
   "source": [
    "def test_max_L(test_data,mle,N):\n",
    "    mle_prediction={}\n",
    "    for w in test_data.keys():\n",
    "        if w in mle.keys():\n",
    "            mle_prediction[w]=mle[w]\n",
    "        else:\n",
    "            mle_prediction[w]=0/N\n",
    "    return mle_prediction"
   ]
  },
  {
   "cell_type": "code",
   "execution_count": 20,
   "id": "a99dfd75",
   "metadata": {},
   "outputs": [],
   "source": [
    "test_mle=[]\n",
    "for i in range(len(N)):\n",
    "    temp=test_max_L(freq_test,mle[i],N[i])\n",
    "    test_mle.append(temp)"
   ]
  },
  {
   "cell_type": "markdown",
   "id": "8f630bd8",
   "metadata": {},
   "source": [
    "# MAP Predictions"
   ]
  },
  {
   "cell_type": "code",
   "execution_count": 21,
   "id": "0eea52f4",
   "metadata": {},
   "outputs": [],
   "source": [
    "def test_max_a_p(test_data,ma,N):\n",
    "    ma_prediction={}\n",
    "    for w in test_data.keys():\n",
    "        if w in ma.keys():\n",
    "            ma_prediction[w]=ma[w]\n",
    "        else:\n",
    "            ma_prediction[w]=(0+2-1)/(N+20000-10000)\n",
    "    return ma_prediction"
   ]
  },
  {
   "cell_type": "code",
   "execution_count": 22,
   "id": "ab71dbe4",
   "metadata": {},
   "outputs": [],
   "source": [
    "test_ma=[]\n",
    "for i in range(len(N)):\n",
    "    temp=test_max_a_p(freq_test,ma[i],N[i])\n",
    "    test_ma.append(temp)"
   ]
  },
  {
   "cell_type": "markdown",
   "id": "999cca94",
   "metadata": {},
   "source": [
    "# Predictive Distribution Predictions"
   ]
  },
  {
   "cell_type": "code",
   "execution_count": 23,
   "id": "f5cd43b5",
   "metadata": {},
   "outputs": [],
   "source": [
    "def test_pred_dist(test_data,pd,N):\n",
    "    pd_prediction={}\n",
    "    for w in test_data.keys():\n",
    "        if w in pd.keys():\n",
    "            pd_prediction[w]=pd[w]\n",
    "        else:\n",
    "            pd_prediction[w]=(0+2)/(N+20000)\n",
    "    return pd_prediction"
   ]
  },
  {
   "cell_type": "code",
   "execution_count": 24,
   "id": "5cac828b",
   "metadata": {},
   "outputs": [],
   "source": [
    "test_pd=[]\n",
    "for i in range(len(N)):\n",
    "    temp=test_pred_dist(freq_test,pd[i],N[i])\n",
    "    test_pd.append(temp)"
   ]
  },
  {
   "cell_type": "markdown",
   "id": "b588e6b2",
   "metadata": {},
   "source": [
    "# Perplexities of all predictions"
   ]
  },
  {
   "cell_type": "code",
   "execution_count": 25,
   "id": "3ac7ede1",
   "metadata": {},
   "outputs": [
    {
     "name": "stdout",
     "output_type": "stream",
     "text": [
      "The perplexity on test set of MLE model is\n",
      "size:  640000  Perplexity is  8657.623041731129\n"
     ]
    },
    {
     "name": "stderr",
     "output_type": "stream",
     "text": [
      "C:\\Users\\aarya\\AppData\\Local\\Temp\\ipykernel_6808\\3930523767.py:4: RuntimeWarning: divide by zero encountered in log\n",
      "  p+=np.log(model[i])\n"
     ]
    },
    {
     "name": "stdout",
     "output_type": "stream",
     "text": [
      "size:  160000  Perplexity is  inf\n",
      "size:  40000  Perplexity is  inf\n",
      "size:  10000  Perplexity is  inf\n",
      "size:  5000  Perplexity is  inf\n"
     ]
    }
   ],
   "source": [
    "print(\"The perplexity on test set of MLE model is\")\n",
    "for i in range(len(N)):\n",
    "    print(\"size: \",N[i],\" Perplexity is \",perp(test_mle[i],test_data))"
   ]
  },
  {
   "cell_type": "code",
   "execution_count": 26,
   "id": "0f8546c6",
   "metadata": {},
   "outputs": [
    {
     "name": "stdout",
     "output_type": "stream",
     "text": [
      "The perplexity on test set of MAP model is\n",
      "size:  640000  Perplexity is  8654.590090965366\n",
      "size:  160000  Perplexity is  8839.546029448937\n",
      "size:  40000  Perplexity is  9380.752312326787\n",
      "size:  10000  Perplexity is  9992.362371992125\n",
      "size:  5000  Perplexity is  10098.36492411617\n"
     ]
    }
   ],
   "source": [
    "print(\"The perplexity on test set of MAP model is\")\n",
    "for i in range(len(N)):\n",
    "    print(\"size: \",N[i],\" Perplexity is \",perp(test_ma[i],test_data))"
   ]
  },
  {
   "cell_type": "code",
   "execution_count": 27,
   "id": "5a6d2a4a",
   "metadata": {},
   "outputs": [
    {
     "name": "stdout",
     "output_type": "stream",
     "text": [
      "The perplexity on test set of Predictive Distribution model is\n",
      "size:  640000  Perplexity is  8652.803792634657\n",
      "size:  160000  Perplexity is  8817.904839672385\n",
      "size:  40000  Perplexity is  9224.511912933269\n",
      "size:  10000  Perplexity is  9668.062580182157\n",
      "size:  5000  Perplexity is  9814.024919445475\n"
     ]
    }
   ],
   "source": [
    "print(\"The perplexity on test set of Predictive Distribution model is\")\n",
    "for i in range(len(N)):\n",
    "    print(\"size: \",N[i],\" Perplexity is \",perp(test_pd[i],test_data))"
   ]
  },
  {
   "cell_type": "markdown",
   "id": "eb72f058",
   "metadata": {},
   "source": [
    "# Plotting the Graphs"
   ]
  },
  {
   "cell_type": "code",
   "execution_count": 28,
   "id": "3e53eb31",
   "metadata": {},
   "outputs": [],
   "source": [
    "import matplotlib.pyplot as plt\n",
    "from matplotlib.pyplot import figure"
   ]
  },
  {
   "cell_type": "code",
   "execution_count": 29,
   "id": "7f57bd38",
   "metadata": {},
   "outputs": [],
   "source": [
    "x=N\n",
    "y1=[]\n",
    "for i in range(len(N)):\n",
    "    y1.append(perp(mle[i],file[i]))\n",
    "y2=[]\n",
    "for i in range(len(N)):\n",
    "    y2.append(perp(ma[i],file[i]))\n",
    "y3=[]\n",
    "for i in range(len(N)):\n",
    "    y3.append(perp(pd[i],file[i]))\n",
    "y4=[]\n",
    "y4.append(perp(test_mle[0],test_data))\n",
    "for i in range(4):\n",
    "    y4.append(20000)\n",
    "y5=[]\n",
    "for i in range(len(N)):\n",
    "    y5.append(perp(test_ma[i],test_data))\n",
    "y6=[]\n",
    "for i in range(len(N)):\n",
    "    y6.append(perp(test_pd[i],test_data))"
   ]
  },
  {
   "cell_type": "code",
   "execution_count": 30,
   "id": "ac91df3b",
   "metadata": {},
   "outputs": [
    {
     "data": {
      "image/png": "[encoded data removed]",
      "text/plain": [
       "<Figure size 432x288 with 1 Axes>"
      ]
     },
     "metadata": {
      "needs_background": "light"
     },
     "output_type": "display_data"
    }
   ],
   "source": [
    "plt.plot(x, y1)\n",
    "plt.plot(x, y2)\n",
    "plt.plot(x, y3)\n",
    "plt.plot(x, y4)\n",
    "plt.plot(x, y5)\n",
    "plt.plot(x, y6)\n",
    "plt.legend([\"MLE-train\", \"MAP-train\", \"PD-train\", \"MLE-test\", \"MAP-test\", \"PD-test\"])\n",
    "\n",
    "plt.show()"
   ]
  },
  {
   "cell_type": "markdown",
   "id": "9a0320b9",
   "metadata": {},
   "source": [
    "# Question 2"
   ]
  },
  {
   "cell_type": "code",
   "execution_count": 31,
   "id": "ede3180a",
   "metadata": {},
   "outputs": [],
   "source": [
    "training_data_size=int(len(training_data)/128)"
   ]
  },
  {
   "cell_type": "code",
   "execution_count": 32,
   "id": "616e1452",
   "metadata": {},
   "outputs": [
    {
     "name": "stdout",
     "output_type": "stream",
     "text": [
      "5000\n"
     ]
    }
   ],
   "source": [
    "print(training_data_size)"
   ]
  },
  {
   "cell_type": "code",
   "execution_count": 33,
   "id": "72aa3df8",
   "metadata": {},
   "outputs": [],
   "source": [
    "new_training_data=training_data[:training_data_size]\n",
    "trained_data=pd[4]\n",
    "K=10000"
   ]
  },
  {
   "cell_type": "markdown",
   "id": "ae71129e",
   "metadata": {},
   "source": [
    "# Calculating Log evidence and Perplexity of training data"
   ]
  },
  {
   "cell_type": "code",
   "execution_count": 34,
   "id": "9a29f5c2",
   "metadata": {},
   "outputs": [],
   "source": [
    "alpha_plot=[1,2,3,4,5,6,7,8,9,10]\n",
    "natural_log_plot=[]\n",
    "perp_plot=[]\n",
    "for a in range(1,11):\n",
    "    log_second=0\n",
    "    a0=a*K\n",
    "    for w in freq[0]:\n",
    "        try:\n",
    "            log_second=log_second+math.lgamma((freq[4][w]if w in freq[4].keys()else 0)+a)\n",
    "        except:\n",
    "            continue\n",
    "    log_evid=math.lgamma(K*a)+log_second-math.lgamma(a0+training_data_size)-K*math.lgamma(a)\n",
    "    natural_log_plot.append(log_evid)\n",
    "    \n",
    "    task={}\n",
    "    for w in freq[4].keys():\n",
    "        if w in freq[4].keys():\n",
    "            task[w]=(freq[4][w]+a)/(N[4]+(a*10000))\n",
    "    test_task={}\n",
    "    for w in freq_test.keys():\n",
    "        if w in pd[4].keys():\n",
    "            test_task[w]=pd[4][w]\n",
    "        else:\n",
    "            test_task[w]=(0+a)/(N[4]+(a*10000))\n",
    "    perp_plot.append(perp(test_task,test_data))\n"
   ]
  },
  {
   "cell_type": "code",
   "execution_count": 35,
   "id": "b5ad5c86",
   "metadata": {},
   "outputs": [
    {
     "name": "stdout",
     "output_type": "stream",
     "text": [
      "Log evidence:\n",
      "1 -46113.90994393523\n",
      "2 -46016.4221833731\n",
      "3 -46004.650537487054\n",
      "4 -46005.47130750775\n",
      "5 -46008.75036478405\n",
      "6 -46012.29823476736\n",
      "7 -46015.57636918465\n",
      "8 -46018.47568450381\n",
      "9 -46021.00839883395\n",
      "10 -46023.21824466319\n"
     ]
    }
   ],
   "source": [
    "print(\"Log evidence:\")\n",
    "for a in range(1,11):\n",
    "    print(a,natural_log_plot[a-1])"
   ]
  },
  {
   "cell_type": "code",
   "execution_count": 36,
   "id": "911bcad8",
   "metadata": {},
   "outputs": [
    {
     "name": "stdout",
     "output_type": "stream",
     "text": [
      "Perplexity\n",
      "1 10826.772237368896\n",
      "2 9814.024919445475\n",
      "3 9455.9929217656\n",
      "4 9272.554265719382\n",
      "5 9160.984335912612\n",
      "6 9085.95343431994\n",
      "7 9032.033421256225\n",
      "8 8991.411806092978\n",
      "9 8959.708226012419\n",
      "10 8934.276020578134\n"
     ]
    }
   ],
   "source": [
    "print(\"Perplexity\")\n",
    "for a in range(1,11):\n",
    "    print(a,perp_plot[a-1])    "
   ]
  },
  {
   "cell_type": "markdown",
   "id": "0b72b8e7",
   "metadata": {},
   "source": [
    "# Plotting the graphs"
   ]
  },
  {
   "cell_type": "code",
   "execution_count": 37,
   "id": "84c1ef1e",
   "metadata": {},
   "outputs": [
    {
     "data": {
      "text/plain": [
       "<function matplotlib.pyplot.show(close=None, block=None)>"
      ]
     },
     "execution_count": 37,
     "metadata": {},
     "output_type": "execute_result"
    },
    {
     "data": {
      "image/png": "[encoded data removed]",
      "text/plain": [
       "<Figure size 432x288 with 1 Axes>"
      ]
     },
     "metadata": {
      "needs_background": "light"
     },
     "output_type": "display_data"
    }
   ],
   "source": [
    "plt.plot(alpha_plot,natural_log_plot)\n",
    "plt.show"
   ]
  },
  {
   "cell_type": "code",
   "execution_count": 38,
   "id": "07729ca9",
   "metadata": {},
   "outputs": [
    {
     "data": {
      "text/plain": [
       "<function matplotlib.pyplot.show(close=None, block=None)>"
      ]
     },
     "execution_count": 38,
     "metadata": {},
     "output_type": "execute_result"
    },
    {
     "data": {
      "image/png": "[encoded data removed]",
      "text/plain": [
       "<Figure size 432x288 with 1 Axes>"
      ]
     },
     "metadata": {
      "needs_background": "light"
     },
     "output_type": "display_data"
    }
   ],
   "source": [
    "plt.plot(alpha_plot,perp_plot)\n",
    "plt.show"
   ]
  },
  {
   "cell_type": "markdown",
   "id": "207d8df4",
   "metadata": {},
   "source": [
    "# Question 3"
   ]
  },
  {
   "cell_type": "code",
   "execution_count": 39,
   "id": "c35cda2a",
   "metadata": {},
   "outputs": [],
   "source": [
    "file1 = open(\"pg121.txt.clean\", \"r\").read().split()\n",
    "file2 = open(\"pg141.txt.clean\", \"r\").read().split()\n",
    "file3 = open(\"pg1400.txt.clean\", \"r\").read().split()\n",
    "file=file1+file2+file3"
   ]
  },
  {
   "cell_type": "code",
   "execution_count": 40,
   "id": "612e057f",
   "metadata": {},
   "outputs": [],
   "source": [
    "vocab=frequency(file)\n",
    "vocab1=frequency(file1)\n",
    "vocab2=frequency(file2)\n",
    "vocab3=frequency(file3)"
   ]
  },
  {
   "cell_type": "code",
   "execution_count": 41,
   "id": "371ff5f3",
   "metadata": {},
   "outputs": [],
   "source": [
    "model={}\n",
    "for w in vocab1.keys():\n",
    "    model[w]=(vocab1[w]+2)/(len(file1)+2*len(vocab))"
   ]
  },
  {
   "cell_type": "code",
   "execution_count": 42,
   "id": "5f99e27b",
   "metadata": {},
   "outputs": [
    {
     "name": "stdout",
     "output_type": "stream",
     "text": [
      "Perplexity of file 1  3345.6956693728525\n"
     ]
    }
   ],
   "source": [
    "print(\"Perplexity of file 1 \",perp(model,file1))"
   ]
  },
  {
   "cell_type": "code",
   "execution_count": 43,
   "id": "877f7849",
   "metadata": {},
   "outputs": [],
   "source": [
    "test_file2={}\n",
    "for w in file2:\n",
    "    if w in model.keys():\n",
    "        test_file2[w]=model[w]\n",
    "    else:\n",
    "        test_file2[w]=(0+2)/(len(file1)+2*len(vocab))"
   ]
  },
  {
   "cell_type": "code",
   "execution_count": 44,
   "id": "160d5f18",
   "metadata": {},
   "outputs": [
    {
     "name": "stdout",
     "output_type": "stream",
     "text": [
      "Perplexity of file 2  4784.495859529101\n"
     ]
    }
   ],
   "source": [
    "print(\"Perplexity of file 2 \",perp(test_file2,file2))"
   ]
  },
  {
   "cell_type": "code",
   "execution_count": 45,
   "id": "e7516a99",
   "metadata": {},
   "outputs": [],
   "source": [
    "test_file3={}\n",
    "for w in file3:\n",
    "    if w in model.keys():\n",
    "        test_file3[w]=model[w]\n",
    "    else:\n",
    "        test_file3[w]=(0+2)/(len(file1)+2*len(vocab))"
   ]
  },
  {
   "cell_type": "code",
   "execution_count": 46,
   "id": "67c41e9f",
   "metadata": {},
   "outputs": [
    {
     "name": "stdout",
     "output_type": "stream",
     "text": [
      "Perplexity of file 3  6397.17011622876\n"
     ]
    }
   ],
   "source": [
    "print(\"Perplexity of file 3 \",perp(test_file3,file3))"
   ]
  },
  {
   "cell_type": "code",
   "execution_count": null,
   "id": "702c31bd",
   "metadata": {},
   "outputs": [],
   "source": []
  }
 ],
 "metadata": {
  "kernelspec": {
   "display_name": "Python 3 (ipykernel)",
   "language": "python",
   "name": "python3"
  },
  "language_info": {
   "codemirror_mode": {
    "name": "ipython",
    "version": 3
   },
   "file_extension": ".py",
   "mimetype": "text/x-python",
   "name": "python",
   "nbconvert_exporter": "python",
   "pygments_lexer": "ipython3",
   "version": "3.9.12"
  }
 },
 "nbformat": 4,
 "nbformat_minor": 5
}
