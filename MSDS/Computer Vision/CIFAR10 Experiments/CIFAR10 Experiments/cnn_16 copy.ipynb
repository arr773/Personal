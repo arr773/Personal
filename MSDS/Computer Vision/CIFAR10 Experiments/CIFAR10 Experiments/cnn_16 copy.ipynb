{
 "cells": [
  {
   "cell_type": "code",
   "execution_count": 7,
   "metadata": {},
   "outputs": [
    {
     "name": "stdout",
     "output_type": "stream",
     "text": [
      "Files already downloaded and verified\n"
     ]
    }
   ],
   "source": [
    "import torch\n",
    "import torch.nn as nn\n",
    "# import torch.optibm as optim\n",
    "import torchvision\n",
    "import torchvision.transforms as transforms\n",
    "import numpy as np\n",
    "import random\n",
    "from dataset_class import PatchShuffled_CIFAR10\n",
    "from matplotlib import pyplot as plt\n",
    "import argparse\n",
    "torch.cuda.is_available()\n",
    "device = torch.device('cuda' if torch.cuda.is_available() else 'cpu')\n",
    "random.seed(0)\n",
    "np.random.seed(0)\n",
    "torch.manual_seed(0)\n",
    "batch_size = 128\n",
    "learning_rate = 1e-4\n",
    "l2_regularization = 0.0\n",
    "transform = transforms.Compose([\n",
    "        transforms.ToTensor()])\n",
    "\n",
    "\n",
    "trainset = torchvision.datasets.CIFAR10(root='./data', train=True, download=True, transform=transform)\n",
    "mean = np.mean(trainset.data, axis=(0,1,2)) / 255.0  # Compute mean across all images and channels\n",
    "std = np.std(trainset.data, axis=(0,1,2)) / 255.0  # Compute std across all images and channels\n",
    "\n"
   ]
  },
  {
   "cell_type": "code",
   "execution_count": 8,
   "metadata": {},
   "outputs": [
    {
     "name": "stdout",
     "output_type": "stream",
     "text": [
      "tensor([[1., 2.],\n",
      "        [3., 4.]])\n",
      "tensor([[6., 7.],\n",
      "        [8., 9.]])\n"
     ]
    }
   ],
   "source": [
    "data = [[1.0, 2.0], [3.0, 4.0]]\n",
    "x = torch.tensor(data)\n",
    "data = [[6.0,7.0], [8.0,9.0]]\n",
    "y = torch.tensor(data)\n",
    "\n",
    "print(x)\n",
    "print(y)"
   ]
  },
  {
   "cell_type": "code",
   "execution_count": 9,
   "metadata": {},
   "outputs": [
    {
     "data": {
      "text/plain": [
       "torch.Size([2, 2, 2])"
      ]
     },
     "execution_count": 9,
     "metadata": {},
     "output_type": "execute_result"
    }
   ],
   "source": [
    "a = torch.stack((x, y, ), 1)\n",
    "a.shape"
   ]
  },
  {
   "cell_type": "code",
   "execution_count": 10,
   "metadata": {},
   "outputs": [
    {
     "data": {
      "text/plain": [
       "tensor([[[1., 2.],\n",
       "         [6., 7.]],\n",
       "\n",
       "        [[3., 4.],\n",
       "         [8., 9.]]])"
      ]
     },
     "execution_count": 10,
     "metadata": {},
     "output_type": "execute_result"
    }
   ],
   "source": [
    "a"
   ]
  },
  {
   "cell_type": "code",
   "execution_count": 11,
   "metadata": {},
   "outputs": [
    {
     "data": {
      "text/plain": [
       "tensor([[3.5000, 4.5000],\n",
       "        [5.5000, 6.5000]])"
      ]
     },
     "execution_count": 11,
     "metadata": {},
     "output_type": "execute_result"
    }
   ],
   "source": [
    "torch.mean(a, dim=1)"
   ]
  },
  {
   "cell_type": "code",
   "execution_count": 12,
   "metadata": {},
   "outputs": [
    {
     "name": "stdout",
     "output_type": "stream",
     "text": [
      "Files already downloaded and verified\n",
      "Files already downloaded and verified\n"
     ]
    }
   ],
   "source": [
    "\n",
    "transform = transforms.Compose([\n",
    "    transforms.ToTensor(),  # Convert PIL image or numpy.ndarray to tensor\n",
    "    transforms.Normalize(mean, std)  # Normalize the tensor\n",
    "])\n",
    "trainset = torchvision.datasets.CIFAR10(root='./data', train=True, download=True, transform=transform)\n",
    "trainset, valset = torch.utils.data.random_split(trainset, [40000, 10000], generator=torch.Generator().manual_seed(0))\n",
    "\n",
    "testset = torchvision.datasets.CIFAR10(root='./data', train=False, download=True, transform=transform)\n",
    "trainloader = torch.utils.data.DataLoader(trainset, batch_size=batch_size, shuffle=True)\n",
    "valloader = torch.utils.data.DataLoader(valset, batch_size= batch_size, shuffle=True)\n",
    "testloader = torch.utils.data.DataLoader(testset, batch_size=batch_size, shuffle=False)"
   ]
  },
  {
   "cell_type": "code",
   "execution_count": 16,
   "metadata": {},
   "outputs": [],
   "source": [
    "device = torch.device(\"cuda:0\") if torch.cuda.is_available() else torch.device(\"cpu\")\n",
    "import torch.nn.functional as F\n",
    "\n",
    "def img_to_patch(x, patch_size, flatten_channels=False):\n",
    "    \"\"\"\n",
    "    Inputs:\n",
    "        x - Tensor representing the image of shape [B, C, H, W]\n",
    "        patch_size - Number of pixels per dimension of the patches (integer)\n",
    "        flatten_channels - If True, the patches will be returned in a flattened format\n",
    "                           as a feature vector instead of a image grid.\n",
    "    \"\"\"\n",
    "    B, C, H, W = x.shape # [B, C, H, W], CIFAR10 [B, 3, 32, 32]\n",
    "    x = x.reshape(B, C, H // patch_size, patch_size, W // patch_size, patch_size) # [B, C, H', p_H, W', p_W], CIFAR10 [B, 3, 4, 8, 4, 8]\n",
    "    x = x.permute(0, 2, 4, 1, 3, 5)  # [B, H', W', C, p_H, p_W], CIFAR10 [B, 4, 4, 1, 8, 8]\n",
    "    x = x.flatten(1, 2)  # [B, H'*W', C, p_H, p_W], CIFAR10 [B, 16, 3, 8, 8]\n",
    "    if flatten_channels:\n",
    "        x = x.flatten(2, 4)  # [B, H'*W', C*p_H*p_W], CIFAR10 [B, 16, 192]\n",
    "    return x\n",
    "\n",
    "class PatchCNN(nn.Module):\n",
    "    def __init__(self, out_1, out_2, out_3):\n",
    "        super(PatchCNN, self).__init__()\n",
    "        # Define the convolutional layers for each patch\n",
    "        self.conv1 = nn.Conv2d(in_channels=3, out_channels=out_1, kernel_size=5, padding=2)\n",
    "        self.conv2 = nn.Conv2d(in_channels=out_1, out_channels=out_2, kernel_size=5, padding=2)\n",
    "        self.conv3 = nn.Conv2d(in_channels=out_2, out_channels=out_3, kernel_size=5, padding=2)\n",
    "        # self.conv4 = nn.Conv2d(in_channels=64, out_channels=128, kernel_size=3, padding=1)\n",
    "        self.maxpool1 = nn.MaxPool2d(kernel_size = 2)\n",
    "        self.conv1_bn = nn.BatchNorm2d(out_1)\n",
    "        self.drop_conv = nn.Dropout(p=0.2)\n",
    "        self.maxpool2 = nn.MaxPool2d(kernel_size = 2)\n",
    "        self.conv2_bn = nn.BatchNorm2d(out_2)\n",
    "        self.maxpool3 = nn.MaxPool2d(kernel_size = 2)\n",
    "        self.conv3_bn = nn.BatchNorm2d(out_3)\n",
    "        p=0.5\n",
    "        self.fc1 = nn.Linear(out_3 * 4, 1000) \n",
    "        self.drop = nn.Dropout(p=p)\n",
    "        self.fc1_bn = nn.BatchNorm1d(1000)\n",
    "        \n",
    "        # Hidden layer 2\n",
    "        self.fc2 = nn.Linear(1000, 1000)\n",
    "        self.fc2_bn = nn.BatchNorm1d(1000)\n",
    "\n",
    "        # Hidden layer 3\n",
    "        self.fc3 = nn.Linear(1000, 1000)\n",
    "        self.fc3_bn = nn.BatchNorm1d(1000)\n",
    "        \n",
    "        # Hidden layer 4\n",
    "        self.fc4 = nn.Linear(1000, 1000)\n",
    "        self.fc4_bn = nn.BatchNorm1d(1000)\n",
    "        # Final layer\n",
    "        self.fc5 = nn.Linear(1000, 10)\n",
    "        self.fc5_bn = nn.BatchNorm1d(10)\n",
    "        \n",
    "\n",
    "        # torch.Size([128, 3, 32, 32])\n",
    "    def forward(self, x):\n",
    "        # print(x.shape)\n",
    "        # Apply convolution and pooling for each patch\n",
    "        x = img_to_patch(x, 16)    \n",
    "        # print(x.shape)\n",
    "        # print('adfsd')\n",
    "        patch_features = []\n",
    "\n",
    "        for i in range(x.shape[1]):\n",
    "            patch = x[:,i,:,:]\n",
    "            # print(patch.shape)\n",
    "            # print('a')\n",
    "            patch = self.conv1(patch)\n",
    "            patch = self.conv1_bn(patch)\n",
    "            patch = self.maxpool1(patch)\n",
    "            patch = self.drop_conv(patch)\n",
    "            \n",
    "            patch = self.conv2(patch)\n",
    "            patch = self.conv2_bn(patch)\n",
    "            patch = torch.relu(patch)\n",
    "            patch = self.maxpool2(patch)\n",
    "            patch = self.drop_conv(patch)\n",
    "            \n",
    "            patch = self.conv3(patch)\n",
    "            patch = self.conv3_bn(patch)\n",
    "            patch = torch.relu(patch)\n",
    "            patch = self.maxpool3(patch)\n",
    "            patch = self.drop_conv(patch)\n",
    "            # print(f'last patch shape: {patch.shape}')\n",
    "            patch = torch.flatten(patch, 1)\n",
    "            # print(f'last flatten patch shape: {patch.shape}')\n",
    "            patch_features.append(patch)\n",
    "            # print(f'patch shape: {patch.shape}')\n",
    "            # print('______________________________')\n",
    "        \n",
    "        patch_features = torch.stack(patch_features, dim=1)\n",
    "        x = torch.mean(patch_features, dim=1)\n",
    "        # print(f'x shape: {x.shape}')\n",
    "\n",
    "        x = self.fc1(x)\n",
    "        x = self.fc1_bn(x)\n",
    "        \n",
    "        x = F.relu(self.drop(x))\n",
    "        x = self.fc2(x)\n",
    "        x = self.fc2_bn(x)\n",
    "        \n",
    "        x = F.relu(self.drop(x))\n",
    "        x = self.fc3(x)\n",
    "        x = self.fc3_bn(x)\n",
    "        \n",
    "        x = F.relu(self.drop(x))\n",
    "        x = self.fc4(x)\n",
    "        x = self.fc4_bn(x)\n",
    "        second_last_output = x\n",
    "\n",
    "        x = F.relu(self.drop(x))\n",
    "        x = self.fc5(x)\n",
    "        x = self.fc5_bn(x)\n",
    "        return x, second_last_output\n",
    "    "
   ]
  },
  {
   "cell_type": "code",
   "execution_count": 17,
   "metadata": {},
   "outputs": [
    {
     "name": "stdout",
     "output_type": "stream",
     "text": [
      "Output shape: torch.Size([128, 10])\n"
     ]
    }
   ],
   "source": [
    "model = PatchCNN(64,128,512)\n",
    "dummy_input = torch.randn(128, 3, 32, 32)  # Example input tensor (batch size 128)\n",
    "output,s = model(dummy_input)\n",
    "print(\"Output shape:\", output.shape)"
   ]
  },
  {
   "cell_type": "code",
   "execution_count": 18,
   "metadata": {},
   "outputs": [
    {
     "data": {
      "text/plain": [
       "PatchCNN(\n",
       "  (conv1): Conv2d(3, 64, kernel_size=(5, 5), stride=(1, 1), padding=(2, 2))\n",
       "  (conv2): Conv2d(64, 128, kernel_size=(5, 5), stride=(1, 1), padding=(2, 2))\n",
       "  (conv3): Conv2d(128, 512, kernel_size=(5, 5), stride=(1, 1), padding=(2, 2))\n",
       "  (maxpool1): MaxPool2d(kernel_size=2, stride=2, padding=0, dilation=1, ceil_mode=False)\n",
       "  (conv1_bn): BatchNorm2d(64, eps=1e-05, momentum=0.1, affine=True, track_running_stats=True)\n",
       "  (drop_conv): Dropout(p=0.2, inplace=False)\n",
       "  (maxpool2): MaxPool2d(kernel_size=2, stride=2, padding=0, dilation=1, ceil_mode=False)\n",
       "  (conv2_bn): BatchNorm2d(128, eps=1e-05, momentum=0.1, affine=True, track_running_stats=True)\n",
       "  (maxpool3): MaxPool2d(kernel_size=2, stride=2, padding=0, dilation=1, ceil_mode=False)\n",
       "  (conv3_bn): BatchNorm2d(512, eps=1e-05, momentum=0.1, affine=True, track_running_stats=True)\n",
       "  (fc1): Linear(in_features=2048, out_features=1000, bias=True)\n",
       "  (drop): Dropout(p=0.5, inplace=False)\n",
       "  (fc1_bn): BatchNorm1d(1000, eps=1e-05, momentum=0.1, affine=True, track_running_stats=True)\n",
       "  (fc2): Linear(in_features=1000, out_features=1000, bias=True)\n",
       "  (fc2_bn): BatchNorm1d(1000, eps=1e-05, momentum=0.1, affine=True, track_running_stats=True)\n",
       "  (fc3): Linear(in_features=1000, out_features=1000, bias=True)\n",
       "  (fc3_bn): BatchNorm1d(1000, eps=1e-05, momentum=0.1, affine=True, track_running_stats=True)\n",
       "  (fc4): Linear(in_features=1000, out_features=1000, bias=True)\n",
       "  (fc4_bn): BatchNorm1d(1000, eps=1e-05, momentum=0.1, affine=True, track_running_stats=True)\n",
       "  (fc5): Linear(in_features=1000, out_features=10, bias=True)\n",
       "  (fc5_bn): BatchNorm1d(10, eps=1e-05, momentum=0.1, affine=True, track_running_stats=True)\n",
       ")"
      ]
     },
     "execution_count": 18,
     "metadata": {},
     "output_type": "execute_result"
    }
   ],
   "source": [
    "import torch.optim as optim\n",
    "\n",
    "# model  = PatchCNN()\n",
    "# criterion = nn.CrossEntropyLoss()\n",
    "# optimizer = optim.SGD(model.parameters(), lr=0.001, momentum=0.9)\n",
    "# model.to(device)\n",
    "\n",
    "\n",
    "model = PatchCNN(out_1=64, out_2=128, out_3 =512)\n",
    "criterion = nn.CrossEntropyLoss()\n",
    "learning_rate = 0.1\n",
    "optimizer = torch.optim.SGD(model.parameters(), lr = learning_rate, momentum = 0.2)\n",
    "model.to(device)\n"
   ]
  },
  {
   "cell_type": "code",
   "execution_count": 19,
   "metadata": {},
   "outputs": [
    {
     "name": "stderr",
     "output_type": "stream",
     "text": [
      "100%|██████████| 313/313 [00:15<00:00, 20.42it/s]\n"
     ]
    },
    {
     "name": "stdout",
     "output_type": "stream",
     "text": [
      "epoch - 0 loss: 1.811 accuracy: 32.650 val_loss: 1.818 val_acc: 32.960\n",
      "best acc: 32.96\n"
     ]
    },
    {
     "name": "stderr",
     "output_type": "stream",
     "text": [
      "100%|██████████| 313/313 [00:14<00:00, 22.23it/s]\n"
     ]
    },
    {
     "name": "stdout",
     "output_type": "stream",
     "text": [
      "epoch - 1 loss: 1.550 accuracy: 42.795 val_loss: 1.783 val_acc: 39.230\n",
      "best acc: 39.23\n"
     ]
    },
    {
     "name": "stderr",
     "output_type": "stream",
     "text": [
      "100%|██████████| 313/313 [00:14<00:00, 21.44it/s]\n"
     ]
    },
    {
     "name": "stdout",
     "output_type": "stream",
     "text": [
      "epoch - 2 loss: 1.410 accuracy: 48.255 val_loss: 1.402 val_acc: 50.210\n",
      "best acc: 50.21\n"
     ]
    },
    {
     "name": "stderr",
     "output_type": "stream",
     "text": [
      "100%|██████████| 313/313 [00:13<00:00, 22.36it/s]\n"
     ]
    },
    {
     "name": "stdout",
     "output_type": "stream",
     "text": [
      "epoch - 3 loss: 1.316 accuracy: 52.297 val_loss: 1.393 val_acc: 51.420\n",
      "best acc: 51.42\n"
     ]
    },
    {
     "name": "stderr",
     "output_type": "stream",
     "text": [
      "100%|██████████| 313/313 [00:14<00:00, 21.37it/s]\n"
     ]
    },
    {
     "name": "stdout",
     "output_type": "stream",
     "text": [
      "epoch - 4 loss: 1.238 accuracy: 55.263 val_loss: 1.353 val_acc: 51.850\n",
      "best acc: 51.85\n"
     ]
    },
    {
     "name": "stderr",
     "output_type": "stream",
     "text": [
      "100%|██████████| 313/313 [00:14<00:00, 21.17it/s]\n"
     ]
    },
    {
     "name": "stdout",
     "output_type": "stream",
     "text": [
      "epoch - 5 loss: 1.175 accuracy: 57.858 val_loss: 1.199 val_acc: 56.880\n",
      "best acc: 56.88\n"
     ]
    },
    {
     "name": "stderr",
     "output_type": "stream",
     "text": [
      "100%|██████████| 313/313 [00:14<00:00, 21.57it/s]\n"
     ]
    },
    {
     "name": "stdout",
     "output_type": "stream",
     "text": [
      "epoch - 6 loss: 1.124 accuracy: 59.960 val_loss: 1.124 val_acc: 60.310\n",
      "best acc: 60.31\n"
     ]
    },
    {
     "name": "stderr",
     "output_type": "stream",
     "text": [
      "100%|██████████| 313/313 [00:14<00:00, 21.63it/s]\n"
     ]
    },
    {
     "name": "stdout",
     "output_type": "stream",
     "text": [
      "epoch - 7 loss: 1.078 accuracy: 61.405 val_loss: 1.163 val_acc: 59.280\n"
     ]
    },
    {
     "name": "stderr",
     "output_type": "stream",
     "text": [
      "100%|██████████| 313/313 [00:13<00:00, 22.39it/s]\n"
     ]
    },
    {
     "name": "stdout",
     "output_type": "stream",
     "text": [
      "epoch - 8 loss: 1.035 accuracy: 63.068 val_loss: 1.412 val_acc: 52.430\n"
     ]
    },
    {
     "name": "stderr",
     "output_type": "stream",
     "text": [
      "100%|██████████| 313/313 [00:14<00:00, 22.26it/s]\n"
     ]
    },
    {
     "name": "stdout",
     "output_type": "stream",
     "text": [
      "epoch - 9 loss: 0.995 accuracy: 64.735 val_loss: 1.264 val_acc: 57.510\n"
     ]
    },
    {
     "name": "stderr",
     "output_type": "stream",
     "text": [
      "100%|██████████| 313/313 [00:13<00:00, 22.51it/s]\n"
     ]
    },
    {
     "name": "stdout",
     "output_type": "stream",
     "text": [
      "epoch - 10 loss: 0.955 accuracy: 66.135 val_loss: 1.062 val_acc: 63.140\n",
      "best acc: 63.14\n"
     ]
    },
    {
     "name": "stderr",
     "output_type": "stream",
     "text": [
      "100%|██████████| 313/313 [00:12<00:00, 24.43it/s]\n"
     ]
    },
    {
     "name": "stdout",
     "output_type": "stream",
     "text": [
      "epoch - 11 loss: 0.924 accuracy: 67.380 val_loss: 1.179 val_acc: 60.240\n"
     ]
    },
    {
     "name": "stderr",
     "output_type": "stream",
     "text": [
      "100%|██████████| 313/313 [00:11<00:00, 26.70it/s]\n"
     ]
    },
    {
     "name": "stdout",
     "output_type": "stream",
     "text": [
      "epoch - 12 loss: 0.891 accuracy: 68.495 val_loss: 1.021 val_acc: 65.070\n",
      "best acc: 65.07\n"
     ]
    },
    {
     "name": "stderr",
     "output_type": "stream",
     "text": [
      "100%|██████████| 313/313 [00:12<00:00, 25.43it/s]\n"
     ]
    },
    {
     "name": "stdout",
     "output_type": "stream",
     "text": [
      "epoch - 13 loss: 0.860 accuracy: 69.828 val_loss: 1.168 val_acc: 60.400\n"
     ]
    },
    {
     "name": "stderr",
     "output_type": "stream",
     "text": [
      "100%|██████████| 313/313 [00:11<00:00, 26.19it/s]\n"
     ]
    },
    {
     "name": "stdout",
     "output_type": "stream",
     "text": [
      "epoch - 14 loss: 0.832 accuracy: 71.037 val_loss: 1.049 val_acc: 63.770\n"
     ]
    },
    {
     "name": "stderr",
     "output_type": "stream",
     "text": [
      "100%|██████████| 313/313 [00:11<00:00, 26.11it/s]\n"
     ]
    },
    {
     "name": "stdout",
     "output_type": "stream",
     "text": [
      "epoch - 15 loss: 0.806 accuracy: 71.640 val_loss: 1.001 val_acc: 65.550\n",
      "best acc: 65.55\n"
     ]
    },
    {
     "name": "stderr",
     "output_type": "stream",
     "text": [
      "100%|██████████| 313/313 [00:12<00:00, 25.49it/s]\n"
     ]
    },
    {
     "name": "stdout",
     "output_type": "stream",
     "text": [
      "epoch - 16 loss: 0.785 accuracy: 72.623 val_loss: 1.078 val_acc: 64.180\n"
     ]
    },
    {
     "name": "stderr",
     "output_type": "stream",
     "text": [
      "100%|██████████| 313/313 [00:11<00:00, 26.63it/s]\n"
     ]
    },
    {
     "name": "stdout",
     "output_type": "stream",
     "text": [
      "epoch - 17 loss: 0.755 accuracy: 73.868 val_loss: 1.053 val_acc: 63.970\n"
     ]
    },
    {
     "name": "stderr",
     "output_type": "stream",
     "text": [
      "100%|██████████| 313/313 [00:12<00:00, 25.75it/s]\n"
     ]
    },
    {
     "name": "stdout",
     "output_type": "stream",
     "text": [
      "epoch - 18 loss: 0.728 accuracy: 74.595 val_loss: 1.078 val_acc: 63.660\n"
     ]
    },
    {
     "name": "stderr",
     "output_type": "stream",
     "text": [
      "100%|██████████| 313/313 [00:12<00:00, 25.80it/s]\n"
     ]
    },
    {
     "name": "stdout",
     "output_type": "stream",
     "text": [
      "epoch - 19 loss: 0.700 accuracy: 75.627 val_loss: 0.938 val_acc: 68.690\n",
      "best acc: 68.69\n"
     ]
    },
    {
     "name": "stderr",
     "output_type": "stream",
     "text": [
      "100%|██████████| 313/313 [00:12<00:00, 25.56it/s]\n"
     ]
    },
    {
     "name": "stdout",
     "output_type": "stream",
     "text": [
      "epoch - 20 loss: 0.679 accuracy: 76.382 val_loss: 0.984 val_acc: 68.110\n"
     ]
    },
    {
     "name": "stderr",
     "output_type": "stream",
     "text": [
      "100%|██████████| 313/313 [00:11<00:00, 26.40it/s]\n"
     ]
    },
    {
     "name": "stdout",
     "output_type": "stream",
     "text": [
      "epoch - 21 loss: 0.653 accuracy: 77.010 val_loss: 1.095 val_acc: 65.200\n"
     ]
    },
    {
     "name": "stderr",
     "output_type": "stream",
     "text": [
      "100%|██████████| 313/313 [00:11<00:00, 26.22it/s]\n"
     ]
    },
    {
     "name": "stdout",
     "output_type": "stream",
     "text": [
      "epoch - 22 loss: 0.629 accuracy: 78.047 val_loss: 1.050 val_acc: 65.300\n"
     ]
    },
    {
     "name": "stderr",
     "output_type": "stream",
     "text": [
      "100%|██████████| 313/313 [00:12<00:00, 25.73it/s]\n"
     ]
    },
    {
     "name": "stdout",
     "output_type": "stream",
     "text": [
      "epoch - 23 loss: 0.610 accuracy: 78.662 val_loss: 1.143 val_acc: 63.690\n"
     ]
    },
    {
     "name": "stderr",
     "output_type": "stream",
     "text": [
      "100%|██████████| 313/313 [00:12<00:00, 25.75it/s]\n"
     ]
    },
    {
     "name": "stdout",
     "output_type": "stream",
     "text": [
      "epoch - 24 loss: 0.583 accuracy: 79.625 val_loss: 1.086 val_acc: 65.130\n"
     ]
    },
    {
     "name": "stderr",
     "output_type": "stream",
     "text": [
      "100%|██████████| 313/313 [00:12<00:00, 25.29it/s]\n"
     ]
    },
    {
     "name": "stdout",
     "output_type": "stream",
     "text": [
      "epoch - 25 loss: 0.566 accuracy: 80.290 val_loss: 0.949 val_acc: 69.500\n",
      "best acc: 69.5\n"
     ]
    },
    {
     "name": "stderr",
     "output_type": "stream",
     "text": [
      "100%|██████████| 313/313 [00:12<00:00, 25.30it/s]\n"
     ]
    },
    {
     "name": "stdout",
     "output_type": "stream",
     "text": [
      "epoch - 26 loss: 0.546 accuracy: 81.147 val_loss: 1.074 val_acc: 66.310\n"
     ]
    },
    {
     "name": "stderr",
     "output_type": "stream",
     "text": [
      "100%|██████████| 313/313 [00:12<00:00, 25.15it/s]\n"
     ]
    },
    {
     "name": "stdout",
     "output_type": "stream",
     "text": [
      "epoch - 27 loss: 0.523 accuracy: 82.097 val_loss: 0.938 val_acc: 69.950\n",
      "best acc: 69.95\n"
     ]
    },
    {
     "name": "stderr",
     "output_type": "stream",
     "text": [
      "100%|██████████| 313/313 [00:12<00:00, 24.90it/s]\n"
     ]
    },
    {
     "name": "stdout",
     "output_type": "stream",
     "text": [
      "epoch - 28 loss: 0.503 accuracy: 82.605 val_loss: 1.158 val_acc: 65.070\n"
     ]
    },
    {
     "name": "stderr",
     "output_type": "stream",
     "text": [
      "100%|██████████| 313/313 [00:12<00:00, 25.22it/s]\n"
     ]
    },
    {
     "name": "stdout",
     "output_type": "stream",
     "text": [
      "epoch - 29 loss: 0.487 accuracy: 83.085 val_loss: 1.116 val_acc: 65.340\n"
     ]
    },
    {
     "name": "stderr",
     "output_type": "stream",
     "text": [
      "100%|██████████| 313/313 [00:12<00:00, 25.38it/s]\n"
     ]
    },
    {
     "name": "stdout",
     "output_type": "stream",
     "text": [
      "epoch - 30 loss: 0.463 accuracy: 84.100 val_loss: 1.521 val_acc: 57.970\n"
     ]
    },
    {
     "name": "stderr",
     "output_type": "stream",
     "text": [
      "100%|██████████| 313/313 [00:12<00:00, 25.76it/s]\n"
     ]
    },
    {
     "name": "stdout",
     "output_type": "stream",
     "text": [
      "epoch - 31 loss: 0.443 accuracy: 84.730 val_loss: 0.988 val_acc: 70.120\n",
      "best acc: 70.12\n"
     ]
    },
    {
     "name": "stderr",
     "output_type": "stream",
     "text": [
      "100%|██████████| 313/313 [00:12<00:00, 25.29it/s]\n"
     ]
    },
    {
     "name": "stdout",
     "output_type": "stream",
     "text": [
      "epoch - 32 loss: 0.428 accuracy: 85.043 val_loss: 1.085 val_acc: 67.520\n"
     ]
    },
    {
     "name": "stderr",
     "output_type": "stream",
     "text": [
      "100%|██████████| 313/313 [00:12<00:00, 25.78it/s]\n"
     ]
    },
    {
     "name": "stdout",
     "output_type": "stream",
     "text": [
      "epoch - 33 loss: 0.415 accuracy: 85.690 val_loss: 0.927 val_acc: 71.620\n",
      "best acc: 71.62\n"
     ]
    },
    {
     "name": "stderr",
     "output_type": "stream",
     "text": [
      "100%|██████████| 313/313 [00:12<00:00, 26.08it/s]\n"
     ]
    },
    {
     "name": "stdout",
     "output_type": "stream",
     "text": [
      "epoch - 34 loss: 0.398 accuracy: 86.112 val_loss: 1.219 val_acc: 65.480\n"
     ]
    },
    {
     "name": "stderr",
     "output_type": "stream",
     "text": [
      "100%|██████████| 313/313 [00:12<00:00, 25.46it/s]\n"
     ]
    },
    {
     "name": "stdout",
     "output_type": "stream",
     "text": [
      "epoch - 35 loss: 0.381 accuracy: 86.752 val_loss: 0.994 val_acc: 70.320\n"
     ]
    },
    {
     "name": "stderr",
     "output_type": "stream",
     "text": [
      "100%|██████████| 313/313 [00:12<00:00, 25.59it/s]\n"
     ]
    },
    {
     "name": "stdout",
     "output_type": "stream",
     "text": [
      "epoch - 36 loss: 0.366 accuracy: 87.420 val_loss: 1.003 val_acc: 70.700\n"
     ]
    },
    {
     "name": "stderr",
     "output_type": "stream",
     "text": [
      "100%|██████████| 313/313 [00:12<00:00, 25.10it/s]\n"
     ]
    },
    {
     "name": "stdout",
     "output_type": "stream",
     "text": [
      "epoch - 37 loss: 0.353 accuracy: 87.757 val_loss: 1.106 val_acc: 68.110\n"
     ]
    },
    {
     "name": "stderr",
     "output_type": "stream",
     "text": [
      "100%|██████████| 313/313 [00:11<00:00, 26.28it/s]\n"
     ]
    },
    {
     "name": "stdout",
     "output_type": "stream",
     "text": [
      "epoch - 38 loss: 0.331 accuracy: 88.590 val_loss: 1.156 val_acc: 69.060\n"
     ]
    },
    {
     "name": "stderr",
     "output_type": "stream",
     "text": [
      "100%|██████████| 313/313 [00:12<00:00, 25.26it/s]\n"
     ]
    },
    {
     "name": "stdout",
     "output_type": "stream",
     "text": [
      "epoch - 39 loss: 0.329 accuracy: 88.743 val_loss: 1.018 val_acc: 70.250\n"
     ]
    },
    {
     "name": "stderr",
     "output_type": "stream",
     "text": [
      "100%|██████████| 313/313 [00:12<00:00, 25.88it/s]\n"
     ]
    },
    {
     "name": "stdout",
     "output_type": "stream",
     "text": [
      "epoch - 40 loss: 0.314 accuracy: 89.205 val_loss: 1.083 val_acc: 69.070\n"
     ]
    },
    {
     "name": "stderr",
     "output_type": "stream",
     "text": [
      "100%|██████████| 313/313 [00:12<00:00, 25.82it/s]\n"
     ]
    },
    {
     "name": "stdout",
     "output_type": "stream",
     "text": [
      "epoch - 41 loss: 0.300 accuracy: 89.707 val_loss: 1.065 val_acc: 70.320\n"
     ]
    },
    {
     "name": "stderr",
     "output_type": "stream",
     "text": [
      "100%|██████████| 313/313 [00:12<00:00, 25.76it/s]\n"
     ]
    },
    {
     "name": "stdout",
     "output_type": "stream",
     "text": [
      "epoch - 42 loss: 0.294 accuracy: 89.832 val_loss: 1.151 val_acc: 68.070\n"
     ]
    },
    {
     "name": "stderr",
     "output_type": "stream",
     "text": [
      "100%|██████████| 313/313 [00:12<00:00, 25.37it/s]\n"
     ]
    },
    {
     "name": "stdout",
     "output_type": "stream",
     "text": [
      "epoch - 43 loss: 0.277 accuracy: 90.450 val_loss: 1.124 val_acc: 68.590\n"
     ]
    },
    {
     "name": "stderr",
     "output_type": "stream",
     "text": [
      "100%|██████████| 313/313 [00:11<00:00, 26.70it/s]\n"
     ]
    },
    {
     "name": "stdout",
     "output_type": "stream",
     "text": [
      "epoch - 44 loss: 0.277 accuracy: 90.457 val_loss: 1.081 val_acc: 70.350\n"
     ]
    },
    {
     "name": "stderr",
     "output_type": "stream",
     "text": [
      "100%|██████████| 313/313 [00:12<00:00, 24.13it/s]\n"
     ]
    },
    {
     "name": "stdout",
     "output_type": "stream",
     "text": [
      "epoch - 45 loss: 0.258 accuracy: 91.058 val_loss: 1.068 val_acc: 70.330\n"
     ]
    },
    {
     "name": "stderr",
     "output_type": "stream",
     "text": [
      "100%|██████████| 313/313 [00:13<00:00, 23.14it/s]\n"
     ]
    },
    {
     "name": "stdout",
     "output_type": "stream",
     "text": [
      "epoch - 46 loss: 0.249 accuracy: 91.353 val_loss: 1.295 val_acc: 66.830\n"
     ]
    },
    {
     "name": "stderr",
     "output_type": "stream",
     "text": [
      "100%|██████████| 313/313 [00:13<00:00, 23.44it/s]\n"
     ]
    },
    {
     "name": "stdout",
     "output_type": "stream",
     "text": [
      "epoch - 47 loss: 0.238 accuracy: 91.885 val_loss: 1.079 val_acc: 70.810\n"
     ]
    },
    {
     "name": "stderr",
     "output_type": "stream",
     "text": [
      "100%|██████████| 313/313 [00:13<00:00, 23.09it/s]\n"
     ]
    },
    {
     "name": "stdout",
     "output_type": "stream",
     "text": [
      "epoch - 48 loss: 0.238 accuracy: 91.865 val_loss: 1.268 val_acc: 68.040\n"
     ]
    },
    {
     "name": "stderr",
     "output_type": "stream",
     "text": [
      "100%|██████████| 313/313 [00:13<00:00, 22.88it/s]\n"
     ]
    },
    {
     "name": "stdout",
     "output_type": "stream",
     "text": [
      "epoch - 49 loss: 0.225 accuracy: 92.287 val_loss: 1.418 val_acc: 65.330\n"
     ]
    },
    {
     "name": "stderr",
     "output_type": "stream",
     "text": [
      "100%|██████████| 313/313 [00:13<00:00, 22.56it/s]\n"
     ]
    },
    {
     "name": "stdout",
     "output_type": "stream",
     "text": [
      "epoch - 50 loss: 0.227 accuracy: 92.073 val_loss: 1.177 val_acc: 69.390\n"
     ]
    },
    {
     "name": "stderr",
     "output_type": "stream",
     "text": [
      "100%|██████████| 313/313 [00:13<00:00, 22.81it/s]\n"
     ]
    },
    {
     "name": "stdout",
     "output_type": "stream",
     "text": [
      "epoch - 51 loss: 0.212 accuracy: 92.812 val_loss: 1.151 val_acc: 70.330\n"
     ]
    },
    {
     "name": "stderr",
     "output_type": "stream",
     "text": [
      "100%|██████████| 313/313 [00:13<00:00, 22.75it/s]\n"
     ]
    },
    {
     "name": "stdout",
     "output_type": "stream",
     "text": [
      "epoch - 52 loss: 0.202 accuracy: 93.115 val_loss: 1.129 val_acc: 70.000\n"
     ]
    },
    {
     "name": "stderr",
     "output_type": "stream",
     "text": [
      "100%|██████████| 313/313 [00:13<00:00, 23.75it/s]\n"
     ]
    },
    {
     "name": "stdout",
     "output_type": "stream",
     "text": [
      "epoch - 53 loss: 0.201 accuracy: 93.105 val_loss: 1.114 val_acc: 71.360\n"
     ]
    },
    {
     "name": "stderr",
     "output_type": "stream",
     "text": [
      "100%|██████████| 313/313 [00:13<00:00, 23.02it/s]\n"
     ]
    },
    {
     "name": "stdout",
     "output_type": "stream",
     "text": [
      "epoch - 54 loss: 0.191 accuracy: 93.472 val_loss: 1.102 val_acc: 71.550\n"
     ]
    },
    {
     "name": "stderr",
     "output_type": "stream",
     "text": [
      "100%|██████████| 313/313 [00:13<00:00, 23.13it/s]\n"
     ]
    },
    {
     "name": "stdout",
     "output_type": "stream",
     "text": [
      "epoch - 55 loss: 0.181 accuracy: 93.823 val_loss: 1.362 val_acc: 66.760\n"
     ]
    },
    {
     "name": "stderr",
     "output_type": "stream",
     "text": [
      "100%|██████████| 313/313 [00:13<00:00, 23.74it/s]\n"
     ]
    },
    {
     "name": "stdout",
     "output_type": "stream",
     "text": [
      "epoch - 56 loss: 0.175 accuracy: 93.960 val_loss: 1.235 val_acc: 70.220\n"
     ]
    },
    {
     "name": "stderr",
     "output_type": "stream",
     "text": [
      "100%|██████████| 313/313 [00:13<00:00, 23.20it/s]\n"
     ]
    },
    {
     "name": "stdout",
     "output_type": "stream",
     "text": [
      "epoch - 57 loss: 0.172 accuracy: 94.235 val_loss: 1.130 val_acc: 71.590\n"
     ]
    },
    {
     "name": "stderr",
     "output_type": "stream",
     "text": [
      "100%|██████████| 313/313 [00:13<00:00, 23.09it/s]\n"
     ]
    },
    {
     "name": "stdout",
     "output_type": "stream",
     "text": [
      "epoch - 58 loss: 0.169 accuracy: 94.195 val_loss: 1.154 val_acc: 70.890\n"
     ]
    },
    {
     "name": "stderr",
     "output_type": "stream",
     "text": [
      "100%|██████████| 313/313 [00:13<00:00, 23.21it/s]\n"
     ]
    },
    {
     "name": "stdout",
     "output_type": "stream",
     "text": [
      "epoch - 59 loss: 0.160 accuracy: 94.558 val_loss: 1.470 val_acc: 66.490\n"
     ]
    },
    {
     "name": "stderr",
     "output_type": "stream",
     "text": [
      "100%|██████████| 313/313 [00:12<00:00, 25.85it/s]\n"
     ]
    },
    {
     "name": "stdout",
     "output_type": "stream",
     "text": [
      "epoch - 60 loss: 0.156 accuracy: 94.668 val_loss: 1.217 val_acc: 69.840\n"
     ]
    },
    {
     "name": "stderr",
     "output_type": "stream",
     "text": [
      "100%|██████████| 313/313 [00:12<00:00, 25.01it/s]\n"
     ]
    },
    {
     "name": "stdout",
     "output_type": "stream",
     "text": [
      "epoch - 61 loss: 0.152 accuracy: 94.770 val_loss: 1.361 val_acc: 68.040\n"
     ]
    },
    {
     "name": "stderr",
     "output_type": "stream",
     "text": [
      "100%|██████████| 313/313 [00:12<00:00, 25.82it/s]\n"
     ]
    },
    {
     "name": "stdout",
     "output_type": "stream",
     "text": [
      "epoch - 62 loss: 0.147 accuracy: 95.007 val_loss: 1.135 val_acc: 72.080\n",
      "best acc: 72.08\n"
     ]
    },
    {
     "name": "stderr",
     "output_type": "stream",
     "text": [
      "100%|██████████| 313/313 [00:11<00:00, 26.10it/s]\n"
     ]
    },
    {
     "name": "stdout",
     "output_type": "stream",
     "text": [
      "epoch - 63 loss: 0.147 accuracy: 95.120 val_loss: 1.238 val_acc: 70.280\n"
     ]
    },
    {
     "name": "stderr",
     "output_type": "stream",
     "text": [
      "100%|██████████| 313/313 [00:12<00:00, 25.95it/s]\n"
     ]
    },
    {
     "name": "stdout",
     "output_type": "stream",
     "text": [
      "epoch - 64 loss: 0.146 accuracy: 94.983 val_loss: 1.155 val_acc: 71.040\n"
     ]
    },
    {
     "name": "stderr",
     "output_type": "stream",
     "text": [
      "100%|██████████| 313/313 [00:12<00:00, 26.07it/s]\n"
     ]
    },
    {
     "name": "stdout",
     "output_type": "stream",
     "text": [
      "epoch - 65 loss: 0.137 accuracy: 95.285 val_loss: 1.209 val_acc: 71.050\n"
     ]
    },
    {
     "name": "stderr",
     "output_type": "stream",
     "text": [
      "100%|██████████| 313/313 [00:12<00:00, 26.06it/s]\n"
     ]
    },
    {
     "name": "stdout",
     "output_type": "stream",
     "text": [
      "epoch - 66 loss: 0.133 accuracy: 95.498 val_loss: 1.125 val_acc: 71.970\n"
     ]
    },
    {
     "name": "stderr",
     "output_type": "stream",
     "text": [
      "100%|██████████| 313/313 [00:11<00:00, 26.11it/s]\n"
     ]
    },
    {
     "name": "stdout",
     "output_type": "stream",
     "text": [
      "epoch - 67 loss: 0.131 accuracy: 95.660 val_loss: 1.188 val_acc: 71.570\n"
     ]
    },
    {
     "name": "stderr",
     "output_type": "stream",
     "text": [
      "100%|██████████| 313/313 [00:12<00:00, 25.96it/s]\n"
     ]
    },
    {
     "name": "stdout",
     "output_type": "stream",
     "text": [
      "epoch - 68 loss: 0.128 accuracy: 95.647 val_loss: 1.152 val_acc: 71.680\n"
     ]
    },
    {
     "name": "stderr",
     "output_type": "stream",
     "text": [
      "100%|██████████| 313/313 [00:11<00:00, 26.15it/s]\n"
     ]
    },
    {
     "name": "stdout",
     "output_type": "stream",
     "text": [
      "epoch - 69 loss: 0.121 accuracy: 96.015 val_loss: 1.253 val_acc: 70.930\n"
     ]
    },
    {
     "name": "stderr",
     "output_type": "stream",
     "text": [
      "100%|██████████| 313/313 [00:11<00:00, 26.26it/s]\n"
     ]
    },
    {
     "name": "stdout",
     "output_type": "stream",
     "text": [
      "epoch - 70 loss: 0.124 accuracy: 95.740 val_loss: 1.193 val_acc: 71.420\n"
     ]
    },
    {
     "name": "stderr",
     "output_type": "stream",
     "text": [
      "100%|██████████| 313/313 [00:12<00:00, 25.50it/s]\n"
     ]
    },
    {
     "name": "stdout",
     "output_type": "stream",
     "text": [
      "epoch - 71 loss: 0.121 accuracy: 95.995 val_loss: 1.189 val_acc: 71.280\n"
     ]
    },
    {
     "name": "stderr",
     "output_type": "stream",
     "text": [
      "100%|██████████| 313/313 [00:12<00:00, 25.33it/s]\n"
     ]
    },
    {
     "name": "stdout",
     "output_type": "stream",
     "text": [
      "epoch - 72 loss: 0.119 accuracy: 95.935 val_loss: 1.184 val_acc: 71.950\n"
     ]
    },
    {
     "name": "stderr",
     "output_type": "stream",
     "text": [
      "100%|██████████| 313/313 [00:12<00:00, 24.70it/s]\n"
     ]
    },
    {
     "name": "stdout",
     "output_type": "stream",
     "text": [
      "epoch - 73 loss: 0.111 accuracy: 96.340 val_loss: 1.172 val_acc: 71.750\n"
     ]
    },
    {
     "name": "stderr",
     "output_type": "stream",
     "text": [
      "100%|██████████| 313/313 [00:12<00:00, 25.37it/s]\n"
     ]
    },
    {
     "name": "stdout",
     "output_type": "stream",
     "text": [
      "epoch - 74 loss: 0.111 accuracy: 96.240 val_loss: 1.170 val_acc: 72.540\n",
      "best acc: 72.54\n"
     ]
    },
    {
     "name": "stderr",
     "output_type": "stream",
     "text": [
      "100%|██████████| 313/313 [00:12<00:00, 24.80it/s]\n"
     ]
    },
    {
     "name": "stdout",
     "output_type": "stream",
     "text": [
      "epoch - 75 loss: 0.104 accuracy: 96.465 val_loss: 1.166 val_acc: 72.500\n"
     ]
    },
    {
     "name": "stderr",
     "output_type": "stream",
     "text": [
      "100%|██████████| 313/313 [00:12<00:00, 24.56it/s]\n"
     ]
    },
    {
     "name": "stdout",
     "output_type": "stream",
     "text": [
      "epoch - 76 loss: 0.110 accuracy: 96.362 val_loss: 1.237 val_acc: 70.600\n"
     ]
    },
    {
     "name": "stderr",
     "output_type": "stream",
     "text": [
      "100%|██████████| 313/313 [00:12<00:00, 25.17it/s]\n"
     ]
    },
    {
     "name": "stdout",
     "output_type": "stream",
     "text": [
      "epoch - 77 loss: 0.100 accuracy: 96.737 val_loss: 1.177 val_acc: 72.630\n",
      "best acc: 72.63\n"
     ]
    },
    {
     "name": "stderr",
     "output_type": "stream",
     "text": [
      "100%|██████████| 313/313 [00:12<00:00, 25.38it/s]\n"
     ]
    },
    {
     "name": "stdout",
     "output_type": "stream",
     "text": [
      "epoch - 78 loss: 0.099 accuracy: 96.685 val_loss: 1.375 val_acc: 70.340\n"
     ]
    },
    {
     "name": "stderr",
     "output_type": "stream",
     "text": [
      "100%|██████████| 313/313 [00:12<00:00, 25.60it/s]\n"
     ]
    },
    {
     "name": "stdout",
     "output_type": "stream",
     "text": [
      "epoch - 79 loss: 0.099 accuracy: 96.757 val_loss: 1.276 val_acc: 70.430\n"
     ]
    },
    {
     "name": "stderr",
     "output_type": "stream",
     "text": [
      "100%|██████████| 313/313 [00:12<00:00, 25.95it/s]\n"
     ]
    },
    {
     "name": "stdout",
     "output_type": "stream",
     "text": [
      "epoch - 80 loss: 0.103 accuracy: 96.608 val_loss: 1.271 val_acc: 70.540\n"
     ]
    },
    {
     "name": "stderr",
     "output_type": "stream",
     "text": [
      "100%|██████████| 313/313 [00:11<00:00, 26.10it/s]\n"
     ]
    },
    {
     "name": "stdout",
     "output_type": "stream",
     "text": [
      "epoch - 81 loss: 0.099 accuracy: 96.797 val_loss: 1.163 val_acc: 72.660\n",
      "best acc: 72.66\n"
     ]
    },
    {
     "name": "stderr",
     "output_type": "stream",
     "text": [
      "100%|██████████| 313/313 [00:11<00:00, 26.26it/s]\n"
     ]
    },
    {
     "name": "stdout",
     "output_type": "stream",
     "text": [
      "epoch - 82 loss: 0.091 accuracy: 96.960 val_loss: 1.288 val_acc: 70.730\n"
     ]
    },
    {
     "name": "stderr",
     "output_type": "stream",
     "text": [
      "100%|██████████| 313/313 [00:12<00:00, 25.94it/s]\n"
     ]
    },
    {
     "name": "stdout",
     "output_type": "stream",
     "text": [
      "epoch - 83 loss: 0.091 accuracy: 97.017 val_loss: 1.174 val_acc: 72.740\n",
      "best acc: 72.74\n"
     ]
    },
    {
     "name": "stderr",
     "output_type": "stream",
     "text": [
      "100%|██████████| 313/313 [00:11<00:00, 26.52it/s]\n"
     ]
    },
    {
     "name": "stdout",
     "output_type": "stream",
     "text": [
      "epoch - 84 loss: 0.092 accuracy: 97.032 val_loss: 1.150 val_acc: 73.010\n",
      "best acc: 73.01\n"
     ]
    },
    {
     "name": "stderr",
     "output_type": "stream",
     "text": [
      "100%|██████████| 313/313 [00:12<00:00, 25.76it/s]\n"
     ]
    },
    {
     "name": "stdout",
     "output_type": "stream",
     "text": [
      "epoch - 85 loss: 0.090 accuracy: 96.957 val_loss: 1.164 val_acc: 73.050\n",
      "best acc: 73.05\n"
     ]
    },
    {
     "name": "stderr",
     "output_type": "stream",
     "text": [
      "100%|██████████| 313/313 [00:12<00:00, 25.66it/s]\n"
     ]
    },
    {
     "name": "stdout",
     "output_type": "stream",
     "text": [
      "epoch - 86 loss: 0.086 accuracy: 97.168 val_loss: 1.244 val_acc: 71.520\n"
     ]
    },
    {
     "name": "stderr",
     "output_type": "stream",
     "text": [
      "100%|██████████| 313/313 [00:12<00:00, 25.54it/s]\n"
     ]
    },
    {
     "name": "stdout",
     "output_type": "stream",
     "text": [
      "epoch - 87 loss: 0.083 accuracy: 97.302 val_loss: 1.200 val_acc: 72.850\n"
     ]
    },
    {
     "name": "stderr",
     "output_type": "stream",
     "text": [
      "100%|██████████| 313/313 [00:12<00:00, 25.39it/s]\n"
     ]
    },
    {
     "name": "stdout",
     "output_type": "stream",
     "text": [
      "epoch - 88 loss: 0.082 accuracy: 97.328 val_loss: 1.165 val_acc: 73.250\n",
      "best acc: 73.25\n"
     ]
    },
    {
     "name": "stderr",
     "output_type": "stream",
     "text": [
      "100%|██████████| 313/313 [00:12<00:00, 24.91it/s]\n"
     ]
    },
    {
     "name": "stdout",
     "output_type": "stream",
     "text": [
      "epoch - 89 loss: 0.085 accuracy: 97.127 val_loss: 1.263 val_acc: 71.470\n"
     ]
    },
    {
     "name": "stderr",
     "output_type": "stream",
     "text": [
      "100%|██████████| 313/313 [00:12<00:00, 24.66it/s]\n"
     ]
    },
    {
     "name": "stdout",
     "output_type": "stream",
     "text": [
      "epoch - 90 loss: 0.078 accuracy: 97.455 val_loss: 1.282 val_acc: 70.850\n"
     ]
    },
    {
     "name": "stderr",
     "output_type": "stream",
     "text": [
      "100%|██████████| 313/313 [00:12<00:00, 24.35it/s]\n"
     ]
    },
    {
     "name": "stdout",
     "output_type": "stream",
     "text": [
      "epoch - 91 loss: 0.077 accuracy: 97.550 val_loss: 1.244 val_acc: 72.480\n"
     ]
    },
    {
     "name": "stderr",
     "output_type": "stream",
     "text": [
      "100%|██████████| 313/313 [00:12<00:00, 24.81it/s]\n"
     ]
    },
    {
     "name": "stdout",
     "output_type": "stream",
     "text": [
      "epoch - 92 loss: 0.076 accuracy: 97.505 val_loss: 1.191 val_acc: 72.470\n"
     ]
    },
    {
     "name": "stderr",
     "output_type": "stream",
     "text": [
      "100%|██████████| 313/313 [00:12<00:00, 25.81it/s]\n"
     ]
    },
    {
     "name": "stdout",
     "output_type": "stream",
     "text": [
      "epoch - 93 loss: 0.074 accuracy: 97.603 val_loss: 1.273 val_acc: 71.980\n"
     ]
    },
    {
     "name": "stderr",
     "output_type": "stream",
     "text": [
      "100%|██████████| 313/313 [00:12<00:00, 25.25it/s]\n"
     ]
    },
    {
     "name": "stdout",
     "output_type": "stream",
     "text": [
      "epoch - 94 loss: 0.076 accuracy: 97.493 val_loss: 1.250 val_acc: 72.260\n"
     ]
    },
    {
     "name": "stderr",
     "output_type": "stream",
     "text": [
      "100%|██████████| 313/313 [00:12<00:00, 25.61it/s]\n"
     ]
    },
    {
     "name": "stdout",
     "output_type": "stream",
     "text": [
      "epoch - 95 loss: 0.072 accuracy: 97.623 val_loss: 1.226 val_acc: 72.480\n"
     ]
    },
    {
     "name": "stderr",
     "output_type": "stream",
     "text": [
      "100%|██████████| 313/313 [00:12<00:00, 25.74it/s]\n"
     ]
    },
    {
     "name": "stdout",
     "output_type": "stream",
     "text": [
      "epoch - 96 loss: 0.075 accuracy: 97.403 val_loss: 1.243 val_acc: 71.950\n"
     ]
    },
    {
     "name": "stderr",
     "output_type": "stream",
     "text": [
      "100%|██████████| 313/313 [00:12<00:00, 25.52it/s]\n"
     ]
    },
    {
     "name": "stdout",
     "output_type": "stream",
     "text": [
      "epoch - 97 loss: 0.074 accuracy: 97.547 val_loss: 1.240 val_acc: 72.300\n"
     ]
    },
    {
     "name": "stderr",
     "output_type": "stream",
     "text": [
      "100%|██████████| 313/313 [00:12<00:00, 25.90it/s]\n"
     ]
    },
    {
     "name": "stdout",
     "output_type": "stream",
     "text": [
      "epoch - 98 loss: 0.076 accuracy: 97.570 val_loss: 1.327 val_acc: 70.510\n"
     ]
    },
    {
     "name": "stderr",
     "output_type": "stream",
     "text": [
      "100%|██████████| 313/313 [00:12<00:00, 25.79it/s]\n"
     ]
    },
    {
     "name": "stdout",
     "output_type": "stream",
     "text": [
      "epoch - 99 loss: 0.068 accuracy: 97.720 val_loss: 1.304 val_acc: 71.370\n",
      "Finished training\n"
     ]
    }
   ],
   "source": [
    "epochs = 100\n",
    "model_class = 'Plain-Old-CIFAR10'\n",
    "batch_size = 512\n",
    "learning_rate = 1e-4\n",
    "l2_regularization = 0.0\n",
    "from tqdm import tqdm\n",
    "best_acc = 0\n",
    "best_model = None\n",
    "# model = model_ViT\n",
    "def eval_model(model, data_loader, criterion, device):\n",
    "    # Evaluate the model on data from valloader\n",
    "    correct = 0\n",
    "    total = 0\n",
    "    val_loss = 0\n",
    "    model.eval()\n",
    "    with torch.no_grad():\n",
    "        for data in data_loader:\n",
    "            images, labels = data\n",
    "            images, labels = images.to(device), labels.to(device)\n",
    "            outputs,second_last_output = model(images)\n",
    "            loss = criterion(outputs, labels)\n",
    "            val_loss += loss.item()\n",
    "            _, predicted = torch.max(outputs.data, 1)\n",
    "            correct += (predicted == labels).sum().item()\n",
    "    \n",
    "    return val_loss / len(data_loader), 100 * correct / len(data_loader.dataset)\n",
    "\n",
    "loss_train_list = []\n",
    "loss_val_list= []\n",
    "try:\n",
    "    for epoch in range(epochs):\n",
    "        running_loss = 0.0\n",
    "        correct = 0\n",
    "        model.train()\n",
    "        for data in tqdm(trainloader):\n",
    "            inputs, labels = data\n",
    "            inputs, labels = inputs.to(device), labels.to(device)\n",
    "\n",
    "            optimizer.zero_grad()\n",
    "\n",
    "            outputs,second_last_output = model(inputs)\n",
    "            loss = criterion(outputs, labels)\n",
    "            \n",
    "            loss.backward()\n",
    "            optimizer.step()\n",
    "\n",
    "            running_loss += loss.item()\n",
    "            _, predicted = torch.max(outputs.data, 1)\n",
    "            correct += (predicted == labels).sum().item()\n",
    "        # scheduler.step()\n",
    "        # if epoch % 10 == 0:\n",
    "        val_loss, val_acc = eval_model(model, valloader, criterion, device)\n",
    "        print('epoch - %d loss: %.3f accuracy: %.3f val_loss: %.3f val_acc: %.3f' % (epoch, running_loss / len(trainloader), 100 * correct / len(trainloader.dataset), val_loss, val_acc))\n",
    "        loss_train_list.append((running_loss / len(trainloader)))\n",
    "        loss_val_list.append(val_loss)\n",
    "        if best_acc<val_acc:\n",
    "            best_model = model.state_dict()\n",
    "            best_acc = val_acc\n",
    "            print(f'best acc: {val_acc}')\n",
    "        # else:\n",
    "        #     print('epoch - %d loss: %.3f accuracy: %.3f' % (epoch, running_loss / len(trainloader), 100 * correct / len(trainloader.dataset)))\n",
    "\n",
    "\n",
    "    print('Finished training')\n",
    "except KeyboardInterrupt:\n",
    "    pass"
   ]
  },
  {
   "cell_type": "code",
   "execution_count": 20,
   "metadata": {},
   "outputs": [
    {
     "data": {
      "image/png": "[encoded data removed]",
      "text/plain": [
       "<Figure size 864x432 with 2 Axes>"
      ]
     },
     "metadata": {
      "needs_background": "light"
     },
     "output_type": "display_data"
    }
   ],
   "source": [
    "model.load_state_dict(best_model)\n",
    "fig, (ax1, ax2) = plt.subplots(1, 2, figsize=(12, 6))\n",
    "ax1.plot(loss_train_list)\n",
    "ax1.set_title('ViT Training loss')\n",
    "ax1.set_xlabel('epoch')\n",
    "ax1.set_ylabel('loss')\n",
    "\n",
    "ax2.plot(loss_val_list)\n",
    "ax2.set_title('ViT Validation loss')\n",
    "ax2.set_xlabel('epoch')\n",
    "ax2.set_ylabel('loss')\n",
    "plt.show()"
   ]
  },
  {
   "cell_type": "code",
   "execution_count": 21,
   "metadata": {},
   "outputs": [
    {
     "name": "stdout",
     "output_type": "stream",
     "text": [
      "Test loss: 1.284 accuracy: 71.580\n"
     ]
    }
   ],
   "source": [
    "# transform = transforms.Compose([\n",
    "#         transforms.ToTensor()\n",
    "#     ])\n",
    "model.eval()\n",
    "# Evaluate the model on the test set\n",
    "test_loss, test_acc = eval_model(model, testloader, criterion, device)\n",
    "print('Test loss: %.3f accuracy: %.3f' % (test_loss, test_acc))"
   ]
  },
  {
   "cell_type": "code",
   "execution_count": 22,
   "metadata": {},
   "outputs": [
    {
     "name": "stdout",
     "output_type": "stream",
     "text": [
      "Patch shuffle test loss for patch-size 16: 1.2886290490627288 accuracy: 71.58\n",
      "Patch shuffle test loss for patch-size 8: 3.6222028851509096 accuracy: 34.25\n"
     ]
    }
   ],
   "source": [
    "from dataset_class import PatchShuffled_CIFAR10\n",
    "\n",
    "patch_size = 16\n",
    "patch_shuffle_testset = PatchShuffled_CIFAR10(data_file_path = f'test_patch_{patch_size}.npz', transforms = transform)\n",
    "patch_shuffle_testloader = torch.utils.data.DataLoader(patch_shuffle_testset, batch_size=batch_size, shuffle=False)\n",
    "patch_shuffle_test_loss, patch_shuffle_test_acc = eval_model(model, patch_shuffle_testloader, criterion, device)\n",
    "print(f'Patch shuffle test loss for patch-size {patch_size}: {patch_shuffle_test_loss} accuracy: {patch_shuffle_test_acc}')\n",
    "\n",
    "patch_size = 8\n",
    "patch_shuffle_testset = PatchShuffled_CIFAR10(data_file_path = f'test_patch_{patch_size}.npz', transforms = transform)\n",
    "patch_shuffle_testloader = torch.utils.data.DataLoader(patch_shuffle_testset, batch_size=batch_size, shuffle=False)\n",
    "patch_shuffle_test_loss, patch_shuffle_test_acc = eval_model(model, patch_shuffle_testloader, criterion, device)\n",
    "print(f'Patch shuffle test loss for patch-size {patch_size}: {patch_shuffle_test_loss} accuracy: {patch_shuffle_test_acc}')\n"
   ]
  },
  {
   "cell_type": "code",
   "execution_count": 33,
   "metadata": {},
   "outputs": [],
   "source": [
    "def get_embeddings(model, images):\n",
    "    model.eval()\n",
    "    embeddings = []\n",
    "    #model = torch.nn.Sequential(*(list(model.children())[:-1]))\n",
    "    # print(len(dataloader))\n",
    "    with torch.no_grad():\n",
    "        # for images in dataloader:\n",
    "    #         #images, labels = data\n",
    "        images= torch.stack(images).to(device)\n",
    "        output, pre_final_output = model(images)\n",
    "        output = torch.nn.Sequential(*(list(model.children())[:-1]))\n",
    "\n",
    "            #output = model(data)\n",
    "        embeddings.append(pre_final_output.cpu().numpy())  # Assuming output is a numpy array\n",
    "    return np.concatenate(embeddings, axis=0)"
   ]
  },
  {
   "cell_type": "code",
   "execution_count": 34,
   "metadata": {},
   "outputs": [],
   "source": [
    "unique_indices = np.random.choice(len(testset), 25, replace=False)\n",
    "    #print(unique_indices)\n",
    "original_examples = [testset[i][0] for i in unique_indices]\n",
    "original_labels = [testset[i][1] for i in unique_indices]  \n",
    "patch16=patch_shuffle_testset\n",
    "patch8=patch_shuffle_testset\n",
    "\n",
    "original_examples_16 = [patch16[i][0] for i in unique_indices]\n",
    "original_examples_8 = [patch8[i][0] for i in unique_indices]\n",
    "original_labels=original_labels*3\n",
    "original_examples.extend(original_examples_16)\n",
    "original_examples.extend(original_examples_8)\n"
   ]
  },
  {
   "cell_type": "code",
   "execution_count": 35,
   "metadata": {},
   "outputs": [],
   "source": [
    "train_features=get_embeddings(model, original_examples)"
   ]
  },
  {
   "cell_type": "code",
   "execution_count": 36,
   "metadata": {},
   "outputs": [],
   "source": [
    "from sklearn.decomposition import PCA\n",
    "\n",
    "pca = PCA(n_components=2)\n",
    "reduced_data = pca.fit_transform(train_features)\n",
    "a = (reduced_data,original_labels)"
   ]
  },
  {
   "cell_type": "code",
   "execution_count": 37,
   "metadata": {},
   "outputs": [
    {
     "data": {
      "image/png": "[encoded data removed]",
      "text/plain": [
       "<Figure size 576x432 with 2 Axes>"
      ]
     },
     "metadata": {
      "needs_background": "light"
     },
     "output_type": "display_data"
    }
   ],
   "source": [
    "plt.figure(figsize=(8, 6))\n",
    "plt.scatter(reduced_data[:, 0], reduced_data[:, 1], c=original_labels, cmap='viridis')\n",
    "plt.colorbar(label='Label')\n",
    "plt.title('PCA Visualization of Embeddings')\n",
    "plt.xlabel('Principal Component 1')\n",
    "plt.ylabel('Principal Component 2')\n",
    "plt.show()"
   ]
  },
  {
   "cell_type": "code",
   "execution_count": null,
   "metadata": {},
   "outputs": [],
   "source": []
  }
 ],
 "metadata": {
  "kernelspec": {
   "display_name": "Python 3",
   "language": "python",
   "name": "python3"
  },
  "language_info": {
   "codemirror_mode": {
    "name": "ipython",
    "version": 3
   },
   "file_extension": ".py",
   "mimetype": "text/x-python",
   "name": "python",
   "nbconvert_exporter": "python",
   "pygments_lexer": "ipython3",
   "version": "3.8.10"
  }
 },
 "nbformat": 4,
 "nbformat_minor": 2
}
