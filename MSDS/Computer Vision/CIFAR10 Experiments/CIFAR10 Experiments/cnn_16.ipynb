{
 "cells": [
  {
   "cell_type": "code",
   "execution_count": 1,
   "metadata": {},
   "outputs": [
    {
     "name": "stdout",
     "output_type": "stream",
     "text": [
      "Files already downloaded and verified\n"
     ]
    }
   ],
   "source": [
    "import torch\n",
    "import torch.nn as nn\n",
    "# import torch.optibm as optim\n",
    "import torchvision\n",
    "import torchvision.transforms as transforms\n",
    "import numpy as np\n",
    "import random\n",
    "from dataset_class import PatchShuffled_CIFAR10\n",
    "from matplotlib import pyplot as plt\n",
    "import argparse\n",
    "torch.cuda.is_available()\n",
    "device = torch.device('cuda' if torch.cuda.is_available() else 'cpu')\n",
    "random.seed(0)\n",
    "np.random.seed(0)\n",
    "torch.manual_seed(0)\n",
    "batch_size = 128\n",
    "learning_rate = 1e-4\n",
    "l2_regularization = 0.0\n",
    "transform = transforms.Compose([\n",
    "        transforms.ToTensor()])\n",
    "\n",
    "\n",
    "trainset = torchvision.datasets.CIFAR10(root='./data', train=True, download=True, transform=transform)\n",
    "mean = np.mean(trainset.data, axis=(0,1,2)) / 255.0  # Compute mean across all images and channels\n",
    "std = np.std(trainset.data, axis=(0,1,2)) / 255.0  # Compute std across all images and channels\n",
    "\n"
   ]
  },
  {
   "cell_type": "code",
   "execution_count": 2,
   "metadata": {},
   "outputs": [
    {
     "name": "stdout",
     "output_type": "stream",
     "text": [
      "tensor([[1., 2.],\n",
      "        [3., 4.]])\n",
      "tensor([[6., 7.],\n",
      "        [8., 9.]])\n"
     ]
    }
   ],
   "source": [
    "data = [[1.0, 2.0], [3.0, 4.0]]\n",
    "x = torch.tensor(data)\n",
    "data = [[6.0,7.0], [8.0,9.0]]\n",
    "y = torch.tensor(data)\n",
    "\n",
    "print(x)\n",
    "print(y)"
   ]
  },
  {
   "cell_type": "code",
   "execution_count": 3,
   "metadata": {},
   "outputs": [
    {
     "data": {
      "text/plain": [
       "torch.Size([2, 2, 2])"
      ]
     },
     "execution_count": 3,
     "metadata": {},
     "output_type": "execute_result"
    }
   ],
   "source": [
    "a = torch.stack((x, y, ), 1)\n",
    "a.shape"
   ]
  },
  {
   "cell_type": "code",
   "execution_count": 4,
   "metadata": {},
   "outputs": [
    {
     "data": {
      "text/plain": [
       "tensor([[[1., 2.],\n",
       "         [6., 7.]],\n",
       "\n",
       "        [[3., 4.],\n",
       "         [8., 9.]]])"
      ]
     },
     "execution_count": 4,
     "metadata": {},
     "output_type": "execute_result"
    }
   ],
   "source": [
    "a"
   ]
  },
  {
   "cell_type": "code",
   "execution_count": 5,
   "metadata": {},
   "outputs": [
    {
     "data": {
      "text/plain": [
       "tensor([[3.5000, 4.5000],\n",
       "        [5.5000, 6.5000]])"
      ]
     },
     "execution_count": 5,
     "metadata": {},
     "output_type": "execute_result"
    }
   ],
   "source": [
    "torch.mean(a, dim=1)"
   ]
  },
  {
   "cell_type": "code",
   "execution_count": 6,
   "metadata": {},
   "outputs": [
    {
     "name": "stdout",
     "output_type": "stream",
     "text": [
      "Files already downloaded and verified\n",
      "Files already downloaded and verified\n"
     ]
    }
   ],
   "source": [
    "\n",
    "transform = transforms.Compose([\n",
    "    transforms.ToTensor(),  # Convert PIL image or numpy.ndarray to tensor\n",
    "    transforms.Normalize(mean, std)  # Normalize the tensor\n",
    "])\n",
    "trainset = torchvision.datasets.CIFAR10(root='./data', train=True, download=True, transform=transform)\n",
    "trainset, valset = torch.utils.data.random_split(trainset, [40000, 10000], generator=torch.Generator().manual_seed(0))\n",
    "\n",
    "testset = torchvision.datasets.CIFAR10(root='./data', train=False, download=True, transform=transform)\n",
    "trainloader = torch.utils.data.DataLoader(trainset, batch_size=batch_size, shuffle=True)\n",
    "valloader = torch.utils.data.DataLoader(valset, batch_size= batch_size, shuffle=True)\n",
    "testloader = torch.utils.data.DataLoader(testset, batch_size=batch_size, shuffle=False)"
   ]
  },
  {
   "cell_type": "code",
   "execution_count": 16,
   "metadata": {},
   "outputs": [],
   "source": [
    "device = torch.device(\"cuda:0\") if torch.cuda.is_available() else torch.device(\"cpu\")\n",
    "import torch.nn.functional as F\n",
    "\n",
    "def img_to_patch(x, patch_size, flatten_channels=False):\n",
    "    \"\"\"\n",
    "    Inputs:\n",
    "        x - Tensor representing the image of shape [B, C, H, W]\n",
    "        patch_size - Number of pixels per dimension of the patches (integer)\n",
    "        flatten_channels - If True, the patches will be returned in a flattened format\n",
    "                           as a feature vector instead of a image grid.\n",
    "    \"\"\"\n",
    "    B, C, H, W = x.shape # [B, C, H, W], CIFAR10 [B, 3, 32, 32]\n",
    "    x = x.reshape(B, C, H // patch_size, patch_size, W // patch_size, patch_size) # [B, C, H', p_H, W', p_W], CIFAR10 [B, 3, 4, 8, 4, 8]\n",
    "    x = x.permute(0, 2, 4, 1, 3, 5)  # [B, H', W', C, p_H, p_W], CIFAR10 [B, 4, 4, 1, 8, 8]\n",
    "    x = x.flatten(1, 2)  # [B, H'*W', C, p_H, p_W], CIFAR10 [B, 16, 3, 8, 8]\n",
    "    if flatten_channels:\n",
    "        x = x.flatten(2, 4)  # [B, H'*W', C*p_H*p_W], CIFAR10 [B, 16, 192]\n",
    "    return x\n",
    "\n",
    "class PatchCNN(nn.Module):\n",
    "    def __init__(self, out_1, out_2, out_3):\n",
    "        super(PatchCNN, self).__init__()\n",
    "        # Define the convolutional layers for each patch\n",
    "        self.conv1 = nn.Conv2d(in_channels=3, out_channels=out_1, kernel_size=5, padding=2)\n",
    "        self.conv2 = nn.Conv2d(in_channels=out_1, out_channels=out_2, kernel_size=5, padding=2)\n",
    "        self.conv3 = nn.Conv2d(in_channels=out_2, out_channels=out_3, kernel_size=5, padding=2)\n",
    "        # self.conv4 = nn.Conv2d(in_channels=64, out_channels=128, kernel_size=3, padding=1)\n",
    "        self.maxpool1 = nn.MaxPool2d(kernel_size = 2)\n",
    "        self.conv1_bn = nn.BatchNorm2d(out_1)\n",
    "        self.drop_conv = nn.Dropout(p=0.2)\n",
    "        self.maxpool2 = nn.MaxPool2d(kernel_size = 2)\n",
    "        self.conv2_bn = nn.BatchNorm2d(out_2)\n",
    "        self.maxpool3 = nn.MaxPool2d(kernel_size = 2)\n",
    "        self.conv3_bn = nn.BatchNorm2d(out_3)\n",
    "        p=0.5\n",
    "        self.fc1 = nn.Linear(out_3 * 4, 1000) \n",
    "        self.drop = nn.Dropout(p=p)\n",
    "        self.fc1_bn = nn.BatchNorm1d(1000)\n",
    "        \n",
    "        # Hidden layer 2\n",
    "        self.fc2 = nn.Linear(1000, 1000)\n",
    "        self.fc2_bn = nn.BatchNorm1d(1000)\n",
    "\n",
    "        # Hidden layer 3\n",
    "        self.fc3 = nn.Linear(1000, 1000)\n",
    "        self.fc3_bn = nn.BatchNorm1d(1000)\n",
    "        \n",
    "        # Hidden layer 4\n",
    "        self.fc4 = nn.Linear(1000, 1000)\n",
    "        self.fc4_bn = nn.BatchNorm1d(1000)\n",
    "        \n",
    "        # Final layer\n",
    "        self.fc5 = nn.Linear(1000, 10)\n",
    "        self.fc5_bn = nn.BatchNorm1d(10)\n",
    "        \n",
    "\n",
    "        # torch.Size([128, 3, 32, 32])\n",
    "    def forward(self, x):\n",
    "        # print(x.shape)\n",
    "        # Apply convolution and pooling for each patch\n",
    "        x = img_to_patch(x, 16)    \n",
    "        # print(x.shape)\n",
    "        # print('adfsd')\n",
    "        patch_features = []\n",
    "\n",
    "        for i in range(x.shape[1]):\n",
    "            patch = x[:,i,:,:]\n",
    "            # print(patch.shape)\n",
    "            # print('a')\n",
    "            patch = self.conv1(patch)\n",
    "            patch = self.conv1_bn(patch)\n",
    "            patch = self.maxpool1(patch)\n",
    "            patch = self.drop_conv(patch)\n",
    "            \n",
    "            patch = self.conv2(patch)\n",
    "            patch = self.conv2_bn(patch)\n",
    "            patch = torch.relu(patch)\n",
    "            patch = self.maxpool2(patch)\n",
    "            patch = self.drop_conv(patch)\n",
    "            \n",
    "            patch = self.conv3(patch)\n",
    "            patch = self.conv3_bn(patch)\n",
    "            patch = torch.relu(patch)\n",
    "            patch = self.maxpool3(patch)\n",
    "            patch = self.drop_conv(patch)\n",
    "            # print(f'last patch shape: {patch.shape}')\n",
    "            patch = torch.flatten(patch, 1)\n",
    "            # print(f'last flatten patch shape: {patch.shape}')\n",
    "            patch_features.append(patch)\n",
    "            # print(f'patch shape: {patch.shape}')\n",
    "            # print('______________________________')\n",
    "        \n",
    "        patch_features = torch.stack(patch_features, dim=1)\n",
    "        x = torch.mean(patch_features, dim=1)\n",
    "        # print(f'x shape: {x.shape}')\n",
    "\n",
    "        x = self.fc1(x)\n",
    "        x = self.fc1_bn(x)\n",
    "        \n",
    "        x = F.relu(self.drop(x))\n",
    "        x = self.fc2(x)\n",
    "        x = self.fc2_bn(x)\n",
    "        \n",
    "        x = F.relu(self.drop(x))\n",
    "        x = self.fc3(x)\n",
    "        x = self.fc3_bn(x)\n",
    "        \n",
    "        x = F.relu(self.drop(x))\n",
    "        x = self.fc4(x)\n",
    "        x = self.fc4_bn(x)\n",
    "\n",
    "        x = F.relu(self.drop(x))\n",
    "        x = self.fc5(x)\n",
    "        x = self.fc5_bn(x)\n",
    "        return x"
   ]
  },
  {
   "cell_type": "code",
   "execution_count": 17,
   "metadata": {},
   "outputs": [
    {
     "name": "stdout",
     "output_type": "stream",
     "text": [
      "Output shape: torch.Size([128, 10])\n"
     ]
    }
   ],
   "source": [
    "model = PatchCNN(64,128,512)\n",
    "dummy_input = torch.randn(128, 3, 32, 32)  # Example input tensor (batch size 128)\n",
    "output = model(dummy_input)\n",
    "print(\"Output shape:\", output.shape)"
   ]
  },
  {
   "cell_type": "code",
   "execution_count": 20,
   "metadata": {},
   "outputs": [
    {
     "data": {
      "text/plain": [
       "PatchCNN(\n",
       "  (conv1): Conv2d(3, 64, kernel_size=(5, 5), stride=(1, 1), padding=(2, 2))\n",
       "  (conv2): Conv2d(64, 128, kernel_size=(5, 5), stride=(1, 1), padding=(2, 2))\n",
       "  (conv3): Conv2d(128, 512, kernel_size=(5, 5), stride=(1, 1), padding=(2, 2))\n",
       "  (maxpool1): MaxPool2d(kernel_size=2, stride=2, padding=0, dilation=1, ceil_mode=False)\n",
       "  (conv1_bn): BatchNorm2d(64, eps=1e-05, momentum=0.1, affine=True, track_running_stats=True)\n",
       "  (drop_conv): Dropout(p=0.2, inplace=False)\n",
       "  (maxpool2): MaxPool2d(kernel_size=2, stride=2, padding=0, dilation=1, ceil_mode=False)\n",
       "  (conv2_bn): BatchNorm2d(128, eps=1e-05, momentum=0.1, affine=True, track_running_stats=True)\n",
       "  (maxpool3): MaxPool2d(kernel_size=2, stride=2, padding=0, dilation=1, ceil_mode=False)\n",
       "  (conv3_bn): BatchNorm2d(512, eps=1e-05, momentum=0.1, affine=True, track_running_stats=True)\n",
       "  (fc1): Linear(in_features=2048, out_features=1000, bias=True)\n",
       "  (drop): Dropout(p=0.5, inplace=False)\n",
       "  (fc1_bn): BatchNorm1d(1000, eps=1e-05, momentum=0.1, affine=True, track_running_stats=True)\n",
       "  (fc2): Linear(in_features=1000, out_features=1000, bias=True)\n",
       "  (fc2_bn): BatchNorm1d(1000, eps=1e-05, momentum=0.1, affine=True, track_running_stats=True)\n",
       "  (fc3): Linear(in_features=1000, out_features=1000, bias=True)\n",
       "  (fc3_bn): BatchNorm1d(1000, eps=1e-05, momentum=0.1, affine=True, track_running_stats=True)\n",
       "  (fc4): Linear(in_features=1000, out_features=1000, bias=True)\n",
       "  (fc4_bn): BatchNorm1d(1000, eps=1e-05, momentum=0.1, affine=True, track_running_stats=True)\n",
       "  (fc5): Linear(in_features=1000, out_features=10, bias=True)\n",
       "  (fc5_bn): BatchNorm1d(10, eps=1e-05, momentum=0.1, affine=True, track_running_stats=True)\n",
       ")"
      ]
     },
     "execution_count": 20,
     "metadata": {},
     "output_type": "execute_result"
    }
   ],
   "source": [
    "import torch.optim as optim\n",
    "\n",
    "# model  = PatchCNN()\n",
    "# criterion = nn.CrossEntropyLoss()\n",
    "# optimizer = optim.SGD(model.parameters(), lr=0.001, momentum=0.9)\n",
    "# model.to(device)\n",
    "\n",
    "\n",
    "model = PatchCNN(out_1=64, out_2=128, out_3 =512)\n",
    "criterion = nn.CrossEntropyLoss()\n",
    "learning_rate = 0.1\n",
    "optimizer = torch.optim.SGD(model.parameters(), lr = learning_rate, momentum = 0.2)\n",
    "model.to(device)\n"
   ]
  },
  {
   "cell_type": "code",
   "execution_count": 21,
   "metadata": {},
   "outputs": [
    {
     "name": "stderr",
     "output_type": "stream",
     "text": [
      "100%|██████████| 313/313 [00:27<00:00, 11.41it/s]\n"
     ]
    },
    {
     "name": "stdout",
     "output_type": "stream",
     "text": [
      "epoch - 0 loss: 1.826 accuracy: 31.628 val_loss: 1.798 val_acc: 37.100\n",
      "best acc: 37.1\n"
     ]
    },
    {
     "name": "stderr",
     "output_type": "stream",
     "text": [
      "100%|██████████| 313/313 [00:27<00:00, 11.21it/s]\n"
     ]
    },
    {
     "name": "stdout",
     "output_type": "stream",
     "text": [
      "epoch - 1 loss: 1.555 accuracy: 42.385 val_loss: 1.684 val_acc: 39.940\n",
      "best acc: 39.94\n"
     ]
    },
    {
     "name": "stderr",
     "output_type": "stream",
     "text": [
      "100%|██████████| 313/313 [00:27<00:00, 11.25it/s]\n"
     ]
    },
    {
     "name": "stdout",
     "output_type": "stream",
     "text": [
      "epoch - 2 loss: 1.415 accuracy: 48.153 val_loss: 1.528 val_acc: 43.580\n",
      "best acc: 43.58\n"
     ]
    },
    {
     "name": "stderr",
     "output_type": "stream",
     "text": [
      "100%|██████████| 313/313 [00:28<00:00, 10.85it/s]\n"
     ]
    },
    {
     "name": "stdout",
     "output_type": "stream",
     "text": [
      "epoch - 3 loss: 1.312 accuracy: 52.510 val_loss: 1.521 val_acc: 46.000\n",
      "best acc: 46.0\n"
     ]
    },
    {
     "name": "stderr",
     "output_type": "stream",
     "text": [
      "100%|██████████| 313/313 [00:29<00:00, 10.56it/s]\n"
     ]
    },
    {
     "name": "stdout",
     "output_type": "stream",
     "text": [
      "epoch - 4 loss: 1.238 accuracy: 55.430 val_loss: 1.372 val_acc: 51.640\n",
      "best acc: 51.64\n"
     ]
    },
    {
     "name": "stderr",
     "output_type": "stream",
     "text": [
      "100%|██████████| 313/313 [00:31<00:00,  9.86it/s]\n"
     ]
    },
    {
     "name": "stdout",
     "output_type": "stream",
     "text": [
      "epoch - 5 loss: 1.170 accuracy: 58.085 val_loss: 1.274 val_acc: 55.160\n",
      "best acc: 55.16\n"
     ]
    },
    {
     "name": "stderr",
     "output_type": "stream",
     "text": [
      "100%|██████████| 313/313 [00:30<00:00, 10.13it/s]\n"
     ]
    },
    {
     "name": "stdout",
     "output_type": "stream",
     "text": [
      "epoch - 6 loss: 1.122 accuracy: 60.112 val_loss: 1.361 val_acc: 51.750\n"
     ]
    },
    {
     "name": "stderr",
     "output_type": "stream",
     "text": [
      "100%|██████████| 313/313 [00:31<00:00,  9.91it/s]\n"
     ]
    },
    {
     "name": "stdout",
     "output_type": "stream",
     "text": [
      "epoch - 7 loss: 1.078 accuracy: 61.700 val_loss: 1.409 val_acc: 53.620\n"
     ]
    },
    {
     "name": "stderr",
     "output_type": "stream",
     "text": [
      "100%|██████████| 313/313 [00:31<00:00, 10.04it/s]\n"
     ]
    },
    {
     "name": "stdout",
     "output_type": "stream",
     "text": [
      "epoch - 8 loss: 1.032 accuracy: 63.163 val_loss: 1.202 val_acc: 57.720\n",
      "best acc: 57.72\n"
     ]
    },
    {
     "name": "stderr",
     "output_type": "stream",
     "text": [
      "100%|██████████| 313/313 [00:31<00:00, 10.08it/s]\n"
     ]
    },
    {
     "name": "stdout",
     "output_type": "stream",
     "text": [
      "epoch - 9 loss: 0.994 accuracy: 64.677 val_loss: 1.121 val_acc: 60.870\n",
      "best acc: 60.87\n"
     ]
    },
    {
     "name": "stderr",
     "output_type": "stream",
     "text": [
      "100%|██████████| 313/313 [00:31<00:00,  9.98it/s]\n"
     ]
    },
    {
     "name": "stdout",
     "output_type": "stream",
     "text": [
      "epoch - 10 loss: 0.960 accuracy: 65.995 val_loss: 1.156 val_acc: 59.580\n"
     ]
    },
    {
     "name": "stderr",
     "output_type": "stream",
     "text": [
      "100%|██████████| 313/313 [00:30<00:00, 10.21it/s]\n"
     ]
    },
    {
     "name": "stdout",
     "output_type": "stream",
     "text": [
      "epoch - 11 loss: 0.928 accuracy: 67.183 val_loss: 1.229 val_acc: 57.700\n"
     ]
    },
    {
     "name": "stderr",
     "output_type": "stream",
     "text": [
      "100%|██████████| 313/313 [00:30<00:00, 10.34it/s]\n"
     ]
    },
    {
     "name": "stdout",
     "output_type": "stream",
     "text": [
      "epoch - 12 loss: 0.896 accuracy: 68.320 val_loss: 1.038 val_acc: 64.270\n",
      "best acc: 64.27\n"
     ]
    },
    {
     "name": "stderr",
     "output_type": "stream",
     "text": [
      "100%|██████████| 313/313 [00:31<00:00,  9.94it/s]\n"
     ]
    },
    {
     "name": "stdout",
     "output_type": "stream",
     "text": [
      "epoch - 13 loss: 0.866 accuracy: 69.655 val_loss: 0.945 val_acc: 67.820\n",
      "best acc: 67.82\n"
     ]
    },
    {
     "name": "stderr",
     "output_type": "stream",
     "text": [
      "100%|██████████| 313/313 [00:31<00:00,  9.81it/s]\n"
     ]
    },
    {
     "name": "stdout",
     "output_type": "stream",
     "text": [
      "epoch - 14 loss: 0.833 accuracy: 70.895 val_loss: 0.996 val_acc: 66.220\n"
     ]
    },
    {
     "name": "stderr",
     "output_type": "stream",
     "text": [
      "100%|██████████| 313/313 [00:31<00:00, 10.08it/s]\n"
     ]
    },
    {
     "name": "stdout",
     "output_type": "stream",
     "text": [
      "epoch - 15 loss: 0.804 accuracy: 71.775 val_loss: 1.113 val_acc: 61.890\n"
     ]
    },
    {
     "name": "stderr",
     "output_type": "stream",
     "text": [
      "100%|██████████| 313/313 [00:31<00:00,  9.89it/s]\n"
     ]
    },
    {
     "name": "stdout",
     "output_type": "stream",
     "text": [
      "epoch - 16 loss: 0.784 accuracy: 72.620 val_loss: 1.008 val_acc: 66.050\n"
     ]
    },
    {
     "name": "stderr",
     "output_type": "stream",
     "text": [
      "100%|██████████| 313/313 [00:30<00:00, 10.32it/s]\n"
     ]
    },
    {
     "name": "stdout",
     "output_type": "stream",
     "text": [
      "epoch - 17 loss: 0.755 accuracy: 73.703 val_loss: 0.958 val_acc: 67.250\n"
     ]
    },
    {
     "name": "stderr",
     "output_type": "stream",
     "text": [
      "100%|██████████| 313/313 [00:31<00:00,  9.97it/s]\n"
     ]
    },
    {
     "name": "stdout",
     "output_type": "stream",
     "text": [
      "epoch - 18 loss: 0.723 accuracy: 74.853 val_loss: 1.106 val_acc: 64.690\n"
     ]
    },
    {
     "name": "stderr",
     "output_type": "stream",
     "text": [
      "100%|██████████| 313/313 [00:31<00:00, 10.02it/s]\n"
     ]
    },
    {
     "name": "stdout",
     "output_type": "stream",
     "text": [
      "epoch - 19 loss: 0.706 accuracy: 75.290 val_loss: 1.232 val_acc: 59.550\n"
     ]
    },
    {
     "name": "stderr",
     "output_type": "stream",
     "text": [
      "100%|██████████| 313/313 [00:29<00:00, 10.44it/s]\n"
     ]
    },
    {
     "name": "stdout",
     "output_type": "stream",
     "text": [
      "epoch - 20 loss: 0.676 accuracy: 76.537 val_loss: 1.032 val_acc: 65.480\n"
     ]
    },
    {
     "name": "stderr",
     "output_type": "stream",
     "text": [
      "100%|██████████| 313/313 [00:30<00:00, 10.14it/s]\n"
     ]
    },
    {
     "name": "stdout",
     "output_type": "stream",
     "text": [
      "epoch - 21 loss: 0.656 accuracy: 77.105 val_loss: 0.961 val_acc: 68.570\n",
      "best acc: 68.57\n"
     ]
    },
    {
     "name": "stderr",
     "output_type": "stream",
     "text": [
      "100%|██████████| 313/313 [00:28<00:00, 10.87it/s]\n"
     ]
    },
    {
     "name": "stdout",
     "output_type": "stream",
     "text": [
      "epoch - 22 loss: 0.631 accuracy: 78.085 val_loss: 1.166 val_acc: 63.000\n"
     ]
    },
    {
     "name": "stderr",
     "output_type": "stream",
     "text": [
      "100%|██████████| 313/313 [00:28<00:00, 10.87it/s]\n"
     ]
    },
    {
     "name": "stdout",
     "output_type": "stream",
     "text": [
      "epoch - 23 loss: 0.607 accuracy: 78.993 val_loss: 1.002 val_acc: 67.630\n"
     ]
    },
    {
     "name": "stderr",
     "output_type": "stream",
     "text": [
      "100%|██████████| 313/313 [00:30<00:00, 10.21it/s]\n"
     ]
    },
    {
     "name": "stdout",
     "output_type": "stream",
     "text": [
      "epoch - 24 loss: 0.581 accuracy: 79.750 val_loss: 1.000 val_acc: 68.310\n"
     ]
    },
    {
     "name": "stderr",
     "output_type": "stream",
     "text": [
      "100%|██████████| 313/313 [00:30<00:00, 10.26it/s]\n"
     ]
    },
    {
     "name": "stdout",
     "output_type": "stream",
     "text": [
      "epoch - 25 loss: 0.562 accuracy: 80.480 val_loss: 1.226 val_acc: 62.170\n"
     ]
    },
    {
     "name": "stderr",
     "output_type": "stream",
     "text": [
      "100%|██████████| 313/313 [00:27<00:00, 11.31it/s]\n"
     ]
    },
    {
     "name": "stdout",
     "output_type": "stream",
     "text": [
      "epoch - 26 loss: 0.542 accuracy: 81.190 val_loss: 1.075 val_acc: 66.890\n"
     ]
    },
    {
     "name": "stderr",
     "output_type": "stream",
     "text": [
      "100%|██████████| 313/313 [00:26<00:00, 11.60it/s]\n"
     ]
    },
    {
     "name": "stdout",
     "output_type": "stream",
     "text": [
      "epoch - 27 loss: 0.525 accuracy: 81.718 val_loss: 1.043 val_acc: 67.870\n"
     ]
    },
    {
     "name": "stderr",
     "output_type": "stream",
     "text": [
      "100%|██████████| 313/313 [00:29<00:00, 10.61it/s]\n"
     ]
    },
    {
     "name": "stdout",
     "output_type": "stream",
     "text": [
      "epoch - 28 loss: 0.499 accuracy: 82.802 val_loss: 1.274 val_acc: 63.120\n"
     ]
    },
    {
     "name": "stderr",
     "output_type": "stream",
     "text": [
      "100%|██████████| 313/313 [00:28<00:00, 10.92it/s]\n"
     ]
    },
    {
     "name": "stdout",
     "output_type": "stream",
     "text": [
      "epoch - 29 loss: 0.487 accuracy: 83.075 val_loss: 1.259 val_acc: 62.250\n"
     ]
    },
    {
     "name": "stderr",
     "output_type": "stream",
     "text": [
      "100%|██████████| 313/313 [00:27<00:00, 11.34it/s]\n"
     ]
    },
    {
     "name": "stdout",
     "output_type": "stream",
     "text": [
      "epoch - 30 loss: 0.466 accuracy: 84.005 val_loss: 1.310 val_acc: 62.670\n"
     ]
    },
    {
     "name": "stderr",
     "output_type": "stream",
     "text": [
      "100%|██████████| 313/313 [00:30<00:00, 10.35it/s]\n"
     ]
    },
    {
     "name": "stdout",
     "output_type": "stream",
     "text": [
      "epoch - 31 loss: 0.449 accuracy: 84.442 val_loss: 1.209 val_acc: 63.620\n"
     ]
    },
    {
     "name": "stderr",
     "output_type": "stream",
     "text": [
      "100%|██████████| 313/313 [00:30<00:00, 10.17it/s]\n"
     ]
    },
    {
     "name": "stdout",
     "output_type": "stream",
     "text": [
      "epoch - 32 loss: 0.437 accuracy: 84.930 val_loss: 1.314 val_acc: 63.010\n"
     ]
    },
    {
     "name": "stderr",
     "output_type": "stream",
     "text": [
      "100%|██████████| 313/313 [00:30<00:00, 10.16it/s]\n"
     ]
    },
    {
     "name": "stdout",
     "output_type": "stream",
     "text": [
      "epoch - 33 loss: 0.411 accuracy: 85.847 val_loss: 1.048 val_acc: 68.720\n",
      "best acc: 68.72\n"
     ]
    },
    {
     "name": "stderr",
     "output_type": "stream",
     "text": [
      "100%|██████████| 313/313 [00:30<00:00, 10.28it/s]\n"
     ]
    },
    {
     "name": "stdout",
     "output_type": "stream",
     "text": [
      "epoch - 34 loss: 0.398 accuracy: 86.213 val_loss: 1.104 val_acc: 67.600\n"
     ]
    },
    {
     "name": "stderr",
     "output_type": "stream",
     "text": [
      "100%|██████████| 313/313 [00:29<00:00, 10.68it/s]\n"
     ]
    },
    {
     "name": "stdout",
     "output_type": "stream",
     "text": [
      "epoch - 35 loss: 0.384 accuracy: 86.843 val_loss: 1.043 val_acc: 68.960\n",
      "best acc: 68.96\n"
     ]
    },
    {
     "name": "stderr",
     "output_type": "stream",
     "text": [
      "100%|██████████| 313/313 [00:30<00:00, 10.11it/s]\n"
     ]
    },
    {
     "name": "stdout",
     "output_type": "stream",
     "text": [
      "epoch - 36 loss: 0.362 accuracy: 87.612 val_loss: 1.077 val_acc: 68.450\n"
     ]
    },
    {
     "name": "stderr",
     "output_type": "stream",
     "text": [
      "100%|██████████| 313/313 [00:31<00:00,  9.94it/s]\n"
     ]
    },
    {
     "name": "stdout",
     "output_type": "stream",
     "text": [
      "epoch - 37 loss: 0.349 accuracy: 87.918 val_loss: 0.997 val_acc: 70.880\n",
      "best acc: 70.88\n"
     ]
    },
    {
     "name": "stderr",
     "output_type": "stream",
     "text": [
      "100%|██████████| 313/313 [00:30<00:00, 10.22it/s]\n"
     ]
    },
    {
     "name": "stdout",
     "output_type": "stream",
     "text": [
      "epoch - 38 loss: 0.343 accuracy: 88.177 val_loss: 1.094 val_acc: 68.290\n"
     ]
    },
    {
     "name": "stderr",
     "output_type": "stream",
     "text": [
      "100%|██████████| 313/313 [00:31<00:00, 10.01it/s]\n"
     ]
    },
    {
     "name": "stdout",
     "output_type": "stream",
     "text": [
      "epoch - 39 loss: 0.323 accuracy: 88.888 val_loss: 1.041 val_acc: 70.120\n"
     ]
    },
    {
     "name": "stderr",
     "output_type": "stream",
     "text": [
      "100%|██████████| 313/313 [00:30<00:00, 10.29it/s]\n"
     ]
    },
    {
     "name": "stdout",
     "output_type": "stream",
     "text": [
      "epoch - 40 loss: 0.316 accuracy: 89.075 val_loss: 1.149 val_acc: 67.930\n"
     ]
    },
    {
     "name": "stderr",
     "output_type": "stream",
     "text": [
      "100%|██████████| 313/313 [00:30<00:00, 10.39it/s]\n"
     ]
    },
    {
     "name": "stdout",
     "output_type": "stream",
     "text": [
      "epoch - 41 loss: 0.300 accuracy: 89.677 val_loss: 1.346 val_acc: 64.400\n"
     ]
    },
    {
     "name": "stderr",
     "output_type": "stream",
     "text": [
      "100%|██████████| 313/313 [00:29<00:00, 10.51it/s]\n"
     ]
    },
    {
     "name": "stdout",
     "output_type": "stream",
     "text": [
      "epoch - 42 loss: 0.291 accuracy: 90.028 val_loss: 1.075 val_acc: 70.240\n"
     ]
    },
    {
     "name": "stderr",
     "output_type": "stream",
     "text": [
      "100%|██████████| 313/313 [00:30<00:00, 10.36it/s]\n"
     ]
    },
    {
     "name": "stdout",
     "output_type": "stream",
     "text": [
      "epoch - 43 loss: 0.285 accuracy: 90.065 val_loss: 1.044 val_acc: 70.260\n"
     ]
    },
    {
     "name": "stderr",
     "output_type": "stream",
     "text": [
      "100%|██████████| 313/313 [00:29<00:00, 10.51it/s]\n"
     ]
    },
    {
     "name": "stdout",
     "output_type": "stream",
     "text": [
      "epoch - 44 loss: 0.268 accuracy: 90.683 val_loss: 1.092 val_acc: 70.530\n"
     ]
    },
    {
     "name": "stderr",
     "output_type": "stream",
     "text": [
      "100%|██████████| 313/313 [00:29<00:00, 10.79it/s]\n"
     ]
    },
    {
     "name": "stdout",
     "output_type": "stream",
     "text": [
      "epoch - 45 loss: 0.261 accuracy: 91.005 val_loss: 1.147 val_acc: 68.810\n"
     ]
    },
    {
     "name": "stderr",
     "output_type": "stream",
     "text": [
      "100%|██████████| 313/313 [00:29<00:00, 10.66it/s]\n"
     ]
    },
    {
     "name": "stdout",
     "output_type": "stream",
     "text": [
      "epoch - 46 loss: 0.252 accuracy: 91.310 val_loss: 1.150 val_acc: 69.150\n"
     ]
    },
    {
     "name": "stderr",
     "output_type": "stream",
     "text": [
      "100%|██████████| 313/313 [00:29<00:00, 10.77it/s]\n"
     ]
    },
    {
     "name": "stdout",
     "output_type": "stream",
     "text": [
      "epoch - 47 loss: 0.239 accuracy: 91.858 val_loss: 1.146 val_acc: 70.200\n"
     ]
    },
    {
     "name": "stderr",
     "output_type": "stream",
     "text": [
      "100%|██████████| 313/313 [00:29<00:00, 10.46it/s]\n"
     ]
    },
    {
     "name": "stdout",
     "output_type": "stream",
     "text": [
      "epoch - 48 loss: 0.235 accuracy: 92.010 val_loss: 1.086 val_acc: 70.510\n"
     ]
    },
    {
     "name": "stderr",
     "output_type": "stream",
     "text": [
      "100%|██████████| 313/313 [00:29<00:00, 10.54it/s]\n"
     ]
    },
    {
     "name": "stdout",
     "output_type": "stream",
     "text": [
      "epoch - 49 loss: 0.229 accuracy: 92.095 val_loss: 1.165 val_acc: 69.760\n"
     ]
    },
    {
     "name": "stderr",
     "output_type": "stream",
     "text": [
      "100%|██████████| 313/313 [00:29<00:00, 10.72it/s]\n"
     ]
    },
    {
     "name": "stdout",
     "output_type": "stream",
     "text": [
      "epoch - 50 loss: 0.211 accuracy: 92.820 val_loss: 1.220 val_acc: 69.310\n"
     ]
    },
    {
     "name": "stderr",
     "output_type": "stream",
     "text": [
      "100%|██████████| 313/313 [00:30<00:00, 10.20it/s]\n"
     ]
    },
    {
     "name": "stdout",
     "output_type": "stream",
     "text": [
      "epoch - 51 loss: 0.217 accuracy: 92.537 val_loss: 1.016 val_acc: 72.370\n",
      "best acc: 72.37\n"
     ]
    },
    {
     "name": "stderr",
     "output_type": "stream",
     "text": [
      "100%|██████████| 313/313 [00:30<00:00, 10.38it/s]\n"
     ]
    },
    {
     "name": "stdout",
     "output_type": "stream",
     "text": [
      "epoch - 52 loss: 0.204 accuracy: 93.120 val_loss: 1.137 val_acc: 69.840\n"
     ]
    },
    {
     "name": "stderr",
     "output_type": "stream",
     "text": [
      "100%|██████████| 313/313 [00:29<00:00, 10.71it/s]\n"
     ]
    },
    {
     "name": "stdout",
     "output_type": "stream",
     "text": [
      "epoch - 53 loss: 0.196 accuracy: 93.373 val_loss: 1.067 val_acc: 71.570\n"
     ]
    },
    {
     "name": "stderr",
     "output_type": "stream",
     "text": [
      "100%|██████████| 313/313 [00:29<00:00, 10.51it/s]\n"
     ]
    },
    {
     "name": "stdout",
     "output_type": "stream",
     "text": [
      "epoch - 54 loss: 0.197 accuracy: 93.295 val_loss: 1.274 val_acc: 68.060\n"
     ]
    },
    {
     "name": "stderr",
     "output_type": "stream",
     "text": [
      "100%|██████████| 313/313 [00:29<00:00, 10.77it/s]\n"
     ]
    },
    {
     "name": "stdout",
     "output_type": "stream",
     "text": [
      "epoch - 55 loss: 0.186 accuracy: 93.660 val_loss: 1.200 val_acc: 69.570\n"
     ]
    },
    {
     "name": "stderr",
     "output_type": "stream",
     "text": [
      "100%|██████████| 313/313 [00:26<00:00, 11.72it/s]\n"
     ]
    },
    {
     "name": "stdout",
     "output_type": "stream",
     "text": [
      "epoch - 56 loss: 0.180 accuracy: 93.915 val_loss: 1.157 val_acc: 71.230\n"
     ]
    },
    {
     "name": "stderr",
     "output_type": "stream",
     "text": [
      "100%|██████████| 313/313 [00:27<00:00, 11.28it/s]\n"
     ]
    },
    {
     "name": "stdout",
     "output_type": "stream",
     "text": [
      "epoch - 57 loss: 0.172 accuracy: 94.065 val_loss: 1.157 val_acc: 70.640\n"
     ]
    },
    {
     "name": "stderr",
     "output_type": "stream",
     "text": [
      "100%|██████████| 313/313 [00:25<00:00, 12.38it/s]\n"
     ]
    },
    {
     "name": "stdout",
     "output_type": "stream",
     "text": [
      "epoch - 58 loss: 0.162 accuracy: 94.493 val_loss: 1.268 val_acc: 68.330\n"
     ]
    },
    {
     "name": "stderr",
     "output_type": "stream",
     "text": [
      "100%|██████████| 313/313 [00:28<00:00, 10.94it/s]\n"
     ]
    },
    {
     "name": "stdout",
     "output_type": "stream",
     "text": [
      "epoch - 59 loss: 0.155 accuracy: 94.690 val_loss: 1.156 val_acc: 70.490\n"
     ]
    },
    {
     "name": "stderr",
     "output_type": "stream",
     "text": [
      "100%|██████████| 313/313 [00:27<00:00, 11.50it/s]\n"
     ]
    },
    {
     "name": "stdout",
     "output_type": "stream",
     "text": [
      "epoch - 60 loss: 0.162 accuracy: 94.487 val_loss: 1.171 val_acc: 71.290\n"
     ]
    },
    {
     "name": "stderr",
     "output_type": "stream",
     "text": [
      "100%|██████████| 313/313 [00:29<00:00, 10.65it/s]\n"
     ]
    },
    {
     "name": "stdout",
     "output_type": "stream",
     "text": [
      "epoch - 61 loss: 0.154 accuracy: 94.670 val_loss: 1.188 val_acc: 69.940\n"
     ]
    },
    {
     "name": "stderr",
     "output_type": "stream",
     "text": [
      "100%|██████████| 313/313 [00:29<00:00, 10.58it/s]\n"
     ]
    },
    {
     "name": "stdout",
     "output_type": "stream",
     "text": [
      "epoch - 62 loss: 0.147 accuracy: 95.130 val_loss: 1.147 val_acc: 71.750\n"
     ]
    },
    {
     "name": "stderr",
     "output_type": "stream",
     "text": [
      "100%|██████████| 313/313 [00:26<00:00, 11.67it/s]\n"
     ]
    },
    {
     "name": "stdout",
     "output_type": "stream",
     "text": [
      "epoch - 63 loss: 0.151 accuracy: 94.985 val_loss: 1.262 val_acc: 69.860\n"
     ]
    },
    {
     "name": "stderr",
     "output_type": "stream",
     "text": [
      "100%|██████████| 313/313 [00:25<00:00, 12.09it/s]\n"
     ]
    },
    {
     "name": "stdout",
     "output_type": "stream",
     "text": [
      "epoch - 64 loss: 0.141 accuracy: 95.175 val_loss: 1.191 val_acc: 70.810\n"
     ]
    },
    {
     "name": "stderr",
     "output_type": "stream",
     "text": [
      "100%|██████████| 313/313 [00:27<00:00, 11.27it/s]\n"
     ]
    },
    {
     "name": "stdout",
     "output_type": "stream",
     "text": [
      "epoch - 65 loss: 0.136 accuracy: 95.545 val_loss: 1.458 val_acc: 66.290\n"
     ]
    },
    {
     "name": "stderr",
     "output_type": "stream",
     "text": [
      "100%|██████████| 313/313 [00:28<00:00, 10.83it/s]\n"
     ]
    },
    {
     "name": "stdout",
     "output_type": "stream",
     "text": [
      "epoch - 66 loss: 0.133 accuracy: 95.620 val_loss: 1.119 val_acc: 72.370\n"
     ]
    },
    {
     "name": "stderr",
     "output_type": "stream",
     "text": [
      "100%|██████████| 313/313 [00:30<00:00, 10.11it/s]\n"
     ]
    },
    {
     "name": "stdout",
     "output_type": "stream",
     "text": [
      "epoch - 67 loss: 0.132 accuracy: 95.620 val_loss: 1.177 val_acc: 71.410\n"
     ]
    },
    {
     "name": "stderr",
     "output_type": "stream",
     "text": [
      "100%|██████████| 313/313 [00:29<00:00, 10.55it/s]\n"
     ]
    },
    {
     "name": "stdout",
     "output_type": "stream",
     "text": [
      "epoch - 68 loss: 0.127 accuracy: 95.700 val_loss: 1.142 val_acc: 71.530\n"
     ]
    },
    {
     "name": "stderr",
     "output_type": "stream",
     "text": [
      "100%|██████████| 313/313 [00:30<00:00, 10.34it/s]\n"
     ]
    },
    {
     "name": "stdout",
     "output_type": "stream",
     "text": [
      "epoch - 69 loss: 0.124 accuracy: 95.800 val_loss: 1.153 val_acc: 72.030\n"
     ]
    },
    {
     "name": "stderr",
     "output_type": "stream",
     "text": [
      "100%|██████████| 313/313 [00:29<00:00, 10.46it/s]\n"
     ]
    },
    {
     "name": "stdout",
     "output_type": "stream",
     "text": [
      "epoch - 70 loss: 0.120 accuracy: 95.998 val_loss: 1.197 val_acc: 71.490\n"
     ]
    },
    {
     "name": "stderr",
     "output_type": "stream",
     "text": [
      "100%|██████████| 313/313 [00:31<00:00,  9.99it/s]\n"
     ]
    },
    {
     "name": "stdout",
     "output_type": "stream",
     "text": [
      "epoch - 71 loss: 0.120 accuracy: 95.900 val_loss: 1.173 val_acc: 71.890\n"
     ]
    },
    {
     "name": "stderr",
     "output_type": "stream",
     "text": [
      "100%|██████████| 313/313 [00:31<00:00,  9.98it/s]\n"
     ]
    },
    {
     "name": "stdout",
     "output_type": "stream",
     "text": [
      "epoch - 72 loss: 0.114 accuracy: 96.150 val_loss: 1.139 val_acc: 72.390\n",
      "best acc: 72.39\n"
     ]
    },
    {
     "name": "stderr",
     "output_type": "stream",
     "text": [
      "100%|██████████| 313/313 [00:31<00:00, 10.00it/s]\n"
     ]
    },
    {
     "name": "stdout",
     "output_type": "stream",
     "text": [
      "epoch - 73 loss: 0.115 accuracy: 96.230 val_loss: 1.235 val_acc: 70.880\n"
     ]
    },
    {
     "name": "stderr",
     "output_type": "stream",
     "text": [
      "100%|██████████| 313/313 [00:29<00:00, 10.53it/s]\n"
     ]
    },
    {
     "name": "stdout",
     "output_type": "stream",
     "text": [
      "epoch - 74 loss: 0.104 accuracy: 96.558 val_loss: 1.183 val_acc: 71.500\n"
     ]
    },
    {
     "name": "stderr",
     "output_type": "stream",
     "text": [
      "100%|██████████| 313/313 [00:29<00:00, 10.46it/s]\n"
     ]
    },
    {
     "name": "stdout",
     "output_type": "stream",
     "text": [
      "epoch - 75 loss: 0.108 accuracy: 96.453 val_loss: 1.238 val_acc: 70.680\n"
     ]
    },
    {
     "name": "stderr",
     "output_type": "stream",
     "text": [
      "100%|██████████| 313/313 [00:30<00:00, 10.30it/s]\n"
     ]
    },
    {
     "name": "stdout",
     "output_type": "stream",
     "text": [
      "epoch - 76 loss: 0.106 accuracy: 96.545 val_loss: 1.213 val_acc: 71.380\n"
     ]
    },
    {
     "name": "stderr",
     "output_type": "stream",
     "text": [
      "100%|██████████| 313/313 [00:29<00:00, 10.54it/s]\n"
     ]
    },
    {
     "name": "stdout",
     "output_type": "stream",
     "text": [
      "epoch - 77 loss: 0.105 accuracy: 96.380 val_loss: 1.252 val_acc: 71.100\n"
     ]
    },
    {
     "name": "stderr",
     "output_type": "stream",
     "text": [
      "100%|██████████| 313/313 [00:30<00:00, 10.30it/s]\n"
     ]
    },
    {
     "name": "stdout",
     "output_type": "stream",
     "text": [
      "epoch - 78 loss: 0.100 accuracy: 96.683 val_loss: 1.162 val_acc: 72.470\n",
      "best acc: 72.47\n"
     ]
    },
    {
     "name": "stderr",
     "output_type": "stream",
     "text": [
      "100%|██████████| 313/313 [00:30<00:00, 10.31it/s]\n"
     ]
    },
    {
     "name": "stdout",
     "output_type": "stream",
     "text": [
      "epoch - 79 loss: 0.102 accuracy: 96.630 val_loss: 1.186 val_acc: 72.170\n"
     ]
    },
    {
     "name": "stderr",
     "output_type": "stream",
     "text": [
      "100%|██████████| 313/313 [00:30<00:00, 10.40it/s]\n"
     ]
    },
    {
     "name": "stdout",
     "output_type": "stream",
     "text": [
      "epoch - 80 loss: 0.098 accuracy: 96.812 val_loss: 1.176 val_acc: 72.290\n"
     ]
    },
    {
     "name": "stderr",
     "output_type": "stream",
     "text": [
      "100%|██████████| 313/313 [00:30<00:00, 10.39it/s]\n"
     ]
    },
    {
     "name": "stdout",
     "output_type": "stream",
     "text": [
      "epoch - 81 loss: 0.094 accuracy: 96.858 val_loss: 1.223 val_acc: 71.340\n"
     ]
    },
    {
     "name": "stderr",
     "output_type": "stream",
     "text": [
      "100%|██████████| 313/313 [00:31<00:00, 10.04it/s]\n"
     ]
    },
    {
     "name": "stdout",
     "output_type": "stream",
     "text": [
      "epoch - 82 loss: 0.090 accuracy: 97.028 val_loss: 1.209 val_acc: 72.040\n"
     ]
    },
    {
     "name": "stderr",
     "output_type": "stream",
     "text": [
      "100%|██████████| 313/313 [00:28<00:00, 11.00it/s]\n"
     ]
    },
    {
     "name": "stdout",
     "output_type": "stream",
     "text": [
      "epoch - 83 loss: 0.092 accuracy: 97.045 val_loss: 1.203 val_acc: 72.500\n",
      "best acc: 72.5\n"
     ]
    },
    {
     "name": "stderr",
     "output_type": "stream",
     "text": [
      "100%|██████████| 313/313 [00:30<00:00, 10.30it/s]\n"
     ]
    },
    {
     "name": "stdout",
     "output_type": "stream",
     "text": [
      "epoch - 84 loss: 0.087 accuracy: 97.183 val_loss: 1.308 val_acc: 70.860\n"
     ]
    },
    {
     "name": "stderr",
     "output_type": "stream",
     "text": [
      "100%|██████████| 313/313 [00:30<00:00, 10.15it/s]\n"
     ]
    },
    {
     "name": "stdout",
     "output_type": "stream",
     "text": [
      "epoch - 85 loss: 0.086 accuracy: 97.112 val_loss: 1.155 val_acc: 72.850\n",
      "best acc: 72.85\n"
     ]
    },
    {
     "name": "stderr",
     "output_type": "stream",
     "text": [
      "100%|██████████| 313/313 [00:30<00:00, 10.29it/s]\n"
     ]
    },
    {
     "name": "stdout",
     "output_type": "stream",
     "text": [
      "epoch - 86 loss: 0.090 accuracy: 96.895 val_loss: 1.230 val_acc: 71.860\n"
     ]
    },
    {
     "name": "stderr",
     "output_type": "stream",
     "text": [
      "100%|██████████| 313/313 [00:28<00:00, 10.83it/s]\n"
     ]
    },
    {
     "name": "stdout",
     "output_type": "stream",
     "text": [
      "epoch - 87 loss: 0.082 accuracy: 97.287 val_loss: 1.303 val_acc: 70.910\n"
     ]
    },
    {
     "name": "stderr",
     "output_type": "stream",
     "text": [
      "100%|██████████| 313/313 [00:29<00:00, 10.78it/s]\n"
     ]
    },
    {
     "name": "stdout",
     "output_type": "stream",
     "text": [
      "epoch - 88 loss: 0.083 accuracy: 97.162 val_loss: 1.228 val_acc: 72.420\n"
     ]
    },
    {
     "name": "stderr",
     "output_type": "stream",
     "text": [
      "100%|██████████| 313/313 [00:29<00:00, 10.71it/s]\n"
     ]
    },
    {
     "name": "stdout",
     "output_type": "stream",
     "text": [
      "epoch - 89 loss: 0.083 accuracy: 97.215 val_loss: 1.238 val_acc: 71.430\n"
     ]
    },
    {
     "name": "stderr",
     "output_type": "stream",
     "text": [
      "100%|██████████| 313/313 [00:30<00:00, 10.39it/s]\n"
     ]
    },
    {
     "name": "stdout",
     "output_type": "stream",
     "text": [
      "epoch - 90 loss: 0.079 accuracy: 97.272 val_loss: 1.194 val_acc: 72.380\n"
     ]
    },
    {
     "name": "stderr",
     "output_type": "stream",
     "text": [
      "100%|██████████| 313/313 [00:31<00:00,  9.91it/s]\n"
     ]
    },
    {
     "name": "stdout",
     "output_type": "stream",
     "text": [
      "epoch - 91 loss: 0.082 accuracy: 97.392 val_loss: 1.436 val_acc: 68.300\n"
     ]
    },
    {
     "name": "stderr",
     "output_type": "stream",
     "text": [
      "100%|██████████| 313/313 [00:31<00:00, 10.07it/s]\n"
     ]
    },
    {
     "name": "stdout",
     "output_type": "stream",
     "text": [
      "epoch - 92 loss: 0.079 accuracy: 97.485 val_loss: 1.249 val_acc: 72.040\n"
     ]
    },
    {
     "name": "stderr",
     "output_type": "stream",
     "text": [
      "100%|██████████| 313/313 [00:31<00:00, 10.06it/s]\n"
     ]
    },
    {
     "name": "stdout",
     "output_type": "stream",
     "text": [
      "epoch - 93 loss: 0.073 accuracy: 97.513 val_loss: 1.214 val_acc: 72.370\n"
     ]
    },
    {
     "name": "stderr",
     "output_type": "stream",
     "text": [
      "100%|██████████| 313/313 [00:31<00:00, 10.05it/s]\n"
     ]
    },
    {
     "name": "stdout",
     "output_type": "stream",
     "text": [
      "epoch - 94 loss: 0.073 accuracy: 97.580 val_loss: 1.279 val_acc: 71.930\n"
     ]
    },
    {
     "name": "stderr",
     "output_type": "stream",
     "text": [
      "100%|██████████| 313/313 [00:31<00:00, 10.02it/s]\n"
     ]
    },
    {
     "name": "stdout",
     "output_type": "stream",
     "text": [
      "epoch - 95 loss: 0.074 accuracy: 97.615 val_loss: 1.193 val_acc: 72.870\n",
      "best acc: 72.87\n"
     ]
    },
    {
     "name": "stderr",
     "output_type": "stream",
     "text": [
      "100%|██████████| 313/313 [00:30<00:00, 10.25it/s]\n"
     ]
    },
    {
     "name": "stdout",
     "output_type": "stream",
     "text": [
      "epoch - 96 loss: 0.070 accuracy: 97.707 val_loss: 1.278 val_acc: 71.510\n"
     ]
    },
    {
     "name": "stderr",
     "output_type": "stream",
     "text": [
      "100%|██████████| 313/313 [00:30<00:00, 10.12it/s]\n"
     ]
    },
    {
     "name": "stdout",
     "output_type": "stream",
     "text": [
      "epoch - 97 loss: 0.074 accuracy: 97.677 val_loss: 1.193 val_acc: 72.250\n"
     ]
    },
    {
     "name": "stderr",
     "output_type": "stream",
     "text": [
      "100%|██████████| 313/313 [00:31<00:00,  9.96it/s]\n"
     ]
    },
    {
     "name": "stdout",
     "output_type": "stream",
     "text": [
      "epoch - 98 loss: 0.067 accuracy: 97.810 val_loss: 1.323 val_acc: 71.230\n"
     ]
    },
    {
     "name": "stderr",
     "output_type": "stream",
     "text": [
      "100%|██████████| 313/313 [00:30<00:00, 10.17it/s]\n"
     ]
    },
    {
     "name": "stdout",
     "output_type": "stream",
     "text": [
      "epoch - 99 loss: 0.068 accuracy: 97.715 val_loss: 1.257 val_acc: 71.880\n",
      "Finished training\n"
     ]
    }
   ],
   "source": [
    "epochs = 100\n",
    "model_class = 'Plain-Old-CIFAR10'\n",
    "batch_size = 512\n",
    "learning_rate = 1e-4\n",
    "l2_regularization = 0.0\n",
    "from tqdm import tqdm\n",
    "best_acc = 0\n",
    "best_model = None\n",
    "# model = model_ViT\n",
    "def eval_model(model, data_loader, criterion, device):\n",
    "    # Evaluate the model on data from valloader\n",
    "    correct = 0\n",
    "    total = 0\n",
    "    val_loss = 0\n",
    "    model.eval()\n",
    "    with torch.no_grad():\n",
    "        for data in data_loader:\n",
    "            images, labels = data\n",
    "            images, labels = images.to(device), labels.to(device)\n",
    "            outputs = model(images)\n",
    "            loss = criterion(outputs, labels)\n",
    "            val_loss += loss.item()\n",
    "            _, predicted = torch.max(outputs.data, 1)\n",
    "            correct += (predicted == labels).sum().item()\n",
    "    \n",
    "    return val_loss / len(data_loader), 100 * correct / len(data_loader.dataset)\n",
    "\n",
    "loss_train_list = []\n",
    "loss_val_list= []\n",
    "try:\n",
    "    for epoch in range(epochs):\n",
    "        running_loss = 0.0\n",
    "        correct = 0\n",
    "        model.train()\n",
    "        for data in tqdm(trainloader):\n",
    "            inputs, labels = data\n",
    "            inputs, labels = inputs.to(device), labels.to(device)\n",
    "\n",
    "            optimizer.zero_grad()\n",
    "\n",
    "            outputs = model(inputs)\n",
    "            loss = criterion(outputs, labels)\n",
    "            \n",
    "            loss.backward()\n",
    "            optimizer.step()\n",
    "\n",
    "            running_loss += loss.item()\n",
    "            _, predicted = torch.max(outputs.data, 1)\n",
    "            correct += (predicted == labels).sum().item()\n",
    "        # scheduler.step()\n",
    "        # if epoch % 10 == 0:\n",
    "        val_loss, val_acc = eval_model(model, valloader, criterion, device)\n",
    "        print('epoch - %d loss: %.3f accuracy: %.3f val_loss: %.3f val_acc: %.3f' % (epoch, running_loss / len(trainloader), 100 * correct / len(trainloader.dataset), val_loss, val_acc))\n",
    "        loss_train_list.append((running_loss / len(trainloader)))\n",
    "        loss_val_list.append(val_loss)\n",
    "        if best_acc<val_acc:\n",
    "            best_model = model.state_dict()\n",
    "            best_acc = val_acc\n",
    "            print(f'best acc: {val_acc}')\n",
    "        # else:\n",
    "        #     print('epoch - %d loss: %.3f accuracy: %.3f' % (epoch, running_loss / len(trainloader), 100 * correct / len(trainloader.dataset)))\n",
    "\n",
    "\n",
    "    print('Finished training')\n",
    "except KeyboardInterrupt:\n",
    "    pass"
   ]
  },
  {
   "cell_type": "code",
   "execution_count": 22,
   "metadata": {},
   "outputs": [
    {
     "data": {
      "image/png": "[encoded data removed]",
      "text/plain": [
       "<Figure size 864x432 with 2 Axes>"
      ]
     },
     "metadata": {
      "needs_background": "light"
     },
     "output_type": "display_data"
    }
   ],
   "source": [
    "model.load_state_dict(best_model)\n",
    "fig, (ax1, ax2) = plt.subplots(1, 2, figsize=(12, 6))\n",
    "ax1.plot(loss_train_list)\n",
    "ax1.set_title('ViT Training loss')\n",
    "ax1.set_xlabel('epoch')\n",
    "ax1.set_ylabel('loss')\n",
    "\n",
    "ax2.plot(loss_val_list)\n",
    "ax2.set_title('ViT Validation loss')\n",
    "ax2.set_xlabel('epoch')\n",
    "ax2.set_ylabel('loss')\n",
    "plt.show()"
   ]
  },
  {
   "cell_type": "code",
   "execution_count": 23,
   "metadata": {},
   "outputs": [
    {
     "name": "stdout",
     "output_type": "stream",
     "text": [
      "Test loss: 1.237 accuracy: 72.680\n"
     ]
    }
   ],
   "source": [
    "# transform = transforms.Compose([\n",
    "#         transforms.ToTensor()\n",
    "#     ])\n",
    "model.eval()\n",
    "# Evaluate the model on the test set\n",
    "test_loss, test_acc = eval_model(model, testloader, criterion, device)\n",
    "print('Test loss: %.3f accuracy: %.3f' % (test_loss, test_acc))"
   ]
  },
  {
   "cell_type": "code",
   "execution_count": 24,
   "metadata": {},
   "outputs": [
    {
     "name": "stdout",
     "output_type": "stream",
     "text": [
      "Patch shuffle test loss for patch-size 16: 1.237762999534607 accuracy: 72.68\n",
      "Patch shuffle test loss for patch-size 8: 3.405013918876648 accuracy: 36.41\n"
     ]
    }
   ],
   "source": [
    "from dataset_class import PatchShuffled_CIFAR10\n",
    "\n",
    "patch_size = 16\n",
    "patch_shuffle_testset = PatchShuffled_CIFAR10(data_file_path = f'test_patch_{patch_size}.npz', transforms = transform)\n",
    "patch_shuffle_testloader = torch.utils.data.DataLoader(patch_shuffle_testset, batch_size=batch_size, shuffle=False)\n",
    "patch_shuffle_test_loss, patch_shuffle_test_acc = eval_model(model, patch_shuffle_testloader, criterion, device)\n",
    "print(f'Patch shuffle test loss for patch-size {patch_size}: {patch_shuffle_test_loss} accuracy: {patch_shuffle_test_acc}')\n",
    "\n",
    "patch_size = 8\n",
    "patch_shuffle_testset = PatchShuffled_CIFAR10(data_file_path = f'test_patch_{patch_size}.npz', transforms = transform)\n",
    "patch_shuffle_testloader = torch.utils.data.DataLoader(patch_shuffle_testset, batch_size=batch_size, shuffle=False)\n",
    "patch_shuffle_test_loss, patch_shuffle_test_acc = eval_model(model, patch_shuffle_testloader, criterion, device)\n",
    "print(f'Patch shuffle test loss for patch-size {patch_size}: {patch_shuffle_test_loss} accuracy: {patch_shuffle_test_acc}')\n"
   ]
  },
  {
   "cell_type": "code",
   "execution_count": null,
   "metadata": {},
   "outputs": [],
   "source": []
  }
 ],
 "metadata": {
  "kernelspec": {
   "display_name": "Python 3",
   "language": "python",
   "name": "python3"
  },
  "language_info": {
   "codemirror_mode": {
    "name": "ipython",
    "version": 3
   },
   "file_extension": ".py",
   "mimetype": "text/x-python",
   "name": "python",
   "nbconvert_exporter": "python",
   "pygments_lexer": "ipython3",
   "version": "3.8.10"
  }
 },
 "nbformat": 4,
 "nbformat_minor": 2
}
