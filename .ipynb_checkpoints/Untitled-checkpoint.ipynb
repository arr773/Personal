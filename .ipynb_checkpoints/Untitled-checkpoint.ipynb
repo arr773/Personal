{
 "cells": [
  {
   "cell_type": "code",
   "execution_count": 20,
   "id": "b53aec4f",
   "metadata": {},
   "outputs": [
    {
     "name": "stdout",
     "output_type": "stream",
     "text": [
      "false\n"
     ]
    }
   ],
   "source": [
    "def longestRepeatedSubstring(str):\n",
    "    n = len(str)\n",
    "    LCSRe = [[0 for x in range(n + 1)] \n",
    "                for y in range(n + 1)]\n",
    "\n",
    "    res = \"\" # To store result\n",
    "    res_length = 0 # To store length of result\n",
    "\n",
    "    # building table in bottom-up manner\n",
    "    index = 0\n",
    "    for i in range(1, n + 1):\n",
    "        for j in range(i + 1, n + 1):\n",
    "\n",
    "            # (j-i) > LCSRe[i-1][j-1] to remove\n",
    "            # overlapping\n",
    "            if (str[i - 1] == str[j - 1] and\n",
    "                LCSRe[i - 1][j - 1] < (j - i)):\n",
    "                LCSRe[i][j] = LCSRe[i - 1][j - 1] + 1\n",
    "\n",
    "                # updating maximum length of the\n",
    "                # substring and updating the finishing\n",
    "                # index of the suffix\n",
    "                if (LCSRe[i][j] > res_length):\n",
    "                    res_length = LCSRe[i][j]\n",
    "                    index = max(i, index)\n",
    "\n",
    "            else:\n",
    "                LCSRe[i][j] = 0\n",
    "\n",
    "    # If we have non-empty result, then insert \n",
    "    # all characters from first character to \n",
    "    # last character of string\n",
    "    if (res_length > 1):\n",
    "        for i in range(index - res_length + 1,\n",
    "                                    index + 1):\n",
    "            res = res + str[i - 1]\n",
    "            return 'yes '+res\n",
    "    else:\n",
    "        return 'no null'\n",
    "\n",
    "   \n",
    "\n",
    "    # Driver Code\n",
    "# if __name__ == \"__main__\":\n",
    "str = \"abbbaacc\"\n",
    "#     if len(str)>1:\n",
    "print(longestRepeatedSubstring(str))\n",
    "\n",
    "    # This code is contributed by ita_c\n"
   ]
  },
  {
   "cell_type": "code",
   "execution_count": null,
   "id": "7ac32619",
   "metadata": {},
   "outputs": [],
   "source": []
  }
 ],
 "metadata": {
  "kernelspec": {
   "display_name": "Python 3 (ipykernel)",
   "language": "python",
   "name": "python3"
  },
  "language_info": {
   "codemirror_mode": {
    "name": "ipython",
    "version": 3
   },
   "file_extension": ".py",
   "mimetype": "text/x-python",
   "name": "python",
   "nbconvert_exporter": "python",
   "pygments_lexer": "ipython3",
   "version": "3.9.13"
  }
 },
 "nbformat": 4,
 "nbformat_minor": 5
}
